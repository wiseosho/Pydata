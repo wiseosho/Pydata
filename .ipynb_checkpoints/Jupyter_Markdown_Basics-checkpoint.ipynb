{
 "cells": [
  {
   "cell_type": "markdown",
   "metadata": {},
   "source": [
    "## Volume Weighted Average Price."
   ]
  },
  {
   "cell_type": "markdown",
   "metadata": {},
   "source": [
    "1. hello"
   ]
  },
  {
   "cell_type": "markdown",
   "metadata": {},
   "source": [
    "2. Hi"
   ]
  },
  {
   "cell_type": "markdown",
   "metadata": {},
   "source": [
    "1. a\n",
    "2. b\n",
    "3. c\n"
   ]
  },
  {
   "cell_type": "markdown",
   "metadata": {},
   "source": [
    " # 1. a\n",
    "  ##  1.1 b"
   ]
  },
  {
   "cell_type": "markdown",
   "metadata": {},
   "source": [
    "Bold use two *(_), Italic use one w *(_)\n",
    "\n",
    "**a**  *b*  __a__, _b_"
   ]
  },
  {
   "cell_type": "markdown",
   "metadata": {},
   "source": [
    "_*bolditalic*_"
   ]
  },
  {
   "cell_type": "markdown",
   "metadata": {},
   "source": [
    "### Link\n",
    "\n",
    "[daum](https://daum.net)"
   ]
  },
  {
   "cell_type": "markdown",
   "metadata": {},
   "source": [
    "### Image\n",
    "\n",
    "![Image](./figpath.png)\n",
    "\n",
    "### Broken Image links\n",
    "\n",
    "![Image2 Not exist](./Image.png)"
   ]
  },
  {
   "cell_type": "markdown",
   "metadata": {},
   "source": [
    "- a\n",
    "- b\n",
    "- c\n",
    "\n",
    "* 가\n",
    "* 나\n",
    "* 다\n",
    "\n",
    "+ ㅁ\n",
    "+ ㄴ\n",
    "+ ㅇ\n"
   ]
  },
  {
   "cell_type": "markdown",
   "metadata": {},
   "source": [
    "---\n",
    "\n"
   ]
  },
  {
   "cell_type": "markdown",
   "metadata": {},
   "source": [
    "```python\n",
    "import numpy as np\n",
    "```"
   ]
  },
  {
   "cell_type": "code",
   "execution_count": 1,
   "metadata": {},
   "outputs": [
    {
     "data": {
      "text/plain": [
       "2"
      ]
     },
     "execution_count": 1,
     "metadata": {},
     "output_type": "execute_result"
    }
   ],
   "source": [
    "a = 1+1\n",
    "a"
   ]
  },
  {
   "cell_type": "markdown",
   "metadata": {},
   "source": [
    "$$e^x=\\sum_{i=0}^{\\infty} \\frac{1}{i!}x^i$$"
   ]
  },
  {
   "cell_type": "markdown",
   "metadata": {},
   "source": [
    "```python\n",
    "def f(x):\n",
    "    \"\"\"a docstring\"\"\"\n",
    "    return x**2\n",
    "```"
   ]
  },
  {
   "cell_type": "markdown",
   "metadata": {},
   "source": [
    "```python\n",
    "print \"hello world'\n",
    "```"
   ]
  },
  {
   "cell_type": "markdown",
   "metadata": {},
   "source": [
    "| This | is   |\n",
    "|------|------|\n",
    "|a ![image](./figpath.png)    | table|"
   ]
  },
  {
   "cell_type": "markdown",
   "metadata": {},
   "source": [
    "|this<br>line|is|\n",
    "|-|-|\n",
    "|a|table|\n",
    "|and|a|\n",
    "||---|\n",
    "|lines|are|"
   ]
  },
  {
   "cell_type": "markdown",
   "metadata": {},
   "source": [
    "<font color = 'red'>red</font>"
   ]
  },
  {
   "cell_type": "markdown",
   "metadata": {},
   "source": [
    "> ## he"
   ]
  },
  {
   "cell_type": "markdown",
   "metadata": {},
   "source": [
    ">> ### he"
   ]
  },
  {
   "cell_type": "markdown",
   "metadata": {},
   "source": [
    "# 1. Section\n",
    "> ## 1.1 <font color='red'>subsection</font>\n",
    ">> ### 1.1.1 <font color = 'blue'>subsubsection</font>"
   ]
  },
  {
   "cell_type": "markdown",
   "metadata": {},
   "source": [
    "<i>italic</i>\n",
    "<b>bold</b>\n",
    "<u>underlined</u>\n",
    "~~cancelled~~"
   ]
  },
  {
   "cell_type": "markdown",
   "metadata": {},
   "source": [
    "- Item\n",
    " - SubItem"
   ]
  },
  {
   "cell_type": "markdown",
   "metadata": {},
   "source": [
    "1. <font color = 'red'>Section</font>\n",
    "\n",
    " 1.1 <font color = 'blue'>Subsection<br>\n",
    " *Hi*</font>\n",
    "    "
   ]
  },
  {
   "cell_type": "markdown",
   "metadata": {},
   "source": [
    "[Github](https://www.github.com/)"
   ]
  },
  {
   "cell_type": "markdown",
   "metadata": {},
   "source": [
    "![Turing's Device](http://www.google.com/logos/2012/turing-doodle-static.jpg)"
   ]
  },
  {
   "cell_type": "markdown",
   "metadata": {},
   "source": [
    "> Indentations"
   ]
  },
  {
   "cell_type": "markdown",
   "metadata": {},
   "source": [
    "# Horizental Lines\n",
    "---"
   ]
  },
  {
   "cell_type": "markdown",
   "metadata": {},
   "source": [
    "# Tables\n",
    "\n",
    "|| Tables | Are | Cool|\n",
    "|---|-|:-:|-:|\n",
    "||col3 is | right-aligned | 1600 |\n",
    "|---|---|---|\n",
    "|---:|---:|---:|"
   ]
  },
  {
   "cell_type": "markdown",
   "metadata": {},
   "source": [
    "|Tables | Are          | Cool |\n",
    "|-------|:------------:|-----:|\n",
    "|col3 is|right-aligned | 1600 |"
   ]
  },
  {
   "cell_type": "markdown",
   "metadata": {},
   "source": [
    "### Python Code\n",
    "\n",
    "```python\n",
    "from pandas import DataFrame, Series\n",
    "\n",
    "```\n"
   ]
  },
  {
   "cell_type": "markdown",
   "metadata": {},
   "source": [
    "<div class=\"alert alert-block alert-info\"> div box </div>\n",
    "\n",
    "<div class=\"alert alert-block alert-warning\"> div box alert-warning</div>\n",
    "\n",
    "<div class = \"alert alert-block alert-success\"> div box alert-success</div>"
   ]
  },
  {
   "cell_type": "markdown",
   "metadata": {},
   "source": [
    "This is latex formatted math formula insertion $$y = x^2$$ by line breaking.<br>\n",
    "This is latex formatted math formula insertion $y = x^2$ without line breaking."
   ]
  },
  {
   "cell_type": "markdown",
   "metadata": {},
   "source": [
    "- **Add**\n",
    " - $x + y$\n",
    " \n",
    "- **Subtract**\n",
    " - $x-y$\n",
    "\n",
    "- **Multiply**\n",
    " - $x * y$\n",
    " - $x \\times y$\n",
    " - $x . y$\n",
    "- **Divide**\n",
    " - $x / y$\n",
    " - $x \\div y$\n",
    " - $\\frac{x}{y}$"
   ]
  },
  {
   "cell_type": "markdown",
   "metadata": {},
   "source": [
    "# Relations\n",
    "\n",
    "- $\\pi \\approx 3.14159$\n",
    "- ${1 \\over 0} \\neq \\infty$\n",
    "- $0 < 1 > 0$\n",
    "- $0 \\leq 1 \\geq 0$\n",
    "\n",
    "## Fractions\n",
    "\n",
    "- $^1/_2$\n",
    "- $\\frac{1}{2x}$\n",
    "- $1 \\div 2x$\n",
    "- $3 \\over 4$\n"
   ]
  },
  {
   "cell_type": "markdown",
   "metadata": {
    "collapsed": true
   },
   "source": [
    "`block`\n",
    "\n",
    "\n",
    "| hello |\n",
    "| ----- |\n",
    "| WOrld |"
   ]
  },
  {
   "cell_type": "code",
   "execution_count": null,
   "metadata": {
    "collapsed": true
   },
   "outputs": [],
   "source": []
  }
 ],
 "metadata": {
  "kernelspec": {
   "display_name": "Python 3",
   "language": "python",
   "name": "python3"
  },
  "language_info": {
   "codemirror_mode": {
    "name": "ipython",
    "version": 3
   },
   "file_extension": ".py",
   "mimetype": "text/x-python",
   "name": "python",
   "nbconvert_exporter": "python",
   "pygments_lexer": "ipython3",
   "version": "3.6.1"
  }
 },
 "nbformat": 4,
 "nbformat_minor": 2
}
