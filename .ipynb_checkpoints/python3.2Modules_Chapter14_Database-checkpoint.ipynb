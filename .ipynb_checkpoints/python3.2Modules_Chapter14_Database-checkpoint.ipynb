{
 "cells": [
  {
   "cell_type": "code",
   "execution_count": 2,
   "metadata": {
    "collapsed": true
   },
   "outputs": [],
   "source": [
    "import sqlite3, os"
   ]
  },
  {
   "cell_type": "code",
   "execution_count": 3,
   "metadata": {},
   "outputs": [
    {
     "data": {
      "text/plain": [
       "'/home/june/Pydata'"
      ]
     },
     "execution_count": 3,
     "metadata": {},
     "output_type": "execute_result"
    }
   ],
   "source": [
    "os.path.abspath(os.path.curdir)"
   ]
  },
  {
   "cell_type": "code",
   "execution_count": 4,
   "metadata": {
    "collapsed": true
   },
   "outputs": [],
   "source": [
    "con = sqlite3.connect('./test.db')\n",
    "con_mem = sqlite3.connect(\":memory\")\n"
   ]
  },
  {
   "cell_type": "code",
   "execution_count": 5,
   "metadata": {
    "collapsed": true
   },
   "outputs": [],
   "source": [
    "cur = con_mem.cursor()"
   ]
  },
  {
   "cell_type": "code",
   "execution_count": 6,
   "metadata": {},
   "outputs": [
    {
     "data": {
      "text/plain": [
       "<sqlite3.Cursor at 0x7fbfef7a08f0>"
      ]
     },
     "execution_count": 6,
     "metadata": {},
     "output_type": "execute_result"
    }
   ],
   "source": [
    "cur.execute(\"CREATE TABLE PBook(Name text, PhoneNum text);\")\n",
    "cur.execute(\"INSERT INTO PBook VALUES('Derick', '010-1234-1234')\")"
   ]
  },
  {
   "cell_type": "code",
   "execution_count": 7,
   "metadata": {},
   "outputs": [
    {
     "data": {
      "text/plain": [
       "<sqlite3.Cursor at 0x7fbfef7a08f0>"
      ]
     },
     "execution_count": 7,
     "metadata": {},
     "output_type": "execute_result"
    }
   ],
   "source": [
    "name = 'JYSOn'\n",
    "phonenumber = '010-3871-7486'\n",
    "cur.execute(\"INSERT INTO PBook VALUES(?,?);\", (name, phonenumber))"
   ]
  },
  {
   "cell_type": "code",
   "execution_count": 8,
   "metadata": {},
   "outputs": [
    {
     "data": {
      "text/plain": [
       "<sqlite3.Cursor at 0x7fbfef7a08f0>"
      ]
     },
     "execution_count": 8,
     "metadata": {},
     "output_type": "execute_result"
    }
   ],
   "source": [
    "cur.execute(\"INSERT INTO PBook VALUES(:inputName, :inputNum);\", {\"inputNum\":phonenumber, \"inputName\":name})"
   ]
  },
  {
   "cell_type": "code",
   "execution_count": 9,
   "metadata": {},
   "outputs": [
    {
     "data": {
      "text/plain": [
       "<sqlite3.Cursor at 0x7fbfef7a08f0>"
      ]
     },
     "execution_count": 9,
     "metadata": {},
     "output_type": "execute_result"
    }
   ],
   "source": [
    "datalist = (('Tom', '010-543-5432'),('DSP','010'))\n",
    "cur.executemany(\"INSERT INTO PBook VALUES(?,?);\", datalist)"
   ]
  },
  {
   "cell_type": "code",
   "execution_count": 10,
   "metadata": {
    "collapsed": true
   },
   "outputs": [],
   "source": [
    "def dataGenerator():\n",
    "    datalist = {('Tom', '010-3857-3874'), ('DSP', '010-3875-3847')}\n",
    "    for item in datalist:\n",
    "        yield item"
   ]
  },
  {
   "cell_type": "code",
   "execution_count": 11,
   "metadata": {},
   "outputs": [
    {
     "data": {
      "text/plain": [
       "<sqlite3.Cursor at 0x7fbfef7a08f0>"
      ]
     },
     "execution_count": 11,
     "metadata": {},
     "output_type": "execute_result"
    }
   ],
   "source": [
    "cur.executemany(\"INSERT INTO PBook VALUES(?,?);\", dataGenerator())"
   ]
  },
  {
   "cell_type": "code",
   "execution_count": 14,
   "metadata": {
    "collapsed": true
   },
   "outputs": [],
   "source": [
    "dump = list(con_mem.iterdump())\n",
    "import _pickle as pkl"
   ]
  },
  {
   "cell_type": "code",
   "execution_count": 15,
   "metadata": {},
   "outputs": [
    {
     "data": {
      "text/plain": [
       "['BEGIN TRANSACTION;',\n",
       " 'CREATE TABLE PBook(Name text, PhoneNum text);',\n",
       " 'INSERT INTO \"PBook\" VALUES(\\'Derick\\',\\'010-1234-1234\\');',\n",
       " 'INSERT INTO \"PBook\" VALUES(\\'JYSOn\\',\\'010-3871-7486\\');',\n",
       " 'INSERT INTO \"PBook\" VALUES(\\'JYSOn\\',\\'010-3871-7486\\');',\n",
       " 'INSERT INTO \"PBook\" VALUES(\\'Tom\\',\\'010-543-5432\\');',\n",
       " 'INSERT INTO \"PBook\" VALUES(\\'DSP\\',\\'010\\');',\n",
       " 'INSERT INTO \"PBook\" VALUES(\\'DSP\\',\\'010-3875-3847\\');',\n",
       " 'INSERT INTO \"PBook\" VALUES(\\'Tom\\',\\'010-3857-3874\\');',\n",
       " 'COMMIT;']"
      ]
     },
     "execution_count": 15,
     "metadata": {},
     "output_type": "execute_result"
    }
   ],
   "source": [
    "dump"
   ]
  },
  {
   "cell_type": "code",
   "execution_count": 16,
   "metadata": {
    "collapsed": true
   },
   "outputs": [],
   "source": [
    "with open('./dbcmd.txt', 'wb') as cmd:\n",
    "    pkl.dump(dump, cmd)\n",
    "    \n",
    "    "
   ]
  },
  {
   "cell_type": "code",
   "execution_count": 19,
   "metadata": {
    "collapsed": true
   },
   "outputs": [],
   "source": [
    "with open('./dbcmd.txt', 'rb') as cmd:\n",
    "    dump2 = pkl.load(cmd)"
   ]
  },
  {
   "cell_type": "code",
   "execution_count": 20,
   "metadata": {},
   "outputs": [
    {
     "data": {
      "text/plain": [
       "['BEGIN TRANSACTION;',\n",
       " 'CREATE TABLE PBook(Name text, PhoneNum text);',\n",
       " 'INSERT INTO \"PBook\" VALUES(\\'Derick\\',\\'010-1234-1234\\');',\n",
       " 'INSERT INTO \"PBook\" VALUES(\\'JYSOn\\',\\'010-3871-7486\\');',\n",
       " 'INSERT INTO \"PBook\" VALUES(\\'JYSOn\\',\\'010-3871-7486\\');',\n",
       " 'INSERT INTO \"PBook\" VALUES(\\'Tom\\',\\'010-543-5432\\');',\n",
       " 'INSERT INTO \"PBook\" VALUES(\\'DSP\\',\\'010\\');',\n",
       " 'INSERT INTO \"PBook\" VALUES(\\'DSP\\',\\'010-3875-3847\\');',\n",
       " 'INSERT INTO \"PBook\" VALUES(\\'Tom\\',\\'010-3857-3874\\');',\n",
       " 'COMMIT;']"
      ]
     },
     "execution_count": 20,
     "metadata": {},
     "output_type": "execute_result"
    }
   ],
   "source": [
    "dump2"
   ]
  },
  {
   "cell_type": "code",
   "execution_count": 29,
   "metadata": {},
   "outputs": [
    {
     "data": {
      "text/plain": [
       "<sqlite3.Cursor at 0x7fbfeee98810>"
      ]
     },
     "execution_count": 29,
     "metadata": {},
     "output_type": "execute_result"
    }
   ],
   "source": [
    "con_mem2 = sqlite3.connect(\":memory:\")\n",
    "\n",
    "with open('./dbcmd.txt', 'rb') as cmd:\n",
    "    script = pkl.load(cmd)\n",
    "\n",
    "'\\n'.join(script)\n",
    "cur2 = con_mem2.cursor()\n",
    "\n",
    "cur2.executescript('\\n'.join(script))"
   ]
  },
  {
   "cell_type": "code",
   "execution_count": 25,
   "metadata": {},
   "outputs": [
    {
     "ename": "UnicodeDecodeError",
     "evalue": "'utf-8' codec can't decode byte 0x80 in position 0: invalid start byte",
     "output_type": "error",
     "traceback": [
      "\u001b[0;31m---------------------------------------------------------------------------\u001b[0m",
      "\u001b[0;31mUnicodeDecodeError\u001b[0m                        Traceback (most recent call last)",
      "\u001b[0;32m<ipython-input-25-c6d32e674733>\u001b[0m in \u001b[0;36m<module>\u001b[0;34m()\u001b[0m\n\u001b[1;32m      1\u001b[0m \u001b[0;32mwith\u001b[0m \u001b[0mopen\u001b[0m\u001b[0;34m(\u001b[0m\u001b[0;34m'./dbcmd.txt'\u001b[0m\u001b[0;34m)\u001b[0m \u001b[0;32mas\u001b[0m \u001b[0mf\u001b[0m \u001b[0;34m:\u001b[0m\u001b[0;34m\u001b[0m\u001b[0m\n\u001b[0;32m----> 2\u001b[0;31m     \u001b[0mscrt\u001b[0m \u001b[0;34m=\u001b[0m \u001b[0mf\u001b[0m\u001b[0;34m.\u001b[0m\u001b[0mread\u001b[0m\u001b[0;34m(\u001b[0m\u001b[0;34m)\u001b[0m\u001b[0;34m\u001b[0m\u001b[0m\n\u001b[0m\u001b[1;32m      3\u001b[0m \u001b[0;34m\u001b[0m\u001b[0m\n\u001b[1;32m      4\u001b[0m \u001b[0mcur2\u001b[0m\u001b[0;34m.\u001b[0m\u001b[0mexecutescript\u001b[0m\u001b[0;34m(\u001b[0m\u001b[0mscrt\u001b[0m\u001b[0;34m)\u001b[0m\u001b[0;34m\u001b[0m\u001b[0m\n",
      "\u001b[0;32m/home/june/anaconda3/lib/python3.6/codecs.py\u001b[0m in \u001b[0;36mdecode\u001b[0;34m(self, input, final)\u001b[0m\n\u001b[1;32m    319\u001b[0m         \u001b[0;31m# decode input (taking the buffer into account)\u001b[0m\u001b[0;34m\u001b[0m\u001b[0;34m\u001b[0m\u001b[0m\n\u001b[1;32m    320\u001b[0m         \u001b[0mdata\u001b[0m \u001b[0;34m=\u001b[0m \u001b[0mself\u001b[0m\u001b[0;34m.\u001b[0m\u001b[0mbuffer\u001b[0m \u001b[0;34m+\u001b[0m \u001b[0minput\u001b[0m\u001b[0;34m\u001b[0m\u001b[0m\n\u001b[0;32m--> 321\u001b[0;31m         \u001b[0;34m(\u001b[0m\u001b[0mresult\u001b[0m\u001b[0;34m,\u001b[0m \u001b[0mconsumed\u001b[0m\u001b[0;34m)\u001b[0m \u001b[0;34m=\u001b[0m \u001b[0mself\u001b[0m\u001b[0;34m.\u001b[0m\u001b[0m_buffer_decode\u001b[0m\u001b[0;34m(\u001b[0m\u001b[0mdata\u001b[0m\u001b[0;34m,\u001b[0m \u001b[0mself\u001b[0m\u001b[0;34m.\u001b[0m\u001b[0merrors\u001b[0m\u001b[0;34m,\u001b[0m \u001b[0mfinal\u001b[0m\u001b[0;34m)\u001b[0m\u001b[0;34m\u001b[0m\u001b[0m\n\u001b[0m\u001b[1;32m    322\u001b[0m         \u001b[0;31m# keep undecoded input until the next call\u001b[0m\u001b[0;34m\u001b[0m\u001b[0;34m\u001b[0m\u001b[0m\n\u001b[1;32m    323\u001b[0m         \u001b[0mself\u001b[0m\u001b[0;34m.\u001b[0m\u001b[0mbuffer\u001b[0m \u001b[0;34m=\u001b[0m \u001b[0mdata\u001b[0m\u001b[0;34m[\u001b[0m\u001b[0mconsumed\u001b[0m\u001b[0;34m:\u001b[0m\u001b[0;34m]\u001b[0m\u001b[0;34m\u001b[0m\u001b[0m\n",
      "\u001b[0;31mUnicodeDecodeError\u001b[0m: 'utf-8' codec can't decode byte 0x80 in position 0: invalid start byte"
     ]
    }
   ],
   "source": [
    "with open('./dbcmd.txt') as f :\n",
    "    scrt = f.read()\n",
    "    \n",
    "cur2.executescript(scrt)"
   ]
  },
  {
   "cell_type": "code",
   "execution_count": 26,
   "metadata": {},
   "outputs": [
    {
     "data": {
      "text/plain": [
       "<list_iterator at 0x7fbfeee86710>"
      ]
     },
     "execution_count": 26,
     "metadata": {},
     "output_type": "execute_result"
    }
   ],
   "source": [
    "iter(script)"
   ]
  },
  {
   "cell_type": "code",
   "execution_count": 31,
   "metadata": {},
   "outputs": [
    {
     "data": {
      "text/plain": [
       "<sqlite3.Cursor at 0x7fbfef7a08f0>"
      ]
     },
     "execution_count": 31,
     "metadata": {},
     "output_type": "execute_result"
    }
   ],
   "source": [
    "cur.execute(\"SELECT * FROM PBook\")"
   ]
  },
  {
   "cell_type": "code",
   "execution_count": 32,
   "metadata": {},
   "outputs": [
    {
     "name": "stdout",
     "output_type": "stream",
     "text": [
      "('Derick', '010-1234-1234')\n",
      "('JYSOn', '010-3871-7486')\n",
      "('JYSOn', '010-3871-7486')\n",
      "('Tom', '010-543-5432')\n",
      "('DSP', '010')\n",
      "('DSP', '010-3875-3847')\n",
      "('Tom', '010-3857-3874')\n"
     ]
    }
   ],
   "source": [
    "for el in cur:\n",
    "    print (el)"
   ]
  },
  {
   "cell_type": "code",
   "execution_count": 34,
   "metadata": {},
   "outputs": [
    {
     "data": {
      "text/plain": [
       "('Derick', '010-1234-1234')"
      ]
     },
     "execution_count": 34,
     "metadata": {},
     "output_type": "execute_result"
    }
   ],
   "source": [
    "cur.execute(\"SELECT * FROM PBook\")\n",
    "cur.fetchone()"
   ]
  },
  {
   "cell_type": "code",
   "execution_count": 35,
   "metadata": {},
   "outputs": [
    {
     "data": {
      "text/plain": [
       "[('JYSOn', '010-3871-7486'), ('JYSOn', '010-3871-7486')]"
      ]
     },
     "execution_count": 35,
     "metadata": {},
     "output_type": "execute_result"
    }
   ],
   "source": [
    "cur.fetchmany(2)"
   ]
  },
  {
   "cell_type": "code",
   "execution_count": 36,
   "metadata": {},
   "outputs": [
    {
     "data": {
      "text/plain": [
       "[('Tom', '010-543-5432'),\n",
       " ('DSP', '010'),\n",
       " ('DSP', '010-3875-3847'),\n",
       " ('Tom', '010-3857-3874')]"
      ]
     },
     "execution_count": 36,
     "metadata": {},
     "output_type": "execute_result"
    }
   ],
   "source": [
    "cur.fetchall()"
   ]
  },
  {
   "cell_type": "code",
   "execution_count": 37,
   "metadata": {
    "collapsed": true
   },
   "outputs": [],
   "source": [
    "cur = con.cursor()\n",
    "cur.executescript('\\n'.join(script))\n",
    "con.commit()"
   ]
  },
  {
   "cell_type": "code",
   "execution_count": 39,
   "metadata": {},
   "outputs": [
    {
     "name": "stdout",
     "output_type": "stream",
     "text": [
      "[('Derick', '010-1234-1234'), ('JYSOn', '010-3871-7486'), ('JYSOn', '010-3871-7486'), ('Tom', '010-543-5432'), ('DSP', '010'), ('DSP', '010-3875-3847'), ('Tom', '010-3857-3874')]\n"
     ]
    }
   ],
   "source": [
    "con_new = sqlite3.connect('./test.db')\n",
    "cur = con_new.cursor()\n",
    "cur.execute(\"SELECT * FROM PBook;\")\n",
    "print (cur.fetchall())"
   ]
  },
  {
   "cell_type": "code",
   "execution_count": 40,
   "metadata": {
    "collapsed": true
   },
   "outputs": [],
   "source": [
    "#Automated Commit Mode on every execution\n",
    "\n",
    "con.isolation_level = None"
   ]
  },
  {
   "cell_type": "code",
   "execution_count": 45,
   "metadata": {},
   "outputs": [
    {
     "data": {
      "text/plain": [
       "[('DSP', '010'),\n",
       " ('DSP', '010-3875-3847'),\n",
       " ('Derick', '010-1234-1234'),\n",
       " ('JYSOn', '010-3871-7486'),\n",
       " ('JYSOn', '010-3871-7486'),\n",
       " ('Tom', '010-543-5432'),\n",
       " ('Tom', '010-3857-3874')]"
      ]
     },
     "execution_count": 45,
     "metadata": {},
     "output_type": "execute_result"
    }
   ],
   "source": [
    "cur.execute(\"SELECT * FROM PBook ORDER BY Name;\")\n",
    "cur.fetchall()"
   ]
  },
  {
   "cell_type": "code",
   "execution_count": 44,
   "metadata": {},
   "outputs": [
    {
     "data": {
      "text/plain": [
       "[('Tom', '010-543-5432'),\n",
       " ('Tom', '010-3857-3874'),\n",
       " ('JYSOn', '010-3871-7486'),\n",
       " ('JYSOn', '010-3871-7486'),\n",
       " ('Derick', '010-1234-1234'),\n",
       " ('DSP', '010'),\n",
       " ('DSP', '010-3875-3847')]"
      ]
     },
     "execution_count": 44,
     "metadata": {},
     "output_type": "execute_result"
    }
   ],
   "source": [
    "cur.execute(\"SELECT * FROM PBook ORDER BY Name DESC;\")\n",
    "cur.fetchall()"
   ]
  },
  {
   "cell_type": "code",
   "execution_count": 46,
   "metadata": {},
   "outputs": [
    {
     "data": {
      "text/plain": [
       "[('DSP',), ('DSP',), ('Derick',), ('JYSOn',), ('JYSOn',), ('Tom',), ('Tom',)]"
      ]
     },
     "execution_count": 46,
     "metadata": {},
     "output_type": "execute_result"
    }
   ],
   "source": [
    "cur.execute(\"SELECT Name FROM PBook ORDER BY Name;\")\n",
    "cur.fetchall()"
   ]
  },
  {
   "cell_type": "code",
   "execution_count": 47,
   "metadata": {},
   "outputs": [
    {
     "data": {
      "text/plain": [
       "['DSP', 'DSP', 'Derick', 'JYSOn', 'JYSOn', 'Tom', 'Tom']"
      ]
     },
     "execution_count": 47,
     "metadata": {},
     "output_type": "execute_result"
    }
   ],
   "source": [
    "cur.execute(\"SELECT Name FROM PBook ORDER BY Name;\")\n",
    "[r[0] for r in cur]"
   ]
  },
  {
   "cell_type": "code",
   "execution_count": 58,
   "metadata": {
    "collapsed": true
   },
   "outputs": [],
   "source": [
    "#내장정렬 함수.\n",
    "\n",
    "def OrderFunc(str1, str2):\n",
    "    s1 = str1.upper()\n",
    "    s2 = str2.upper()\n",
    "    return ((s1 > s2) - (s1 < s2)) # 1: Unordered(str1 > str2, 뒷선경우), -1 : Ordered(str1 < str2, 앞선경우)"
   ]
  },
  {
   "cell_type": "code",
   "execution_count": 59,
   "metadata": {},
   "outputs": [
    {
     "ename": "OperationalError",
     "evalue": "no such collation sequence: myordering",
     "output_type": "error",
     "traceback": [
      "\u001b[0;31m---------------------------------------------------------------------------\u001b[0m",
      "\u001b[0;31mOperationalError\u001b[0m                          Traceback (most recent call last)",
      "\u001b[0;32m<ipython-input-59-174ced58052f>\u001b[0m in \u001b[0;36m<module>\u001b[0;34m()\u001b[0m\n\u001b[1;32m      1\u001b[0m \u001b[0mcon\u001b[0m\u001b[0;34m.\u001b[0m\u001b[0mcreate_collation\u001b[0m\u001b[0;34m(\u001b[0m\u001b[0;34m'myordering'\u001b[0m\u001b[0;34m,\u001b[0m \u001b[0mOrderFunc\u001b[0m\u001b[0;34m)\u001b[0m\u001b[0;34m\u001b[0m\u001b[0m\n\u001b[0;32m----> 2\u001b[0;31m \u001b[0mcur\u001b[0m\u001b[0;34m.\u001b[0m\u001b[0mexecute\u001b[0m\u001b[0;34m(\u001b[0m\u001b[0;34m\"SELECT Name FROM PBook ORDER BY Name COLLATE myordering\"\u001b[0m\u001b[0;34m)\u001b[0m\u001b[0;34m\u001b[0m\u001b[0m\n\u001b[0m\u001b[1;32m      3\u001b[0m \u001b[0;34m\u001b[0m\u001b[0m\n\u001b[1;32m      4\u001b[0m \u001b[0;34m[\u001b[0m\u001b[0mr\u001b[0m\u001b[0;34m[\u001b[0m\u001b[0;36m0\u001b[0m\u001b[0;34m]\u001b[0m \u001b[0;32mfor\u001b[0m \u001b[0mr\u001b[0m \u001b[0;32min\u001b[0m \u001b[0mcur\u001b[0m\u001b[0;34m]\u001b[0m\u001b[0;34m\u001b[0m\u001b[0m\n",
      "\u001b[0;31mOperationalError\u001b[0m: no such collation sequence: myordering"
     ]
    }
   ],
   "source": [
    "con.create_collation('myordering', OrderFunc)\n",
    "cur.execute(\"SELECT Name FROM PBook ORDER BY Name COLLATE myordering\")\n",
    "\n",
    "[r[0] for r in cur]"
   ]
  },
  {
   "cell_type": "code",
   "execution_count": 63,
   "metadata": {},
   "outputs": [],
   "source": [
    "list(con.iterdump())\n",
    "with open('./dump.sql', 'w') as f:\n",
    "    for l in con.iterdump():\n",
    "        f.write('{0}\\n'.format(l))"
   ]
  },
  {
   "cell_type": "code",
   "execution_count": 73,
   "metadata": {},
   "outputs": [
    {
     "data": {
      "text/plain": [
       "[(3, 'tom', 'TOM'),\n",
       " (6, 'derick', 'DERICK'),\n",
       " (5, 'peter', 'PETER'),\n",
       " (4, 'jane', 'JANE')]"
      ]
     },
     "execution_count": 73,
     "metadata": {},
     "output_type": "execute_result"
    }
   ],
   "source": [
    "#집계함수\n",
    "#[abs, length, lower, upper, min,max, random, count(x), count(*), sum(x)]\n",
    "\n",
    "import sqlite3\n",
    "\n",
    "con = sqlite3.connect(\":memory:\")\n",
    "cur = con.cursor()\n",
    "\n",
    "cur.execute(\"CREATE TABLE PBook(Name text, Age integer);\")\n",
    "\n",
    "lst = (('Tom', 24), ('Derick', 30), ('Peter', 53), ('Jane', 29))\n",
    "cur.executemany(\"INSERT INTO PBook VALUES(?,?);\",lst)\n",
    "\n",
    "cur.execute(\"SELECT length(Name), lower(Name), upper(Name) FROM PBook\")\n",
    "cur.fetchall()"
   ]
  },
  {
   "cell_type": "code",
   "execution_count": 75,
   "metadata": {},
   "outputs": [
    {
     "data": {
      "text/plain": [
       "[(53, 24, 136)]"
      ]
     },
     "execution_count": 75,
     "metadata": {},
     "output_type": "execute_result"
    }
   ],
   "source": [
    "cur.execute(\"SELECT max(Age), min(Age), sum(Age) FROM PBook\")\n",
    "\n",
    "cur.fetchall()"
   ]
  },
  {
   "cell_type": "code",
   "execution_count": 78,
   "metadata": {},
   "outputs": [
    {
     "data": {
      "text/plain": [
       "[(4, 5759839955509884382)]"
      ]
     },
     "execution_count": 78,
     "metadata": {},
     "output_type": "execute_result"
    }
   ],
   "source": [
    "cur.execute(\"SELECT count(*), random(*) FROM PBook\")\n",
    "cur.fetchall()"
   ]
  },
  {
   "cell_type": "code",
   "execution_count": null,
   "metadata": {
    "collapsed": true
   },
   "outputs": [],
   "source": [
    "#사용자 정의 집계함수\n",
    "\n",
    "#con.create_collation # User Defined Order Mapping\n",
    "#con.create_aggregate\n",
    "\n",
    "#con.create_function\n",
    "\n",
    "class Average:\n",
    "    def __init__(self):\n",
    "        self.sum= 0\n",
    "        self.cnt = 0\n",
    "    def step(self,value):\n",
    "        self.sum += value\n",
    "        self.cnt +=1\n",
    "        \n",
    "    def finalize(self):\n",
    "        return (self.sum / self.cnt)"
   ]
  },
  {
   "cell_type": "code",
   "execution_count": null,
   "metadata": {
    "collapsed": true
   },
   "outputs": [],
   "source": [
    "con = sqlite3.connect(\":memory:\")\n",
    "cur = con.cursor()\n",
    "\n",
    "lst = (('JYSON', 33), ('BSDKO',48),('DKEJV',38),('KDNEI',90),('KEDIV',43),('DKEIV',34))\n",
    "cur.execute(\"CREATE TABLE Ltbl(Name text, Age integer);\")\n",
    "cur.executemany(\"INSERT INTO Ltbl VALUES(?,?);\", lst)\n",
    "cur.execute(\"SELECT * FROM Ltbl ORDER BY Age\")\n",
    "res = cur.fetchall()"
   ]
  },
  {
   "cell_type": "code",
   "execution_count": 100,
   "metadata": {},
   "outputs": [
    {
     "name": "stdout",
     "output_type": "stream",
     "text": [
      "[('JYSON', 33), ('DKEIV', 34), ('DKEJV', 38), ('KEDIV', 43), ('BSDKO', 48), ('KDNEI', 90)]\n"
     ]
    }
   ],
   "source": [
    "print (res)\n"
   ]
  },
  {
   "cell_type": "code",
   "execution_count": 84,
   "metadata": {},
   "outputs": [],
   "source": [
    "con.create_aggregate('avg', 1, Average)\n",
    "cur.execute(\"SELECT avg(Age) FROM Ltbl\")\n",
    "res = cur.fetchall()"
   ]
  },
  {
   "cell_type": "code",
   "execution_count": 85,
   "metadata": {},
   "outputs": [
    {
     "name": "stdout",
     "output_type": "stream",
     "text": [
      "[(47.666666666666664,)]\n"
     ]
    }
   ],
   "source": [
    "print(res)"
   ]
  },
  {
   "cell_type": "code",
   "execution_count": 104,
   "metadata": {},
   "outputs": [
    {
     "name": "stdout",
     "output_type": "stream",
     "text": [
      "[('JYSON', 33), ('BSDKO', 48), ('DKEJV', 38), ('KDNEI', 90), ('KEDIV', 43), ('DKEIV', 34)]\n",
      "[('JYSON', 33), ('BSDKO', 48), ('DKEJV', 38), ('KDNEI', 90), ('KEDIV', 43), ('DKEIV', 34)]\n"
     ]
    }
   ],
   "source": [
    "#자료형\n",
    "#[NULL <-> None, INTEGER <-> int, REAL <-> float, TEXT <-> str, bytes, BLOB <-> buffer]\n",
    "\n",
    "import sqlite3\n",
    "con = sqlite3.connect(\":memory:\")\n",
    "cur = con.cursor()\n",
    "\n",
    "cur.execute(\"CREATE TABLE tbl1(Name text, Age integer);\") # Define with SQLITE3 Var type\n",
    "cur.execute(\"CREATE TABLE tbl2(Name str, Age int);\") # Define With PYTHON3 Var type\n",
    "\n",
    "cur.executemany(\"INSERT INTO tbl1 VALUES(?,?);\", lst)\n",
    "cur.executemany(\"INSERT INTO tbl2 VALUES(?,?);\", lst)\n",
    "\n",
    "cur.execute(\"SELECT * FROM tbl1\")\n",
    "print (cur.fetchall())\n",
    "\n",
    "cur.execute(\"SELECT * FROM tbl2\")\n",
    "print (cur.fetchall())"
   ]
  },
  {
   "cell_type": "code",
   "execution_count": 119,
   "metadata": {},
   "outputs": [],
   "source": [
    "#사용자 정의 자료형\n",
    "\n",
    "class Point(object):\n",
    "    def __init__(self, x, y):\n",
    "        print ('initialization')\n",
    "        self.x, self.y = x, y\n",
    "        \n",
    "    def __repr__(self):\n",
    "        print (self.x + self.y)\n",
    "        return \"Point(%f, %f)\" % (self.x, self.y) #Instance 호출시 기본 출력형. print (instance)에서 수행하는 동작"
   ]
  },
  {
   "cell_type": "code",
   "execution_count": null,
   "metadata": {
    "collapsed": true
   },
   "outputs": [],
   "source": [
    "#sqlite3.resister_adapter(Point, PointAdapter)\n",
    "#sqlite3.resister_converter(\"point\", PointConverter)\n",
    "\n",
    "#adapter : userdefined -> sqlite3 type\n",
    "#converter : sqlite3 -> userdefined\n",
    "\n"
   ]
  },
  {
   "cell_type": "code",
   "execution_count": 65,
   "metadata": {},
   "outputs": [
    {
     "name": "stdout",
     "output_type": "stream",
     "text": [
      "Help on function sub in module re:\n",
      "\n",
      "sub(pattern, repl, string, count=0, flags=0)\n",
      "    Return the string obtained by replacing the leftmost\n",
      "    non-overlapping occurrences of the pattern in string by the\n",
      "    replacement repl.  repl can be either a string or a callable;\n",
      "    if a string, backslash escapes in it are processed.  If it is\n",
      "    a callable, it's passed the match object and must return\n",
      "    a replacement string to be used.\n",
      "\n"
     ]
    }
   ],
   "source": [
    "import re\n",
    "help(re.sub) #substitution"
   ]
  },
  {
   "cell_type": "code",
   "execution_count": 67,
   "metadata": {},
   "outputs": [
    {
     "name": "stdout",
     "output_type": "stream",
     "text": [
      "Help on method_descriptor:\n",
      "\n",
      "strip(...)\n",
      "    S.strip([chars]) -> str\n",
      "    \n",
      "    Return a copy of the string S with leading and trailing\n",
      "    whitespace removed.\n",
      "    If chars is given and not None, remove characters in chars instead.\n",
      "\n"
     ]
    }
   ],
   "source": [
    "help(str.strip)"
   ]
  },
  {
   "cell_type": "code",
   "execution_count": 122,
   "metadata": {},
   "outputs": [
    {
     "name": "stdout",
     "output_type": "stream",
     "text": [
      "initialization\n",
      "3\n"
     ]
    },
    {
     "data": {
      "text/plain": [
       "Point(1.000000, 2.000000)"
      ]
     },
     "execution_count": 122,
     "metadata": {},
     "output_type": "execute_result"
    }
   ],
   "source": [
    "p = Point(1, 2)\n",
    "p"
   ]
  },
  {
   "cell_type": "code",
   "execution_count": 121,
   "metadata": {},
   "outputs": [
    {
     "name": "stdout",
     "output_type": "stream",
     "text": [
      "initialization\n",
      "6\n",
      "Point(2.000000, 4.000000)\n"
     ]
    }
   ],
   "source": [
    "print (Point(2,4))"
   ]
  },
  {
   "cell_type": "code",
   "execution_count": 128,
   "metadata": {},
   "outputs": [
    {
     "name": "stdout",
     "output_type": "stream",
     "text": [
      "3\n",
      "Point(1.000000, 2.000000)\n"
     ]
    }
   ],
   "source": [
    "print (p)"
   ]
  },
  {
   "cell_type": "code",
   "execution_count": null,
   "metadata": {
    "collapsed": true
   },
   "outputs": [],
   "source": []
  }
 ],
 "metadata": {
  "kernelspec": {
   "display_name": "Python 3",
   "language": "python",
   "name": "python3"
  },
  "language_info": {
   "codemirror_mode": {
    "name": "ipython",
    "version": 3
   },
   "file_extension": ".py",
   "mimetype": "text/x-python",
   "name": "python",
   "nbconvert_exporter": "python",
   "pygments_lexer": "ipython3",
   "version": "3.6.1"
  }
 },
 "nbformat": 4,
 "nbformat_minor": 2
}
