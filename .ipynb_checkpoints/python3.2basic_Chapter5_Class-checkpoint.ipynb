{
 "cells": [
  {
   "cell_type": "code",
   "execution_count": 33,
   "metadata": {},
   "outputs": [
    {
     "data": {
      "text/plain": [
       "type"
      ]
     },
     "execution_count": 33,
     "metadata": {},
     "output_type": "execute_result"
    }
   ],
   "source": [
    "# Class선언\n",
    "\n",
    "class MyClass:\n",
    "    '''Very Simple Class'''\n",
    "    pass\n",
    "dir()\n",
    "type(MyClass)"
   ]
  },
  {
   "cell_type": "code",
   "execution_count": 34,
   "metadata": {},
   "outputs": [
    {
     "name": "stdout",
     "output_type": "stream",
     "text": [
      "My name is Default Name\n"
     ]
    }
   ],
   "source": [
    "class Person:\n",
    "    Name = \"Default Name\"   \n",
    "    def Print(self):\n",
    "        print(\"My name is {0}\".format(self.Name))\n",
    "\n",
    "p1 = Person()\n",
    "p1.Print()"
   ]
  },
  {
   "cell_type": "code",
   "execution_count": 35,
   "metadata": {},
   "outputs": [
    {
     "name": "stdout",
     "output_type": "stream",
     "text": [
      "My name is JYSOn\n"
     ]
    }
   ],
   "source": [
    "p1.Name = 'JYSOn' # change value inside the instance\n",
    "p1.Print()"
   ]
  },
  {
   "cell_type": "code",
   "execution_count": 36,
   "metadata": {},
   "outputs": [
    {
     "name": "stdout",
     "output_type": "stream",
     "text": [
      "My name is JYSOn\n",
      "My name is JYSOn\n"
     ]
    }
   ],
   "source": [
    "#Bound Method\n",
    "p1.Print() # By Default, instance is passed into the Print method(self,...)\n",
    "#Unbound Method\n",
    "Person.Print(p1) # Direct Clarification of Subject instance by calling Class\n",
    "\n",
    "#Value Search : Inside the Instance -> Class -> Global Environment"
   ]
  },
  {
   "cell_type": "code",
   "execution_count": 37,
   "metadata": {},
   "outputs": [
    {
     "name": "stdout",
     "output_type": "stream",
     "text": [
      "p1 's name : Default Name\n",
      "p2 's name : Default Name\n"
     ]
    }
   ],
   "source": [
    "class Person:\n",
    "    name = 'Default Name'\n",
    "\n",
    "p1 = Person()\n",
    "p2 = Person()\n",
    "print ('p1 \\'s name :', p1.name)\n",
    "print ('p2 \\'s name :', p2.name)\n"
   ]
  },
  {
   "cell_type": "code",
   "execution_count": 38,
   "metadata": {},
   "outputs": [
    {
     "name": "stdout",
     "output_type": "stream",
     "text": [
      "p1 's name : JYSon\n",
      "p2 's name : Default Name\n"
     ]
    }
   ],
   "source": [
    "#Each Instance is independent\n",
    "p1.name = 'JYSon'\n",
    "print ('p1 \\'s name :', p1.name)\n",
    "print ('p2 \\'s name :', p2.name)\n"
   ]
  },
  {
   "cell_type": "code",
   "execution_count": 41,
   "metadata": {},
   "outputs": [
    {
     "name": "stdout",
     "output_type": "stream",
     "text": [
      "p1's title:  New title\n",
      "p2's title:  New title\n",
      "Persons's title : New title\n"
     ]
    }
   ],
   "source": [
    "#new values are definable, if class value is defined, all instances refer to them.\n",
    "Person.title = \"New title\"\n",
    "print(\"p1\\'s title: \", p1.title)\n",
    "print(\"p2\\'s title: \", p2.title)\n",
    "\n",
    "print ('Persons\\'s title :', Person.title)"
   ]
  },
  {
   "cell_type": "code",
   "execution_count": 43,
   "metadata": {},
   "outputs": [
    {
     "name": "stdout",
     "output_type": "stream",
     "text": [
      "p1's title:  20\n"
     ]
    }
   ],
   "source": [
    "p1.age = 20\n",
    "print (\"p1\\'s title: \", p1.age)"
   ]
  },
  {
   "cell_type": "code",
   "execution_count": null,
   "metadata": {
    "collapsed": true
   },
   "outputs": [],
   "source": [
    "#p1.age is confined to p1 instance only.\n",
    "print (\"p2\\'s title: \", p2.age)"
   ]
  },
  {
   "cell_type": "code",
   "execution_count": 47,
   "metadata": {},
   "outputs": [
    {
     "name": "stdout",
     "output_type": "stream",
     "text": [
      "NOT CLASS MEMBER\n",
      "THIS STRING IS INSIDE THE CLASS\n"
     ]
    }
   ],
   "source": [
    "#Extra Ex. If self is omitted in the method(,...)\n",
    "str = \"NOT CLASS MEMBER\"\n",
    "class Gstring():\n",
    "    str = \"\"\n",
    "    def __init__(self, msg):\n",
    "        self.str = msg\n",
    "    def Print_woself(self):\n",
    "        print(str)\n",
    "    def Print_wself(self):\n",
    "        print (self.str)\n",
    "        \n",
    "g = Gstring('THIS STRING IS INSIDE THE CLASS')\n",
    "\n",
    "g.Print_woself() #str \n",
    "g.Print_wself()  #self.str"
   ]
  },
  {
   "cell_type": "code",
   "execution_count": 52,
   "metadata": {},
   "outputs": [
    {
     "name": "stdout",
     "output_type": "stream",
     "text": [
      "data in the class is changed\n",
      "data in the class is changed\n"
     ]
    }
   ],
   "source": [
    "class Test:\n",
    "    data = \"Default\"\n",
    "i2 = Test()\n",
    "i1 = Test()\n",
    "i1.__class__.data = \"data in the class is changed\"\n",
    "print(i1.data)\n",
    "print (i2.data)"
   ]
  },
  {
   "cell_type": "code",
   "execution_count": 55,
   "metadata": {},
   "outputs": [
    {
     "name": "stdout",
     "output_type": "stream",
     "text": [
      "data in the class is changed\n",
      "data in i2 is chaged\n"
     ]
    }
   ],
   "source": [
    "i2.data = \"data in i2 is chaged\"\n",
    "print(i1.data)\n",
    "print (i2.data)"
   ]
  },
  {
   "cell_type": "code",
   "execution_count": 58,
   "metadata": {},
   "outputs": [
    {
     "name": "stdout",
     "output_type": "stream",
     "text": [
      "data in the class is changed\n"
     ]
    }
   ],
   "source": [
    "# call data variable in the class by __class__ method.\n",
    "print (i2.__class__.data) "
   ]
  },
  {
   "cell_type": "code",
   "execution_count": null,
   "metadata": {
    "collapsed": true
   },
   "outputs": [],
   "source": [
    "#Check the relation between instance and the class heritage\n",
    "#isinstance()\n",
    "\n",
    "class Person():\n",
    "    pass\n",
    "class Bird():\n",
    "    pass\n",
    "class Student(Person):\n",
    "    pass\n",
    "\n",
    "p, s = Person(), Student()\n",
    "\n",
    "print(\"p is the instance of Person ?:\", isinstance(p, Person))\n",
    "#인스턴스는 자신의 클래스 부모 클래스 또한 상속\n",
    "print(\"s is the instance of Person ?:\", isinstance(s, Person))\n",
    "#모든 클래스객체들은 object객체를 상속(Python3~)\n",
    "# class Person(): == class Person(object):\n",
    "print(\"p is the instance of Object ?:\", isinstance(p, object))\n",
    "print(\"p is the instance of Bird ?:\", isinstance(p, Bird))\n",
    "print(\"int is the instance of Object ?:\", isinstance(int, object))\n",
    "\n",
    "print (type(p), type(p) == Person)"
   ]
  },
  {
   "cell_type": "code",
   "execution_count": 73,
   "metadata": {},
   "outputs": [
    {
     "name": "stdout",
     "output_type": "stream",
     "text": [
      "Class is created! Value =  10\n",
      "Class is deleted!\n"
     ]
    }
   ],
   "source": [
    "#생성자, 소멸자(__init__(self), __del__(self)\n",
    "# __init__(self) is ran at the time of instance creation\n",
    "# __del__(self) is ran at the time of reference counter ==0\n",
    "# No variable point to the object\n",
    "\n",
    "class MyClass:\n",
    "    def __init__(self, value):\n",
    "        self.Value = value\n",
    "        print (\"Class is created! Value = \", value)\n",
    "        \n",
    "    def __del__(self):\n",
    "        print (\"Class is deleted!\")\n",
    "        \n",
    "def foo():\n",
    "    d = MyClass(10)\n",
    "    \n",
    "#By foo() calling, MyClass(10) is called and returning foo, class is deleted.\n",
    "foo()"
   ]
  },
  {
   "cell_type": "code",
   "execution_count": 79,
   "metadata": {},
   "outputs": [
    {
     "name": "stdout",
     "output_type": "stream",
     "text": [
      "Class is created! Value =  10\n"
     ]
    }
   ],
   "source": [
    "c = MyClass(10)"
   ]
  },
  {
   "cell_type": "code",
   "execution_count": null,
   "metadata": {
    "collapsed": true
   },
   "outputs": [],
   "source": [
    "del c"
   ]
  },
  {
   "cell_type": "code",
   "execution_count": 82,
   "metadata": {},
   "outputs": [
    {
     "name": "stdout",
     "output_type": "stream",
     "text": [
      "Instance Count: 3\n"
     ]
    },
    {
     "ename": "TypeError",
     "evalue": "printInstanceCounter() takes 0 positional arguments but 1 was given",
     "output_type": "error",
     "traceback": [
      "\u001b[0;31m---------------------------------------------------------------------------\u001b[0m",
      "\u001b[0;31mTypeError\u001b[0m                                 Traceback (most recent call last)",
      "\u001b[0;32m<ipython-input-82-43065817365c>\u001b[0m in \u001b[0;36m<module>\u001b[0;34m()\u001b[0m\n\u001b[1;32m     12\u001b[0m \u001b[0mCounterManager\u001b[0m\u001b[0;34m.\u001b[0m\u001b[0mprintInstanceCounter\u001b[0m\u001b[0;34m(\u001b[0m\u001b[0;34m)\u001b[0m\u001b[0;34m\u001b[0m\u001b[0m\n\u001b[1;32m     13\u001b[0m \u001b[0;31m# printInstanceCounter does not take argument, but b tried to pass into self by default\u001b[0m\u001b[0;34m\u001b[0m\u001b[0;34m\u001b[0m\u001b[0m\n\u001b[0;32m---> 14\u001b[0;31m \u001b[0mb\u001b[0m\u001b[0;34m.\u001b[0m\u001b[0mprintInstanceCounter\u001b[0m\u001b[0;34m(\u001b[0m\u001b[0;34m)\u001b[0m\u001b[0;34m\u001b[0m\u001b[0m\n\u001b[0m",
      "\u001b[0;31mTypeError\u001b[0m: printInstanceCounter() takes 0 positional arguments but 1 was given"
     ]
    }
   ],
   "source": [
    "#Static Method / Classic Method.\n",
    "\n",
    "class CounterManager:\n",
    "    insCount = 0\n",
    "    def __init__(self):\n",
    "        CounterManager.insCount +=1\n",
    "    def printInstanceCounter():\n",
    "        print(\"Instance Count:\", CounterManager.insCount)\n",
    "\n",
    "a, b, c = CounterManager(), CounterManager(), CounterManager()\n",
    "#Class does not pass \"self\" argument\n",
    "CounterManager.printInstanceCounter()\n",
    "# printInstanceCounter does not take argument, but b tried to pass into self by default\n",
    "b.printInstanceCounter()"
   ]
  },
  {
   "cell_type": "code",
   "execution_count": 86,
   "metadata": {},
   "outputs": [
    {
     "name": "stdout",
     "output_type": "stream",
     "text": [
      "Instance Count :  3\n",
      "Instance Count :  3\n",
      "Instance Count: 3\n",
      "Instance Count: 3\n"
     ]
    }
   ],
   "source": [
    "class CounterManager:\n",
    "    insCount = 0\n",
    "    def __init__(self):\n",
    "        CounterManager.insCount +=1\n",
    "        \n",
    "    def staticPrintCount():\n",
    "        print (\"Instance Count : \", CounterManager.insCount)\n",
    "    SprintCount = staticmethod(staticPrintCount)\n",
    "    \n",
    "    def classPrintCount(cls):\n",
    "        print(\"Instance Count:\", cls.insCount)\n",
    "    CprintCount = classmethod(classPrintCount)\n",
    "    \n",
    "a, b, c = CounterManager(), CounterManager(), CounterManager()\n",
    "\n",
    "CounterManager.SprintCount()\n",
    "b.SprintCount()\n",
    "\n",
    "CounterManager.CprintCount()\n",
    "b.CprintCount()\n"
   ]
  },
  {
   "cell_type": "code",
   "execution_count": 27,
   "metadata": {},
   "outputs": [],
   "source": [
    "\n",
    "class pizza:\n",
    "    def __init__(self):\n",
    "        self.size = 42\n",
    "    def get_size(self):\n",
    "        return self.size\n",
    "    \n",
    "    @staticmethod\n",
    "    def mix_ingredients(x, y):\n",
    "        return (x + y)\n",
    "    \n",
    "    def cook(self):\n",
    "        return self.mix_ingredients(self.cheese, self.vegetables)\n",
    "    \n",
    "    @classmethod\n",
    "    def get_radius(cls):\n",
    "        return cls.radius\n",
    "    "
   ]
  },
  {
   "cell_type": "code",
   "execution_count": 9,
   "metadata": {},
   "outputs": [],
   "source": [
    "p = pizza(42)"
   ]
  },
  {
   "cell_type": "code",
   "execution_count": 21,
   "metadata": {},
   "outputs": [
    {
     "data": {
      "text/plain": [
       "False"
      ]
     },
     "execution_count": 21,
     "metadata": {},
     "output_type": "execute_result"
    }
   ],
   "source": [
    "# For Called method, it refer to the one created along with instance address\n",
    "# CreatedInstance1.cook == CLASS.cook\n",
    "pizza().cook == pizza.cook"
   ]
  },
  {
   "cell_type": "code",
   "execution_count": null,
   "metadata": {
    "collapsed": true
   },
   "outputs": [],
   "source": [
    "\n",
    "# CLASS.cook == CLASS.cook\n",
    "pizza.cook == pizza.cook"
   ]
  },
  {
   "cell_type": "code",
   "execution_count": 26,
   "metadata": {},
   "outputs": [
    {
     "data": {
      "text/plain": [
       "False"
      ]
     },
     "execution_count": 26,
     "metadata": {},
     "output_type": "execute_result"
    }
   ],
   "source": [
    "# For Instance method, it refer to the one created along with instance address\n",
    "# CreatedInstance1.cook != CreatedInstance2.cook\n",
    "pizza().cook == pizza().cook"
   ]
  },
  {
   "cell_type": "code",
   "execution_count": 24,
   "metadata": {},
   "outputs": [
    {
     "data": {
      "text/plain": [
       "True"
      ]
     },
     "execution_count": 24,
     "metadata": {},
     "output_type": "execute_result"
    }
   ],
   "source": [
    "#For Static method, Called function is mapped to the one in the Class object.\n",
    "# CreatedInstance1.cook != CreatedInstance2.cook\n",
    "pizza().mix_ingredients == pizza().mix_ingredients"
   ]
  },
  {
   "cell_type": "code",
   "execution_count": 31,
   "metadata": {},
   "outputs": [
    {
     "data": {
      "text/plain": [
       "True"
      ]
     },
     "execution_count": 31,
     "metadata": {},
     "output_type": "execute_result"
    }
   ],
   "source": [
    "# Each Newly created instance refer to the Class method.\n",
    "pizza().get_radius == pizza().get_radius"
   ]
  },
  {
   "cell_type": "code",
   "execution_count": 87,
   "metadata": {
    "collapsed": true
   },
   "outputs": [],
   "source": [
    "#연산자 중복정의, Operator Overlapping/.\n",
    "#A : Instance, B : Subject\n",
    "# __sub__ A - B\n",
    "# __isub__ A -= B\n",
    "# __rsub__ B - A\n",
    "\n",
    "class Gstring:\n",
    "    def __init__(self, init=None):\n",
    "        self.content = init\n",
    "        \n",
    "    def __sub__(self, str):\n",
    "        for i in str:\n",
    "            self.content = self.content.replace(i, '')\n",
    "        return Gstring(self.content)\n",
    "    \n",
    "    def Remove(self, str):\n",
    "        return self.__sub__(str)\n",
    "\n",
    "g = Gstring(\"ABDKFJlkjasdfkj\")\n",
    "re = g.Remove(\"ADj\")\n",
    "re.content\n",
    "re = g - \"ADK\"\n",
    "re.content\n",
    "g.content"
   ]
  },
  {
   "cell_type": "code",
   "execution_count": 99,
   "metadata": {},
   "outputs": [
    {
     "name": "stdout",
     "output_type": "stream",
     "text": [
      "aBce\n",
      "ABCE\n"
     ]
    }
   ],
   "source": [
    "class Gstring:\n",
    "    def __init__(self, init=None):\n",
    "        self.content = init\n",
    "    \n",
    "    def __sub__(self, str):\n",
    "        for i in str:\n",
    "            self.content = self.content.replace(i, '')\n",
    "        return Gstring(self.content)\n",
    "    def __abs__(self): # does not take outside subject\n",
    "        return Gstring(self.content.upper())\n",
    "    \n",
    "    def Print(self):\n",
    "        print (self.content);\n",
    "        \n",
    "g = Gstring(\"aBcdef\")\n",
    "g -= 'df'\n",
    "g.Print()\n",
    "\n",
    "g = abs(g)\n",
    "g.Print()"
   ]
  },
  {
   "cell_type": "code",
   "execution_count": 100,
   "metadata": {},
   "outputs": [
    {
     "name": "stdout",
     "output_type": "stream",
     "text": [
      " '-' operator is called\n",
      " '-=' operator is called\n"
     ]
    }
   ],
   "source": [
    "class Gstring:\n",
    "    def __init__(self, init = None):\n",
    "        self.content = init\n",
    "    \n",
    "    def __sub__(self, sbj):\n",
    "        print (\" '-' operator is called\")\n",
    "    def __isub__(self, sbj):\n",
    "        print (\" '-=' operator is called\")\n",
    "\n",
    "g = Gstring(\"aBcdef\")\n",
    "g - 'a'\n",
    "g -= 'a'"
   ]
  },
  {
   "cell_type": "code",
   "execution_count": 102,
   "metadata": {
    "collapsed": true
   },
   "outputs": [],
   "source": [
    "class Sequencer:\n",
    "    def __init__(self,maxValue):\n",
    "        self.maxValue = maxValue\n",
    "    def __len__(self):\n",
    "        return self.maxValue\n",
    "    def __getitem__(self, index):\n",
    "        if(0 < index <= self.maxValue):\n",
    "            return index * 10\n",
    "        else:\n",
    "            raise IndexError(\"Index out of range\")\n",
    "        \n",
    "    def __contains__(self, item):\n",
    "        return (0 < item <= self.maxValue)\n",
    "    "
   ]
  },
  {
   "cell_type": "code",
   "execution_count": 107,
   "metadata": {},
   "outputs": [
    {
     "name": "stdout",
     "output_type": "stream",
     "text": [
      "10\n",
      "30\n",
      "[10, 20, 30, 40, 50]\n",
      "5\n",
      "True\n",
      "False\n"
     ]
    }
   ],
   "source": [
    "s = Sequencer(5)\n",
    "print (s[1])\n",
    "print (s[3])\n",
    "print ([s[i] for i in range(1,6)])\n",
    "print (len(s))\n",
    "print (3 in s)\n",
    "print (7 in s)"
   ]
  },
  {
   "cell_type": "code",
   "execution_count": 109,
   "metadata": {},
   "outputs": [
    {
     "ename": "IndexError",
     "evalue": "Index out of range",
     "output_type": "error",
     "traceback": [
      "\u001b[0;31m---------------------------------------------------------------------------\u001b[0m",
      "\u001b[0;31mIndexError\u001b[0m                                Traceback (most recent call last)",
      "\u001b[0;32m<ipython-input-109-00f88b0a06f9>\u001b[0m in \u001b[0;36m<module>\u001b[0;34m()\u001b[0m\n\u001b[1;32m      1\u001b[0m \u001b[0;31m# raises error\u001b[0m\u001b[0;34m\u001b[0m\u001b[0;34m\u001b[0m\u001b[0m\n\u001b[0;32m----> 2\u001b[0;31m \u001b[0mprint\u001b[0m \u001b[0;34m(\u001b[0m\u001b[0ms\u001b[0m\u001b[0;34m[\u001b[0m\u001b[0;36m7\u001b[0m\u001b[0;34m]\u001b[0m\u001b[0;34m)\u001b[0m\u001b[0;34m\u001b[0m\u001b[0m\n\u001b[0m",
      "\u001b[0;32m<ipython-input-102-d6f70d54b77c>\u001b[0m in \u001b[0;36m__getitem__\u001b[0;34m(self, index)\u001b[0m\n\u001b[1;32m      8\u001b[0m             \u001b[0;32mreturn\u001b[0m \u001b[0mindex\u001b[0m \u001b[0;34m*\u001b[0m \u001b[0;36m10\u001b[0m\u001b[0;34m\u001b[0m\u001b[0m\n\u001b[1;32m      9\u001b[0m         \u001b[0;32melse\u001b[0m\u001b[0;34m:\u001b[0m\u001b[0;34m\u001b[0m\u001b[0m\n\u001b[0;32m---> 10\u001b[0;31m             \u001b[0;32mraise\u001b[0m \u001b[0mIndexError\u001b[0m\u001b[0;34m(\u001b[0m\u001b[0;34m\"Index out of range\"\u001b[0m\u001b[0;34m)\u001b[0m\u001b[0;34m\u001b[0m\u001b[0m\n\u001b[0m\u001b[1;32m     11\u001b[0m \u001b[0;34m\u001b[0m\u001b[0m\n\u001b[1;32m     12\u001b[0m     \u001b[0;32mdef\u001b[0m \u001b[0m__contains__\u001b[0m\u001b[0;34m(\u001b[0m\u001b[0mself\u001b[0m\u001b[0;34m,\u001b[0m \u001b[0mitem\u001b[0m\u001b[0;34m)\u001b[0m\u001b[0;34m:\u001b[0m\u001b[0;34m\u001b[0m\u001b[0m\n",
      "\u001b[0;31mIndexError\u001b[0m: Index out of range"
     ]
    }
   ],
   "source": [
    " # raises error\n",
    "print (s[7])"
   ]
  },
  {
   "cell_type": "code",
   "execution_count": 110,
   "metadata": {
    "collapsed": true
   },
   "outputs": [],
   "source": [
    "#상속(Heritage)\n",
    "\n",
    "class Person:\n",
    "    \" 부모클래스 \"\n",
    "    def __init__(self, name, phoneN):\n",
    "        self.Name = name\n",
    "        self.PhoneNumber = phoneN\n",
    "        \n",
    "    def PrintInfo(self):\n",
    "        print (\"Info(Name : {0}, Phone Number : {1})\".format(self.Name, self.PhoneNumber))\n",
    "        \n",
    "    def PrintPersonData(self):\n",
    "        print (\"Person(Name : {0}, Phone Number : {1})\".format(self.Name, self.PhoneNumber))\n",
    "\n",
    "class Student(Person):\n",
    "    \" 자식 클래스 \"\n",
    "    def __init__(self, name, phoneN, subject, studentID):\n",
    "        self.Name = name\n",
    "        self.PhoneNumber = phoneN\n",
    "        self.Subject = subject\n",
    "        self.StudentID = studentID\n",
    "        \n",
    "p = Person(\"Derick\", \"010-123-4567\")\n",
    "s = Student(\"Marry\", \"010-654-1234\", \"Computer Science\", \"990999\")\n"
   ]
  },
  {
   "cell_type": "code",
   "execution_count": 112,
   "metadata": {},
   "outputs": [
    {
     "name": "stdout",
     "output_type": "stream",
     "text": [
      "{'Name': 'Derick', 'PhoneNumber': '010-123-4567'}\n",
      "{'Name': 'Marry', 'PhoneNumber': '010-654-1234', 'Subject': 'Computer Science', 'StudentID': '990999'}\n"
     ]
    }
   ],
   "source": [
    "print (p.__dict__)\n",
    "print (s.__dict__)\n"
   ]
  },
  {
   "cell_type": "code",
   "execution_count": 114,
   "metadata": {},
   "outputs": [
    {
     "data": {
      "text/plain": [
       "True"
      ]
     },
     "execution_count": 114,
     "metadata": {},
     "output_type": "execute_result"
    }
   ],
   "source": [
    "issubclass(Student, Person)"
   ]
  },
  {
   "cell_type": "code",
   "execution_count": 115,
   "metadata": {},
   "outputs": [
    {
     "data": {
      "text/plain": [
       "False"
      ]
     },
     "execution_count": 115,
     "metadata": {},
     "output_type": "execute_result"
    }
   ],
   "source": [
    "issubclass(Person, Student)"
   ]
  },
  {
   "cell_type": "code",
   "execution_count": 116,
   "metadata": {},
   "outputs": [
    {
     "data": {
      "text/plain": [
       "True"
      ]
     },
     "execution_count": 116,
     "metadata": {},
     "output_type": "execute_result"
    }
   ],
   "source": [
    "issubclass(Person, Person)"
   ]
  },
  {
   "cell_type": "code",
   "execution_count": 117,
   "metadata": {},
   "outputs": [
    {
     "data": {
      "text/plain": [
       "True"
      ]
     },
     "execution_count": 117,
     "metadata": {},
     "output_type": "execute_result"
    }
   ],
   "source": [
    "issubclass(Person, object)"
   ]
  },
  {
   "cell_type": "code",
   "execution_count": 118,
   "metadata": {},
   "outputs": [
    {
     "data": {
      "text/plain": [
       "True"
      ]
     },
     "execution_count": 118,
     "metadata": {},
     "output_type": "execute_result"
    }
   ],
   "source": [
    "issubclass(Student, object)"
   ]
  },
  {
   "cell_type": "code",
   "execution_count": 119,
   "metadata": {
    "collapsed": true
   },
   "outputs": [],
   "source": [
    "class Dog:\n",
    "    pass\n"
   ]
  },
  {
   "cell_type": "code",
   "execution_count": 120,
   "metadata": {},
   "outputs": [
    {
     "data": {
      "text/plain": [
       "False"
      ]
     },
     "execution_count": 120,
     "metadata": {},
     "output_type": "execute_result"
    }
   ],
   "source": [
    "issubclass(Student, Dog)"
   ]
  },
  {
   "cell_type": "code",
   "execution_count": 122,
   "metadata": {},
   "outputs": [
    {
     "data": {
      "text/plain": [
       "False"
      ]
     },
     "execution_count": 122,
     "metadata": {},
     "output_type": "execute_result"
    }
   ],
   "source": [
    "issubclass(Dog, Person)"
   ]
  },
  {
   "cell_type": "code",
   "execution_count": 123,
   "metadata": {},
   "outputs": [
    {
     "data": {
      "text/plain": [
       "True"
      ]
     },
     "execution_count": 123,
     "metadata": {},
     "output_type": "execute_result"
    }
   ],
   "source": [
    "issubclass(Dog, object)"
   ]
  },
  {
   "cell_type": "code",
   "execution_count": 124,
   "metadata": {},
   "outputs": [
    {
     "data": {
      "text/plain": [
       "(object,)"
      ]
     },
     "execution_count": 124,
     "metadata": {},
     "output_type": "execute_result"
    }
   ],
   "source": [
    "#Check Parent Class.\n",
    "Person.__bases__"
   ]
  },
  {
   "cell_type": "code",
   "execution_count": 125,
   "metadata": {},
   "outputs": [
    {
     "data": {
      "text/plain": [
       "(__main__.Person,)"
      ]
     },
     "execution_count": 125,
     "metadata": {},
     "output_type": "execute_result"
    }
   ],
   "source": [
    "Student.__bases__"
   ]
  },
  {
   "cell_type": "code",
   "execution_count": 135,
   "metadata": {
    "collapsed": true
   },
   "outputs": [],
   "source": [
    "#Call __init__ from parent class\n",
    "#부모 클래스로부터 #부모 클래스로부터 초기화 함수 호출\n",
    "class Student(Person):\n",
    "    \" 자식 클래스\"\n",
    "    def __init__(self, name, phoneN, subject, studentID):\n",
    "        Person.__init__(self, name, phoneN)\n",
    "        self.Subject = subject\n",
    "        self.StudentID = studentID\n",
    "    #Add method\n",
    "    #메서드 추가하기\n",
    "    def PrintStudentData(self):\n",
    "        print(\"Student(Subject : {0}, Student ID: {1})\".format(self.Subject, self.StudentID))\n",
    "        \n",
    "    #Redefine(Modify) method\n",
    "    #메서드 재정의(수정)하기, Method Overriding\n",
    "    # PrintInfo is in thePerson class with only printing Name and PhoneNumbers\n",
    "    # Here method is redefined to printout additional Subject and StudentID\n",
    "    def PrintInfo(self):\n",
    "        print(\"Info(Name: {0}, PhoneNumber : {1})\".format(self.Name, self.PhoneNumber))\n",
    "        print(\"Info(Subject: {0}, StudentID : {1})\".format(self.Subject, self.StudentID))\n",
    "        \n",
    "    #Extend Method (+ alpha)\n",
    "    #메서드 확장하기\n",
    "    #Use the previous method of printing Name and Phone Number, and add functionality\n",
    "    def PrintInfo_ext(self):\n",
    "        Person.PrintInfo(self) # Call method from the Class with \"self\" argument\n",
    "        print(\"Info(Subject: {0}, StudentID : {1})\".format(self.Subject, self.StudentID))\n",
    "        "
   ]
  },
  {
   "cell_type": "code",
   "execution_count": 136,
   "metadata": {},
   "outputs": [
    {
     "name": "stdout",
     "output_type": "stream",
     "text": [
      "Person(Name : Marry, Phone Number : 010-654-1234)\n",
      "Student(Subject : Computer Science, Student ID: 990999)\n"
     ]
    },
    {
     "data": {
      "text/plain": [
       "['Name',\n",
       " 'PhoneNumber',\n",
       " 'PrintInfo',\n",
       " 'PrintInfo_ext',\n",
       " 'PrintPersonData',\n",
       " 'PrintStudentData',\n",
       " 'StudentID',\n",
       " 'Subject',\n",
       " '__class__',\n",
       " '__delattr__',\n",
       " '__dict__',\n",
       " '__dir__',\n",
       " '__doc__',\n",
       " '__eq__',\n",
       " '__format__',\n",
       " '__ge__',\n",
       " '__getattribute__',\n",
       " '__gt__',\n",
       " '__hash__',\n",
       " '__init__',\n",
       " '__init_subclass__',\n",
       " '__le__',\n",
       " '__lt__',\n",
       " '__module__',\n",
       " '__ne__',\n",
       " '__new__',\n",
       " '__reduce__',\n",
       " '__reduce_ex__',\n",
       " '__repr__',\n",
       " '__setattr__',\n",
       " '__sizeof__',\n",
       " '__str__',\n",
       " '__subclasshook__',\n",
       " '__weakref__']"
      ]
     },
     "execution_count": 136,
     "metadata": {},
     "output_type": "execute_result"
    }
   ],
   "source": [
    "#추가된 메서드\n",
    "s = Student(\"Marry\", \"010-654-1234\", \"Computer Science\", \"990999\")\n",
    "s.PrintPersonData()\n",
    "s.PrintStudentData()\n",
    "dir(s)"
   ]
  },
  {
   "cell_type": "code",
   "execution_count": 137,
   "metadata": {},
   "outputs": [
    {
     "name": "stdout",
     "output_type": "stream",
     "text": [
      "Info(Name: Marry, PhoneNumber : 010-654-1234)\n",
      "Info(Subject: Computer Science, StudentID : 990999)\n"
     ]
    }
   ],
   "source": [
    "#메서드 재정의 및 확장\n",
    "s.PrintInfo()"
   ]
  },
  {
   "cell_type": "code",
   "execution_count": 138,
   "metadata": {},
   "outputs": [
    {
     "name": "stdout",
     "output_type": "stream",
     "text": [
      "Info(Name : Marry, Phone Number : 010-654-1234)\n",
      "Info(Subject: Computer Science, StudentID : 990999)\n"
     ]
    }
   ],
   "source": [
    "s.PrintInfo_ext()"
   ]
  },
  {
   "cell_type": "code",
   "execution_count": 139,
   "metadata": {},
   "outputs": [
    {
     "name": "stdout",
     "output_type": "stream",
     "text": [
      "Info(Name : Tim, Phone Number : 010-9876-6543)\n",
      "Info(Name: Marry, PhoneNumber : 010-654-1234)\n",
      "Info(Subject: Computer Science, StudentID : 990999)\n"
     ]
    }
   ],
   "source": [
    "p = Person(\"Tim\", \"010-9876-6543\")\n",
    "PersonList=[p,s]\n",
    "for item in PersonList:\n",
    "    item.PrintInfo()"
   ]
  },
  {
   "cell_type": "code",
   "execution_count": 143,
   "metadata": {},
   "outputs": [
    {
     "name": "stdout",
     "output_type": "stream",
     "text": [
      "{'__module__': '__main__', 'x': 10, 'printX': <function SuperClass.printX at 0x7f97a80bb620>, '__dict__': <attribute '__dict__' of 'SuperClass' objects>, '__weakref__': <attribute '__weakref__' of 'SuperClass' objects>, '__doc__': None}\n",
      "{'__module__': '__main__', 'y': 20, 'printY': <function SubClass.printY at 0x7f97a80bb158>, '__doc__': None}\n"
     ]
    }
   ],
   "source": [
    "#Principle of Inheritance Search\n",
    "#인스턴스 객체 -> 클래스객체 -> 전역\n",
    "#인스턴스 객체 -> 클래스 객체간 상속을통한 영역(자식클래스 -> 부모클래스) -> 전역\n",
    "\n",
    "#자식 클래스가 상속받은 멤버메서드에 대해 재정의 및 할당을 하지 않는 이상, 자식클래스 내부의 이름공간에 해당 메서드와 데이터는\n",
    "# 새로운생성이 아닌, 단순히 부모클래스의 이름공간에 존재하는 데이터와 메서드를 참조.\n",
    "\n",
    "class SuperClass():\n",
    "    x = 10\n",
    "    def printX(self):\n",
    "        print (self.x)\n",
    "\n",
    "class SubClass(SuperClass):\n",
    "    y = 20\n",
    "    def printY(self):\n",
    "        print (self.Y)\n",
    "        \n",
    "print (SuperClass.__dict__)\n",
    "print (SubClass.__dict__)\n"
   ]
  },
  {
   "cell_type": "code",
   "execution_count": 145,
   "metadata": {},
   "outputs": [
    {
     "name": "stdout",
     "output_type": "stream",
     "text": [
      "{'a': 30}\n"
     ]
    }
   ],
   "source": [
    "s = SubClass()\n",
    "s.a = 30\n",
    "print (s.__dict__)"
   ]
  },
  {
   "cell_type": "code",
   "execution_count": 148,
   "metadata": {},
   "outputs": [
    {
     "data": {
      "text/plain": [
       "(__main__.SuperClass,)"
      ]
     },
     "execution_count": 148,
     "metadata": {},
     "output_type": "execute_result"
    }
   ],
   "source": [
    "SubClass.__bases__"
   ]
  },
  {
   "cell_type": "code",
   "execution_count": 149,
   "metadata": {},
   "outputs": [
    {
     "data": {
      "text/plain": [
       "(object,)"
      ]
     },
     "execution_count": 149,
     "metadata": {},
     "output_type": "execute_result"
    }
   ],
   "source": [
    "SuperClass.__bases__"
   ]
  },
  {
   "cell_type": "code",
   "execution_count": 150,
   "metadata": {
    "collapsed": true
   },
   "outputs": [],
   "source": [
    "\n",
    "class SuperClass():\n",
    "    x = 10\n",
    "    def printX(self):\n",
    "        print (self.x)\n",
    "\n",
    "class SubClass(SuperClass):\n",
    "    y = 20\n",
    "    def printX(self):\n",
    "        print (\"SubClass :\", self.X)\n",
    "    def printY(self):\n",
    "        print (self.Y)\n"
   ]
  },
  {
   "cell_type": "code",
   "execution_count": 151,
   "metadata": {
    "collapsed": true
   },
   "outputs": [],
   "source": [
    "s = SubClass()"
   ]
  },
  {
   "cell_type": "code",
   "execution_count": 152,
   "metadata": {
    "collapsed": true
   },
   "outputs": [],
   "source": [
    "s.a = 30\n",
    "s.x = 50"
   ]
  },
  {
   "cell_type": "code",
   "execution_count": 153,
   "metadata": {},
   "outputs": [
    {
     "data": {
      "text/plain": [
       "mappingproxy({'__dict__': <attribute '__dict__' of 'SuperClass' objects>,\n",
       "              '__doc__': None,\n",
       "              '__module__': '__main__',\n",
       "              '__weakref__': <attribute '__weakref__' of 'SuperClass' objects>,\n",
       "              'printX': <function __main__.SuperClass.printX>,\n",
       "              'x': 10})"
      ]
     },
     "execution_count": 153,
     "metadata": {},
     "output_type": "execute_result"
    }
   ],
   "source": [
    "SuperClass.__dict__"
   ]
  },
  {
   "cell_type": "code",
   "execution_count": 154,
   "metadata": {},
   "outputs": [
    {
     "data": {
      "text/plain": [
       "mappingproxy({'__doc__': None,\n",
       "              '__module__': '__main__',\n",
       "              'printX': <function __main__.SubClass.printX>,\n",
       "              'printY': <function __main__.SubClass.printY>,\n",
       "              'y': 20})"
      ]
     },
     "execution_count": 154,
     "metadata": {},
     "output_type": "execute_result"
    }
   ],
   "source": [
    "SubClass.__dict__"
   ]
  },
  {
   "cell_type": "code",
   "execution_count": 155,
   "metadata": {},
   "outputs": [
    {
     "data": {
      "text/plain": [
       "{'a': 30, 'x': 50}"
      ]
     },
     "execution_count": 155,
     "metadata": {},
     "output_type": "execute_result"
    }
   ],
   "source": [
    "s.__dict__"
   ]
  },
  {
   "cell_type": "code",
   "execution_count": 158,
   "metadata": {
    "collapsed": true
   },
   "outputs": [],
   "source": [
    "#Multiple Heritage\n",
    "\n",
    "class Tiger:\n",
    "    def Jump(self):\n",
    "        print (\"Jump like a Tiger!\")\n",
    "    def Cry(self):\n",
    "        print (\"Roar\")\n",
    "class Lion:\n",
    "    def Bite(self):\n",
    "        print (\"Bite like a Lion\")\n",
    "    def Cry(self):\n",
    "        print (\"Growl\")       "
   ]
  },
  {
   "cell_type": "code",
   "execution_count": 160,
   "metadata": {},
   "outputs": [
    {
     "name": "stdout",
     "output_type": "stream",
     "text": [
      "Bite like a Lion\n",
      "Jump like a Tiger!\n",
      "Play Joyful with breeder\n"
     ]
    }
   ],
   "source": [
    "class Liger(Tiger, Lion):\n",
    "    def Play(self):\n",
    "        print (\"Play Joyful with breeder\")\n",
    "        \n",
    "l = Liger()\n",
    "l.Bite()\n",
    "l.Jump()\n",
    "l.Play()"
   ]
  },
  {
   "cell_type": "code",
   "execution_count": 163,
   "metadata": {},
   "outputs": [
    {
     "name": "stdout",
     "output_type": "stream",
     "text": [
      "Roar\n",
      "Growl\n"
     ]
    }
   ],
   "source": [
    "#Overlapping \n",
    "class Liger(Tiger, Lion): #Firstcoming, first search\n",
    "    def Play(self):\n",
    "        print (\"Play Joyful with breeder\")\n",
    "        \n",
    "l = Liger()\n",
    "l.Cry()\n",
    "\n",
    "class Liger(Lion, Tiger):\n",
    "    def Play(self):\n",
    "        print (\"Play Joyful with breeder\")\n",
    "        \n",
    "l = Liger()\n",
    "l.Cry()\n"
   ]
  },
  {
   "cell_type": "code",
   "execution_count": 166,
   "metadata": {},
   "outputs": [
    {
     "name": "stdout",
     "output_type": "stream",
     "text": [
      "Animal __init__()\n",
      "Tiger __init__()\n",
      "Animal __init__()\n",
      "Lion __init__()\n",
      "Liger__init__()\n"
     ]
    },
    {
     "data": {
      "text/plain": [
       "<__main__.Liger at 0x7f97a0fda0f0>"
      ]
     },
     "execution_count": 166,
     "metadata": {},
     "output_type": "execute_result"
    }
   ],
   "source": [
    "#Overlapped Calling for Animal.__init__(self) from Tiger, Lion at time of Each __init__()\n",
    "class Animal:\n",
    "    def __init__(self):\n",
    "        print (\"Animal __init__()\")\n",
    "\n",
    "class Tiger(Animal):\n",
    "    def __init__(self):\n",
    "        Animal.__init__(self)\n",
    "        print (\"Tiger __init__()\")\n",
    "\n",
    "class Lion(Animal):\n",
    "    def __init__(self):\n",
    "        Animal.__init__(self)\n",
    "        print (\"Lion __init__()\")\n",
    "\n",
    "class Liger(Tiger, Lion):\n",
    "    def __init__(self):\n",
    "        Tiger.__init__(self)\n",
    "        Lion.__init__(self)\n",
    "        print (\"Liger__init__()\")\n",
    "\n",
    "l = Liger()\n",
    "l"
   ]
  },
  {
   "cell_type": "code",
   "execution_count": 167,
   "metadata": {
    "scrolled": true
   },
   "outputs": [
    {
     "name": "stdout",
     "output_type": "stream",
     "text": [
      "Animal __init__()\n",
      "Lion __init__()\n",
      "Tiger __init__()\n",
      "Liger__init__()\n"
     ]
    },
    {
     "data": {
      "text/plain": [
       "<__main__.Liger at 0x7f97a8067940>"
      ]
     },
     "execution_count": 167,
     "metadata": {},
     "output_type": "execute_result"
    }
   ],
   "source": [
    "#Overlapped Calling for Animal.__init__(self) from Tiger, Lion at time of Each __init__()\n",
    "class Animal:\n",
    "    def __init__(self):\n",
    "        print (\"Animal __init__()\")\n",
    "\n",
    "class Tiger(Animal):\n",
    "    def __init__(self):\n",
    "        super().__init__() #Animal.__init__(self)\n",
    "        print (\"Tiger __init__()\")\n",
    "\n",
    "class Lion(Animal):\n",
    "    def __init__(self):\n",
    "        super().__init__() #Animal.__init__(self)\n",
    "        print (\"Lion __init__()\")\n",
    "\n",
    "class Liger(Tiger, Lion):\n",
    "    def __init__(self):\n",
    "        \n",
    "        super().__init__()\n",
    "        #Tiger.__init__(self)\n",
    "        #Lion.__init__(self)\n",
    "        print (\"Liger__init__()\")\n",
    "\n",
    "l = Liger()\n",
    "l"
   ]
  },
  {
   "cell_type": "code",
   "execution_count": null,
   "metadata": {
    "collapsed": true
   },
   "outputs": [],
   "source": []
  }
 ],
 "metadata": {
  "kernelspec": {
   "display_name": "Python 3",
   "language": "python",
   "name": "python3"
  },
  "language_info": {
   "codemirror_mode": {
    "name": "ipython",
    "version": 3
   },
   "file_extension": ".py",
   "mimetype": "text/x-python",
   "name": "python",
   "nbconvert_exporter": "python",
   "pygments_lexer": "ipython3",
   "version": "3.6.1"
  }
 },
 "nbformat": 4,
 "nbformat_minor": 2
}
