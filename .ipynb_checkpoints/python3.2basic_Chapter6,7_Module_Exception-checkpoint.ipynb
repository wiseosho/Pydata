{
 "cells": [
  {
   "cell_type": "code",
   "execution_count": 2,
   "metadata": {},
   "outputs": [
    {
     "name": "stdout",
     "output_type": "stream",
     "text": [
      "1024.0\n",
      "4.605170185988092\n",
      "3.141592653589793\n"
     ]
    }
   ],
   "source": [
    "import math\n",
    "print (math.pow(2,10))\n",
    "print (math.log(100))\n",
    "print (math.pi)\n"
   ]
  },
  {
   "cell_type": "code",
   "execution_count": 3,
   "metadata": {},
   "outputs": [
    {
     "data": {
      "text/plain": [
       "['__doc__',\n",
       " '__file__',\n",
       " '__loader__',\n",
       " '__name__',\n",
       " '__package__',\n",
       " '__spec__',\n",
       " 'acos',\n",
       " 'acosh',\n",
       " 'asin',\n",
       " 'asinh',\n",
       " 'atan',\n",
       " 'atan2',\n",
       " 'atanh',\n",
       " 'ceil',\n",
       " 'copysign',\n",
       " 'cos',\n",
       " 'cosh',\n",
       " 'degrees',\n",
       " 'e',\n",
       " 'erf',\n",
       " 'erfc',\n",
       " 'exp',\n",
       " 'expm1',\n",
       " 'fabs',\n",
       " 'factorial',\n",
       " 'floor',\n",
       " 'fmod',\n",
       " 'frexp',\n",
       " 'fsum',\n",
       " 'gamma',\n",
       " 'gcd',\n",
       " 'hypot',\n",
       " 'inf',\n",
       " 'isclose',\n",
       " 'isfinite',\n",
       " 'isinf',\n",
       " 'isnan',\n",
       " 'ldexp',\n",
       " 'lgamma',\n",
       " 'log',\n",
       " 'log10',\n",
       " 'log1p',\n",
       " 'log2',\n",
       " 'modf',\n",
       " 'nan',\n",
       " 'pi',\n",
       " 'pow',\n",
       " 'radians',\n",
       " 'sin',\n",
       " 'sinh',\n",
       " 'sqrt',\n",
       " 'tan',\n",
       " 'tanh',\n",
       " 'tau',\n",
       " 'trunc']"
      ]
     },
     "execution_count": 3,
     "metadata": {},
     "output_type": "execute_result"
    }
   ],
   "source": [
    "dir(math)\n"
   ]
  },
  {
   "cell_type": "code",
   "execution_count": 4,
   "metadata": {},
   "outputs": [
    {
     "data": {
      "text/plain": [
       "'230 Anonymous access granted, restrictions apply'"
      ]
     },
     "execution_count": 4,
     "metadata": {},
     "output_type": "execute_result"
    }
   ],
   "source": [
    "from ftplib import FTP\n",
    "ftp = FTP(\"ftp1.at.proftpd.org\")\n",
    "ftp.login()"
   ]
  },
  {
   "cell_type": "code",
   "execution_count": 5,
   "metadata": {},
   "outputs": [
    {
     "name": "stdout",
     "output_type": "stream",
     "text": [
      "-rw-rw-r--   1 ftp      ftp           451 Jul  1  2005 README.MIRRORS\n",
      "drwxrwxr-x   3 ftp      ftp          4096 Jul  1  2005 devel\n",
      "drwxrwxr-x   3 ftp      ftp          4096 Dec  2  2010 distrib\n",
      "drwxrwxr-x   4 ftp      ftp          4096 Jul  1  2005 historic\n"
     ]
    },
    {
     "data": {
      "text/plain": [
       "'226 Transfer complete'"
      ]
     },
     "execution_count": 5,
     "metadata": {},
     "output_type": "execute_result"
    }
   ],
   "source": [
    "ftp.retrlines('List')"
   ]
  },
  {
   "cell_type": "code",
   "execution_count": 6,
   "metadata": {},
   "outputs": [
    {
     "name": "stdout",
     "output_type": "stream",
     "text": [
      "-rw-rw-r--   1 ftp      ftp           451 Jul  1  2005 README.MIRRORS\n",
      "drwxrwxr-x   3 ftp      ftp          4096 Jul  1  2005 devel\n",
      "drwxrwxr-x   3 ftp      ftp          4096 Dec  2  2010 distrib\n",
      "drwxrwxr-x   4 ftp      ftp          4096 Jul  1  2005 historic\n"
     ]
    }
   ],
   "source": [
    "ftp.dir()"
   ]
  },
  {
   "cell_type": "code",
   "execution_count": 7,
   "metadata": {},
   "outputs": [
    {
     "data": {
      "text/plain": [
       "'221 Goodbye.'"
      ]
     },
     "execution_count": 7,
     "metadata": {},
     "output_type": "execute_result"
    }
   ],
   "source": [
    "ftp.quit()"
   ]
  },
  {
   "cell_type": "code",
   "execution_count": 8,
   "metadata": {
    "collapsed": true
   },
   "outputs": [],
   "source": [
    "import antigravity\n",
    "import os, sys\n"
   ]
  },
  {
   "cell_type": "code",
   "execution_count": 19,
   "metadata": {},
   "outputs": [
    {
     "name": "stdout",
     "output_type": "stream",
     "text": [
      "['', '/home/june/anaconda3/lib/python36.zip', '/home/june/anaconda3/lib/python3.6', '/home/june/anaconda3/lib/python3.6/lib-dynload', '/home/june/anaconda3/lib/python3.6/site-packages', '/home/june/anaconda3/lib/python3.6/site-packages/Sphinx-1.5.6-py3.6.egg', '/home/june/anaconda3/lib/python3.6/site-packages/setuptools-27.2.0-py3.6.egg', '/home/june/anaconda3/lib/python3.6/site-packages/IPython/extensions', '/home/june/.ipython']\n",
      "['', '/home/june/anaconda3/lib/python36.zip', '/home/june/anaconda3/lib/python3.6', '/home/june/anaconda3/lib/python3.6/lib-dynload', '/home/june/anaconda3/lib/python3.6/site-packages', '/home/june/anaconda3/lib/python3.6/site-packages/Sphinx-1.5.6-py3.6.egg', '/home/june/anaconda3/lib/python3.6/site-packages/setuptools-27.2.0-py3.6.egg', '/home/june/anaconda3/lib/python3.6/site-packages/IPython/extensions', '/home/june/.ipython']\n"
     ]
    }
   ],
   "source": [
    "#Search dir for Python module library\n",
    "#Python Module Dir /usr/python/lib\n",
    "print (os.sys.path)\n",
    "print(sys.path) #os.sys.path, sys.path refer to same sites\n",
    "#1. Bash shell에서 명시\n",
    "# Explicit Claim\n",
    "# export PYTHONPATH=$PYTHONPATH:/home/june/mymodulepath\n",
    "#2. Python 내부에서 명시\n",
    "sys.path.append('/home/june/Pydata')\n",
    "#os.sys.path.append('/home/june/Pydata')\n",
    "\n",
    "\n",
    "#Qualification(한정)\n",
    "# Modulename.method\n",
    "\n",
    "#첫 Import 에서 byte code 생성. .pyc, 인터프리터 거치지 않고 실행\n",
    "#\n",
    "\n"
   ]
  },
  {
   "cell_type": "code",
   "execution_count": 28,
   "metadata": {
    "collapsed": true
   },
   "outputs": [],
   "source": [
    "import ch6module as md"
   ]
  },
  {
   "cell_type": "code",
   "execution_count": 26,
   "metadata": {},
   "outputs": [
    {
     "data": {
      "text/plain": [
       "'\\nprint (\"Module version2\")\\ndef hello():\\n        print (\"hellow world\")\\n'"
      ]
     },
     "execution_count": 26,
     "metadata": {},
     "output_type": "execute_result"
    }
   ],
   "source": [
    "'''\n",
    "print (\"Module version2\")\n",
    "def hello():\n",
    "        print (\"hellow world\")\n",
    "'''"
   ]
  },
  {
   "cell_type": "code",
   "execution_count": 29,
   "metadata": {
    "collapsed": true
   },
   "outputs": [],
   "source": [
    "import ch6module as md2 #Imported module is referenced only., not reloaded from the buffer"
   ]
  },
  {
   "cell_type": "code",
   "execution_count": 27,
   "metadata": {},
   "outputs": [
    {
     "data": {
      "text/plain": [
       "'\\nprint (\"Module is imported\")\\nprint (\"Module version2\")\\ndef hello():\\n        print (\"hellow world\")\\n'"
      ]
     },
     "execution_count": 27,
     "metadata": {},
     "output_type": "execute_result"
    }
   ],
   "source": [
    "'''\n",
    "print (\"Module is imported\")\n",
    "print (\"Module version2\")\n",
    "def hello():\n",
    "        print (\"hellow world\")\n",
    "'''"
   ]
  },
  {
   "cell_type": "code",
   "execution_count": 39,
   "metadata": {},
   "outputs": [
    {
     "name": "stdout",
     "output_type": "stream",
     "text": [
      "Module is imported\n",
      "Module version2\n",
      "__name__:  ch6module\n",
      "This module is imported\n"
     ]
    },
    {
     "data": {
      "text/plain": [
       "<module 'ch6module' from '/home/june/Pydata/ch6module.py'>"
      ]
     },
     "execution_count": 39,
     "metadata": {},
     "output_type": "execute_result"
    }
   ],
   "source": [
    "import imp\n",
    "imp.reload(md)\n"
   ]
  },
  {
   "cell_type": "code",
   "execution_count": 36,
   "metadata": {},
   "outputs": [
    {
     "name": "stdout",
     "output_type": "stream",
     "text": [
      "ch6module\n"
     ]
    }
   ],
   "source": [
    "#__main__을 사용한 유용한 팁\n",
    "print (md.__name__ ) #print out module name\n",
    "\n"
   ]
  },
  {
   "cell_type": "code",
   "execution_count": null,
   "metadata": {
    "collapsed": true
   },
   "outputs": [],
   "source": [
    "#if module is run directly, __name__ becomes __main__\n",
    "\n",
    "'''\n",
    "Press ENTER or type command to continue\n",
    "Module is imported\n",
    "Module version2\n",
    "__main__\n",
    "'''"
   ]
  },
  {
   "cell_type": "code",
   "execution_count": 40,
   "metadata": {
    "collapsed": true
   },
   "outputs": [],
   "source": [
    "#Exception : 프로그램의 제어흐름을 조정하기 위해 사용하는 이벤트\n",
    "# Error : 아무런 처리가 되지 않은 Exception\n",
    "# Unhandled Exception :  비정상적인 종료를 일으키는 예외\n",
    "\n",
    "#1. 구문에러( Syntax error)\n",
    "\n"
   ]
  },
  {
   "cell_type": "code",
   "execution_count": null,
   "metadata": {
    "collapsed": true
   },
   "outputs": [],
   "source": [
    "'''\n",
    "try:\n",
    "\n",
    "except <exception type> :\n",
    "\n",
    "except <exception type, exception type2> :\n",
    "\n",
    "except exception as arg :\n",
    "\n",
    "else:\n",
    "\n",
    "finally:\n",
    "\n",
    "'''"
   ]
  },
  {
   "cell_type": "code",
   "execution_count": 42,
   "metadata": {},
   "outputs": [
    {
     "name": "stdout",
     "output_type": "stream",
     "text": [
      "Except is Occured!\n"
     ]
    }
   ],
   "source": [
    "def divide(a, b):\n",
    "    return a/b\n",
    "\n",
    "try:\n",
    "    c = divide(5,0)\n",
    "except:\n",
    "    print ('Except is Occured!')"
   ]
  },
  {
   "cell_type": "code",
   "execution_count": 60,
   "metadata": {},
   "outputs": [
    {
     "name": "stdout",
     "output_type": "stream",
     "text": [
      "('division by zero',)\n",
      "두번째는 0이어서는 안됨\n",
      "항상 finally 블록은 수행됩니다\n",
      "unsupported operand type(s) for /: 'int' and 'str'\n",
      "모든 인자는 숫자\n",
      "항상 finally 블록은 수행됩니다\n",
      "Result: 5.0\n",
      "항상 finally 블록은 수행됩니다\n"
     ]
    }
   ],
   "source": [
    "def cust_ex(ar):\n",
    "\n",
    "    try:\n",
    "        c = divide(5, ar)\n",
    "    except (ZeroDivisionError, OverflowError, FloatingPointError) as Operr: # = except ArithmeticError as Operr:\n",
    "        print (Operr.args)\n",
    "        print ('두번째는 0이어서는 안됨')\n",
    "    except TypeError as e:\n",
    "        print (e.args[0])\n",
    "        print ('모든 인자는 숫자')\n",
    "    except:\n",
    "        print ('모름.ㅋ')\n",
    "    else:\n",
    "        print( 'Result: {0}'.format(c))\n",
    "    finally:\n",
    "        print ('항상 finally 블록은 수행됩니다')\n",
    "        \n",
    "cust_ex(0)\n",
    "cust_ex('string')\n",
    "cust_ex(1)"
   ]
  },
  {
   "cell_type": "code",
   "execution_count": null,
   "metadata": {
    "collapsed": true
   },
   "outputs": [],
   "source": [
    "except ArithmeticError as Operr # 상위클래스 처리시 하위클래스도 이 부분 처리\n",
    "except (ZeroDivisionError, OverflowError, FloatingPointError) as Operr : "
   ]
  },
  {
   "cell_type": "code",
   "execution_count": 61,
   "metadata": {},
   "outputs": [
    {
     "name": "stdout",
     "output_type": "stream",
     "text": [
      "fail to open./test.txt\n"
     ]
    }
   ],
   "source": [
    "FilePath = './test.txt'\n",
    "\n",
    "try:\n",
    "    f = open(FilePath, 'r')\n",
    "    try:\n",
    "        data = f.read(128)\n",
    "        print (data)\n",
    "    finally:\n",
    "        f.close()\n",
    "except IOError:\n",
    "    print (\"fail to open{0}\".format(FilePath))\n",
    "    "
   ]
  },
  {
   "cell_type": "code",
   "execution_count": null,
   "metadata": {
    "collapsed": true
   },
   "outputs": [],
   "source": [
    "#raise 구문. : 인위적으로 Error raise.\n",
    "\n",
    "#raise [Exception]\n",
    "#raise [Exception(data)]\n",
    "#raise\n",
    "\n",
    "def RaiseErrorFunc():\n",
    "    raise NameError\n",
    "\n",
    "try:\n",
    "    RaiseErrorFunc()\n",
    "except:\n",
    "    print (\"NameError is Catched\")\n",
    "    \n",
    "#raise : call exception and go into the except statement"
   ]
  },
  {
   "cell_type": "code",
   "execution_count": null,
   "metadata": {
    "collapsed": true
   },
   "outputs": [],
   "source": [
    "def arithmeticerr(inp):\n",
    "    if type(inp) == str:\n",
    "        raise TypeError\n",
    "    else:\n",
    "        raise ArithmeticError\n",
    "        \n",
    "try:\n",
    "    arithmeticerr('a')\n",
    "except TypeError:\n",
    "    print (\"TypeError Raised\")\n",
    "except ArithmeticError:\n",
    "    print (\"Arithmetic Error raised\")"
   ]
  },
  {
   "cell_type": "code",
   "execution_count": 97,
   "metadata": {
    "collapsed": true
   },
   "outputs": [],
   "source": [
    "def RaiseErrorFunc(ar):\n",
    "\n",
    "    if ar ==0:\n",
    "        raise ArithmeticError(\"{0} is the input\".format(ar))\n",
    "    raise NameError(\"NameError의 인자\")\n",
    "    \n",
    "def PropagateError(x):\n",
    "    try:\n",
    "        RaiseErrorFunc(x)\n",
    "    except ArithmeticError:\n",
    "        print(\"PropagateError 함수에 except 에서 ArithmeticError 받음\")\n",
    "        raise\n",
    "    except NameError as ne:\n",
    "        print (\"NameError : {0}\".format(ne.args[0]))"
   ]
  },
  {
   "cell_type": "code",
   "execution_count": 98,
   "metadata": {},
   "outputs": [
    {
     "name": "stdout",
     "output_type": "stream",
     "text": [
      "PropagateError 함수에 except 에서 ArithmeticError 받음\n"
     ]
    },
    {
     "ename": "ArithmeticError",
     "evalue": "0 is the input",
     "output_type": "error",
     "traceback": [
      "\u001b[0;31m---------------------------------------------------------------------------\u001b[0m",
      "\u001b[0;31mArithmeticError\u001b[0m                           Traceback (most recent call last)",
      "\u001b[0;32m<ipython-input-98-eabb48fdc1fb>\u001b[0m in \u001b[0;36m<module>\u001b[0;34m()\u001b[0m\n\u001b[0;32m----> 1\u001b[0;31m \u001b[0mPropagateError\u001b[0m\u001b[0;34m(\u001b[0m\u001b[0;36m0\u001b[0m\u001b[0;34m)\u001b[0m\u001b[0;34m\u001b[0m\u001b[0m\n\u001b[0m",
      "\u001b[0;32m<ipython-input-97-92f9a9590721>\u001b[0m in \u001b[0;36mPropagateError\u001b[0;34m(x)\u001b[0m\n\u001b[1;32m      7\u001b[0m \u001b[0;32mdef\u001b[0m \u001b[0mPropagateError\u001b[0m\u001b[0;34m(\u001b[0m\u001b[0mx\u001b[0m\u001b[0;34m)\u001b[0m\u001b[0;34m:\u001b[0m\u001b[0;34m\u001b[0m\u001b[0m\n\u001b[1;32m      8\u001b[0m     \u001b[0;32mtry\u001b[0m\u001b[0;34m:\u001b[0m\u001b[0;34m\u001b[0m\u001b[0m\n\u001b[0;32m----> 9\u001b[0;31m         \u001b[0mRaiseErrorFunc\u001b[0m\u001b[0;34m(\u001b[0m\u001b[0mx\u001b[0m\u001b[0;34m)\u001b[0m\u001b[0;34m\u001b[0m\u001b[0m\n\u001b[0m\u001b[1;32m     10\u001b[0m     \u001b[0;32mexcept\u001b[0m \u001b[0mArithmeticError\u001b[0m\u001b[0;34m:\u001b[0m\u001b[0;34m\u001b[0m\u001b[0m\n\u001b[1;32m     11\u001b[0m         \u001b[0mprint\u001b[0m\u001b[0;34m(\u001b[0m\u001b[0;34m\"PropagateError 함수에 except 에서 ArithmeticError 받음\"\u001b[0m\u001b[0;34m)\u001b[0m\u001b[0;34m\u001b[0m\u001b[0m\n",
      "\u001b[0;32m<ipython-input-97-92f9a9590721>\u001b[0m in \u001b[0;36mRaiseErrorFunc\u001b[0;34m(ar)\u001b[0m\n\u001b[1;32m      2\u001b[0m \u001b[0;34m\u001b[0m\u001b[0m\n\u001b[1;32m      3\u001b[0m     \u001b[0;32mif\u001b[0m \u001b[0mar\u001b[0m \u001b[0;34m==\u001b[0m\u001b[0;36m0\u001b[0m\u001b[0;34m:\u001b[0m\u001b[0;34m\u001b[0m\u001b[0m\n\u001b[0;32m----> 4\u001b[0;31m         \u001b[0;32mraise\u001b[0m \u001b[0mArithmeticError\u001b[0m\u001b[0;34m(\u001b[0m\u001b[0;34m\"{0} is the input\"\u001b[0m\u001b[0;34m.\u001b[0m\u001b[0mformat\u001b[0m\u001b[0;34m(\u001b[0m\u001b[0mar\u001b[0m\u001b[0;34m)\u001b[0m\u001b[0;34m)\u001b[0m\u001b[0;34m\u001b[0m\u001b[0m\n\u001b[0m\u001b[1;32m      5\u001b[0m     \u001b[0;32mraise\u001b[0m \u001b[0mNameError\u001b[0m\u001b[0;34m(\u001b[0m\u001b[0;34m\"NameError의 인자\"\u001b[0m\u001b[0;34m)\u001b[0m\u001b[0;34m\u001b[0m\u001b[0m\n\u001b[1;32m      6\u001b[0m \u001b[0;34m\u001b[0m\u001b[0m\n",
      "\u001b[0;31mArithmeticError\u001b[0m: 0 is the input"
     ]
    }
   ],
   "source": [
    "PropagateError(0)"
   ]
  },
  {
   "cell_type": "code",
   "execution_count": 99,
   "metadata": {},
   "outputs": [
    {
     "name": "stdout",
     "output_type": "stream",
     "text": [
      "NameError : NameError의 인자\n"
     ]
    }
   ],
   "source": [
    "PropagateError('d')"
   ]
  },
  {
   "cell_type": "code",
   "execution_count": 74,
   "metadata": {},
   "outputs": [
    {
     "name": "stdout",
     "output_type": "stream",
     "text": [
      "Err - 2nd Arg of Pos divide is  -3\n"
     ]
    }
   ],
   "source": [
    "#사용자 정의 예외\n",
    "#User defined Exception\n",
    "#Exception is defined with class ingeriting from Exception class\n",
    "#argument is passed into the self.value at the __init__()\n",
    "\n",
    "class NegativeDivisionError(Exception): # Inherit from Exception Class\n",
    "    def __init__(self, value):\n",
    "        self.value = value\n",
    "\n",
    "def posD(a, b):\n",
    "    if(b < 0): #0보다 작은경우, Negative Division Error\n",
    "        raise NegativeDivisionError(b)\n",
    "    return a / b\n",
    "\n",
    "try:\n",
    "    ret = posD(10,-3)\n",
    "    print ('10/3 = {0}'.format(ret))\n",
    "    \n",
    "except NegativeDivisionError as e:\n",
    "    print('Err - 2nd Arg of Pos divide is ', e.value)\n",
    "    \n",
    "except ZeroDivisionError as e:\n",
    "    print('Error - ', e.args[0])\n",
    "\n",
    "except :\n",
    "    print(\"Unexpected exception!\")\n",
    "    \n",
    "    "
   ]
  },
  {
   "cell_type": "code",
   "execution_count": 76,
   "metadata": {},
   "outputs": [],
   "source": [
    "#Assert 구문\n",
    "# raise AssertionError with condition\n",
    "# assert cond, data\n",
    "'''\n",
    "if __debug__:\n",
    "    if not cond:\n",
    "        raise AssertionError( data )\n",
    "'''\n",
    "def foo(x):\n",
    "    assert type(x) == int, \"Input value must be integer\"\n",
    "    return x*10"
   ]
  },
  {
   "cell_type": "code",
   "execution_count": 77,
   "metadata": {},
   "outputs": [
    {
     "ename": "AssertionError",
     "evalue": "Input value must be integer",
     "output_type": "error",
     "traceback": [
      "\u001b[0;31m---------------------------------------------------------------------------\u001b[0m",
      "\u001b[0;31mAssertionError\u001b[0m                            Traceback (most recent call last)",
      "\u001b[0;32m<ipython-input-77-8da878cf5cf4>\u001b[0m in \u001b[0;36m<module>\u001b[0;34m()\u001b[0m\n\u001b[0;32m----> 1\u001b[0;31m \u001b[0mret\u001b[0m \u001b[0;34m=\u001b[0m \u001b[0mfoo\u001b[0m\u001b[0;34m(\u001b[0m\u001b[0;34m'a'\u001b[0m\u001b[0;34m)\u001b[0m\u001b[0;34m\u001b[0m\u001b[0m\n\u001b[0m",
      "\u001b[0;32m<ipython-input-76-dea7e5b8c2eb>\u001b[0m in \u001b[0;36mfoo\u001b[0;34m(x)\u001b[0m\n\u001b[1;32m      8\u001b[0m '''\n\u001b[1;32m      9\u001b[0m \u001b[0;32mdef\u001b[0m \u001b[0mfoo\u001b[0m\u001b[0;34m(\u001b[0m\u001b[0mx\u001b[0m\u001b[0;34m)\u001b[0m\u001b[0;34m:\u001b[0m\u001b[0;34m\u001b[0m\u001b[0m\n\u001b[0;32m---> 10\u001b[0;31m     \u001b[0;32massert\u001b[0m \u001b[0mtype\u001b[0m\u001b[0;34m(\u001b[0m\u001b[0mx\u001b[0m\u001b[0;34m)\u001b[0m \u001b[0;34m==\u001b[0m \u001b[0mint\u001b[0m\u001b[0;34m,\u001b[0m \u001b[0;34m\"Input value must be integer\"\u001b[0m\u001b[0;34m\u001b[0m\u001b[0m\n\u001b[0m\u001b[1;32m     11\u001b[0m     \u001b[0;32mreturn\u001b[0m \u001b[0mx\u001b[0m\u001b[0;34m*\u001b[0m\u001b[0;36m10\u001b[0m\u001b[0;34m\u001b[0m\u001b[0m\n",
      "\u001b[0;31mAssertionError\u001b[0m: Input value must be integer"
     ]
    }
   ],
   "source": [
    "ret = foo('a')"
   ]
  },
  {
   "cell_type": "code",
   "execution_count": null,
   "metadata": {
    "collapsed": true
   },
   "outputs": [],
   "source": []
  }
 ],
 "metadata": {
  "kernelspec": {
   "display_name": "Python 3",
   "language": "python",
   "name": "python3"
  },
  "language_info": {
   "codemirror_mode": {
    "name": "ipython",
    "version": 3
   },
   "file_extension": ".py",
   "mimetype": "text/x-python",
   "name": "python",
   "nbconvert_exporter": "python",
   "pygments_lexer": "ipython3",
   "version": "3.6.1"
  }
 },
 "nbformat": 4,
 "nbformat_minor": 2
}
