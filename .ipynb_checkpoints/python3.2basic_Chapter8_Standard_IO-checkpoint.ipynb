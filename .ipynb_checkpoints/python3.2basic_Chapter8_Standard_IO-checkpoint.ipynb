{
 "cells": [
  {
   "cell_type": "code",
   "execution_count": 3,
   "metadata": {},
   "outputs": [
    {
     "name": "stdout",
     "output_type": "stream",
     "text": [
      "hello\n",
      "\n"
     ]
    }
   ],
   "source": [
    "#print\n",
    "a = 'hello\\n'\n",
    "print (a)"
   ]
  },
  {
   "cell_type": "code",
   "execution_count": 4,
   "metadata": {},
   "outputs": [
    {
     "data": {
      "text/plain": [
       "\"'hello\\\\n'\""
      ]
     },
     "execution_count": 4,
     "metadata": {},
     "output_type": "execute_result"
    }
   ],
   "source": [
    "a = repr('hello\\n')\n",
    "a"
   ]
  },
  {
   "cell_type": "code",
   "execution_count": 2,
   "metadata": {},
   "outputs": [
    {
     "name": "stdout",
     "output_type": "stream",
     "text": [
      "'hello\\n'\n"
     ]
    }
   ],
   "source": [
    "print (a)"
   ]
  },
  {
   "cell_type": "code",
   "execution_count": null,
   "metadata": {
    "collapsed": true
   },
   "outputs": [],
   "source": [
    "x = 0.2\n",
    "print (x, 'test')\n",
    "print (str(x) + 'test') # + operation same type"
   ]
  },
  {
   "cell_type": "code",
   "execution_count": 14,
   "metadata": {},
   "outputs": [
    {
     "name": "stdout",
     "output_type": "stream",
     "text": [
      "welcome to  ~ python!\n",
      "welcome to  ~ python!\n"
     ]
    },
    {
     "name": "stderr",
     "output_type": "stream",
     "text": [
      "welcome to  ~ python!"
     ]
    }
   ],
   "source": [
    "import sys\n",
    "print (\"welcome to \", \"python\", sep= \" ~ \", end = \"!\\n\")#, file = sys.stderr)\n",
    "print (\"welcome to \", \"python\", sep= \" ~ \", end = \"!\", file = sys.stderr)\n",
    "print (\"welcome to \", \"python\", sep= \" ~ \", end = \"!\\n\", file = sys.stdout)"
   ]
  },
  {
   "cell_type": "code",
   "execution_count": 17,
   "metadata": {},
   "outputs": [
    {
     "name": "stdout",
     "output_type": "stream",
     "text": [
      "file write\n",
      "\n"
     ]
    }
   ],
   "source": [
    "f = open('test.txt', 'w')\n",
    "print ('file write', file = f)\n",
    "f.close()\n",
    "f = open('test.txt', 'r')\n",
    "print (f.readline())\n",
    "f.close()"
   ]
  },
  {
   "cell_type": "code",
   "execution_count": 18,
   "metadata": {},
   "outputs": [
    {
     "name": "stdout",
     "output_type": "stream",
     "text": [
      "1 * 1 = 1\n",
      "2 * 2 = 4\n",
      "3 * 3 = 9\n",
      "4 * 4 = 16\n",
      "5 * 5 = 25\n"
     ]
    }
   ],
   "source": [
    "for x in range(1, 6):\n",
    "    print (x, '*', x, '=', x*x)"
   ]
  },
  {
   "cell_type": "code",
   "execution_count": 22,
   "metadata": {},
   "outputs": [
    {
     "name": "stdout",
     "output_type": "stream",
     "text": [
      "1 * 1 =   1\n",
      "2 * 2 =   4\n",
      "3 * 3 =   9\n",
      "4 * 4 =  16\n",
      "5 * 5 =  25\n",
      "     right\n",
      "right\n"
     ]
    }
   ],
   "source": [
    "for x in range(1, 6):\n",
    "    print (x, '*', x, '=', str(x*x).rjust(3)) # Right aligned with total width of 3\n",
    "\n",
    "print ('right'.rjust(10))\n",
    "print ('right'.rjust(1)) #Ignored , 1<5"
   ]
  },
  {
   "cell_type": "code",
   "execution_count": 24,
   "metadata": {},
   "outputs": [
    {
     "name": "stdout",
     "output_type": "stream",
     "text": [
      "1 * 1 = 1    \n",
      "2 * 2 = 4    \n",
      "3 * 3 = 9    \n",
      "4 * 4 = 16   \n",
      "5 * 5 = 25   \n"
     ]
    }
   ],
   "source": [
    "for x in range(1, 6):\n",
    "    print (x, '*', x, '=', str(x*x).ljust(5))\n",
    "    "
   ]
  },
  {
   "cell_type": "code",
   "execution_count": 28,
   "metadata": {},
   "outputs": [
    {
     "name": "stdout",
     "output_type": "stream",
     "text": [
      "1 * 1 =   1  \n",
      "2 * 2 =   4  \n",
      "3 * 3 =   9  \n",
      "4 * 4 =   16 \n",
      "5 * 5 =   25 \n",
      "6 * 6 =   36 \n",
      "7 * 7 =   49 \n",
      "8 * 8 =   64 \n",
      "9 * 9 =   81 \n",
      "10 * 10 =  100 \n",
      "11 * 11 =  121 \n",
      "12 * 12 =  144 \n",
      "13 * 13 =  169 \n",
      "14 * 14 =  196 \n",
      "15 * 15 =  225 \n",
      "16 * 16 =  256 \n",
      "17 * 17 =  289 \n",
      "18 * 18 =  324 \n",
      "19 * 19 =  361 \n",
      "20 * 20 =  400 \n",
      "21 * 21 =  441 \n",
      "22 * 22 =  484 \n",
      "23 * 23 =  529 \n",
      "24 * 24 =  576 \n"
     ]
    }
   ],
   "source": [
    "for x in range(1, 25):\n",
    "    print (x, '*', x, '=', str(x*x).center(5))"
   ]
  },
  {
   "cell_type": "code",
   "execution_count": 29,
   "metadata": {},
   "outputs": [
    {
     "name": "stdout",
     "output_type": "stream",
     "text": [
      "1 * 1 = 001\n",
      "2 * 2 = 004\n",
      "3 * 3 = 009\n",
      "4 * 4 = 016\n",
      "5 * 5 = 025\n"
     ]
    }
   ],
   "source": [
    "for x in range(1, 6):\n",
    "    print (x, '*', x, '=', str(x*x).zfill(3)) #filling zeros"
   ]
  },
  {
   "cell_type": "code",
   "execution_count": null,
   "metadata": {
    "collapsed": true
   },
   "outputs": [],
   "source": [
    "#Formatting\n",
    "\n",
    "print (\"{0} is {1}\".format('apple', 'red'))\n",
    "print (\"{0} is {1} or {2}\".format(\"apple\", \"red\", \"green\"))"
   ]
  },
  {
   "cell_type": "code",
   "execution_count": 30,
   "metadata": {},
   "outputs": [
    {
     "name": "stdout",
     "output_type": "stream",
     "text": [
      "apple is red\n",
      "apple is red or green\n",
      "apple is red\n"
     ]
    }
   ],
   "source": [
    "#Key - value  specification\n",
    "print (\"{item} is {color}\".format(item=\"apple\", color = \"red\"))"
   ]
  },
  {
   "cell_type": "code",
   "execution_count": 35,
   "metadata": {},
   "outputs": [
    {
     "name": "stdout",
     "output_type": "stream",
     "text": [
      "apple is red\n",
      "apple is red\n"
     ]
    }
   ],
   "source": [
    "#Dict indexing\n",
    "dic = {\"item\":\"apple\", \"color\":\"red\"}\n",
    "print (\"{0[item]} is {0[color]}\".format(dic))\n",
    "#Directly specify argument is one dict\n",
    "print (\"{item} is {color}\".format(**dic))"
   ]
  },
  {
   "cell_type": "code",
   "execution_count": 40,
   "metadata": {},
   "outputs": [
    {
     "name": "stdout",
     "output_type": "stream",
     "text": [
      "apple is red\n",
      "apple is red\n"
     ]
    }
   ],
   "source": [
    "#Organize into the dictionary with current name space variables.\n",
    "locals()\n",
    "item = \"apple\"\n",
    "color = \"red\"\n",
    "print (\"{0[item]} is {0[color]}\".format(locals())) # dict object as it is, {0[]}\n",
    "print (\"{item} is {color}\".format(**locals())) # referece to the dict object , {}\n"
   ]
  },
  {
   "cell_type": "code",
   "execution_count": 41,
   "metadata": {},
   "outputs": [
    {
     "name": "stdout",
     "output_type": "stream",
     "text": [
      "apple is red\n",
      "'apple' is 'red'\n",
      "'apple' is 'red'\n"
     ]
    }
   ],
   "source": [
    "print (\"{item!s} is {color!s}\".format(**dic)) # !s -> str()\n",
    "print (\"{item!r} is {color!r}\".format(**dic)) # !r -> repr()\n",
    "print (\"{item!a} is {color!a}\".format(**dic)) # !a -> ascii()"
   ]
  },
  {
   "cell_type": "code",
   "execution_count": 42,
   "metadata": {},
   "outputs": [
    {
     "data": {
      "text/plain": [
       "'test'"
      ]
     },
     "execution_count": 42,
     "metadata": {},
     "output_type": "execute_result"
    }
   ],
   "source": [
    "eval(repr('test'))"
   ]
  },
  {
   "cell_type": "code",
   "execution_count": 43,
   "metadata": {},
   "outputs": [
    {
     "ename": "NameError",
     "evalue": "name 'test' is not defined",
     "output_type": "error",
     "traceback": [
      "\u001b[0;31m---------------------------------------------------------------------------\u001b[0m",
      "\u001b[0;31mNameError\u001b[0m                                 Traceback (most recent call last)",
      "\u001b[0;32m<ipython-input-43-9d640409af65>\u001b[0m in \u001b[0;36m<module>\u001b[0;34m()\u001b[0m\n\u001b[0;32m----> 1\u001b[0;31m \u001b[0meval\u001b[0m\u001b[0;34m(\u001b[0m\u001b[0mstr\u001b[0m\u001b[0;34m(\u001b[0m\u001b[0;34m'test'\u001b[0m\u001b[0;34m)\u001b[0m\u001b[0;34m)\u001b[0m\u001b[0;34m\u001b[0m\u001b[0m\n\u001b[0m",
      "\u001b[0;32m<string>\u001b[0m in \u001b[0;36m<module>\u001b[0;34m()\u001b[0m\n",
      "\u001b[0;31mNameError\u001b[0m: name 'test' is not defined"
     ]
    }
   ],
   "source": [
    "eval(str('test'))"
   ]
  },
  {
   "cell_type": "code",
   "execution_count": 44,
   "metadata": {},
   "outputs": [
    {
     "data": {
      "text/plain": [
       "\"'파이썬test'\""
      ]
     },
     "execution_count": 44,
     "metadata": {},
     "output_type": "execute_result"
    }
   ],
   "source": [
    "repr('파이썬test')\n"
   ]
  },
  {
   "cell_type": "code",
   "execution_count": 45,
   "metadata": {},
   "outputs": [
    {
     "data": {
      "text/plain": [
       "\"'\\\\ud30c\\\\uc774\\\\uc36ctest'\""
      ]
     },
     "execution_count": 45,
     "metadata": {},
     "output_type": "execute_result"
    }
   ],
   "source": [
    "ascii('파이썬test')"
   ]
  },
  {
   "cell_type": "code",
   "execution_count": 46,
   "metadata": {},
   "outputs": [
    {
     "data": {
      "text/plain": [
       "'파이썬test'"
      ]
     },
     "execution_count": 46,
     "metadata": {},
     "output_type": "execute_result"
    }
   ],
   "source": [
    "eval(repr('파이썬test'))"
   ]
  },
  {
   "cell_type": "code",
   "execution_count": 47,
   "metadata": {},
   "outputs": [
    {
     "data": {
      "text/plain": [
       "'파이썬test'"
      ]
     },
     "execution_count": 47,
     "metadata": {},
     "output_type": "execute_result"
    }
   ],
   "source": [
    "eval(ascii('파이썬test'))"
   ]
  },
  {
   "cell_type": "code",
   "execution_count": 59,
   "metadata": {},
   "outputs": [
    {
     "name": "stdout",
     "output_type": "stream",
     "text": [
      "[5, 4, 3, 2, 1]\n",
      "[5, 4, 3, 2, 1]\n",
      "5\n",
      "5\n",
      "3\n"
     ]
    }
   ],
   "source": [
    "numbers = [5,4,3,2,1]\n",
    "print (vars()['numbers'])\n",
    "print ('{numbers}'.format(**vars()))\n",
    "print ('{numbers[0]}'.format(**vars()))\n",
    "print ('{numbers[0]}'.format(**locals()))\n",
    "print ('{numbers[2]}'.format(**vars()))"
   ]
  },
  {
   "cell_type": "code",
   "execution_count": 60,
   "metadata": {},
   "outputs": [
    {
     "name": "stdout",
     "output_type": "stream",
     "text": [
      "0.14\n"
     ]
    }
   ],
   "source": [
    "class foo:\n",
    "    var = 0.14\n",
    "\n",
    "f = foo()\n",
    "print (\"{f.var}\".format(**vars()))\n"
   ]
  },
  {
   "cell_type": "code",
   "execution_count": 76,
   "metadata": {},
   "outputs": [
    {
     "name": "stdout",
     "output_type": "stream",
     "text": [
      "$$$10\n",
      "+$$10\n",
      "$$+10\n",
      "$$+10\n",
      "$$-10\n",
      "$$$10\n",
      "$$-10\n",
      "$$ 10\n",
      "$$-10\n"
     ]
    }
   ],
   "source": [
    "print (\"{0:$>5}\".format(10))\n",
    "print (\"{0:$=+5}\".format(10))\n",
    "print (\"{0:$>+5}\".format(10))\n",
    "\n",
    "print (\"{0:$>+5}\".format(10)) # + 표시됨\n",
    "print (\"{0:$>+5}\".format(-10)) #- 표시됨\n",
    "\n",
    "print (\"{0:$>-5}\".format(10)) # + 표시안됨\n",
    "print (\"{0:$>-5}\".format(-10)) # - 표시됨\n",
    "\n",
    "\n",
    "print (\"{0:$> 5}\".format(10))\n",
    "print (\"{0:$> 5}\".format(-10))"
   ]
  },
  {
   "cell_type": "code",
   "execution_count": 83,
   "metadata": {},
   "outputs": [
    {
     "name": "stdout",
     "output_type": "stream",
     "text": [
      "a\n",
      "A\n",
      "1010\n",
      "12\n",
      "A\n",
      "0xa, 0o12, 0b1010\n"
     ]
    }
   ],
   "source": [
    "print (\"{0:x}\".format(10)) #hex\n",
    "print (\"{0:X}\".format(10)) #hex\n",
    "print (\"{0:b}\".format(10)) #binary , :d decimal\n",
    "print (\"{0:o}\".format(10)) #octal\n",
    "print (\"{0:c}\".format(65)) #character\n",
    "\n",
    "print (\"{0:#x}, {0:#o}, {0:#b}\".format(10))\n"
   ]
  },
  {
   "cell_type": "code",
   "execution_count": 84,
   "metadata": {},
   "outputs": [
    {
     "name": "stdout",
     "output_type": "stream",
     "text": [
      "1.333333e+00\n",
      "1.333333\n",
      "133.333333%\n"
     ]
    }
   ],
   "source": [
    "print (\"{0:e}\".format(4/3))\n",
    "print (\"{0:f}\".format(4/3))\n",
    "print (\"{0:%}\".format(4/3))"
   ]
  },
  {
   "cell_type": "code",
   "execution_count": 90,
   "metadata": {},
   "outputs": [
    {
     "name": "stdout",
     "output_type": "stream",
     "text": [
      "1.333\n"
     ]
    }
   ],
   "source": [
    "print (\"{0:4.3f}\".format(4/3))"
   ]
  },
  {
   "cell_type": "code",
   "execution_count": 94,
   "metadata": {},
   "outputs": [
    {
     "name": "stdout",
     "output_type": "stream",
     "text": [
      "the value is 38.\n",
      "the value is 4.30.\n",
      "the value is String.\n"
     ]
    }
   ],
   "source": [
    "#Python 2.x formatting\n",
    "print (\"the value is %d.\" %38)\n",
    "print (\"the value is %4.2f.\" %4.3)\n",
    "print (\"the value is %s.\" %(\"String\"))"
   ]
  },
  {
   "cell_type": "code",
   "execution_count": 95,
   "metadata": {},
   "outputs": [
    {
     "name": "stdout",
     "output_type": "stream",
     "text": [
      "insert any keys: a\n",
      "a\n"
     ]
    }
   ],
   "source": [
    "a = input('insert any keys: ')\n",
    "print (a)"
   ]
  },
  {
   "cell_type": "code",
   "execution_count": 96,
   "metadata": {
    "collapsed": true
   },
   "outputs": [],
   "source": [
    "#File IO\n",
    "\n",
    "f = open('test.txt', 'w')\n",
    "f.write('plow deep \\nwhile sluggards sleep')\n",
    "f.close()"
   ]
  },
  {
   "cell_type": "code",
   "execution_count": 98,
   "metadata": {},
   "outputs": [
    {
     "name": "stdout",
     "output_type": "stream",
     "text": [
      "plow deep \n",
      "while sluggards sleep\n"
     ]
    },
    {
     "data": {
      "text/plain": [
       "True"
      ]
     },
     "execution_count": 98,
     "metadata": {},
     "output_type": "execute_result"
    }
   ],
   "source": [
    "f = open('test.txt')\n",
    "print (f.read())\n",
    "f.close()\n",
    "f.closed"
   ]
  },
  {
   "cell_type": "code",
   "execution_count": 99,
   "metadata": {},
   "outputs": [
    {
     "ename": "UnicodeDecodeError",
     "evalue": "'utf-8' codec can't decode byte 0xff in position 0: invalid start byte",
     "output_type": "error",
     "traceback": [
      "\u001b[0;31m---------------------------------------------------------------------------\u001b[0m",
      "\u001b[0;31mUnicodeDecodeError\u001b[0m                        Traceback (most recent call last)",
      "\u001b[0;32m<ipython-input-99-cd9191174d38>\u001b[0m in \u001b[0;36m<module>\u001b[0;34m()\u001b[0m\n\u001b[1;32m      1\u001b[0m \u001b[0mf\u001b[0m \u001b[0;34m=\u001b[0m \u001b[0mopen\u001b[0m\u001b[0;34m(\u001b[0m\u001b[0;34m'Canon_cp.mp3'\u001b[0m\u001b[0;34m,\u001b[0m \u001b[0;34m'w'\u001b[0m\u001b[0;34m)\u001b[0m\u001b[0;34m\u001b[0m\u001b[0m\n\u001b[0;32m----> 2\u001b[0;31m \u001b[0mf\u001b[0m\u001b[0;34m.\u001b[0m\u001b[0mwrite\u001b[0m\u001b[0;34m(\u001b[0m\u001b[0mopen\u001b[0m\u001b[0;34m(\u001b[0m\u001b[0;34m'Canon.mp3'\u001b[0m\u001b[0;34m,\u001b[0m \u001b[0;34m'r'\u001b[0m\u001b[0;34m)\u001b[0m\u001b[0;34m.\u001b[0m\u001b[0mread\u001b[0m\u001b[0;34m(\u001b[0m\u001b[0;34m)\u001b[0m\u001b[0;34m)\u001b[0m\u001b[0;34m\u001b[0m\u001b[0m\n\u001b[0m\u001b[1;32m      3\u001b[0m \u001b[0;34m\u001b[0m\u001b[0m\n",
      "\u001b[0;32m/home/june/anaconda3/lib/python3.6/codecs.py\u001b[0m in \u001b[0;36mdecode\u001b[0;34m(self, input, final)\u001b[0m\n\u001b[1;32m    319\u001b[0m         \u001b[0;31m# decode input (taking the buffer into account)\u001b[0m\u001b[0;34m\u001b[0m\u001b[0;34m\u001b[0m\u001b[0m\n\u001b[1;32m    320\u001b[0m         \u001b[0mdata\u001b[0m \u001b[0;34m=\u001b[0m \u001b[0mself\u001b[0m\u001b[0;34m.\u001b[0m\u001b[0mbuffer\u001b[0m \u001b[0;34m+\u001b[0m \u001b[0minput\u001b[0m\u001b[0;34m\u001b[0m\u001b[0m\n\u001b[0;32m--> 321\u001b[0;31m         \u001b[0;34m(\u001b[0m\u001b[0mresult\u001b[0m\u001b[0;34m,\u001b[0m \u001b[0mconsumed\u001b[0m\u001b[0;34m)\u001b[0m \u001b[0;34m=\u001b[0m \u001b[0mself\u001b[0m\u001b[0;34m.\u001b[0m\u001b[0m_buffer_decode\u001b[0m\u001b[0;34m(\u001b[0m\u001b[0mdata\u001b[0m\u001b[0;34m,\u001b[0m \u001b[0mself\u001b[0m\u001b[0;34m.\u001b[0m\u001b[0merrors\u001b[0m\u001b[0;34m,\u001b[0m \u001b[0mfinal\u001b[0m\u001b[0;34m)\u001b[0m\u001b[0;34m\u001b[0m\u001b[0m\n\u001b[0m\u001b[1;32m    322\u001b[0m         \u001b[0;31m# keep undecoded input until the next call\u001b[0m\u001b[0;34m\u001b[0m\u001b[0;34m\u001b[0m\u001b[0m\n\u001b[1;32m    323\u001b[0m         \u001b[0mself\u001b[0m\u001b[0;34m.\u001b[0m\u001b[0mbuffer\u001b[0m \u001b[0;34m=\u001b[0m \u001b[0mdata\u001b[0m\u001b[0;34m[\u001b[0m\u001b[0mconsumed\u001b[0m\u001b[0;34m:\u001b[0m\u001b[0;34m]\u001b[0m\u001b[0;34m\u001b[0m\u001b[0m\n",
      "\u001b[0;31mUnicodeDecodeError\u001b[0m: 'utf-8' codec can't decode byte 0xff in position 0: invalid start byte"
     ]
    }
   ],
   "source": [
    "f = open('Canon_cp.mp3', 'w')\n",
    "f.write(open('Canon.mp3', 'r').read())\n",
    "\n"
   ]
  },
  {
   "cell_type": "code",
   "execution_count": 103,
   "metadata": {},
   "outputs": [],
   "source": [
    "f = open('Canon_cp.mp3','wb')\n",
    "f.write(open('Canon.mp3','rb').read())\n",
    "f.close()"
   ]
  },
  {
   "cell_type": "code",
   "execution_count": 108,
   "metadata": {},
   "outputs": [
    {
     "data": {
      "text/plain": [
       "b''"
      ]
     },
     "execution_count": 108,
     "metadata": {},
     "output_type": "execute_result"
    }
   ],
   "source": [
    "f = open('Canon.mp3', 'rb')\n",
    "f.read()"
   ]
  },
  {
   "cell_type": "code",
   "execution_count": 110,
   "metadata": {},
   "outputs": [
    {
     "data": {
      "text/plain": [
       "'plow deep \\nwhile sluggards sleep'"
      ]
     },
     "execution_count": 110,
     "metadata": {},
     "output_type": "execute_result"
    }
   ],
   "source": [
    "f = open('test.txt')\n",
    "f.read()"
   ]
  },
  {
   "cell_type": "code",
   "execution_count": 111,
   "metadata": {},
   "outputs": [
    {
     "data": {
      "text/plain": [
       "''"
      ]
     },
     "execution_count": 111,
     "metadata": {},
     "output_type": "execute_result"
    }
   ],
   "source": [
    "f.read()"
   ]
  },
  {
   "cell_type": "code",
   "execution_count": 113,
   "metadata": {},
   "outputs": [
    {
     "data": {
      "text/plain": [
       "32"
      ]
     },
     "execution_count": 113,
     "metadata": {},
     "output_type": "execute_result"
    }
   ],
   "source": [
    "f.tell()"
   ]
  },
  {
   "cell_type": "code",
   "execution_count": 114,
   "metadata": {},
   "outputs": [
    {
     "data": {
      "text/plain": [
       "0"
      ]
     },
     "execution_count": 114,
     "metadata": {},
     "output_type": "execute_result"
    }
   ],
   "source": [
    "f.seek(0)"
   ]
  },
  {
   "cell_type": "code",
   "execution_count": 116,
   "metadata": {},
   "outputs": [
    {
     "data": {
      "text/plain": [
       "'plow deep \\nwhile sluggards sleep'"
      ]
     },
     "execution_count": 116,
     "metadata": {},
     "output_type": "execute_result"
    }
   ],
   "source": [
    "f.read()"
   ]
  },
  {
   "cell_type": "code",
   "execution_count": 117,
   "metadata": {},
   "outputs": [
    {
     "data": {
      "text/plain": [
       "0"
      ]
     },
     "execution_count": 117,
     "metadata": {},
     "output_type": "execute_result"
    }
   ],
   "source": [
    "f.seek(0)"
   ]
  },
  {
   "cell_type": "code",
   "execution_count": 118,
   "metadata": {},
   "outputs": [
    {
     "data": {
      "text/plain": [
       "'plow deep \\n'"
      ]
     },
     "execution_count": 118,
     "metadata": {},
     "output_type": "execute_result"
    }
   ],
   "source": [
    "f.readline()"
   ]
  },
  {
   "cell_type": "code",
   "execution_count": 119,
   "metadata": {},
   "outputs": [
    {
     "data": {
      "text/plain": [
       "'while sluggards sleep'"
      ]
     },
     "execution_count": 119,
     "metadata": {},
     "output_type": "execute_result"
    }
   ],
   "source": [
    "f.readline()"
   ]
  },
  {
   "cell_type": "code",
   "execution_count": 120,
   "metadata": {},
   "outputs": [
    {
     "data": {
      "text/plain": [
       "0"
      ]
     },
     "execution_count": 120,
     "metadata": {},
     "output_type": "execute_result"
    }
   ],
   "source": [
    "f.seek(0)"
   ]
  },
  {
   "cell_type": "code",
   "execution_count": 121,
   "metadata": {},
   "outputs": [
    {
     "data": {
      "text/plain": [
       "['plow deep \\n', 'while sluggards sleep']"
      ]
     },
     "execution_count": 121,
     "metadata": {},
     "output_type": "execute_result"
    }
   ],
   "source": [
    "f.readlines()"
   ]
  },
  {
   "cell_type": "code",
   "execution_count": 122,
   "metadata": {},
   "outputs": [
    {
     "data": {
      "text/plain": [
       "[]"
      ]
     },
     "execution_count": 122,
     "metadata": {},
     "output_type": "execute_result"
    }
   ],
   "source": [
    "f.readlines()"
   ]
  },
  {
   "cell_type": "code",
   "execution_count": 123,
   "metadata": {
    "collapsed": true
   },
   "outputs": [],
   "source": [
    "f.close()"
   ]
  },
  {
   "cell_type": "code",
   "execution_count": 126,
   "metadata": {},
   "outputs": [
    {
     "name": "stdout",
     "output_type": "stream",
     "text": [
      "['plow deep \\n', 'while sluggards sleep']\n",
      "False\n"
     ]
    }
   ],
   "source": [
    "with open('test.txt') as f:\n",
    "    print (f.readlines())\n",
    "    print (f.closed)"
   ]
  },
  {
   "cell_type": "code",
   "execution_count": 127,
   "metadata": {},
   "outputs": [
    {
     "data": {
      "text/plain": [
       "True"
      ]
     },
     "execution_count": 127,
     "metadata": {},
     "output_type": "execute_result"
    }
   ],
   "source": [
    "f.closed"
   ]
  },
  {
   "cell_type": "code",
   "execution_count": 128,
   "metadata": {},
   "outputs": [
    {
     "data": {
      "text/plain": [
       "['red', 'green', 'black']"
      ]
     },
     "execution_count": 128,
     "metadata": {},
     "output_type": "execute_result"
    }
   ],
   "source": [
    "#pickle\n",
    "\n",
    "colors = ['red', 'green', 'black']\n",
    "colors"
   ]
  },
  {
   "cell_type": "code",
   "execution_count": 129,
   "metadata": {
    "collapsed": true
   },
   "outputs": [],
   "source": [
    "#Pickle data form should be stored and read with binary format\n",
    "import pickle\n",
    "f = open('colors', 'wb')\n",
    "pickle.dump(colors, f)\n",
    "f.close()\n"
   ]
  },
  {
   "cell_type": "code",
   "execution_count": 130,
   "metadata": {
    "collapsed": true
   },
   "outputs": [],
   "source": [
    "f = open('colors', 'rb')\n",
    "colorld = pickle.load(f)\n",
    "f.close()"
   ]
  },
  {
   "cell_type": "code",
   "execution_count": 131,
   "metadata": {},
   "outputs": [
    {
     "data": {
      "text/plain": [
       "['red', 'green', 'black']"
      ]
     },
     "execution_count": 131,
     "metadata": {},
     "output_type": "execute_result"
    }
   ],
   "source": [
    "colorld"
   ]
  },
  {
   "cell_type": "code",
   "execution_count": 134,
   "metadata": {},
   "outputs": [
    {
     "name": "stdout",
     "output_type": "stream",
     "text": [
      "Help on built-in function load in module _pickle:\n",
      "\n",
      "load(file, *, fix_imports=True, encoding='ASCII', errors='strict')\n",
      "    Read and return an object from the pickle data stored in a file.\n",
      "    \n",
      "    This is equivalent to ``Unpickler(file).load()``, but may be more\n",
      "    efficient.\n",
      "    \n",
      "    The protocol version of the pickle is detected automatically, so no\n",
      "    protocol argument is needed.  Bytes past the pickled object's\n",
      "    representation are ignored.\n",
      "    \n",
      "    The argument *file* must have two methods, a read() method that takes\n",
      "    an integer argument, and a readline() method that requires no\n",
      "    arguments.  Both methods should return bytes.  Thus *file* can be a\n",
      "    binary file object opened for reading, an io.BytesIO object, or any\n",
      "    other custom object that meets this interface.\n",
      "    \n",
      "    Optional keyword arguments are *fix_imports*, *encoding* and *errors*,\n",
      "    which are used to control compatibility support for pickle stream\n",
      "    generated by Python 2.  If *fix_imports* is True, pickle will try to\n",
      "    map the old Python 2 names to the new names used in Python 3.  The\n",
      "    *encoding* and *errors* tell pickle how to decode 8-bit string\n",
      "    instances pickled by Python 2; these default to 'ASCII' and 'strict',\n",
      "    respectively.  The *encoding* can be 'bytes' to read these 8-bit\n",
      "    string instances as bytes objects.\n",
      "\n"
     ]
    }
   ],
   "source": [
    "help(pickle.load)"
   ]
  },
  {
   "cell_type": "code",
   "execution_count": 133,
   "metadata": {},
   "outputs": [
    {
     "name": "stdout",
     "output_type": "stream",
     "text": [
      "Help on built-in function load in module _pickle:\n",
      "\n",
      "load(file, *, fix_imports=True, encoding='ASCII', errors='strict')\n",
      "    Read and return an object from the pickle data stored in a file.\n",
      "    \n",
      "    This is equivalent to ``Unpickler(file).load()``, but may be more\n",
      "    efficient.\n",
      "    \n",
      "    The protocol version of the pickle is detected automatically, so no\n",
      "    protocol argument is needed.  Bytes past the pickled object's\n",
      "    representation are ignored.\n",
      "    \n",
      "    The argument *file* must have two methods, a read() method that takes\n",
      "    an integer argument, and a readline() method that requires no\n",
      "    arguments.  Both methods should return bytes.  Thus *file* can be a\n",
      "    binary file object opened for reading, an io.BytesIO object, or any\n",
      "    other custom object that meets this interface.\n",
      "    \n",
      "    Optional keyword arguments are *fix_imports*, *encoding* and *errors*,\n",
      "    which are used to control compatibility support for pickle stream\n",
      "    generated by Python 2.  If *fix_imports* is True, pickle will try to\n",
      "    map the old Python 2 names to the new names used in Python 3.  The\n",
      "    *encoding* and *errors* tell pickle how to decode 8-bit string\n",
      "    instances pickled by Python 2; these default to 'ASCII' and 'strict',\n",
      "    respectively.  The *encoding* can be 'bytes' to read these 8-bit\n",
      "    string instances as bytes objects.\n",
      "\n",
      "Help on built-in function loads in module _pickle:\n",
      "\n",
      "loads(data, *, fix_imports=True, encoding='ASCII', errors='strict')\n",
      "    Read and return an object from the given pickle data.\n",
      "    \n",
      "    The protocol version of the pickle is detected automatically, so no\n",
      "    protocol argument is needed.  Bytes past the pickled object's\n",
      "    representation are ignored.\n",
      "    \n",
      "    Optional keyword arguments are *fix_imports*, *encoding* and *errors*,\n",
      "    which are used to control compatibility support for pickle stream\n",
      "    generated by Python 2.  If *fix_imports* is True, pickle will try to\n",
      "    map the old Python 2 names to the new names used in Python 3.  The\n",
      "    *encoding* and *errors* tell pickle how to decode 8-bit string\n",
      "    instances pickled by Python 2; these default to 'ASCII' and 'strict',\n",
      "    respectively.  The *encoding* can be 'bytes' to read these 8-bit\n",
      "    string instances as bytes objects.\n",
      "\n"
     ]
    }
   ],
   "source": [
    "help(pickle.loads)"
   ]
  },
  {
   "cell_type": "code",
   "execution_count": 135,
   "metadata": {
    "collapsed": true
   },
   "outputs": [],
   "source": [
    "class test:\n",
    "    var = None\n",
    "a = test() # instance 저장가능. 불러오려면 이전에 Class가 선언되어야함.\n",
    "\n",
    "a.var = \"test\"\n",
    "f = open('test','wb')\n",
    "pickle.dump(a, f)\n",
    "f.close()\n",
    "f = open('test', 'rb')\n",
    "b = pickle.load(f)"
   ]
  },
  {
   "cell_type": "code",
   "execution_count": 139,
   "metadata": {},
   "outputs": [
    {
     "data": {
      "text/plain": [
       "'test'"
      ]
     },
     "execution_count": 139,
     "metadata": {},
     "output_type": "execute_result"
    }
   ],
   "source": [
    "b.var"
   ]
  },
  {
   "cell_type": "code",
   "execution_count": null,
   "metadata": {
    "collapsed": true
   },
   "outputs": [],
   "source": []
  }
 ],
 "metadata": {
  "kernelspec": {
   "display_name": "Python 3",
   "language": "python",
   "name": "python3"
  },
  "language_info": {
   "codemirror_mode": {
    "name": "ipython",
    "version": 3
   },
   "file_extension": ".py",
   "mimetype": "text/x-python",
   "name": "python",
   "nbconvert_exporter": "python",
   "pygments_lexer": "ipython3",
   "version": "3.6.1"
  }
 },
 "nbformat": 4,
 "nbformat_minor": 2
}
