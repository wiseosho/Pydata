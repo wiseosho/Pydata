{
 "cells": [
  {
   "cell_type": "code",
   "execution_count": 1,
   "metadata": {},
   "outputs": [
    {
     "data": {
      "text/plain": [
       "'/home/june/Pydata'"
      ]
     },
     "execution_count": 1,
     "metadata": {},
     "output_type": "execute_result"
    }
   ],
   "source": [
    "from __future__ import division\n",
    "from pandas import Series, DataFrame\n",
    "import pandas as pd\n",
    "from numpy.random import randn\n",
    "import numpy as np\n",
    "pd.options.display.max_rows = 12\n",
    "np.set_printoptions(precision=4, suppress=True)\n",
    "import matplotlib.pyplot as plt\n",
    "plt.rc('figure', figsize=(12, 6))\n",
    "\n",
    "%matplotlib inline\n",
    "\n",
    "%pwd\n"
   ]
  },
  {
   "cell_type": "code",
   "execution_count": 3,
   "metadata": {},
   "outputs": [],
   "source": [
    "close_px = pd.read_csv('./pydata-book/ch11/stock_px.csv', parse_dates=True, index_col=0)\n",
    "volume = pd.read_csv('./pydata-book/ch11/volume.csv', parse_dates=True, index_col=0)\n",
    "prices = close_px.loc['2011-09-05':'2011-09-14', ['AAPL', 'JNJ', 'SPX', 'XOM']]\n",
    "volume = volume.loc['2011-09-05':'2011-09-12', ['AAPL', 'JNJ', 'XOM']]"
   ]
  },
  {
   "cell_type": "code",
   "execution_count": 5,
   "metadata": {},
   "outputs": [
    {
     "data": {
      "text/html": [
       "<div>\n",
       "<style>\n",
       "    .dataframe thead tr:only-child th {\n",
       "        text-align: right;\n",
       "    }\n",
       "\n",
       "    .dataframe thead th {\n",
       "        text-align: left;\n",
       "    }\n",
       "\n",
       "    .dataframe tbody tr th {\n",
       "        vertical-align: top;\n",
       "    }\n",
       "</style>\n",
       "<table border=\"1\" class=\"dataframe\">\n",
       "  <thead>\n",
       "    <tr style=\"text-align: right;\">\n",
       "      <th></th>\n",
       "      <th>AA</th>\n",
       "      <th>AAPL</th>\n",
       "      <th>GE</th>\n",
       "      <th>IBM</th>\n",
       "      <th>JNJ</th>\n",
       "      <th>MSFT</th>\n",
       "      <th>PEP</th>\n",
       "      <th>SPX</th>\n",
       "      <th>XOM</th>\n",
       "    </tr>\n",
       "  </thead>\n",
       "  <tbody>\n",
       "    <tr>\n",
       "      <th>1990-02-01</th>\n",
       "      <td>4.98</td>\n",
       "      <td>7.86</td>\n",
       "      <td>2.87</td>\n",
       "      <td>16.79</td>\n",
       "      <td>4.27</td>\n",
       "      <td>0.51</td>\n",
       "      <td>6.04</td>\n",
       "      <td>328.79</td>\n",
       "      <td>6.12</td>\n",
       "    </tr>\n",
       "    <tr>\n",
       "      <th>1990-02-02</th>\n",
       "      <td>5.04</td>\n",
       "      <td>8.00</td>\n",
       "      <td>2.87</td>\n",
       "      <td>16.89</td>\n",
       "      <td>4.37</td>\n",
       "      <td>0.51</td>\n",
       "      <td>6.09</td>\n",
       "      <td>330.92</td>\n",
       "      <td>6.24</td>\n",
       "    </tr>\n",
       "    <tr>\n",
       "      <th>1990-02-05</th>\n",
       "      <td>5.07</td>\n",
       "      <td>8.18</td>\n",
       "      <td>2.87</td>\n",
       "      <td>17.32</td>\n",
       "      <td>4.34</td>\n",
       "      <td>0.51</td>\n",
       "      <td>6.05</td>\n",
       "      <td>331.85</td>\n",
       "      <td>6.25</td>\n",
       "    </tr>\n",
       "    <tr>\n",
       "      <th>1990-02-06</th>\n",
       "      <td>5.01</td>\n",
       "      <td>8.12</td>\n",
       "      <td>2.88</td>\n",
       "      <td>17.56</td>\n",
       "      <td>4.32</td>\n",
       "      <td>0.51</td>\n",
       "      <td>6.15</td>\n",
       "      <td>329.66</td>\n",
       "      <td>6.23</td>\n",
       "    </tr>\n",
       "    <tr>\n",
       "      <th>1990-02-07</th>\n",
       "      <td>5.04</td>\n",
       "      <td>7.77</td>\n",
       "      <td>2.91</td>\n",
       "      <td>17.93</td>\n",
       "      <td>4.38</td>\n",
       "      <td>0.51</td>\n",
       "      <td>6.17</td>\n",
       "      <td>333.75</td>\n",
       "      <td>6.33</td>\n",
       "    </tr>\n",
       "  </tbody>\n",
       "</table>\n",
       "</div>"
      ],
      "text/plain": [
       "              AA  AAPL    GE    IBM   JNJ  MSFT   PEP     SPX   XOM\n",
       "1990-02-01  4.98  7.86  2.87  16.79  4.27  0.51  6.04  328.79  6.12\n",
       "1990-02-02  5.04  8.00  2.87  16.89  4.37  0.51  6.09  330.92  6.24\n",
       "1990-02-05  5.07  8.18  2.87  17.32  4.34  0.51  6.05  331.85  6.25\n",
       "1990-02-06  5.01  8.12  2.88  17.56  4.32  0.51  6.15  329.66  6.23\n",
       "1990-02-07  5.04  7.77  2.91  17.93  4.38  0.51  6.17  333.75  6.33"
      ]
     },
     "execution_count": 5,
     "metadata": {},
     "output_type": "execute_result"
    }
   ],
   "source": [
    "close_px.head()"
   ]
  },
  {
   "cell_type": "code",
   "execution_count": 6,
   "metadata": {},
   "outputs": [
    {
     "data": {
      "text/html": [
       "<div>\n",
       "<style>\n",
       "    .dataframe thead tr:only-child th {\n",
       "        text-align: right;\n",
       "    }\n",
       "\n",
       "    .dataframe thead th {\n",
       "        text-align: left;\n",
       "    }\n",
       "\n",
       "    .dataframe tbody tr th {\n",
       "        vertical-align: top;\n",
       "    }\n",
       "</style>\n",
       "<table border=\"1\" class=\"dataframe\">\n",
       "  <thead>\n",
       "    <tr style=\"text-align: right;\">\n",
       "      <th></th>\n",
       "      <th>AAPL</th>\n",
       "      <th>JNJ</th>\n",
       "      <th>XOM</th>\n",
       "    </tr>\n",
       "  </thead>\n",
       "  <tbody>\n",
       "    <tr>\n",
       "      <th>2011-09-06</th>\n",
       "      <td>18173500.0</td>\n",
       "      <td>15848300.0</td>\n",
       "      <td>25416300.0</td>\n",
       "    </tr>\n",
       "    <tr>\n",
       "      <th>2011-09-07</th>\n",
       "      <td>12492000.0</td>\n",
       "      <td>10759700.0</td>\n",
       "      <td>23108400.0</td>\n",
       "    </tr>\n",
       "    <tr>\n",
       "      <th>2011-09-08</th>\n",
       "      <td>14839800.0</td>\n",
       "      <td>15551500.0</td>\n",
       "      <td>22434800.0</td>\n",
       "    </tr>\n",
       "    <tr>\n",
       "      <th>2011-09-09</th>\n",
       "      <td>20171900.0</td>\n",
       "      <td>17008200.0</td>\n",
       "      <td>27969100.0</td>\n",
       "    </tr>\n",
       "    <tr>\n",
       "      <th>2011-09-12</th>\n",
       "      <td>16697300.0</td>\n",
       "      <td>13448200.0</td>\n",
       "      <td>26205800.0</td>\n",
       "    </tr>\n",
       "  </tbody>\n",
       "</table>\n",
       "</div>"
      ],
      "text/plain": [
       "                  AAPL         JNJ         XOM\n",
       "2011-09-06  18173500.0  15848300.0  25416300.0\n",
       "2011-09-07  12492000.0  10759700.0  23108400.0\n",
       "2011-09-08  14839800.0  15551500.0  22434800.0\n",
       "2011-09-09  20171900.0  17008200.0  27969100.0\n",
       "2011-09-12  16697300.0  13448200.0  26205800.0"
      ]
     },
     "execution_count": 6,
     "metadata": {},
     "output_type": "execute_result"
    }
   ],
   "source": [
    "volume.head()"
   ]
  },
  {
   "cell_type": "markdown",
   "metadata": {},
   "source": [
    "### Volume weighted average prices.\n",
    "#### multiplification by datetime stamp"
   ]
  },
  {
   "cell_type": "code",
   "execution_count": 7,
   "metadata": {},
   "outputs": [
    {
     "data": {
      "text/html": [
       "<div>\n",
       "<style>\n",
       "    .dataframe thead tr:only-child th {\n",
       "        text-align: right;\n",
       "    }\n",
       "\n",
       "    .dataframe thead th {\n",
       "        text-align: left;\n",
       "    }\n",
       "\n",
       "    .dataframe tbody tr th {\n",
       "        vertical-align: top;\n",
       "    }\n",
       "</style>\n",
       "<table border=\"1\" class=\"dataframe\">\n",
       "  <thead>\n",
       "    <tr style=\"text-align: right;\">\n",
       "      <th></th>\n",
       "      <th>AAPL</th>\n",
       "      <th>JNJ</th>\n",
       "      <th>SPX</th>\n",
       "      <th>XOM</th>\n",
       "    </tr>\n",
       "  </thead>\n",
       "  <tbody>\n",
       "    <tr>\n",
       "      <th>2011-09-06</th>\n",
       "      <td>6.901205e+09</td>\n",
       "      <td>1.024434e+09</td>\n",
       "      <td>NaN</td>\n",
       "      <td>1.808370e+09</td>\n",
       "    </tr>\n",
       "    <tr>\n",
       "      <th>2011-09-07</th>\n",
       "      <td>4.796054e+09</td>\n",
       "      <td>7.040072e+08</td>\n",
       "      <td>NaN</td>\n",
       "      <td>1.701934e+09</td>\n",
       "    </tr>\n",
       "    <tr>\n",
       "      <th>2011-09-08</th>\n",
       "      <td>5.700561e+09</td>\n",
       "      <td>1.010070e+09</td>\n",
       "      <td>NaN</td>\n",
       "      <td>1.633702e+09</td>\n",
       "    </tr>\n",
       "    <tr>\n",
       "      <th>2011-09-09</th>\n",
       "      <td>7.614489e+09</td>\n",
       "      <td>1.082402e+09</td>\n",
       "      <td>NaN</td>\n",
       "      <td>1.986086e+09</td>\n",
       "    </tr>\n",
       "    <tr>\n",
       "      <th>2011-09-12</th>\n",
       "      <td>6.343972e+09</td>\n",
       "      <td>8.551710e+08</td>\n",
       "      <td>NaN</td>\n",
       "      <td>1.882625e+09</td>\n",
       "    </tr>\n",
       "    <tr>\n",
       "      <th>2011-09-13</th>\n",
       "      <td>NaN</td>\n",
       "      <td>NaN</td>\n",
       "      <td>NaN</td>\n",
       "      <td>NaN</td>\n",
       "    </tr>\n",
       "    <tr>\n",
       "      <th>2011-09-14</th>\n",
       "      <td>NaN</td>\n",
       "      <td>NaN</td>\n",
       "      <td>NaN</td>\n",
       "      <td>NaN</td>\n",
       "    </tr>\n",
       "  </tbody>\n",
       "</table>\n",
       "</div>"
      ],
      "text/plain": [
       "                    AAPL           JNJ  SPX           XOM\n",
       "2011-09-06  6.901205e+09  1.024434e+09  NaN  1.808370e+09\n",
       "2011-09-07  4.796054e+09  7.040072e+08  NaN  1.701934e+09\n",
       "2011-09-08  5.700561e+09  1.010070e+09  NaN  1.633702e+09\n",
       "2011-09-09  7.614489e+09  1.082402e+09  NaN  1.986086e+09\n",
       "2011-09-12  6.343972e+09  8.551710e+08  NaN  1.882625e+09\n",
       "2011-09-13           NaN           NaN  NaN           NaN\n",
       "2011-09-14           NaN           NaN  NaN           NaN"
      ]
     },
     "execution_count": 7,
     "metadata": {},
     "output_type": "execute_result"
    }
   ],
   "source": [
    "prices*volume"
   ]
  },
  {
   "cell_type": "code",
   "execution_count": 8,
   "metadata": {},
   "outputs": [
    {
     "data": {
      "text/plain": [
       "AAPL    380.655181\n",
       "JNJ      64.394769\n",
       "SPX            NaN\n",
       "XOM      72.024288\n",
       "dtype: float64"
      ]
     },
     "execution_count": 8,
     "metadata": {},
     "output_type": "execute_result"
    }
   ],
   "source": [
    "vwap = (prices * volume).sum() / volume.sum()\n",
    "vwap"
   ]
  },
  {
   "cell_type": "code",
   "execution_count": 9,
   "metadata": {},
   "outputs": [
    {
     "data": {
      "text/plain": [
       "AAPL    380.655181\n",
       "JNJ      64.394769\n",
       "XOM      72.024288\n",
       "dtype: float64"
      ]
     },
     "execution_count": 9,
     "metadata": {},
     "output_type": "execute_result"
    }
   ],
   "source": [
    "vwap.dropna()\n"
   ]
  },
  {
   "cell_type": "markdown",
   "metadata": {},
   "source": [
    "### align. two different dataframe by specified joining method.('Inner')\n",
    "\n",
    "\n",
    "```python\n",
    "DataFrame.align(D2, join = 'inner')\n",
    "```\n",
    "\n",
    "`return aligned tuples of each Dataframes`"
   ]
  },
  {
   "cell_type": "code",
   "execution_count": 12,
   "metadata": {},
   "outputs": [
    {
     "data": {
      "text/plain": [
       "(              AAPL    JNJ    XOM\n",
       " 2011-09-06  379.74  64.64  71.15\n",
       " 2011-09-07  383.93  65.43  73.65\n",
       " 2011-09-08  384.14  64.95  72.82\n",
       " 2011-09-09  377.48  63.64  71.01\n",
       " 2011-09-12  379.94  63.59  71.84,\n",
       "                   AAPL         JNJ         XOM\n",
       " 2011-09-06  18173500.0  15848300.0  25416300.0\n",
       " 2011-09-07  12492000.0  10759700.0  23108400.0\n",
       " 2011-09-08  14839800.0  15551500.0  22434800.0\n",
       " 2011-09-09  20171900.0  17008200.0  27969100.0\n",
       " 2011-09-12  16697300.0  13448200.0  26205800.0)"
      ]
     },
     "execution_count": 12,
     "metadata": {},
     "output_type": "execute_result"
    }
   ],
   "source": [
    "prices.align(volume, join = 'inner')"
   ]
  },
  {
   "cell_type": "code",
   "execution_count": 11,
   "metadata": {},
   "outputs": [
    {
     "data": {
      "text/html": [
       "<div>\n",
       "<style>\n",
       "    .dataframe thead tr:only-child th {\n",
       "        text-align: right;\n",
       "    }\n",
       "\n",
       "    .dataframe thead th {\n",
       "        text-align: left;\n",
       "    }\n",
       "\n",
       "    .dataframe tbody tr th {\n",
       "        vertical-align: top;\n",
       "    }\n",
       "</style>\n",
       "<table border=\"1\" class=\"dataframe\">\n",
       "  <thead>\n",
       "    <tr style=\"text-align: right;\">\n",
       "      <th></th>\n",
       "      <th>one</th>\n",
       "      <th>three</th>\n",
       "      <th>two</th>\n",
       "    </tr>\n",
       "  </thead>\n",
       "  <tbody>\n",
       "    <tr>\n",
       "      <th>a</th>\n",
       "      <td>0.0</td>\n",
       "      <td>1.0</td>\n",
       "      <td>NaN</td>\n",
       "    </tr>\n",
       "    <tr>\n",
       "      <th>b</th>\n",
       "      <td>1.0</td>\n",
       "      <td>NaN</td>\n",
       "      <td>1.0</td>\n",
       "    </tr>\n",
       "    <tr>\n",
       "      <th>c</th>\n",
       "      <td>2.0</td>\n",
       "      <td>2.0</td>\n",
       "      <td>2.0</td>\n",
       "    </tr>\n",
       "    <tr>\n",
       "      <th>d</th>\n",
       "      <td>NaN</td>\n",
       "      <td>NaN</td>\n",
       "      <td>0.0</td>\n",
       "    </tr>\n",
       "    <tr>\n",
       "      <th>e</th>\n",
       "      <td>NaN</td>\n",
       "      <td>NaN</td>\n",
       "      <td>3.0</td>\n",
       "    </tr>\n",
       "    <tr>\n",
       "      <th>f</th>\n",
       "      <td>NaN</td>\n",
       "      <td>0.0</td>\n",
       "      <td>NaN</td>\n",
       "    </tr>\n",
       "  </tbody>\n",
       "</table>\n",
       "</div>"
      ],
      "text/plain": [
       "   one  three  two\n",
       "a  0.0    1.0  NaN\n",
       "b  1.0    NaN  1.0\n",
       "c  2.0    2.0  2.0\n",
       "d  NaN    NaN  0.0\n",
       "e  NaN    NaN  3.0\n",
       "f  NaN    0.0  NaN"
      ]
     },
     "execution_count": 11,
     "metadata": {},
     "output_type": "execute_result"
    }
   ],
   "source": [
    "s1 = Series(range(3), index = ['a', 'b', 'c'])\n",
    "s2 = Series(range(4), index = ['d', 'b', 'c', 'e'])\n",
    "s3 = Series(range(3), index=['f', 'a', 'c'])\n",
    "DataFrame({'one': s1, 'two': s2, 'three': s3})"
   ]
  },
  {
   "cell_type": "markdown",
   "metadata": {},
   "source": [
    "### Time Series of different frequencies.\n"
   ]
  },
  {
   "cell_type": "code",
   "execution_count": 13,
   "metadata": {},
   "outputs": [
    {
     "data": {
      "text/plain": [
       "2012-06-13    0.603399\n",
       "2012-06-20    0.958228\n",
       "2012-06-27    1.464596\n",
       "Freq: W-WED, dtype: float64"
      ]
     },
     "execution_count": 13,
     "metadata": {},
     "output_type": "execute_result"
    }
   ],
   "source": [
    "ts1 = Series(np.random.randn(3),\n",
    "             index=pd.date_range('2012-6-13', periods=3, freq='W-WED'))\n",
    "ts1"
   ]
  },
  {
   "cell_type": "code",
   "execution_count": 18,
   "metadata": {},
   "outputs": [
    {
     "data": {
      "text/plain": [
       "DatetimeIndexResampler [freq=<BusinessDay>, axis=0, closed=left, label=left, convention=start, base=0]"
      ]
     },
     "execution_count": 18,
     "metadata": {},
     "output_type": "execute_result"
    }
   ],
   "source": [
    "ts1.resample('B')"
   ]
  },
  {
   "cell_type": "code",
   "execution_count": 19,
   "metadata": {},
   "outputs": [
    {
     "data": {
      "text/plain": [
       "2012-06-13    0.603399\n",
       "2012-06-20    0.958228\n",
       "2012-06-27    1.464596\n",
       "Freq: W-WED, dtype: float64"
      ]
     },
     "execution_count": 19,
     "metadata": {},
     "output_type": "execute_result"
    }
   ],
   "source": [
    "ts1"
   ]
  },
  {
   "cell_type": "markdown",
   "metadata": {},
   "source": [
    "### Deprecation, fill_method => .ffill()\n",
    "### .bfill()\n",
    "### .mean()\n",
    "### .median()\n",
    "### .quantile()..\n",
    "`resample('B', fill_method = 'ffill') -> resample('B').ffill()`"
   ]
  },
  {
   "cell_type": "code",
   "execution_count": 50,
   "metadata": {},
   "outputs": [],
   "source": [
    "ts1 = ts1.resample('B').ffill()"
   ]
  },
  {
   "cell_type": "code",
   "execution_count": 51,
   "metadata": {},
   "outputs": [
    {
     "data": {
      "text/plain": [
       "2012-06-12   -1.600732\n",
       "2012-06-17   -0.203571\n",
       "2012-06-18   -0.341058\n",
       "2012-06-21    1.565390\n",
       "2012-06-22    0.791074\n",
       "2012-06-29    0.259982\n",
       "dtype: float64"
      ]
     },
     "execution_count": 51,
     "metadata": {},
     "output_type": "execute_result"
    }
   ],
   "source": [
    "dates = pd.DatetimeIndex(['2012-6-12', '2012-6-17', '2012-6-18',\n",
    "                          '2012-6-21', '2012-6-22', '2012-6-29'])\n",
    "ts2 = Series(np.random.randn(6), index=dates)\n",
    "ts2"
   ]
  },
  {
   "cell_type": "code",
   "execution_count": 52,
   "metadata": {},
   "outputs": [
    {
     "data": {
      "text/plain": [
       "2012-06-13    0.603399\n",
       "2012-06-14    0.603399\n",
       "2012-06-15    0.603399\n",
       "2012-06-18    0.603399\n",
       "2012-06-19    0.603399\n",
       "2012-06-20    0.958228\n",
       "2012-06-21    0.958228\n",
       "2012-06-22    0.958228\n",
       "2012-06-25    0.958228\n",
       "2012-06-26    0.958228\n",
       "2012-06-27    1.464596\n",
       "Freq: B, dtype: float64"
      ]
     },
     "execution_count": 52,
     "metadata": {},
     "output_type": "execute_result"
    }
   ],
   "source": [
    "ts1"
   ]
  },
  {
   "cell_type": "code",
   "execution_count": 45,
   "metadata": {},
   "outputs": [],
   "source": [
    "ts1 = ts1.resample('B').ffill()"
   ]
  },
  {
   "cell_type": "code",
   "execution_count": 53,
   "metadata": {},
   "outputs": [
    {
     "data": {
      "text/plain": [
       "2012-06-12         NaN\n",
       "2012-06-17         NaN\n",
       "2012-06-18    0.603399\n",
       "2012-06-21    0.958228\n",
       "2012-06-22    0.958228\n",
       "2012-06-29    0.958228\n",
       "dtype: float64"
      ]
     },
     "execution_count": 53,
     "metadata": {},
     "output_type": "execute_result"
    }
   ],
   "source": [
    "ts1.reindex(ts2.index).ffill()"
   ]
  },
  {
   "cell_type": "code",
   "execution_count": 54,
   "metadata": {},
   "outputs": [
    {
     "data": {
      "text/plain": [
       "2012-06-12         NaN\n",
       "2012-06-17         NaN\n",
       "2012-06-18    0.262341\n",
       "2012-06-21    2.523618\n",
       "2012-06-22    1.749303\n",
       "2012-06-29    1.218211\n",
       "dtype: float64"
      ]
     },
     "execution_count": 54,
     "metadata": {},
     "output_type": "execute_result"
    }
   ],
   "source": [
    "ts2 + ts1.reindex(ts2.index).ffill()"
   ]
  },
  {
   "cell_type": "markdown",
   "metadata": {},
   "source": [
    "### REINDEX D1 with D2.index\n",
    "#### Iregular index.\n",
    "D1.reindex(D2.index, method = 'ffill')"
   ]
  },
  {
   "cell_type": "code",
   "execution_count": 55,
   "metadata": {},
   "outputs": [
    {
     "data": {
      "text/plain": [
       "1984Q2    1.78\n",
       "1984Q3    1.94\n",
       "1984Q4    2.08\n",
       "1985Q1    2.01\n",
       "1985Q2    2.15\n",
       "1985Q3    2.31\n",
       "1985Q4    2.46\n",
       "Freq: Q-SEP, dtype: float64"
      ]
     },
     "execution_count": 55,
     "metadata": {},
     "output_type": "execute_result"
    }
   ],
   "source": [
    "gdp = Series([1.78, 1.94, 2.08, 2.01, 2.15, 2.31, 2.46],\n",
    "             index=pd.period_range('1984Q2', periods=7, freq='Q-SEP'))\n",
    "infl = Series([0.025, 0.045, 0.037, 0.04],\n",
    "              index=pd.period_range('1982', periods=4, freq='A-DEC'))\n",
    "gdp"
   ]
  },
  {
   "cell_type": "code",
   "execution_count": 56,
   "metadata": {},
   "outputs": [
    {
     "data": {
      "text/plain": [
       "1982    0.025\n",
       "1983    0.045\n",
       "1984    0.037\n",
       "1985    0.040\n",
       "Freq: A-DEC, dtype: float64"
      ]
     },
     "execution_count": 56,
     "metadata": {},
     "output_type": "execute_result"
    }
   ],
   "source": [
    "infl"
   ]
  },
  {
   "cell_type": "code",
   "execution_count": 58,
   "metadata": {},
   "outputs": [],
   "source": [
    "infl_q = infl.asfreq('Q-SEP', how = 'end')"
   ]
  },
  {
   "cell_type": "code",
   "execution_count": 59,
   "metadata": {},
   "outputs": [
    {
     "data": {
      "text/plain": [
       "1983Q1    0.025\n",
       "1984Q1    0.045\n",
       "1985Q1    0.037\n",
       "1986Q1    0.040\n",
       "Freq: Q-SEP, dtype: float64"
      ]
     },
     "execution_count": 59,
     "metadata": {},
     "output_type": "execute_result"
    }
   ],
   "source": [
    "infl_q"
   ]
  },
  {
   "cell_type": "code",
   "execution_count": 61,
   "metadata": {},
   "outputs": [
    {
     "data": {
      "text/plain": [
       "1984Q2    0.045\n",
       "1984Q3    0.045\n",
       "1984Q4    0.045\n",
       "1985Q1    0.037\n",
       "1985Q2    0.037\n",
       "1985Q3    0.037\n",
       "1985Q4    0.037\n",
       "Freq: Q-SEP, dtype: float64"
      ]
     },
     "execution_count": 61,
     "metadata": {},
     "output_type": "execute_result"
    }
   ],
   "source": [
    "infl_q.reindex(gdp.index, method = 'ffill')"
   ]
  },
  {
   "cell_type": "code",
   "execution_count": 63,
   "metadata": {
    "collapsed": true
   },
   "outputs": [],
   "source": [
    "# Make an intraday date range and time series\n",
    "rng = pd.date_range('2012-06-01 09:30', '2012-06-01 15:59', freq='T')"
   ]
  },
  {
   "cell_type": "code",
   "execution_count": 71,
   "metadata": {},
   "outputs": [
    {
     "data": {
      "text/plain": [
       "DatetimeIndex(['2012-06-04 09:30:00', '2012-06-04 09:31:00',\n",
       "               '2012-06-04 09:32:00', '2012-06-04 09:33:00',\n",
       "               '2012-06-04 09:34:00', '2012-06-04 09:35:00',\n",
       "               '2012-06-04 09:36:00', '2012-06-04 09:37:00',\n",
       "               '2012-06-04 09:38:00', '2012-06-04 09:39:00',\n",
       "               ...\n",
       "               '2012-06-04 15:50:00', '2012-06-04 15:51:00',\n",
       "               '2012-06-04 15:52:00', '2012-06-04 15:53:00',\n",
       "               '2012-06-04 15:54:00', '2012-06-04 15:55:00',\n",
       "               '2012-06-04 15:56:00', '2012-06-04 15:57:00',\n",
       "               '2012-06-04 15:58:00', '2012-06-04 15:59:00'],\n",
       "              dtype='datetime64[ns]', length=390, freq='T')"
      ]
     },
     "execution_count": 71,
     "metadata": {},
     "output_type": "execute_result"
    }
   ],
   "source": [
    "rng + pd.offsets.BDay(1)"
   ]
  },
  {
   "cell_type": "code",
   "execution_count": 75,
   "metadata": {},
   "outputs": [
    {
     "data": {
      "text/plain": [
       "DatetimeIndex(['2012-06-04 09:30:00', '2012-06-04 09:31:00',\n",
       "               '2012-06-04 09:32:00', '2012-06-04 09:33:00',\n",
       "               '2012-06-04 09:34:00', '2012-06-04 09:35:00',\n",
       "               '2012-06-04 09:36:00', '2012-06-04 09:37:00',\n",
       "               '2012-06-04 09:38:00', '2012-06-04 09:39:00',\n",
       "               ...\n",
       "               '2012-06-04 15:50:00', '2012-06-04 15:51:00',\n",
       "               '2012-06-04 15:52:00', '2012-06-04 15:53:00',\n",
       "               '2012-06-04 15:54:00', '2012-06-04 15:55:00',\n",
       "               '2012-06-04 15:56:00', '2012-06-04 15:57:00',\n",
       "               '2012-06-04 15:58:00', '2012-06-04 15:59:00'],\n",
       "              dtype='datetime64[ns]', length=390, freq='T')"
      ]
     },
     "execution_count": 75,
     "metadata": {},
     "output_type": "execute_result"
    }
   ],
   "source": [
    "rng + pd.offsets.DateOffset(3)"
   ]
  },
  {
   "cell_type": "code",
   "execution_count": 76,
   "metadata": {},
   "outputs": [
    {
     "data": {
      "text/plain": [
       "DatetimeIndex(['2012-06-04 09:30:00', '2012-06-04 09:31:00',\n",
       "               '2012-06-04 09:32:00', '2012-06-04 09:33:00',\n",
       "               '2012-06-04 09:34:00', '2012-06-04 09:35:00',\n",
       "               '2012-06-04 09:36:00', '2012-06-04 09:37:00',\n",
       "               '2012-06-04 09:38:00', '2012-06-04 09:39:00',\n",
       "               ...\n",
       "               '2012-06-04 15:50:00', '2012-06-04 15:51:00',\n",
       "               '2012-06-04 15:52:00', '2012-06-04 15:53:00',\n",
       "               '2012-06-04 15:54:00', '2012-06-04 15:55:00',\n",
       "               '2012-06-04 15:56:00', '2012-06-04 15:57:00',\n",
       "               '2012-06-04 15:58:00', '2012-06-04 15:59:00'],\n",
       "              dtype='datetime64[ns]', length=390, freq='T')"
      ]
     },
     "execution_count": 76,
     "metadata": {},
     "output_type": "execute_result"
    }
   ],
   "source": [
    "rng + pd.offsets.Day(3)"
   ]
  },
  {
   "cell_type": "code",
   "execution_count": 62,
   "metadata": {},
   "outputs": [
    {
     "data": {
      "text/plain": [
       "2012-06-01 09:30:00       0.0\n",
       "2012-06-01 09:31:00       1.0\n",
       "2012-06-01 09:32:00       2.0\n",
       "2012-06-01 09:33:00       3.0\n",
       "2012-06-01 09:34:00       4.0\n",
       "2012-06-01 09:35:00       5.0\n",
       "                        ...  \n",
       "2012-06-06 15:54:00    1554.0\n",
       "2012-06-06 15:55:00    1555.0\n",
       "2012-06-06 15:56:00    1556.0\n",
       "2012-06-06 15:57:00    1557.0\n",
       "2012-06-06 15:58:00    1558.0\n",
       "2012-06-06 15:59:00    1559.0\n",
       "Length: 1560, dtype: float64"
      ]
     },
     "execution_count": 62,
     "metadata": {},
     "output_type": "execute_result"
    }
   ],
   "source": [
    "# Make a 5-day series of 9:30-15:59 values\n",
    "rng = rng.append([rng + pd.offsets.BDay(i) for i in range(1, 4)])\n",
    "ts = Series(np.arange(len(rng), dtype=float), index=rng)\n",
    "ts"
   ]
  },
  {
   "cell_type": "code",
   "execution_count": 77,
   "metadata": {},
   "outputs": [
    {
     "data": {
      "text/plain": [
       "2012-06-01 10:00:00      30.0\n",
       "2012-06-04 10:00:00     420.0\n",
       "2012-06-05 10:00:00     810.0\n",
       "2012-06-06 10:00:00    1200.0\n",
       "dtype: float64"
      ]
     },
     "execution_count": 77,
     "metadata": {},
     "output_type": "execute_result"
    }
   ],
   "source": [
    "from datetime import time\n",
    "ts[time(10,0)]\n"
   ]
  },
  {
   "cell_type": "code",
   "execution_count": 78,
   "metadata": {},
   "outputs": [
    {
     "data": {
      "text/plain": [
       "2012-06-01 10:00:00      30.0\n",
       "2012-06-04 10:00:00     420.0\n",
       "2012-06-05 10:00:00     810.0\n",
       "2012-06-06 10:00:00    1200.0\n",
       "dtype: float64"
      ]
     },
     "execution_count": 78,
     "metadata": {},
     "output_type": "execute_result"
    }
   ],
   "source": [
    "ts.at_time(time(10,0))"
   ]
  },
  {
   "cell_type": "code",
   "execution_count": 80,
   "metadata": {},
   "outputs": [
    {
     "data": {
      "text/plain": [
       "2012-06-01 10:00:00      30.0\n",
       "2012-06-01 10:01:00      31.0\n",
       "2012-06-04 10:00:00     420.0\n",
       "2012-06-04 10:01:00     421.0\n",
       "2012-06-05 10:00:00     810.0\n",
       "2012-06-05 10:01:00     811.0\n",
       "2012-06-06 10:00:00    1200.0\n",
       "2012-06-06 10:01:00    1201.0\n",
       "dtype: float64"
      ]
     },
     "execution_count": 80,
     "metadata": {},
     "output_type": "execute_result"
    }
   ],
   "source": [
    "ts.between_time(time(10,0), time(10,1))"
   ]
  },
  {
   "cell_type": "code",
   "execution_count": 82,
   "metadata": {
    "collapsed": true
   },
   "outputs": [],
   "source": [
    "np.random.seed(12346)"
   ]
  },
  {
   "cell_type": "code",
   "execution_count": 83,
   "metadata": {
    "collapsed": true
   },
   "outputs": [],
   "source": [
    "indexer = np.sort(np.random.permutation(len(ts))[700:])"
   ]
  },
  {
   "cell_type": "code",
   "execution_count": 87,
   "metadata": {},
   "outputs": [],
   "source": [
    "irr_ts = ts.copy()\n"
   ]
  },
  {
   "cell_type": "code",
   "execution_count": 88,
   "metadata": {},
   "outputs": [
    {
     "data": {
      "text/plain": [
       "2012-06-01 09:30:00       0.0\n",
       "2012-06-01 09:31:00       1.0\n",
       "2012-06-01 09:32:00       2.0\n",
       "2012-06-01 09:33:00       3.0\n",
       "2012-06-01 09:34:00       4.0\n",
       "2012-06-01 09:35:00       5.0\n",
       "                        ...  \n",
       "2012-06-06 15:54:00    1554.0\n",
       "2012-06-06 15:55:00    1555.0\n",
       "2012-06-06 15:56:00    1556.0\n",
       "2012-06-06 15:57:00    1557.0\n",
       "2012-06-06 15:58:00    1558.0\n",
       "2012-06-06 15:59:00    1559.0\n",
       "Length: 1560, dtype: float64"
      ]
     },
     "execution_count": 88,
     "metadata": {},
     "output_type": "execute_result"
    }
   ],
   "source": [
    "irr_ts"
   ]
  },
  {
   "cell_type": "code",
   "execution_count": 89,
   "metadata": {},
   "outputs": [
    {
     "data": {
      "text/plain": [
       "2012-06-01 09:50:00    20.0\n",
       "2012-06-01 09:51:00     NaN\n",
       "2012-06-01 09:52:00    22.0\n",
       "2012-06-01 09:53:00    23.0\n",
       "2012-06-01 09:54:00     NaN\n",
       "2012-06-01 09:55:00    25.0\n",
       "2012-06-01 09:56:00     NaN\n",
       "2012-06-01 09:57:00     NaN\n",
       "2012-06-01 09:58:00     NaN\n",
       "2012-06-01 09:59:00     NaN\n",
       "2012-06-01 10:00:00     NaN\n",
       "dtype: float64"
      ]
     },
     "execution_count": 89,
     "metadata": {},
     "output_type": "execute_result"
    }
   ],
   "source": [
    "irr_ts[indexer] = np.nan\n",
    "irr_ts\n",
    "irr_ts['2012-06-01 09:50':'2012-06-01 10:00']"
   ]
  },
  {
   "cell_type": "code",
   "execution_count": 91,
   "metadata": {},
   "outputs": [],
   "source": [
    "selection = pd.date_range('2012-06-01 10:00', periods=4, freq='B')"
   ]
  },
  {
   "cell_type": "markdown",
   "metadata": {},
   "source": [
    "### asof.\n",
    "#### At the time or Most recent available time.\n"
   ]
  },
  {
   "cell_type": "code",
   "execution_count": 109,
   "metadata": {},
   "outputs": [
    {
     "data": {
      "text/plain": [
       "2012-06-01 10:00:00      25.0\n",
       "2012-06-04 10:00:00     420.0\n",
       "2012-06-05 10:00:00     810.0\n",
       "2012-06-06 10:00:00    1197.0\n",
       "Freq: B, dtype: float64"
      ]
     },
     "execution_count": 109,
     "metadata": {},
     "output_type": "execute_result"
    }
   ],
   "source": [
    "irr_ts.asof(selection)"
   ]
  },
  {
   "cell_type": "code",
   "execution_count": 110,
   "metadata": {},
   "outputs": [
    {
     "data": {
      "text/plain": [
       "2012-06-01 09:55:00      25.0\n",
       "2012-06-04 10:00:00     420.0\n",
       "2012-06-05 10:00:00     810.0\n",
       "2012-06-06 09:57:00    1197.0\n",
       "dtype: float64"
      ]
     },
     "execution_count": 110,
     "metadata": {},
     "output_type": "execute_result"
    }
   ],
   "source": [
    "irr_ts[irr_ts.isin(irr_ts.asof(selection))]"
   ]
  },
  {
   "cell_type": "code",
   "execution_count": 95,
   "metadata": {},
   "outputs": [
    {
     "data": {
      "text/plain": [
       "2012-06-01 10:00:00      NaN\n",
       "2012-06-04 10:00:00    420.0\n",
       "2012-06-05 10:00:00    810.0\n",
       "2012-06-06 10:00:00      NaN\n",
       "dtype: float64"
      ]
     },
     "execution_count": 95,
     "metadata": {},
     "output_type": "execute_result"
    }
   ],
   "source": [
    "irr_ts.at_time(time(10,0))"
   ]
  },
  {
   "cell_type": "code",
   "execution_count": 97,
   "metadata": {},
   "outputs": [
    {
     "data": {
      "text/plain": [
       "2012-06-01 09:30:00     0.0\n",
       "2012-06-01 09:31:00     NaN\n",
       "2012-06-01 09:32:00     NaN\n",
       "2012-06-01 09:33:00     3.0\n",
       "2012-06-01 09:34:00     NaN\n",
       "2012-06-01 09:35:00     5.0\n",
       "                       ... \n",
       "2012-06-01 09:55:00    25.0\n",
       "2012-06-01 09:56:00     NaN\n",
       "2012-06-01 09:57:00     NaN\n",
       "2012-06-01 09:58:00     NaN\n",
       "2012-06-01 09:59:00     NaN\n",
       "2012-06-01 10:00:00     NaN\n",
       "Length: 31, dtype: float64"
      ]
     },
     "execution_count": 97,
     "metadata": {},
     "output_type": "execute_result"
    }
   ],
   "source": [
    "irr_ts[:'2012-06-01 10:00:00']"
   ]
  },
  {
   "cell_type": "code",
   "execution_count": 103,
   "metadata": {},
   "outputs": [
    {
     "data": {
      "text/plain": [
       "2012-06-01 09:55:00    25.0\n",
       "dtype: float64"
      ]
     },
     "execution_count": 103,
     "metadata": {},
     "output_type": "execute_result"
    }
   ],
   "source": [
    "irr_ts[irr_ts == 25.0]"
   ]
  },
  {
   "cell_type": "code",
   "execution_count": 116,
   "metadata": {},
   "outputs": [
    {
     "data": {
      "text/plain": [
       "(              a    b    c\n",
       " 2012-06-12  1.0  1.0  1.0\n",
       " 2012-06-13  1.0  1.0  1.0\n",
       " 2012-06-14  1.0  1.0  1.0\n",
       " 2012-06-15  1.0  1.0  1.0\n",
       " 2012-06-16  1.0  1.0  1.0\n",
       " 2012-06-17  1.0  1.0  1.0,               a    b    c\n",
       " 2012-06-13  2.0  2.0  2.0\n",
       " 2012-06-14  2.0  2.0  2.0\n",
       " 2012-06-15  2.0  2.0  2.0\n",
       " 2012-06-16  2.0  2.0  2.0\n",
       " 2012-06-17  2.0  2.0  2.0\n",
       " 2012-06-18  2.0  2.0  2.0)"
      ]
     },
     "execution_count": 116,
     "metadata": {},
     "output_type": "execute_result"
    }
   ],
   "source": [
    "data1 = DataFrame(np.ones((6, 3), dtype=float),\n",
    "                  columns=['a', 'b', 'c'],\n",
    "                  index=pd.date_range('6/12/2012', periods=6))\n",
    "data2 = DataFrame(np.ones((6, 3), dtype=float) * 2,\n",
    "                  columns=['a', 'b', 'c'],\n",
    "                  index=pd.date_range('6/13/2012', periods=6))\n",
    "data1, data2"
   ]
  },
  {
   "cell_type": "code",
   "execution_count": 118,
   "metadata": {},
   "outputs": [
    {
     "data": {
      "text/html": [
       "<div>\n",
       "<style>\n",
       "    .dataframe thead tr:only-child th {\n",
       "        text-align: right;\n",
       "    }\n",
       "\n",
       "    .dataframe thead th {\n",
       "        text-align: left;\n",
       "    }\n",
       "\n",
       "    .dataframe tbody tr th {\n",
       "        vertical-align: top;\n",
       "    }\n",
       "</style>\n",
       "<table border=\"1\" class=\"dataframe\">\n",
       "  <thead>\n",
       "    <tr style=\"text-align: right;\">\n",
       "      <th></th>\n",
       "      <th>a</th>\n",
       "      <th>b</th>\n",
       "      <th>c</th>\n",
       "    </tr>\n",
       "  </thead>\n",
       "  <tbody>\n",
       "    <tr>\n",
       "      <th>2012-06-12</th>\n",
       "      <td>1.0</td>\n",
       "      <td>1.0</td>\n",
       "      <td>1.0</td>\n",
       "    </tr>\n",
       "    <tr>\n",
       "      <th>2012-06-13</th>\n",
       "      <td>1.0</td>\n",
       "      <td>1.0</td>\n",
       "      <td>1.0</td>\n",
       "    </tr>\n",
       "    <tr>\n",
       "      <th>2012-06-14</th>\n",
       "      <td>1.0</td>\n",
       "      <td>1.0</td>\n",
       "      <td>1.0</td>\n",
       "    </tr>\n",
       "    <tr>\n",
       "      <th>2012-06-13</th>\n",
       "      <td>2.0</td>\n",
       "      <td>2.0</td>\n",
       "      <td>2.0</td>\n",
       "    </tr>\n",
       "    <tr>\n",
       "      <th>2012-06-14</th>\n",
       "      <td>2.0</td>\n",
       "      <td>2.0</td>\n",
       "      <td>2.0</td>\n",
       "    </tr>\n",
       "    <tr>\n",
       "      <th>2012-06-15</th>\n",
       "      <td>2.0</td>\n",
       "      <td>2.0</td>\n",
       "      <td>2.0</td>\n",
       "    </tr>\n",
       "  </tbody>\n",
       "</table>\n",
       "</div>"
      ],
      "text/plain": [
       "              a    b    c\n",
       "2012-06-12  1.0  1.0  1.0\n",
       "2012-06-13  1.0  1.0  1.0\n",
       "2012-06-14  1.0  1.0  1.0\n",
       "2012-06-13  2.0  2.0  2.0\n",
       "2012-06-14  2.0  2.0  2.0\n",
       "2012-06-15  2.0  2.0  2.0"
      ]
     },
     "execution_count": 118,
     "metadata": {},
     "output_type": "execute_result"
    }
   ],
   "source": [
    "spliced = pd.concat([data1.loc[:'2012-06-14'], data2.loc[:'2012-06-15']])\n",
    "\n",
    "spliced"
   ]
  },
  {
   "cell_type": "code",
   "execution_count": 123,
   "metadata": {},
   "outputs": [
    {
     "data": {
      "text/html": [
       "<div>\n",
       "<style>\n",
       "    .dataframe thead tr:only-child th {\n",
       "        text-align: right;\n",
       "    }\n",
       "\n",
       "    .dataframe thead th {\n",
       "        text-align: left;\n",
       "    }\n",
       "\n",
       "    .dataframe tbody tr th {\n",
       "        vertical-align: top;\n",
       "    }\n",
       "</style>\n",
       "<table border=\"1\" class=\"dataframe\">\n",
       "  <thead>\n",
       "    <tr style=\"text-align: right;\">\n",
       "      <th></th>\n",
       "      <th>a</th>\n",
       "      <th>b</th>\n",
       "      <th>c</th>\n",
       "      <th>d</th>\n",
       "    </tr>\n",
       "  </thead>\n",
       "  <tbody>\n",
       "    <tr>\n",
       "      <th>2012-06-12</th>\n",
       "      <td>1.0</td>\n",
       "      <td>1.0</td>\n",
       "      <td>1.0</td>\n",
       "      <td>NaN</td>\n",
       "    </tr>\n",
       "    <tr>\n",
       "      <th>2012-06-13</th>\n",
       "      <td>1.0</td>\n",
       "      <td>1.0</td>\n",
       "      <td>1.0</td>\n",
       "      <td>NaN</td>\n",
       "    </tr>\n",
       "    <tr>\n",
       "      <th>2012-06-14</th>\n",
       "      <td>1.0</td>\n",
       "      <td>1.0</td>\n",
       "      <td>1.0</td>\n",
       "      <td>NaN</td>\n",
       "    </tr>\n",
       "    <tr>\n",
       "      <th>2012-06-15</th>\n",
       "      <td>2.0</td>\n",
       "      <td>2.0</td>\n",
       "      <td>2.0</td>\n",
       "      <td>2.0</td>\n",
       "    </tr>\n",
       "    <tr>\n",
       "      <th>2012-06-16</th>\n",
       "      <td>2.0</td>\n",
       "      <td>2.0</td>\n",
       "      <td>2.0</td>\n",
       "      <td>2.0</td>\n",
       "    </tr>\n",
       "    <tr>\n",
       "      <th>2012-06-17</th>\n",
       "      <td>2.0</td>\n",
       "      <td>2.0</td>\n",
       "      <td>2.0</td>\n",
       "      <td>2.0</td>\n",
       "    </tr>\n",
       "    <tr>\n",
       "      <th>2012-06-18</th>\n",
       "      <td>2.0</td>\n",
       "      <td>2.0</td>\n",
       "      <td>2.0</td>\n",
       "      <td>2.0</td>\n",
       "    </tr>\n",
       "  </tbody>\n",
       "</table>\n",
       "</div>"
      ],
      "text/plain": [
       "              a    b    c    d\n",
       "2012-06-12  1.0  1.0  1.0  NaN\n",
       "2012-06-13  1.0  1.0  1.0  NaN\n",
       "2012-06-14  1.0  1.0  1.0  NaN\n",
       "2012-06-15  2.0  2.0  2.0  2.0\n",
       "2012-06-16  2.0  2.0  2.0  2.0\n",
       "2012-06-17  2.0  2.0  2.0  2.0\n",
       "2012-06-18  2.0  2.0  2.0  2.0"
      ]
     },
     "execution_count": 123,
     "metadata": {},
     "output_type": "execute_result"
    }
   ],
   "source": [
    "data2 = DataFrame(np.ones((6, 4), dtype=float) * 2,\n",
    "                  columns=['a', 'b', 'c', 'd'],\n",
    "                  index=pd.date_range('6/13/2012', periods=6))\n",
    "spliced = pd.concat([data1.loc[:'2012-06-14'], data2.loc['2012-06-15':]])\n",
    "spliced"
   ]
  },
  {
   "cell_type": "code",
   "execution_count": 124,
   "metadata": {
    "collapsed": true
   },
   "outputs": [],
   "source": [
    "spliced_filled = spliced.combine_first(data2)"
   ]
  },
  {
   "cell_type": "code",
   "execution_count": 125,
   "metadata": {},
   "outputs": [
    {
     "data": {
      "text/html": [
       "<div>\n",
       "<style>\n",
       "    .dataframe thead tr:only-child th {\n",
       "        text-align: right;\n",
       "    }\n",
       "\n",
       "    .dataframe thead th {\n",
       "        text-align: left;\n",
       "    }\n",
       "\n",
       "    .dataframe tbody tr th {\n",
       "        vertical-align: top;\n",
       "    }\n",
       "</style>\n",
       "<table border=\"1\" class=\"dataframe\">\n",
       "  <thead>\n",
       "    <tr style=\"text-align: right;\">\n",
       "      <th></th>\n",
       "      <th>a</th>\n",
       "      <th>b</th>\n",
       "      <th>c</th>\n",
       "      <th>d</th>\n",
       "    </tr>\n",
       "  </thead>\n",
       "  <tbody>\n",
       "    <tr>\n",
       "      <th>2012-06-12</th>\n",
       "      <td>1.0</td>\n",
       "      <td>1.0</td>\n",
       "      <td>1.0</td>\n",
       "      <td>NaN</td>\n",
       "    </tr>\n",
       "    <tr>\n",
       "      <th>2012-06-13</th>\n",
       "      <td>1.0</td>\n",
       "      <td>1.0</td>\n",
       "      <td>1.0</td>\n",
       "      <td>2.0</td>\n",
       "    </tr>\n",
       "    <tr>\n",
       "      <th>2012-06-14</th>\n",
       "      <td>1.0</td>\n",
       "      <td>1.0</td>\n",
       "      <td>1.0</td>\n",
       "      <td>2.0</td>\n",
       "    </tr>\n",
       "    <tr>\n",
       "      <th>2012-06-15</th>\n",
       "      <td>2.0</td>\n",
       "      <td>2.0</td>\n",
       "      <td>2.0</td>\n",
       "      <td>2.0</td>\n",
       "    </tr>\n",
       "    <tr>\n",
       "      <th>2012-06-16</th>\n",
       "      <td>2.0</td>\n",
       "      <td>2.0</td>\n",
       "      <td>2.0</td>\n",
       "      <td>2.0</td>\n",
       "    </tr>\n",
       "    <tr>\n",
       "      <th>2012-06-17</th>\n",
       "      <td>2.0</td>\n",
       "      <td>2.0</td>\n",
       "      <td>2.0</td>\n",
       "      <td>2.0</td>\n",
       "    </tr>\n",
       "    <tr>\n",
       "      <th>2012-06-18</th>\n",
       "      <td>2.0</td>\n",
       "      <td>2.0</td>\n",
       "      <td>2.0</td>\n",
       "      <td>2.0</td>\n",
       "    </tr>\n",
       "  </tbody>\n",
       "</table>\n",
       "</div>"
      ],
      "text/plain": [
       "              a    b    c    d\n",
       "2012-06-12  1.0  1.0  1.0  NaN\n",
       "2012-06-13  1.0  1.0  1.0  2.0\n",
       "2012-06-14  1.0  1.0  1.0  2.0\n",
       "2012-06-15  2.0  2.0  2.0  2.0\n",
       "2012-06-16  2.0  2.0  2.0  2.0\n",
       "2012-06-17  2.0  2.0  2.0  2.0\n",
       "2012-06-18  2.0  2.0  2.0  2.0"
      ]
     },
     "execution_count": 125,
     "metadata": {},
     "output_type": "execute_result"
    }
   ],
   "source": [
    "spliced_filled"
   ]
  },
  {
   "cell_type": "code",
   "execution_count": 129,
   "metadata": {},
   "outputs": [
    {
     "data": {
      "text/html": [
       "<div>\n",
       "<style>\n",
       "    .dataframe thead tr:only-child th {\n",
       "        text-align: right;\n",
       "    }\n",
       "\n",
       "    .dataframe thead th {\n",
       "        text-align: left;\n",
       "    }\n",
       "\n",
       "    .dataframe tbody tr th {\n",
       "        vertical-align: top;\n",
       "    }\n",
       "</style>\n",
       "<table border=\"1\" class=\"dataframe\">\n",
       "  <thead>\n",
       "    <tr style=\"text-align: right;\">\n",
       "      <th></th>\n",
       "      <th>a</th>\n",
       "      <th>b</th>\n",
       "      <th>c</th>\n",
       "      <th>d</th>\n",
       "    </tr>\n",
       "  </thead>\n",
       "  <tbody>\n",
       "    <tr>\n",
       "      <th>2012-06-12</th>\n",
       "      <td>1.0</td>\n",
       "      <td>1.0</td>\n",
       "      <td>1.0</td>\n",
       "      <td>NaN</td>\n",
       "    </tr>\n",
       "    <tr>\n",
       "      <th>2012-06-13</th>\n",
       "      <td>1.0</td>\n",
       "      <td>1.0</td>\n",
       "      <td>1.0</td>\n",
       "      <td>2.0</td>\n",
       "    </tr>\n",
       "    <tr>\n",
       "      <th>2012-06-14</th>\n",
       "      <td>1.0</td>\n",
       "      <td>1.0</td>\n",
       "      <td>1.0</td>\n",
       "      <td>2.0</td>\n",
       "    </tr>\n",
       "    <tr>\n",
       "      <th>2012-06-15</th>\n",
       "      <td>2.0</td>\n",
       "      <td>2.0</td>\n",
       "      <td>2.0</td>\n",
       "      <td>2.0</td>\n",
       "    </tr>\n",
       "    <tr>\n",
       "      <th>2012-06-16</th>\n",
       "      <td>2.0</td>\n",
       "      <td>2.0</td>\n",
       "      <td>2.0</td>\n",
       "      <td>2.0</td>\n",
       "    </tr>\n",
       "    <tr>\n",
       "      <th>2012-06-17</th>\n",
       "      <td>2.0</td>\n",
       "      <td>2.0</td>\n",
       "      <td>2.0</td>\n",
       "      <td>2.0</td>\n",
       "    </tr>\n",
       "    <tr>\n",
       "      <th>2012-06-18</th>\n",
       "      <td>2.0</td>\n",
       "      <td>2.0</td>\n",
       "      <td>2.0</td>\n",
       "      <td>2.0</td>\n",
       "    </tr>\n",
       "  </tbody>\n",
       "</table>\n",
       "</div>"
      ],
      "text/plain": [
       "              a    b    c    d\n",
       "2012-06-12  1.0  1.0  1.0  NaN\n",
       "2012-06-13  1.0  1.0  1.0  2.0\n",
       "2012-06-14  1.0  1.0  1.0  2.0\n",
       "2012-06-15  2.0  2.0  2.0  2.0\n",
       "2012-06-16  2.0  2.0  2.0  2.0\n",
       "2012-06-17  2.0  2.0  2.0  2.0\n",
       "2012-06-18  2.0  2.0  2.0  2.0"
      ]
     },
     "execution_count": 129,
     "metadata": {},
     "output_type": "execute_result"
    }
   ],
   "source": [
    "spliced.update(data2, overwrite=False)\n",
    "spliced"
   ]
  },
  {
   "cell_type": "code",
   "execution_count": 130,
   "metadata": {},
   "outputs": [
    {
     "data": {
      "text/html": [
       "<div>\n",
       "<style>\n",
       "    .dataframe thead tr:only-child th {\n",
       "        text-align: right;\n",
       "    }\n",
       "\n",
       "    .dataframe thead th {\n",
       "        text-align: left;\n",
       "    }\n",
       "\n",
       "    .dataframe tbody tr th {\n",
       "        vertical-align: top;\n",
       "    }\n",
       "</style>\n",
       "<table border=\"1\" class=\"dataframe\">\n",
       "  <thead>\n",
       "    <tr style=\"text-align: right;\">\n",
       "      <th></th>\n",
       "      <th>a</th>\n",
       "      <th>b</th>\n",
       "      <th>c</th>\n",
       "      <th>d</th>\n",
       "    </tr>\n",
       "  </thead>\n",
       "  <tbody>\n",
       "    <tr>\n",
       "      <th>2012-06-12</th>\n",
       "      <td>1.0</td>\n",
       "      <td>1.0</td>\n",
       "      <td>1.0</td>\n",
       "      <td>NaN</td>\n",
       "    </tr>\n",
       "    <tr>\n",
       "      <th>2012-06-13</th>\n",
       "      <td>1.0</td>\n",
       "      <td>1.0</td>\n",
       "      <td>1.0</td>\n",
       "      <td>2.0</td>\n",
       "    </tr>\n",
       "    <tr>\n",
       "      <th>2012-06-14</th>\n",
       "      <td>1.0</td>\n",
       "      <td>1.0</td>\n",
       "      <td>1.0</td>\n",
       "      <td>2.0</td>\n",
       "    </tr>\n",
       "    <tr>\n",
       "      <th>2012-06-15</th>\n",
       "      <td>1.0</td>\n",
       "      <td>2.0</td>\n",
       "      <td>1.0</td>\n",
       "      <td>2.0</td>\n",
       "    </tr>\n",
       "    <tr>\n",
       "      <th>2012-06-16</th>\n",
       "      <td>1.0</td>\n",
       "      <td>2.0</td>\n",
       "      <td>1.0</td>\n",
       "      <td>2.0</td>\n",
       "    </tr>\n",
       "    <tr>\n",
       "      <th>2012-06-17</th>\n",
       "      <td>1.0</td>\n",
       "      <td>2.0</td>\n",
       "      <td>1.0</td>\n",
       "      <td>2.0</td>\n",
       "    </tr>\n",
       "    <tr>\n",
       "      <th>2012-06-18</th>\n",
       "      <td>NaN</td>\n",
       "      <td>2.0</td>\n",
       "      <td>NaN</td>\n",
       "      <td>2.0</td>\n",
       "    </tr>\n",
       "  </tbody>\n",
       "</table>\n",
       "</div>"
      ],
      "text/plain": [
       "              a    b    c    d\n",
       "2012-06-12  1.0  1.0  1.0  NaN\n",
       "2012-06-13  1.0  1.0  1.0  2.0\n",
       "2012-06-14  1.0  1.0  1.0  2.0\n",
       "2012-06-15  1.0  2.0  1.0  2.0\n",
       "2012-06-16  1.0  2.0  1.0  2.0\n",
       "2012-06-17  1.0  2.0  1.0  2.0\n",
       "2012-06-18  NaN  2.0  NaN  2.0"
      ]
     },
     "execution_count": 130,
     "metadata": {},
     "output_type": "execute_result"
    }
   ],
   "source": [
    "cp_spliced = spliced.copy()\n",
    "cp_spliced[['a','c']] = data1[['a','c']]\n",
    "cp_spliced"
   ]
  },
  {
   "cell_type": "code",
   "execution_count": 146,
   "metadata": {},
   "outputs": [],
   "source": [
    "#from pandas_datareader import web\n",
    "import pandas_datareader as web\n",
    "\n",
    "price = web.get_data_google('AAPL','2011-01-01')['Close']\n"
   ]
  },
  {
   "cell_type": "code",
   "execution_count": 147,
   "metadata": {},
   "outputs": [
    {
     "data": {
      "text/plain": [
       "Date\n",
       "2017-07-17    149.56\n",
       "2017-07-18    150.08\n",
       "2017-07-19    151.02\n",
       "2017-07-20    150.34\n",
       "2017-07-21    150.27\n",
       "Name: Close, dtype: float64"
      ]
     },
     "execution_count": 147,
     "metadata": {},
     "output_type": "execute_result"
    }
   ],
   "source": [
    "price[-5:]"
   ]
  },
  {
   "cell_type": "code",
   "execution_count": 149,
   "metadata": {},
   "outputs": [
    {
     "data": {
      "text/plain": [
       "0.072344689378757598"
      ]
     },
     "execution_count": 149,
     "metadata": {},
     "output_type": "execute_result"
    }
   ],
   "source": [
    "price['2011-10-03'] / price['2011-3-01'] -1\n"
   ]
  },
  {
   "cell_type": "code",
   "execution_count": 151,
   "metadata": {},
   "outputs": [
    {
     "data": {
      "text/plain": [
       "Date\n",
       "2011-01-03         NaN\n",
       "2011-01-04    0.005310\n",
       "2011-01-05    0.008029\n",
       "2011-01-06   -0.000629\n",
       "2011-01-07    0.007131\n",
       "2011-01-10    0.018742\n",
       "                ...   \n",
       "2017-07-14    0.008594\n",
       "2017-07-17    0.003489\n",
       "2017-07-18    0.003477\n",
       "2017-07-19    0.006263\n",
       "2017-07-20   -0.004503\n",
       "2017-07-21   -0.000466\n",
       "Name: Close, Length: 1649, dtype: float64"
      ]
     },
     "execution_count": 151,
     "metadata": {},
     "output_type": "execute_result"
    }
   ],
   "source": [
    "returns = price.pct_change()\n",
    "returns"
   ]
  },
  {
   "cell_type": "code",
   "execution_count": 153,
   "metadata": {},
   "outputs": [
    {
     "data": {
      "text/plain": [
       "Date\n",
       "2011-01-03         NaN\n",
       "2011-01-04    1.005310\n",
       "2011-01-05    1.013381\n",
       "2011-01-06    1.012744\n",
       "2011-01-07    1.019966\n",
       "2011-01-10    1.039082\n",
       "                ...   \n",
       "2017-07-14    3.165675\n",
       "2017-07-17    3.176720\n",
       "2017-07-18    3.187766\n",
       "2017-07-19    3.207732\n",
       "2017-07-20    3.193288\n",
       "2017-07-21    3.191801\n",
       "Name: Close, Length: 1649, dtype: float64"
      ]
     },
     "execution_count": 153,
     "metadata": {},
     "output_type": "execute_result"
    }
   ],
   "source": [
    "ret_index = (1 + returns).cumprod()\n",
    "\n",
    "ret_index"
   ]
  },
  {
   "cell_type": "markdown",
   "metadata": {},
   "source": [
    "## Resample returns into Bussiness Monthly\n",
    "### revert into return rate\n",
    "### resample('BM').last().pct_change()"
   ]
  },
  {
   "cell_type": "code",
   "execution_count": 155,
   "metadata": {},
   "outputs": [],
   "source": [
    "ret_index[0] = 1\n",
    "\n",
    "m_returns = ret_index.resample('BM').last().pct_change()"
   ]
  },
  {
   "cell_type": "code",
   "execution_count": 156,
   "metadata": {},
   "outputs": [
    {
     "data": {
      "text/plain": [
       "Date\n",
       "2011-01-31         NaN\n",
       "2011-02-28    0.041056\n",
       "2011-03-31   -0.013278\n",
       "2011-04-29    0.004619\n",
       "2011-05-31   -0.006597\n",
       "2011-06-30   -0.035017\n",
       "                ...   \n",
       "2017-02-28    0.128883\n",
       "2017-03-31    0.048690\n",
       "2017-04-28   -0.000070\n",
       "2017-05-31    0.063418\n",
       "2017-06-30   -0.057214\n",
       "2017-07-31    0.043397\n",
       "Freq: BM, Name: Close, Length: 79, dtype: float64"
      ]
     },
     "execution_count": 156,
     "metadata": {},
     "output_type": "execute_result"
    }
   ],
   "source": [
    "m_returns"
   ]
  },
  {
   "cell_type": "code",
   "execution_count": 157,
   "metadata": {},
   "outputs": [
    {
     "data": {
      "text/plain": [
       "Date\n",
       "2012-01-31    0.127031\n",
       "2012-02-29    0.188315\n",
       "2012-03-30    0.105304\n",
       "2012-04-30   -0.025919\n",
       "2012-05-31   -0.010787\n",
       "2012-06-29    0.010905\n",
       "2012-07-31    0.045787\n",
       "2012-08-31    0.089169\n",
       "2012-09-28    0.002841\n",
       "2012-10-31   -0.107555\n",
       "2012-11-30   -0.016931\n",
       "2012-12-31   -0.090779\n",
       "Freq: BM, Name: Close, dtype: float64"
      ]
     },
     "execution_count": 157,
     "metadata": {},
     "output_type": "execute_result"
    }
   ],
   "source": [
    "m_returns['2012']"
   ]
  },
  {
   "cell_type": "code",
   "execution_count": 160,
   "metadata": {},
   "outputs": [
    {
     "data": {
      "text/plain": [
       "Date\n",
       "2012-01    0.127031\n",
       "2012-02    0.188315\n",
       "2012-03    0.105304\n",
       "2012-04   -0.025919\n",
       "2012-05   -0.010787\n",
       "2012-06    0.010905\n",
       "2012-07    0.045787\n",
       "2012-08    0.089169\n",
       "2012-09    0.002841\n",
       "2012-10   -0.107555\n",
       "2012-11   -0.016931\n",
       "2012-12   -0.090779\n",
       "Freq: M, Name: Close, dtype: float64"
      ]
     },
     "execution_count": 160,
     "metadata": {},
     "output_type": "execute_result"
    }
   ],
   "source": [
    "m_rets = (1 + returns).resample('M', kind = 'period').prod() - 1\n",
    "m_rets['2012']"
   ]
  },
  {
   "cell_type": "code",
   "execution_count": 162,
   "metadata": {
    "scrolled": true
   },
   "outputs": [
    {
     "ename": "NameError",
     "evalue": "name 'dividend_dates' is not defined",
     "output_type": "error",
     "traceback": [
      "\u001b[0;31m---------------------------------------------------------------------------\u001b[0m",
      "\u001b[0;31mNameError\u001b[0m                                 Traceback (most recent call last)",
      "\u001b[0;32m<ipython-input-162-2136d75d50a0>\u001b[0m in \u001b[0;36m<module>\u001b[0;34m()\u001b[0m\n\u001b[0;32m----> 1\u001b[0;31m \u001b[0mreturns\u001b[0m\u001b[0;34m[\u001b[0m\u001b[0mdividend_dates\u001b[0m\u001b[0;34m]\u001b[0m \u001b[0;34m+=\u001b[0m \u001b[0mdividend_pcts\u001b[0m\u001b[0;34m\u001b[0m\u001b[0m\n\u001b[0m",
      "\u001b[0;31mNameError\u001b[0m: name 'dividend_dates' is not defined"
     ]
    }
   ],
   "source": [
    "returns[dividend_dates] += dividend_pcts"
   ]
  },
  {
   "cell_type": "code",
   "execution_count": 163,
   "metadata": {
    "collapsed": true
   },
   "outputs": [],
   "source": [
    "import random; random.seed(0)\n",
    "import string"
   ]
  },
  {
   "cell_type": "code",
   "execution_count": 178,
   "metadata": {},
   "outputs": [
    {
     "data": {
      "text/plain": [
       "array(['KSHJF', 'GFBTV', 'IPCCV', 'YEEBC', 'WRVMW', 'QIQZH', 'GVSNS',\n",
       "       'IOPVU', 'WZLCK', 'TDPSU', 'KGHAX', 'IDWHL', 'ZFKNB', 'DZEWH',\n",
       "       'BSURT', 'VCADU', 'GTSDM', 'CLDBT', 'AGFWD', 'PGXZB', 'VARNT',\n",
       "       'DICHC', 'UJLNF', 'BQOBT', 'DWMGI', 'LXPSF', 'WVGYB', 'ZVFFK',\n",
       "       'QIDTO', 'VFAPV', 'NSQJU', 'LMVIE', 'RWAOX', 'CKXBR', 'IEHYP',\n",
       "       'LTJVL', 'SUTEW', 'JMXNU', 'CATGW', 'KFHHU', 'OMWVS', 'NBMWS',\n",
       "       'NYVWB', 'FOCIW', 'FOQPR', 'TYABP', 'KJOBZ', 'ZNGRU', 'CXEAM',\n",
       "       'VNKAG', 'AWYAV', 'QTDGD', 'TUGJI', 'WFDPM', 'UCAIO', 'ZZDIE',\n",
       "       'UQUUL', 'DEIAB', 'BGVIR', 'KLSBX', 'WTUPW', 'UOUNL', 'RFGMS',\n",
       "       'JAEEI', 'KKZLW', 'CKYTB', 'BIFES', 'JLMRE', 'JDPXH', 'BJFQX',\n",
       "       'CJMKJ', 'NDDRP', 'PKZZK', 'DPDWP', 'NBJKX', 'VEFUS', 'MZUCC',\n",
       "       'ZCGXH', 'BMADM', 'RQJOP', 'ZSWVG', 'NCLHI', 'SYFNG', 'LDCWA',\n",
       "       'QOYVG', 'DPMIG', 'UBZGT', 'EDGOM', 'LREDT', 'PESMU', 'VNQPV',\n",
       "       'KPPUV', 'GRTHA', 'KWXKK', 'BQEIT', 'ZEMSJ', 'WWZPC', 'ZCQBC',\n",
       "       'HEBJA', 'YOKFZ', 'EUOLQ', 'MQQBS', 'CVZZQ', 'YTCXN', 'YGJRT',\n",
       "       'NPZMT', 'SHZAV', 'AXFJQ', 'SIKCP', 'IJYNM', 'ZMBFU', 'EHJXK',\n",
       "       'BBPNE', 'PTWCV', 'WEZLN', 'BTOMO', 'BDPYE', 'ABTTE', 'UKDWR',\n",
       "       'ULGMZ', 'YYPDB', 'TWOTU', 'KUDVW', 'TJZEM', 'ZJXVZ', 'DQZGB',\n",
       "       'ZMOLY', 'GOLZU', 'CBBPI', 'AQVSS', 'GHCYU', 'YQWQN', 'QJDEN',\n",
       "       'SNCDN', 'CDNYE', 'XAZON', 'VNAPK', 'XICLC', 'DLWAL', 'LFAHL',\n",
       "       'CTEGA', 'GVVXD', 'XAJLW', 'ATHEF', 'ODPLW', 'IEAGL', 'KPJJR',\n",
       "       'UKFSC', 'DRSJF', 'MEEZH', 'KQHHY', 'FJLNV', 'BETAM', 'CWCEN',\n",
       "       'JRNXE', 'SNJUL', 'CHOUL', 'UQBMN', 'ANXKO', 'GLJPC', 'FZDID',\n",
       "       'RTWEZ', 'WOMFY', 'NNFHO', 'KQELO', 'UUCPY', 'GJAWO', 'TOAGJ',\n",
       "       'DYUJR', 'TENWY', 'PCVPY', 'HRYMI', 'UADIV', 'BAIMQ', 'SWMOD',\n",
       "       'XILJY', 'VGTCB', 'CZIJR', 'KDQHY', 'FCNJJ', 'QESQU', 'GRDNU',\n",
       "       'RMXYZ', 'IJOLS', 'UEFDW', 'DMMSO', 'ERVJL', 'UPXNG', 'PPWQK',\n",
       "       'PUBOJ', 'EXPBT', 'GALPM', 'AQCVC', 'VXVMA', 'LBDTA', 'IUWJX',\n",
       "       'HEYSJ', 'GDNOW', 'KMFKN', 'UVNEO', 'WEQKE', 'GFOLZ', 'MNZPM',\n",
       "       'XHZGO', 'GSWBM', 'BHUCF', 'LBXUV', 'FHTJT', 'CWQYJ', 'YLNOB',\n",
       "       'UWQVU', 'RXNSO', 'PIWPG', 'KIBBB', 'FLAJU', 'AECZN', 'VHTMR',\n",
       "       'HOGKT', 'DTCZK', 'KROKI', 'AQBGL', 'CGQLG', 'GIVXX', 'JJQMI',\n",
       "       'PLWHB', 'JRCAO', 'PXOBZ', 'NPOOD', 'CCHDY', 'ENGOT', 'CNRYM',\n",
       "       'BFHPH', 'EILKN', 'DRJTR', 'ZGWJY', 'OQTOR', 'UIIHA', 'DTZWD',\n",
       "       'FXNHG', 'JXVAX', 'RQNBD', 'MUIDX', 'SLHVW', 'WRVJH', 'XHCQJ',\n",
       "       'VKHLU', 'PJSFE', 'ZARQK', 'LSUAZ', 'EMEFQ', 'CEYGZ', 'YPSYW',\n",
       "       'GHXEH', 'YMLTS', 'EUPDT', 'AQTLP', 'OJAHR', 'UFVPZ', 'XPRKW',\n",
       "       'CIETM', 'WGKZJ', 'MBGBK', 'XXHKO', 'VXVVH', 'ILVFJ', 'ALSRB',\n",
       "       'XUELA', 'PUBAH', 'BAHUK', 'CBLVN', 'EGONE', 'LJFUK', 'XZXNM',\n",
       "       'ANIRR', 'ZXVWO', 'YBSDN', 'MFAQE', 'TVQXW', 'ECKHF', 'HAZFX',\n",
       "       'ZVRFW', 'CNTDT', 'UOWET', 'TBIKZ', 'XXMAU', 'BPCLJ', 'VEOHQ',\n",
       "       'LFXYM', 'KIZPM', 'AJQJR', 'PBYRS', 'RIVBO', 'MXDML', 'PBAIX',\n",
       "       'BIVVS', 'WYJVY', 'GYQQK', 'MIGDS', 'KZHSV', 'XRVLF', 'EKXAS',\n",
       "       'BSELL', 'JUJKP', 'ZMTNF', 'AZESB', 'OEKAX', 'PVVYI', 'XTGCR',\n",
       "       'NIFQF', 'CVUFS', 'DQUZR', 'TMYNI', 'JJANY', 'WIIRQ', 'RKKGW',\n",
       "       'ZNZEA', 'YQEZV', 'WZSML', 'OBRNU', 'TZZYH', 'ALQFV', 'GULUW',\n",
       "       'PAXXH', 'SHIFY', 'NCSOH', 'XWOQZ', 'ZWDGF', 'OCNUM', 'IINYY',\n",
       "       'LTKCJ', 'APAYI', 'GYMMN', 'YUUVM', 'WBSOL', 'SESWI', 'KAMPQ',\n",
       "       'EBCSL', 'LACGW', 'DVRPB', 'KAKME', 'YUINV', 'ETEMJ', 'QBFEE',\n",
       "       'PWUWY', 'XBXQB', 'RWXWU', 'MFLZS', 'CCRFI', 'GZIKW', 'WIZIQ',\n",
       "       'OEYOR', 'EBUSF', 'UQBYK', 'CGUZO', 'THZOQ', 'FWKUE', 'PYRBR',\n",
       "       'CQKAY', 'CDNTL', 'SOKMQ', 'LUDEK', 'AFXEA', 'KTGBN', 'UBWJZ',\n",
       "       'MBTYZ', 'WFLCN', 'BOLTT', 'YIVJS', 'ZONFA', 'OZIGM', 'CLDDA',\n",
       "       'LAFMT', 'WUAKO', 'ZRXWP', 'PCBRM', 'ZZIAU', 'QDCKL', 'DPBEQ',\n",
       "       'UZJBA', 'MKFRW', 'EFFYF', 'UVHTK', 'APUVM', 'BHHUJ', 'KFHLH',\n",
       "       'FNOLS', 'EMSYA', 'FSAVM', 'WZFEA', 'AKQAB', 'BYDST', 'EYEVZ',\n",
       "       'MZANN', 'SVKWH', 'ELQGR', 'MCENS', 'VLDNN', 'HPMHM', 'HUPMS',\n",
       "       'CIIQL', 'RATTY', 'PHIBT', 'KZMUD', 'RBEWM', 'AYNXM', 'NDWOT',\n",
       "       'OFFKP', 'NFSJY', 'QDLLE', 'ULYPU', 'QYBGI', 'FXSKJ', 'MUBJR',\n",
       "       'NBVNI', 'MXGLE', 'EDTLF', 'ANSMO', 'CUWWV', 'CYNRX', 'REFEG',\n",
       "       'FHAQE', 'PLTXJ', 'WZKVD', 'ZNYIF', 'KUQKR', 'WEMXX', 'RJHML',\n",
       "       'MPQJN', 'NDVEE', 'ASTUW', 'QDWYU', 'WGTUT', 'QDIWX', 'TFMCZ',\n",
       "       'BADLX', 'PKDVO', 'LSWIV', 'PZYHF', 'RRCYQ', 'FAUFQ', 'NTVGO',\n",
       "       'WVMIA', 'SEMFO', 'SBMZC', 'USMKH', 'QOBPT', 'DIQPR', 'UMPIF',\n",
       "       'HRLFJ', 'TEOCC', 'PMSNR', 'CIPHD', 'JELZD', 'EVBVE', 'SRGAB',\n",
       "       'MRWYT', 'PWWDP', 'RLYKD', 'VAHHP', 'JIHAP', 'LQKCC', 'JSNHX',\n",
       "       'LMYEH', 'JGXYP', 'VZLJM', 'TEYDM', 'LQPHU', 'WLULN', 'ILMYY',\n",
       "       'WJDPJ', 'DOELH', 'XFKPH', 'DVMMO', 'QOSTH', 'VMQJP', 'HKQVA',\n",
       "       'CPKMH', 'NBSYB', 'NCIGX', 'KFDFZ', 'WLAHB', 'AMRAE', 'DTTGC',\n",
       "       'XOGAQ', 'TNCRF', 'HHNMP', 'ZANGM', 'YBTIA', 'SLWLK', 'VOUET',\n",
       "       'QCIDW', 'DIAWE', 'TYVEM', 'GSVKG', 'NQQDR', 'DWPDQ', 'OPFOR',\n",
       "       'KENIM', 'CSQKH', 'OHLPY', 'NAOXA', 'RMYYO', 'HNHIP', 'PEHOJ',\n",
       "       'LUPTE', 'QVCGJ', 'QUVDB', 'EKBKT', 'ZFYOM', 'VGNPG', 'FMBZZ',\n",
       "       'YKYVQ', 'GXKFQ', 'RWTSN', 'EUWTP', 'VSGTO', 'BHPTK', 'RXGAB',\n",
       "       'BEHOV', 'THVVD', 'YQNUU', 'JVKPV', 'GFLRL', 'WOMOV', 'KOCEH',\n",
       "       'YDYEM', 'OWRGL', 'WBAMG', 'CNSSZ', 'NRGUA', 'VEQUP', 'JMRRC',\n",
       "       'CTXPY', 'AGNTY', 'LJCXA', 'YZHTA', 'SQLEO', 'IDSOI', 'HMMXQ',\n",
       "       'KHSIC', 'BEKUS', 'SPCQP', 'NKMXA', 'DNTVE', 'YEADW', 'NHBUI',\n",
       "       'IMDLJ', 'LTZUG', 'XRRBK', 'QRAFP', 'AUIKE', 'LDTRN', 'ZYCIS',\n",
       "       'DQCSE', 'PBQZH', 'LDRWG', 'FWVHM', 'GTWXO', 'LFIXL', 'RGGOK',\n",
       "       'EIRVY', 'YACVK', 'JWZKB', 'CTAJZ', 'DFWIG', 'QRLOC', 'NQRND',\n",
       "       'CSOKF', 'JHUNV', 'WJBAA', 'UICVK', 'KRUJB', 'ZWHWQ', 'EITBZ',\n",
       "       'MNISH', 'IKZRP', 'OWDNL', 'FQBHW', 'ZPMAH', 'CJDFE', 'OAYLQ',\n",
       "       'NDQHP', 'JIMNP', 'WBFWQ', 'LGHEH', 'ZJZEF', 'RIRAF', 'HXNWF',\n",
       "       'HYRES', 'VFXHQ', 'YJZZW', 'XAXOZ', 'GBNFM', 'QMGMR', 'QPDEC',\n",
       "       'RACAX', 'HXMOV', 'INLVM', 'IXCYF', 'SHXGB', 'YBQZC', 'WOHOW',\n",
       "       'YYVET', 'UQJAT', 'ELVLL', 'JQUWI', 'EAPZX', 'GTMKP', 'JOEPJ',\n",
       "       'ZWKLU', 'TMMSM', 'WQJVY', 'SHGNG', 'IQFQE', 'ZTQYR', 'YQUPK',\n",
       "       'INJOU', 'QBZXG', 'IOWCA', 'GTDIZ', 'AGFTF', 'VLTZI', 'AVVAA',\n",
       "       'TFJHM', 'PXLLC', 'SNZDW', 'AYFAT', 'RILXG', 'MGKFZ', 'FPVET',\n",
       "       'SQNSU', 'HABNT', 'BUUUE', 'QCNJK', 'UUTGW', 'BKEKV', 'XIPPT',\n",
       "       'KIUCO', 'ZYFDQ', 'IRWMT', 'ONVFT', 'NYEVV', 'YZDSY', 'DFXPJ',\n",
       "       'VXDVY', 'NIIZD', 'ULQRZ', 'CABTA', 'YEDNM', 'ZPAKU', 'ECWMU',\n",
       "       'SXHBG', 'NABTZ', 'MERXW', 'JNMRB', 'XORER', 'EUGSF', 'CSPJI',\n",
       "       'IGMVA', 'UBQYY', 'CAUJE', 'YEYQE', 'DKAXK', 'EKSYC', 'CLGIO',\n",
       "       'KVPPR', 'QCCKO', 'MYMRP', 'RNQCH', 'EUMQK', 'ECEEB', 'MUSDV',\n",
       "       'CQISJ', 'LVXPM', 'SKXVT', 'OQLHY', 'QBXMZ', 'LKZQA', 'HSCPD',\n",
       "       'LNYTH', 'RAQQD', 'BSLBL', 'FKIPP', 'YNAZU', 'YHUUP', 'XXLVZ',\n",
       "       'ZXFBY', 'XPQVF', 'MWJVS', 'PGAWO', 'TTVFT', 'OKSKN', 'SYUEQ',\n",
       "       'NMHLM', 'JHGIH', 'RSLOH', 'TKTUE', 'KHEYI', 'RFRWW', 'TDOPG',\n",
       "       'WFTLT', 'HWZCR', 'PGJMI', 'QGLNK', 'XABGG', 'TFROC', 'IQJWP',\n",
       "       'NKVXW', 'WMBDB', 'KFYIT', 'XROJR', 'NPLHV', 'CXCZU', 'CQAVS',\n",
       "       'QKXTD', 'SHABZ', 'DXJCS', 'MWEYS', 'TQGIJ', 'FFSHE', 'EHIPZ',\n",
       "       'JEXTI', 'GCEVN', 'FGSAL', 'RVPVE', 'YXICX', 'WTWIZ', 'TXHAE',\n",
       "       'GXSVA', 'NEEPR', 'BQKHV', 'FOKVO', 'HUUXI', 'VWGDL', 'PILRS',\n",
       "       'JGJRM', 'CFMDS', 'UDQEW', 'OENIX', 'RGYZF', 'XCIOK', 'MQBLM',\n",
       "       'XXMRE', 'YWWRS', 'EUBJT', 'OQYSN', 'GOGMC', 'DRMDQ', 'VOXUF',\n",
       "       'BGHHD', 'TMNCR', 'GQGGP', 'CGDQE', 'TGRSQ', 'UTNTM', 'UIVZP',\n",
       "       'UUTZA', 'LLYZG', 'WUBGO', 'GQVGA', 'EHOPC', 'TIUJM', 'KXXVW',\n",
       "       'JVCTD', 'PLTTU', 'CHENH', 'APJEQ', 'ULXVE', 'DQKKV', 'XCLZG',\n",
       "       'GJQWN', 'UXXMM', 'BEOCJ', 'UVEQG', 'TPLES', 'ESNIX', 'GDFEO',\n",
       "       'RNFBJ', 'YPSCV', 'LUDDP', 'HQBAW', 'VZSCO', 'IXSIW', 'RZMFH',\n",
       "       'UDVSX', 'YQFPU', 'UHAHE', 'WTVYE', 'UEYZS', 'TFCDI', 'DITOS',\n",
       "       'YISNB', 'WCEOB', 'LKIUN', 'MAJUH', 'GYCSX', 'EHQGO', 'KAYIN',\n",
       "       'SQREW', 'KWSUR', 'MGJDO', 'UUIHZ', 'UIYJC', 'LEOAM', 'UOBUY',\n",
       "       'YJQTY', 'NOTSX', 'QGFAI', 'DMWIG', 'PPIQM', 'ETPIF', 'WAGKI',\n",
       "       'WWDVA', 'NJKTX', 'GKNYE', 'UDHLY', 'XPOFV', 'LNNNL', 'SDCRZ',\n",
       "       'OEDAZ', 'QWMUP', 'HMUXD', 'NBVJT', 'FJIQD', 'RVVKA', 'EACKY',\n",
       "       'KOGHL', 'VSOIR', 'FOMAD', 'ADKXG', 'JRDQY', 'JCDRT', 'JXBHD',\n",
       "       'VFOFF', 'OIWFO', 'WSARM', 'ADDJC', 'UYMGI', 'XMHOU', 'TQRLF',\n",
       "       'NUZAS', 'NTHJL', 'QKPUY', 'XOXWI', 'LIYFF', 'HOKUA', 'LPTZW',\n",
       "       'JVHAD', 'OXQFG', 'MWTKR', 'EBPNO', 'ZOLAG', 'SGCPE', 'VCXQW',\n",
       "       'VRMTI', 'GCNAR', 'PWXKX', 'AGTJY', 'YZNOW', 'QWJCB', 'CLMUN',\n",
       "       'MZUWY', 'UYHJP', 'MRAUN', 'UJVPE', 'MVNMW', 'YSXTJ', 'PRLJN',\n",
       "       'SUYFL', 'BNOOJ', 'CVHKH', 'MATKE', 'FPCYD', 'FTBHU', 'FAUQV',\n",
       "       'NVNFJ', 'MOJRB', 'FPFDV', 'DPXJX', 'ZJJMB', 'SIKYO', 'CBYUW',\n",
       "       'JHOUJ', 'RGMCN', 'BBZCL', 'AJJBA', 'BTBET', 'FPUCS', 'EAXRE',\n",
       "       'ZDCWC', 'TYVDG', 'DPNCD', 'PWOQX', 'FRDEL', 'XNQEC', 'UQBXR',\n",
       "       'HDXZM', 'LQKRW', 'SRMJH', 'SWCET', 'MYLXJ', 'LQLAA', 'AEIXV',\n",
       "       'WGUEF', 'DPXPV', 'EIIEB', 'FVLXK', 'GUDQZ', 'PEUIK', 'GUDTV',\n",
       "       'WHLZM', 'YDIYM', 'RLBUK', 'HMBYN', 'RIYZF', 'IBXIX', 'CKUNA',\n",
       "       'YVIHU', 'YWFIL', 'QUDFP', 'GSTSC', 'NJWVB', 'IAAZT', 'FKFMH',\n",
       "       'SRGBU', 'RYGOR', 'VOSTK', 'LLDYZ', 'ANLFP', 'HXVXU', 'ZXXUM',\n",
       "       'YTAVG', 'TXPNY', 'MFEVN', 'MOXXU', 'XGICW', 'FSAJX', 'FDEIF',\n",
       "       'MIQUN', 'KRXNP', 'ODITK', 'IIXJM', 'TQAPU', 'QQGNI', 'XUYNX',\n",
       "       'BANRC', 'ZIWZA', 'APVZM', 'RLRPQ', 'ORXXW', 'PSFZS', 'YATLG',\n",
       "       'JNCHD', 'FZTOU', 'EPKOW', 'EPZIP', 'KWQXZ', 'HYBLQ', 'IMRUT',\n",
       "       'DJEQE', 'ECKGB', 'APPCS', 'QBEUO', 'SESIC', 'JLEOL', 'BKDDT',\n",
       "       'VDJVJ', 'SLFYA', 'VYPMM', 'UGCNI', 'PNVPM', 'ENZGY', 'NUYGI',\n",
       "       'CZEOK', 'LJZZO', 'KHFOE', 'WKZHP', 'EDRST', 'OXKFC', 'VKFIL',\n",
       "       'VWDDM', 'KYKJK', 'YAGVU', 'JUFFR', 'FPHCW', 'QIWDB', 'MXCMO',\n",
       "       'PVEWE', 'BDEUD', 'MTDJC', 'SSDGX', 'JMFQO', 'WIYKU', 'FUZMI',\n",
       "       'FFXCG', 'UQYLV', 'XOVCK', 'QNZZJ', 'OZBEL', 'FPHHC'], \n",
       "      dtype='<U5')"
      ]
     },
     "execution_count": 178,
     "metadata": {},
     "output_type": "execute_result"
    }
   ],
   "source": [
    "N = 1000\n",
    "def rands(n):\n",
    "    choices = string.ascii_uppercase\n",
    "    return ''.join([random.choice(choices) for _ in range(n)])\n",
    "\n",
    "tickers = np.array([rands(5) for _ in range(N)])\n",
    "tickers"
   ]
  },
  {
   "cell_type": "code",
   "execution_count": 172,
   "metadata": {},
   "outputs": [
    {
     "data": {
      "text/plain": [
       "'B'"
      ]
     },
     "execution_count": 172,
     "metadata": {},
     "output_type": "execute_result"
    }
   ],
   "source": [
    "random.choice(string.ascii_uppercase)"
   ]
  },
  {
   "cell_type": "code",
   "execution_count": 175,
   "metadata": {},
   "outputs": [],
   "source": [
    "lst = random.sample(string.ascii_uppercase, len(string.ascii_uppercase))\n",
    "lst.sort()"
   ]
  },
  {
   "cell_type": "code",
   "execution_count": 179,
   "metadata": {
    "collapsed": true
   },
   "outputs": [],
   "source": [
    "M = 500\n",
    "df = DataFrame({'Momentum' : np.random.randn(M) / 200 + 0.03,\n",
    "               'Value' : np.random.randn(M) / 200 + 0.08,\n",
    "               'ShortInterest' : np.random.randn(M) / 200 -0.02},\n",
    "              index = tickers[:M])"
   ]
  },
  {
   "cell_type": "code",
   "execution_count": 180,
   "metadata": {},
   "outputs": [
    {
     "data": {
      "text/html": [
       "<div>\n",
       "<style>\n",
       "    .dataframe thead tr:only-child th {\n",
       "        text-align: right;\n",
       "    }\n",
       "\n",
       "    .dataframe thead th {\n",
       "        text-align: left;\n",
       "    }\n",
       "\n",
       "    .dataframe tbody tr th {\n",
       "        vertical-align: top;\n",
       "    }\n",
       "</style>\n",
       "<table border=\"1\" class=\"dataframe\">\n",
       "  <thead>\n",
       "    <tr style=\"text-align: right;\">\n",
       "      <th></th>\n",
       "      <th>Momentum</th>\n",
       "      <th>ShortInterest</th>\n",
       "      <th>Value</th>\n",
       "    </tr>\n",
       "  </thead>\n",
       "  <tbody>\n",
       "    <tr>\n",
       "      <th>KSHJF</th>\n",
       "      <td>0.034645</td>\n",
       "      <td>-0.022165</td>\n",
       "      <td>0.086014</td>\n",
       "    </tr>\n",
       "    <tr>\n",
       "      <th>GFBTV</th>\n",
       "      <td>0.026988</td>\n",
       "      <td>-0.029603</td>\n",
       "      <td>0.084804</td>\n",
       "    </tr>\n",
       "    <tr>\n",
       "      <th>IPCCV</th>\n",
       "      <td>0.036461</td>\n",
       "      <td>-0.022148</td>\n",
       "      <td>0.072658</td>\n",
       "    </tr>\n",
       "    <tr>\n",
       "      <th>YEEBC</th>\n",
       "      <td>0.027989</td>\n",
       "      <td>-0.020954</td>\n",
       "      <td>0.081999</td>\n",
       "    </tr>\n",
       "    <tr>\n",
       "      <th>WRVMW</th>\n",
       "      <td>0.031985</td>\n",
       "      <td>-0.021137</td>\n",
       "      <td>0.086451</td>\n",
       "    </tr>\n",
       "    <tr>\n",
       "      <th>QIQZH</th>\n",
       "      <td>0.030843</td>\n",
       "      <td>-0.013418</td>\n",
       "      <td>0.078032</td>\n",
       "    </tr>\n",
       "    <tr>\n",
       "      <th>...</th>\n",
       "      <td>...</td>\n",
       "      <td>...</td>\n",
       "      <td>...</td>\n",
       "    </tr>\n",
       "    <tr>\n",
       "      <th>NQQDR</th>\n",
       "      <td>0.031833</td>\n",
       "      <td>-0.021756</td>\n",
       "      <td>0.083594</td>\n",
       "    </tr>\n",
       "    <tr>\n",
       "      <th>DWPDQ</th>\n",
       "      <td>0.028843</td>\n",
       "      <td>-0.022144</td>\n",
       "      <td>0.087546</td>\n",
       "    </tr>\n",
       "    <tr>\n",
       "      <th>OPFOR</th>\n",
       "      <td>0.031435</td>\n",
       "      <td>-0.015776</td>\n",
       "      <td>0.079320</td>\n",
       "    </tr>\n",
       "    <tr>\n",
       "      <th>KENIM</th>\n",
       "      <td>0.028547</td>\n",
       "      <td>-0.025792</td>\n",
       "      <td>0.083229</td>\n",
       "    </tr>\n",
       "    <tr>\n",
       "      <th>CSQKH</th>\n",
       "      <td>0.028895</td>\n",
       "      <td>-0.029123</td>\n",
       "      <td>0.083124</td>\n",
       "    </tr>\n",
       "    <tr>\n",
       "      <th>OHLPY</th>\n",
       "      <td>0.029979</td>\n",
       "      <td>-0.023758</td>\n",
       "      <td>0.086047</td>\n",
       "    </tr>\n",
       "  </tbody>\n",
       "</table>\n",
       "<p>500 rows × 3 columns</p>\n",
       "</div>"
      ],
      "text/plain": [
       "       Momentum  ShortInterest     Value\n",
       "KSHJF  0.034645      -0.022165  0.086014\n",
       "GFBTV  0.026988      -0.029603  0.084804\n",
       "IPCCV  0.036461      -0.022148  0.072658\n",
       "YEEBC  0.027989      -0.020954  0.081999\n",
       "WRVMW  0.031985      -0.021137  0.086451\n",
       "QIQZH  0.030843      -0.013418  0.078032\n",
       "...         ...            ...       ...\n",
       "NQQDR  0.031833      -0.021756  0.083594\n",
       "DWPDQ  0.028843      -0.022144  0.087546\n",
       "OPFOR  0.031435      -0.015776  0.079320\n",
       "KENIM  0.028547      -0.025792  0.083229\n",
       "CSQKH  0.028895      -0.029123  0.083124\n",
       "OHLPY  0.029979      -0.023758  0.086047\n",
       "\n",
       "[500 rows x 3 columns]"
      ]
     },
     "execution_count": 180,
     "metadata": {},
     "output_type": "execute_result"
    }
   ],
   "source": [
    "df"
   ]
  },
  {
   "cell_type": "markdown",
   "metadata": {},
   "source": [
    "### Assign randomly generated 500 tickers into one of ind_names(Financial, Tech)"
   ]
  },
  {
   "cell_type": "code",
   "execution_count": 183,
   "metadata": {
    "collapsed": true
   },
   "outputs": [],
   "source": [
    "ind_names = np.array(['FINANCIAL', 'TECH'])\n",
    "sampler = np.random.randint(0, len(ind_names), N)\n",
    "industries = Series(ind_names[sampler], index = tickers, name = 'industry')"
   ]
  },
  {
   "cell_type": "code",
   "execution_count": 184,
   "metadata": {},
   "outputs": [
    {
     "data": {
      "text/plain": [
       "KSHJF    FINANCIAL\n",
       "GFBTV    FINANCIAL\n",
       "IPCCV         TECH\n",
       "YEEBC    FINANCIAL\n",
       "WRVMW    FINANCIAL\n",
       "QIQZH         TECH\n",
       "           ...    \n",
       "FFXCG         TECH\n",
       "UQYLV    FINANCIAL\n",
       "XOVCK         TECH\n",
       "QNZZJ         TECH\n",
       "OZBEL         TECH\n",
       "FPHHC         TECH\n",
       "Name: industry, Length: 1000, dtype: object"
      ]
     },
     "execution_count": 184,
     "metadata": {},
     "output_type": "execute_result"
    }
   ],
   "source": [
    "industries"
   ]
  },
  {
   "cell_type": "code",
   "execution_count": 191,
   "metadata": {
    "collapsed": true
   },
   "outputs": [],
   "source": [
    "by_industry = df.groupby(industries)"
   ]
  },
  {
   "cell_type": "code",
   "execution_count": 192,
   "metadata": {},
   "outputs": [
    {
     "data": {
      "text/html": [
       "<div>\n",
       "<style>\n",
       "    .dataframe thead tr:only-child th {\n",
       "        text-align: right;\n",
       "    }\n",
       "\n",
       "    .dataframe thead th {\n",
       "        text-align: left;\n",
       "    }\n",
       "\n",
       "    .dataframe tbody tr th {\n",
       "        vertical-align: top;\n",
       "    }\n",
       "</style>\n",
       "<table border=\"1\" class=\"dataframe\">\n",
       "  <thead>\n",
       "    <tr style=\"text-align: right;\">\n",
       "      <th></th>\n",
       "      <th>Momentum</th>\n",
       "      <th>ShortInterest</th>\n",
       "      <th>Value</th>\n",
       "    </tr>\n",
       "    <tr>\n",
       "      <th>industry</th>\n",
       "      <th></th>\n",
       "      <th></th>\n",
       "      <th></th>\n",
       "    </tr>\n",
       "  </thead>\n",
       "  <tbody>\n",
       "    <tr>\n",
       "      <th>FINANCIAL</th>\n",
       "      <td>0.029420</td>\n",
       "      <td>-0.019990</td>\n",
       "      <td>0.080372</td>\n",
       "    </tr>\n",
       "    <tr>\n",
       "      <th>TECH</th>\n",
       "      <td>0.029956</td>\n",
       "      <td>-0.019767</td>\n",
       "      <td>0.079554</td>\n",
       "    </tr>\n",
       "  </tbody>\n",
       "</table>\n",
       "</div>"
      ],
      "text/plain": [
       "           Momentum  ShortInterest     Value\n",
       "industry                                    \n",
       "FINANCIAL  0.029420      -0.019990  0.080372\n",
       "TECH       0.029956      -0.019767  0.079554"
      ]
     },
     "execution_count": 192,
     "metadata": {},
     "output_type": "execute_result"
    }
   ],
   "source": [
    "by_industry.mean()"
   ]
  },
  {
   "cell_type": "code",
   "execution_count": 196,
   "metadata": {},
   "outputs": [
    {
     "data": {
      "text/html": [
       "<div>\n",
       "<style>\n",
       "    .dataframe thead tr:only-child th {\n",
       "        text-align: right;\n",
       "    }\n",
       "\n",
       "    .dataframe thead th {\n",
       "        text-align: left;\n",
       "    }\n",
       "\n",
       "    .dataframe tbody tr th {\n",
       "        vertical-align: top;\n",
       "    }\n",
       "</style>\n",
       "<table border=\"1\" class=\"dataframe\">\n",
       "  <thead>\n",
       "    <tr style=\"text-align: right;\">\n",
       "      <th></th>\n",
       "      <th></th>\n",
       "      <th>Momentum</th>\n",
       "      <th>ShortInterest</th>\n",
       "      <th>Value</th>\n",
       "    </tr>\n",
       "    <tr>\n",
       "      <th>industry</th>\n",
       "      <th></th>\n",
       "      <th></th>\n",
       "      <th></th>\n",
       "      <th></th>\n",
       "    </tr>\n",
       "  </thead>\n",
       "  <tbody>\n",
       "    <tr>\n",
       "      <th rowspan=\"6\" valign=\"top\">FINANCIAL</th>\n",
       "      <th>count</th>\n",
       "      <td>237.000000</td>\n",
       "      <td>237.000000</td>\n",
       "      <td>237.000000</td>\n",
       "    </tr>\n",
       "    <tr>\n",
       "      <th>mean</th>\n",
       "      <td>0.029420</td>\n",
       "      <td>-0.019990</td>\n",
       "      <td>0.080372</td>\n",
       "    </tr>\n",
       "    <tr>\n",
       "      <th>std</th>\n",
       "      <td>0.004876</td>\n",
       "      <td>0.004936</td>\n",
       "      <td>0.005364</td>\n",
       "    </tr>\n",
       "    <tr>\n",
       "      <th>min</th>\n",
       "      <td>0.015037</td>\n",
       "      <td>-0.032580</td>\n",
       "      <td>0.065760</td>\n",
       "    </tr>\n",
       "    <tr>\n",
       "      <th>25%</th>\n",
       "      <td>0.026079</td>\n",
       "      <td>-0.023317</td>\n",
       "      <td>0.076772</td>\n",
       "    </tr>\n",
       "    <tr>\n",
       "      <th>50%</th>\n",
       "      <td>0.029477</td>\n",
       "      <td>-0.019756</td>\n",
       "      <td>0.080116</td>\n",
       "    </tr>\n",
       "    <tr>\n",
       "      <th>...</th>\n",
       "      <th>...</th>\n",
       "      <td>...</td>\n",
       "      <td>...</td>\n",
       "      <td>...</td>\n",
       "    </tr>\n",
       "    <tr>\n",
       "      <th rowspan=\"6\" valign=\"top\">TECH</th>\n",
       "      <th>std</th>\n",
       "      <td>0.005237</td>\n",
       "      <td>0.004841</td>\n",
       "      <td>0.005439</td>\n",
       "    </tr>\n",
       "    <tr>\n",
       "      <th>min</th>\n",
       "      <td>0.013867</td>\n",
       "      <td>-0.033472</td>\n",
       "      <td>0.064171</td>\n",
       "    </tr>\n",
       "    <tr>\n",
       "      <th>25%</th>\n",
       "      <td>0.026569</td>\n",
       "      <td>-0.022997</td>\n",
       "      <td>0.076014</td>\n",
       "    </tr>\n",
       "    <tr>\n",
       "      <th>50%</th>\n",
       "      <td>0.029958</td>\n",
       "      <td>-0.020006</td>\n",
       "      <td>0.079489</td>\n",
       "    </tr>\n",
       "    <tr>\n",
       "      <th>75%</th>\n",
       "      <td>0.032922</td>\n",
       "      <td>-0.016135</td>\n",
       "      <td>0.083324</td>\n",
       "    </tr>\n",
       "    <tr>\n",
       "      <th>max</th>\n",
       "      <td>0.044737</td>\n",
       "      <td>-0.007576</td>\n",
       "      <td>0.094456</td>\n",
       "    </tr>\n",
       "  </tbody>\n",
       "</table>\n",
       "<p>16 rows × 3 columns</p>\n",
       "</div>"
      ],
      "text/plain": [
       "                   Momentum  ShortInterest       Value\n",
       "industry                                              \n",
       "FINANCIAL count  237.000000     237.000000  237.000000\n",
       "          mean     0.029420      -0.019990    0.080372\n",
       "          std      0.004876       0.004936    0.005364\n",
       "          min      0.015037      -0.032580    0.065760\n",
       "          25%      0.026079      -0.023317    0.076772\n",
       "          50%      0.029477      -0.019756    0.080116\n",
       "...                     ...            ...         ...\n",
       "TECH      std      0.005237       0.004841    0.005439\n",
       "          min      0.013867      -0.033472    0.064171\n",
       "          25%      0.026569      -0.022997    0.076014\n",
       "          50%      0.029958      -0.020006    0.079489\n",
       "          75%      0.032922      -0.016135    0.083324\n",
       "          max      0.044737      -0.007576    0.094456\n",
       "\n",
       "[16 rows x 3 columns]"
      ]
     },
     "execution_count": 196,
     "metadata": {},
     "output_type": "execute_result"
    }
   ],
   "source": [
    "by_industry.describe().stack()"
   ]
  },
  {
   "cell_type": "code",
   "execution_count": 199,
   "metadata": {},
   "outputs": [
    {
     "data": {
      "text/plain": [
       "FrozenList([None, None])"
      ]
     },
     "execution_count": 199,
     "metadata": {},
     "output_type": "execute_result"
    }
   ],
   "source": [
    "by_industry.describe().columns.names"
   ]
  },
  {
   "cell_type": "code",
   "execution_count": 202,
   "metadata": {},
   "outputs": [
    {
     "data": {
      "text/html": [
       "<div>\n",
       "<style>\n",
       "    .dataframe thead tr:only-child th {\n",
       "        text-align: right;\n",
       "    }\n",
       "\n",
       "    .dataframe thead th {\n",
       "        text-align: left;\n",
       "    }\n",
       "\n",
       "    .dataframe tbody tr th {\n",
       "        vertical-align: top;\n",
       "    }\n",
       "</style>\n",
       "<table border=\"1\" class=\"dataframe\">\n",
       "  <thead>\n",
       "    <tr style=\"text-align: right;\">\n",
       "      <th></th>\n",
       "      <th></th>\n",
       "      <th>25%</th>\n",
       "      <th>50%</th>\n",
       "      <th>75%</th>\n",
       "      <th>count</th>\n",
       "      <th>max</th>\n",
       "      <th>mean</th>\n",
       "      <th>min</th>\n",
       "      <th>std</th>\n",
       "    </tr>\n",
       "    <tr>\n",
       "      <th>industry</th>\n",
       "      <th></th>\n",
       "      <th></th>\n",
       "      <th></th>\n",
       "      <th></th>\n",
       "      <th></th>\n",
       "      <th></th>\n",
       "      <th></th>\n",
       "      <th></th>\n",
       "      <th></th>\n",
       "    </tr>\n",
       "  </thead>\n",
       "  <tbody>\n",
       "    <tr>\n",
       "      <th rowspan=\"3\" valign=\"top\">FINANCIAL</th>\n",
       "      <th>Momentum</th>\n",
       "      <td>0.026079</td>\n",
       "      <td>0.029477</td>\n",
       "      <td>0.032619</td>\n",
       "      <td>237.0</td>\n",
       "      <td>0.046813</td>\n",
       "      <td>0.029420</td>\n",
       "      <td>0.015037</td>\n",
       "      <td>0.004876</td>\n",
       "    </tr>\n",
       "    <tr>\n",
       "      <th>ShortInterest</th>\n",
       "      <td>-0.023317</td>\n",
       "      <td>-0.019756</td>\n",
       "      <td>-0.016667</td>\n",
       "      <td>237.0</td>\n",
       "      <td>-0.006233</td>\n",
       "      <td>-0.019990</td>\n",
       "      <td>-0.032580</td>\n",
       "      <td>0.004936</td>\n",
       "    </tr>\n",
       "    <tr>\n",
       "      <th>Value</th>\n",
       "      <td>0.076772</td>\n",
       "      <td>0.080116</td>\n",
       "      <td>0.083595</td>\n",
       "      <td>237.0</td>\n",
       "      <td>0.096272</td>\n",
       "      <td>0.080372</td>\n",
       "      <td>0.065760</td>\n",
       "      <td>0.005364</td>\n",
       "    </tr>\n",
       "    <tr>\n",
       "      <th rowspan=\"3\" valign=\"top\">TECH</th>\n",
       "      <th>Momentum</th>\n",
       "      <td>0.026569</td>\n",
       "      <td>0.029958</td>\n",
       "      <td>0.032922</td>\n",
       "      <td>263.0</td>\n",
       "      <td>0.044737</td>\n",
       "      <td>0.029956</td>\n",
       "      <td>0.013867</td>\n",
       "      <td>0.005237</td>\n",
       "    </tr>\n",
       "    <tr>\n",
       "      <th>ShortInterest</th>\n",
       "      <td>-0.022997</td>\n",
       "      <td>-0.020006</td>\n",
       "      <td>-0.016135</td>\n",
       "      <td>263.0</td>\n",
       "      <td>-0.007576</td>\n",
       "      <td>-0.019767</td>\n",
       "      <td>-0.033472</td>\n",
       "      <td>0.004841</td>\n",
       "    </tr>\n",
       "    <tr>\n",
       "      <th>Value</th>\n",
       "      <td>0.076014</td>\n",
       "      <td>0.079489</td>\n",
       "      <td>0.083324</td>\n",
       "      <td>263.0</td>\n",
       "      <td>0.094456</td>\n",
       "      <td>0.079554</td>\n",
       "      <td>0.064171</td>\n",
       "      <td>0.005439</td>\n",
       "    </tr>\n",
       "  </tbody>\n",
       "</table>\n",
       "</div>"
      ],
      "text/plain": [
       "                              25%       50%       75%  count       max  \\\n",
       "industry                                                                 \n",
       "FINANCIAL Momentum       0.026079  0.029477  0.032619  237.0  0.046813   \n",
       "          ShortInterest -0.023317 -0.019756 -0.016667  237.0 -0.006233   \n",
       "          Value          0.076772  0.080116  0.083595  237.0  0.096272   \n",
       "TECH      Momentum       0.026569  0.029958  0.032922  263.0  0.044737   \n",
       "          ShortInterest -0.022997 -0.020006 -0.016135  263.0 -0.007576   \n",
       "          Value          0.076014  0.079489  0.083324  263.0  0.094456   \n",
       "\n",
       "                             mean       min       std  \n",
       "industry                                               \n",
       "FINANCIAL Momentum       0.029420  0.015037  0.004876  \n",
       "          ShortInterest -0.019990 -0.032580  0.004936  \n",
       "          Value          0.080372  0.065760  0.005364  \n",
       "TECH      Momentum       0.029956  0.013867  0.005237  \n",
       "          ShortInterest -0.019767 -0.033472  0.004841  \n",
       "          Value          0.079554  0.064171  0.005439  "
      ]
     },
     "execution_count": 202,
     "metadata": {},
     "output_type": "execute_result"
    }
   ],
   "source": [
    "by_industry.describe().stack(0)"
   ]
  },
  {
   "cell_type": "code",
   "execution_count": 203,
   "metadata": {
    "scrolled": true
   },
   "outputs": [
    {
     "data": {
      "text/html": [
       "<div>\n",
       "<style>\n",
       "    .dataframe thead tr:only-child th {\n",
       "        text-align: right;\n",
       "    }\n",
       "\n",
       "    .dataframe thead th {\n",
       "        text-align: left;\n",
       "    }\n",
       "\n",
       "    .dataframe tbody tr th {\n",
       "        vertical-align: top;\n",
       "    }\n",
       "</style>\n",
       "<table border=\"1\" class=\"dataframe\">\n",
       "  <thead>\n",
       "    <tr style=\"text-align: right;\">\n",
       "      <th></th>\n",
       "      <th></th>\n",
       "      <th>Momentum</th>\n",
       "      <th>ShortInterest</th>\n",
       "      <th>Value</th>\n",
       "    </tr>\n",
       "    <tr>\n",
       "      <th>industry</th>\n",
       "      <th></th>\n",
       "      <th></th>\n",
       "      <th></th>\n",
       "      <th></th>\n",
       "    </tr>\n",
       "  </thead>\n",
       "  <tbody>\n",
       "    <tr>\n",
       "      <th rowspan=\"6\" valign=\"top\">FINANCIAL</th>\n",
       "      <th>count</th>\n",
       "      <td>237.000000</td>\n",
       "      <td>237.000000</td>\n",
       "      <td>237.000000</td>\n",
       "    </tr>\n",
       "    <tr>\n",
       "      <th>mean</th>\n",
       "      <td>0.029420</td>\n",
       "      <td>-0.019990</td>\n",
       "      <td>0.080372</td>\n",
       "    </tr>\n",
       "    <tr>\n",
       "      <th>std</th>\n",
       "      <td>0.004876</td>\n",
       "      <td>0.004936</td>\n",
       "      <td>0.005364</td>\n",
       "    </tr>\n",
       "    <tr>\n",
       "      <th>min</th>\n",
       "      <td>0.015037</td>\n",
       "      <td>-0.032580</td>\n",
       "      <td>0.065760</td>\n",
       "    </tr>\n",
       "    <tr>\n",
       "      <th>25%</th>\n",
       "      <td>0.026079</td>\n",
       "      <td>-0.023317</td>\n",
       "      <td>0.076772</td>\n",
       "    </tr>\n",
       "    <tr>\n",
       "      <th>50%</th>\n",
       "      <td>0.029477</td>\n",
       "      <td>-0.019756</td>\n",
       "      <td>0.080116</td>\n",
       "    </tr>\n",
       "    <tr>\n",
       "      <th>...</th>\n",
       "      <th>...</th>\n",
       "      <td>...</td>\n",
       "      <td>...</td>\n",
       "      <td>...</td>\n",
       "    </tr>\n",
       "    <tr>\n",
       "      <th rowspan=\"6\" valign=\"top\">TECH</th>\n",
       "      <th>std</th>\n",
       "      <td>0.005237</td>\n",
       "      <td>0.004841</td>\n",
       "      <td>0.005439</td>\n",
       "    </tr>\n",
       "    <tr>\n",
       "      <th>min</th>\n",
       "      <td>0.013867</td>\n",
       "      <td>-0.033472</td>\n",
       "      <td>0.064171</td>\n",
       "    </tr>\n",
       "    <tr>\n",
       "      <th>25%</th>\n",
       "      <td>0.026569</td>\n",
       "      <td>-0.022997</td>\n",
       "      <td>0.076014</td>\n",
       "    </tr>\n",
       "    <tr>\n",
       "      <th>50%</th>\n",
       "      <td>0.029958</td>\n",
       "      <td>-0.020006</td>\n",
       "      <td>0.079489</td>\n",
       "    </tr>\n",
       "    <tr>\n",
       "      <th>75%</th>\n",
       "      <td>0.032922</td>\n",
       "      <td>-0.016135</td>\n",
       "      <td>0.083324</td>\n",
       "    </tr>\n",
       "    <tr>\n",
       "      <th>max</th>\n",
       "      <td>0.044737</td>\n",
       "      <td>-0.007576</td>\n",
       "      <td>0.094456</td>\n",
       "    </tr>\n",
       "  </tbody>\n",
       "</table>\n",
       "<p>16 rows × 3 columns</p>\n",
       "</div>"
      ],
      "text/plain": [
       "                   Momentum  ShortInterest       Value\n",
       "industry                                              \n",
       "FINANCIAL count  237.000000     237.000000  237.000000\n",
       "          mean     0.029420      -0.019990    0.080372\n",
       "          std      0.004876       0.004936    0.005364\n",
       "          min      0.015037      -0.032580    0.065760\n",
       "          25%      0.026079      -0.023317    0.076772\n",
       "          50%      0.029477      -0.019756    0.080116\n",
       "...                     ...            ...         ...\n",
       "TECH      std      0.005237       0.004841    0.005439\n",
       "          min      0.013867      -0.033472    0.064171\n",
       "          25%      0.026569      -0.022997    0.076014\n",
       "          50%      0.029958      -0.020006    0.079489\n",
       "          75%      0.032922      -0.016135    0.083324\n",
       "          max      0.044737      -0.007576    0.094456\n",
       "\n",
       "[16 rows x 3 columns]"
      ]
     },
     "execution_count": 203,
     "metadata": {},
     "output_type": "execute_result"
    }
   ],
   "source": [
    "by_industry.describe().stack(1)"
   ]
  },
  {
   "cell_type": "code",
   "execution_count": 205,
   "metadata": {},
   "outputs": [
    {
     "data": {
      "text/plain": [
       "                 industry \n",
       "Momentum  count  FINANCIAL    237.000000\n",
       "                 TECH         263.000000\n",
       "          mean   FINANCIAL      0.029420\n",
       "                 TECH           0.029956\n",
       "          std    FINANCIAL      0.004876\n",
       "                 TECH           0.005237\n",
       "                                 ...    \n",
       "Value     50%    FINANCIAL      0.080116\n",
       "                 TECH           0.079489\n",
       "          75%    FINANCIAL      0.083595\n",
       "                 TECH           0.083324\n",
       "          max    FINANCIAL      0.096272\n",
       "                 TECH           0.094456\n",
       "Length: 48, dtype: float64"
      ]
     },
     "execution_count": 205,
     "metadata": {},
     "output_type": "execute_result"
    }
   ],
   "source": [
    "by_industry.describe().unstack('industry')"
   ]
  },
  {
   "cell_type": "code",
   "execution_count": 206,
   "metadata": {
    "scrolled": true
   },
   "outputs": [
    {
     "data": {
      "text/plain": [
       "industry                       \n",
       "FINANCIAL  count  Momentum         237.000000\n",
       "                  ShortInterest    237.000000\n",
       "                  Value            237.000000\n",
       "           mean   Momentum           0.029420\n",
       "                  ShortInterest     -0.019990\n",
       "                  Value              0.080372\n",
       "                                      ...    \n",
       "TECH       75%    Momentum           0.032922\n",
       "                  ShortInterest     -0.016135\n",
       "                  Value              0.083324\n",
       "           max    Momentum           0.044737\n",
       "                  ShortInterest     -0.007576\n",
       "                  Value              0.094456\n",
       "Length: 48, dtype: float64"
      ]
     },
     "execution_count": 206,
     "metadata": {},
     "output_type": "execute_result"
    }
   ],
   "source": [
    "by_industry.describe().stack(1).stack(0)"
   ]
  },
  {
   "cell_type": "code",
   "execution_count": null,
   "metadata": {
    "collapsed": true
   },
   "outputs": [],
   "source": []
  }
 ],
 "metadata": {
  "kernelspec": {
   "display_name": "Python 3",
   "language": "python",
   "name": "python3"
  },
  "language_info": {
   "codemirror_mode": {
    "name": "ipython",
    "version": 3
   },
   "file_extension": ".py",
   "mimetype": "text/x-python",
   "name": "python",
   "nbconvert_exporter": "python",
   "pygments_lexer": "ipython3",
   "version": "3.6.1"
  }
 },
 "nbformat": 4,
 "nbformat_minor": 2
}
