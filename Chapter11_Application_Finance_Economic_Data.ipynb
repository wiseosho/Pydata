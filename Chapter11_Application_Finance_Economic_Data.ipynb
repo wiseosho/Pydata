{
 "cells": [
  {
   "cell_type": "code",
   "execution_count": 1,
   "metadata": {},
   "outputs": [
    {
     "data": {
      "text/plain": [
       "'D:\\\\Users\\\\JunyoungSon\\\\Documents\\\\Pydata'"
      ]
     },
     "execution_count": 1,
     "metadata": {},
     "output_type": "execute_result"
    }
   ],
   "source": [
    "from __future__ import division\n",
    "from pandas import Series, DataFrame\n",
    "import pandas as pd\n",
    "from numpy.random import randn\n",
    "import numpy as np\n",
    "pd.options.display.max_rows = 12\n",
    "np.set_printoptions(precision=4, suppress=True)\n",
    "import matplotlib.pyplot as plt\n",
    "plt.rc('figure', figsize=(12, 6))\n",
    "\n",
    "%matplotlib inline\n",
    "\n",
    "%pwd\n"
   ]
  },
  {
   "cell_type": "code",
   "execution_count": 2,
   "metadata": {
    "collapsed": true
   },
   "outputs": [],
   "source": [
    "close_px = pd.read_csv('./pydata-book/pydata-book/ch11/stock_px.csv', parse_dates=True, index_col=0)\n",
    "volume = pd.read_csv('./pydata-book/pydata-book/ch11/volume.csv', parse_dates=True, index_col=0)\n",
    "prices = close_px.loc['2011-09-05':'2011-09-14', ['AAPL', 'JNJ', 'SPX', 'XOM']]\n",
    "volume = volume.loc['2011-09-05':'2011-09-12', ['AAPL', 'JNJ', 'XOM']]"
   ]
  },
  {
   "cell_type": "code",
   "execution_count": 3,
   "metadata": {},
   "outputs": [
    {
     "data": {
      "text/html": [
       "<div>\n",
       "<style>\n",
       "    .dataframe thead tr:only-child th {\n",
       "        text-align: right;\n",
       "    }\n",
       "\n",
       "    .dataframe thead th {\n",
       "        text-align: left;\n",
       "    }\n",
       "\n",
       "    .dataframe tbody tr th {\n",
       "        vertical-align: top;\n",
       "    }\n",
       "</style>\n",
       "<table border=\"1\" class=\"dataframe\">\n",
       "  <thead>\n",
       "    <tr style=\"text-align: right;\">\n",
       "      <th></th>\n",
       "      <th>AA</th>\n",
       "      <th>AAPL</th>\n",
       "      <th>GE</th>\n",
       "      <th>IBM</th>\n",
       "      <th>JNJ</th>\n",
       "      <th>MSFT</th>\n",
       "      <th>PEP</th>\n",
       "      <th>SPX</th>\n",
       "      <th>XOM</th>\n",
       "    </tr>\n",
       "  </thead>\n",
       "  <tbody>\n",
       "    <tr>\n",
       "      <th>1990-02-01</th>\n",
       "      <td>4.98</td>\n",
       "      <td>7.86</td>\n",
       "      <td>2.87</td>\n",
       "      <td>16.79</td>\n",
       "      <td>4.27</td>\n",
       "      <td>0.51</td>\n",
       "      <td>6.04</td>\n",
       "      <td>328.79</td>\n",
       "      <td>6.12</td>\n",
       "    </tr>\n",
       "    <tr>\n",
       "      <th>1990-02-02</th>\n",
       "      <td>5.04</td>\n",
       "      <td>8.00</td>\n",
       "      <td>2.87</td>\n",
       "      <td>16.89</td>\n",
       "      <td>4.37</td>\n",
       "      <td>0.51</td>\n",
       "      <td>6.09</td>\n",
       "      <td>330.92</td>\n",
       "      <td>6.24</td>\n",
       "    </tr>\n",
       "    <tr>\n",
       "      <th>1990-02-05</th>\n",
       "      <td>5.07</td>\n",
       "      <td>8.18</td>\n",
       "      <td>2.87</td>\n",
       "      <td>17.32</td>\n",
       "      <td>4.34</td>\n",
       "      <td>0.51</td>\n",
       "      <td>6.05</td>\n",
       "      <td>331.85</td>\n",
       "      <td>6.25</td>\n",
       "    </tr>\n",
       "    <tr>\n",
       "      <th>1990-02-06</th>\n",
       "      <td>5.01</td>\n",
       "      <td>8.12</td>\n",
       "      <td>2.88</td>\n",
       "      <td>17.56</td>\n",
       "      <td>4.32</td>\n",
       "      <td>0.51</td>\n",
       "      <td>6.15</td>\n",
       "      <td>329.66</td>\n",
       "      <td>6.23</td>\n",
       "    </tr>\n",
       "    <tr>\n",
       "      <th>1990-02-07</th>\n",
       "      <td>5.04</td>\n",
       "      <td>7.77</td>\n",
       "      <td>2.91</td>\n",
       "      <td>17.93</td>\n",
       "      <td>4.38</td>\n",
       "      <td>0.51</td>\n",
       "      <td>6.17</td>\n",
       "      <td>333.75</td>\n",
       "      <td>6.33</td>\n",
       "    </tr>\n",
       "  </tbody>\n",
       "</table>\n",
       "</div>"
      ],
      "text/plain": [
       "              AA  AAPL    GE    IBM   JNJ  MSFT   PEP     SPX   XOM\n",
       "1990-02-01  4.98  7.86  2.87  16.79  4.27  0.51  6.04  328.79  6.12\n",
       "1990-02-02  5.04  8.00  2.87  16.89  4.37  0.51  6.09  330.92  6.24\n",
       "1990-02-05  5.07  8.18  2.87  17.32  4.34  0.51  6.05  331.85  6.25\n",
       "1990-02-06  5.01  8.12  2.88  17.56  4.32  0.51  6.15  329.66  6.23\n",
       "1990-02-07  5.04  7.77  2.91  17.93  4.38  0.51  6.17  333.75  6.33"
      ]
     },
     "execution_count": 3,
     "metadata": {},
     "output_type": "execute_result"
    }
   ],
   "source": [
    "close_px.head()"
   ]
  },
  {
   "cell_type": "code",
   "execution_count": 4,
   "metadata": {},
   "outputs": [
    {
     "data": {
      "text/html": [
       "<div>\n",
       "<style>\n",
       "    .dataframe thead tr:only-child th {\n",
       "        text-align: right;\n",
       "    }\n",
       "\n",
       "    .dataframe thead th {\n",
       "        text-align: left;\n",
       "    }\n",
       "\n",
       "    .dataframe tbody tr th {\n",
       "        vertical-align: top;\n",
       "    }\n",
       "</style>\n",
       "<table border=\"1\" class=\"dataframe\">\n",
       "  <thead>\n",
       "    <tr style=\"text-align: right;\">\n",
       "      <th></th>\n",
       "      <th>AAPL</th>\n",
       "      <th>JNJ</th>\n",
       "      <th>XOM</th>\n",
       "    </tr>\n",
       "  </thead>\n",
       "  <tbody>\n",
       "    <tr>\n",
       "      <th>2011-09-06</th>\n",
       "      <td>18173500.0</td>\n",
       "      <td>15848300.0</td>\n",
       "      <td>25416300.0</td>\n",
       "    </tr>\n",
       "    <tr>\n",
       "      <th>2011-09-07</th>\n",
       "      <td>12492000.0</td>\n",
       "      <td>10759700.0</td>\n",
       "      <td>23108400.0</td>\n",
       "    </tr>\n",
       "    <tr>\n",
       "      <th>2011-09-08</th>\n",
       "      <td>14839800.0</td>\n",
       "      <td>15551500.0</td>\n",
       "      <td>22434800.0</td>\n",
       "    </tr>\n",
       "    <tr>\n",
       "      <th>2011-09-09</th>\n",
       "      <td>20171900.0</td>\n",
       "      <td>17008200.0</td>\n",
       "      <td>27969100.0</td>\n",
       "    </tr>\n",
       "    <tr>\n",
       "      <th>2011-09-12</th>\n",
       "      <td>16697300.0</td>\n",
       "      <td>13448200.0</td>\n",
       "      <td>26205800.0</td>\n",
       "    </tr>\n",
       "  </tbody>\n",
       "</table>\n",
       "</div>"
      ],
      "text/plain": [
       "                  AAPL         JNJ         XOM\n",
       "2011-09-06  18173500.0  15848300.0  25416300.0\n",
       "2011-09-07  12492000.0  10759700.0  23108400.0\n",
       "2011-09-08  14839800.0  15551500.0  22434800.0\n",
       "2011-09-09  20171900.0  17008200.0  27969100.0\n",
       "2011-09-12  16697300.0  13448200.0  26205800.0"
      ]
     },
     "execution_count": 4,
     "metadata": {},
     "output_type": "execute_result"
    }
   ],
   "source": [
    "volume.head()"
   ]
  },
  {
   "cell_type": "markdown",
   "metadata": {},
   "source": [
    "### Volume weighted average prices.\n",
    "#### multiplification by datetime stamp"
   ]
  },
  {
   "cell_type": "code",
   "execution_count": 5,
   "metadata": {},
   "outputs": [
    {
     "data": {
      "text/html": [
       "<div>\n",
       "<style>\n",
       "    .dataframe thead tr:only-child th {\n",
       "        text-align: right;\n",
       "    }\n",
       "\n",
       "    .dataframe thead th {\n",
       "        text-align: left;\n",
       "    }\n",
       "\n",
       "    .dataframe tbody tr th {\n",
       "        vertical-align: top;\n",
       "    }\n",
       "</style>\n",
       "<table border=\"1\" class=\"dataframe\">\n",
       "  <thead>\n",
       "    <tr style=\"text-align: right;\">\n",
       "      <th></th>\n",
       "      <th>AAPL</th>\n",
       "      <th>JNJ</th>\n",
       "      <th>SPX</th>\n",
       "      <th>XOM</th>\n",
       "    </tr>\n",
       "  </thead>\n",
       "  <tbody>\n",
       "    <tr>\n",
       "      <th>2011-09-06</th>\n",
       "      <td>6.901205e+09</td>\n",
       "      <td>1.024434e+09</td>\n",
       "      <td>NaN</td>\n",
       "      <td>1.808370e+09</td>\n",
       "    </tr>\n",
       "    <tr>\n",
       "      <th>2011-09-07</th>\n",
       "      <td>4.796054e+09</td>\n",
       "      <td>7.040072e+08</td>\n",
       "      <td>NaN</td>\n",
       "      <td>1.701934e+09</td>\n",
       "    </tr>\n",
       "    <tr>\n",
       "      <th>2011-09-08</th>\n",
       "      <td>5.700561e+09</td>\n",
       "      <td>1.010070e+09</td>\n",
       "      <td>NaN</td>\n",
       "      <td>1.633702e+09</td>\n",
       "    </tr>\n",
       "    <tr>\n",
       "      <th>2011-09-09</th>\n",
       "      <td>7.614489e+09</td>\n",
       "      <td>1.082402e+09</td>\n",
       "      <td>NaN</td>\n",
       "      <td>1.986086e+09</td>\n",
       "    </tr>\n",
       "    <tr>\n",
       "      <th>2011-09-12</th>\n",
       "      <td>6.343972e+09</td>\n",
       "      <td>8.551710e+08</td>\n",
       "      <td>NaN</td>\n",
       "      <td>1.882625e+09</td>\n",
       "    </tr>\n",
       "    <tr>\n",
       "      <th>2011-09-13</th>\n",
       "      <td>NaN</td>\n",
       "      <td>NaN</td>\n",
       "      <td>NaN</td>\n",
       "      <td>NaN</td>\n",
       "    </tr>\n",
       "    <tr>\n",
       "      <th>2011-09-14</th>\n",
       "      <td>NaN</td>\n",
       "      <td>NaN</td>\n",
       "      <td>NaN</td>\n",
       "      <td>NaN</td>\n",
       "    </tr>\n",
       "  </tbody>\n",
       "</table>\n",
       "</div>"
      ],
      "text/plain": [
       "                    AAPL           JNJ  SPX           XOM\n",
       "2011-09-06  6.901205e+09  1.024434e+09  NaN  1.808370e+09\n",
       "2011-09-07  4.796054e+09  7.040072e+08  NaN  1.701934e+09\n",
       "2011-09-08  5.700561e+09  1.010070e+09  NaN  1.633702e+09\n",
       "2011-09-09  7.614489e+09  1.082402e+09  NaN  1.986086e+09\n",
       "2011-09-12  6.343972e+09  8.551710e+08  NaN  1.882625e+09\n",
       "2011-09-13           NaN           NaN  NaN           NaN\n",
       "2011-09-14           NaN           NaN  NaN           NaN"
      ]
     },
     "execution_count": 5,
     "metadata": {},
     "output_type": "execute_result"
    }
   ],
   "source": [
    "prices*volume"
   ]
  },
  {
   "cell_type": "code",
   "execution_count": 6,
   "metadata": {},
   "outputs": [
    {
     "data": {
      "text/plain": [
       "AAPL    380.655181\n",
       "JNJ      64.394769\n",
       "SPX            NaN\n",
       "XOM      72.024288\n",
       "dtype: float64"
      ]
     },
     "execution_count": 6,
     "metadata": {},
     "output_type": "execute_result"
    }
   ],
   "source": [
    "vwap = (prices * volume).sum() / volume.sum()\n",
    "vwap"
   ]
  },
  {
   "cell_type": "code",
   "execution_count": 7,
   "metadata": {},
   "outputs": [
    {
     "data": {
      "text/plain": [
       "AAPL    380.655181\n",
       "JNJ      64.394769\n",
       "XOM      72.024288\n",
       "dtype: float64"
      ]
     },
     "execution_count": 7,
     "metadata": {},
     "output_type": "execute_result"
    }
   ],
   "source": [
    "vwap.dropna()\n"
   ]
  },
  {
   "cell_type": "markdown",
   "metadata": {},
   "source": [
    "### align. two different dataframe by specified joining method.('Inner')\n",
    "\n",
    "\n",
    "```python\n",
    "DataFrame.align(D2, join = 'inner')\n",
    "```\n",
    "\n",
    "`return aligned tuples of each Dataframes`"
   ]
  },
  {
   "cell_type": "code",
   "execution_count": 8,
   "metadata": {},
   "outputs": [
    {
     "data": {
      "text/plain": [
       "(              AAPL    JNJ    XOM\n",
       " 2011-09-06  379.74  64.64  71.15\n",
       " 2011-09-07  383.93  65.43  73.65\n",
       " 2011-09-08  384.14  64.95  72.82\n",
       " 2011-09-09  377.48  63.64  71.01\n",
       " 2011-09-12  379.94  63.59  71.84,\n",
       "                   AAPL         JNJ         XOM\n",
       " 2011-09-06  18173500.0  15848300.0  25416300.0\n",
       " 2011-09-07  12492000.0  10759700.0  23108400.0\n",
       " 2011-09-08  14839800.0  15551500.0  22434800.0\n",
       " 2011-09-09  20171900.0  17008200.0  27969100.0\n",
       " 2011-09-12  16697300.0  13448200.0  26205800.0)"
      ]
     },
     "execution_count": 8,
     "metadata": {},
     "output_type": "execute_result"
    }
   ],
   "source": [
    "prices.align(volume, join = 'inner')"
   ]
  },
  {
   "cell_type": "code",
   "execution_count": 9,
   "metadata": {},
   "outputs": [
    {
     "data": {
      "text/html": [
       "<div>\n",
       "<style>\n",
       "    .dataframe thead tr:only-child th {\n",
       "        text-align: right;\n",
       "    }\n",
       "\n",
       "    .dataframe thead th {\n",
       "        text-align: left;\n",
       "    }\n",
       "\n",
       "    .dataframe tbody tr th {\n",
       "        vertical-align: top;\n",
       "    }\n",
       "</style>\n",
       "<table border=\"1\" class=\"dataframe\">\n",
       "  <thead>\n",
       "    <tr style=\"text-align: right;\">\n",
       "      <th></th>\n",
       "      <th>one</th>\n",
       "      <th>three</th>\n",
       "      <th>two</th>\n",
       "    </tr>\n",
       "  </thead>\n",
       "  <tbody>\n",
       "    <tr>\n",
       "      <th>a</th>\n",
       "      <td>0.0</td>\n",
       "      <td>1.0</td>\n",
       "      <td>NaN</td>\n",
       "    </tr>\n",
       "    <tr>\n",
       "      <th>b</th>\n",
       "      <td>1.0</td>\n",
       "      <td>NaN</td>\n",
       "      <td>1.0</td>\n",
       "    </tr>\n",
       "    <tr>\n",
       "      <th>c</th>\n",
       "      <td>2.0</td>\n",
       "      <td>2.0</td>\n",
       "      <td>2.0</td>\n",
       "    </tr>\n",
       "    <tr>\n",
       "      <th>d</th>\n",
       "      <td>NaN</td>\n",
       "      <td>NaN</td>\n",
       "      <td>0.0</td>\n",
       "    </tr>\n",
       "    <tr>\n",
       "      <th>e</th>\n",
       "      <td>NaN</td>\n",
       "      <td>NaN</td>\n",
       "      <td>3.0</td>\n",
       "    </tr>\n",
       "    <tr>\n",
       "      <th>f</th>\n",
       "      <td>NaN</td>\n",
       "      <td>0.0</td>\n",
       "      <td>NaN</td>\n",
       "    </tr>\n",
       "  </tbody>\n",
       "</table>\n",
       "</div>"
      ],
      "text/plain": [
       "   one  three  two\n",
       "a  0.0    1.0  NaN\n",
       "b  1.0    NaN  1.0\n",
       "c  2.0    2.0  2.0\n",
       "d  NaN    NaN  0.0\n",
       "e  NaN    NaN  3.0\n",
       "f  NaN    0.0  NaN"
      ]
     },
     "execution_count": 9,
     "metadata": {},
     "output_type": "execute_result"
    }
   ],
   "source": [
    "s1 = Series(range(3), index = ['a', 'b', 'c'])\n",
    "s2 = Series(range(4), index = ['d', 'b', 'c', 'e'])\n",
    "s3 = Series(range(3), index=['f', 'a', 'c'])\n",
    "DataFrame({'one': s1, 'two': s2, 'three': s3})"
   ]
  },
  {
   "cell_type": "markdown",
   "metadata": {},
   "source": [
    "### Time Series of different frequencies.\n"
   ]
  },
  {
   "cell_type": "code",
   "execution_count": 10,
   "metadata": {},
   "outputs": [
    {
     "data": {
      "text/plain": [
       "2012-06-13    2.339487\n",
       "2012-06-20    1.137808\n",
       "2012-06-27    1.120575\n",
       "Freq: W-WED, dtype: float64"
      ]
     },
     "execution_count": 10,
     "metadata": {},
     "output_type": "execute_result"
    }
   ],
   "source": [
    "ts1 = Series(np.random.randn(3),\n",
    "             index=pd.date_range('2012-6-13', periods=3, freq='W-WED'))\n",
    "ts1"
   ]
  },
  {
   "cell_type": "code",
   "execution_count": 11,
   "metadata": {},
   "outputs": [
    {
     "data": {
      "text/plain": [
       "DatetimeIndexResampler [freq=<BusinessDay>, axis=0, closed=left, label=left, convention=start, base=0]"
      ]
     },
     "execution_count": 11,
     "metadata": {},
     "output_type": "execute_result"
    }
   ],
   "source": [
    "ts1.resample('B')"
   ]
  },
  {
   "cell_type": "code",
   "execution_count": 12,
   "metadata": {},
   "outputs": [
    {
     "data": {
      "text/plain": [
       "2012-06-13    2.339487\n",
       "2012-06-20    1.137808\n",
       "2012-06-27    1.120575\n",
       "Freq: W-WED, dtype: float64"
      ]
     },
     "execution_count": 12,
     "metadata": {},
     "output_type": "execute_result"
    }
   ],
   "source": [
    "ts1"
   ]
  },
  {
   "cell_type": "markdown",
   "metadata": {},
   "source": [
    "### Deprecation, fill_method => .ffill()\n",
    "### .bfill()\n",
    "### .mean()\n",
    "### .median()\n",
    "### .quantile()..\n",
    "`resample('B', fill_method = 'ffill') -> resample('B').ffill()`"
   ]
  },
  {
   "cell_type": "code",
   "execution_count": 13,
   "metadata": {
    "collapsed": true
   },
   "outputs": [],
   "source": [
    "ts1 = ts1.resample('B').ffill()"
   ]
  },
  {
   "cell_type": "code",
   "execution_count": 14,
   "metadata": {},
   "outputs": [
    {
     "data": {
      "text/plain": [
       "2012-06-12    0.281228\n",
       "2012-06-17    0.458890\n",
       "2012-06-18    1.184515\n",
       "2012-06-21    0.331909\n",
       "2012-06-22   -0.132460\n",
       "2012-06-29   -0.109184\n",
       "dtype: float64"
      ]
     },
     "execution_count": 14,
     "metadata": {},
     "output_type": "execute_result"
    }
   ],
   "source": [
    "dates = pd.DatetimeIndex(['2012-6-12', '2012-6-17', '2012-6-18',\n",
    "                          '2012-6-21', '2012-6-22', '2012-6-29'])\n",
    "ts2 = Series(np.random.randn(6), index=dates)\n",
    "ts2"
   ]
  },
  {
   "cell_type": "code",
   "execution_count": 15,
   "metadata": {},
   "outputs": [
    {
     "data": {
      "text/plain": [
       "2012-06-13    2.339487\n",
       "2012-06-14    2.339487\n",
       "2012-06-15    2.339487\n",
       "2012-06-18    2.339487\n",
       "2012-06-19    2.339487\n",
       "2012-06-20    1.137808\n",
       "2012-06-21    1.137808\n",
       "2012-06-22    1.137808\n",
       "2012-06-25    1.137808\n",
       "2012-06-26    1.137808\n",
       "2012-06-27    1.120575\n",
       "Freq: B, dtype: float64"
      ]
     },
     "execution_count": 15,
     "metadata": {},
     "output_type": "execute_result"
    }
   ],
   "source": [
    "ts1"
   ]
  },
  {
   "cell_type": "code",
   "execution_count": 16,
   "metadata": {
    "collapsed": true
   },
   "outputs": [],
   "source": [
    "ts1 = ts1.resample('B').ffill()"
   ]
  },
  {
   "cell_type": "code",
   "execution_count": 17,
   "metadata": {},
   "outputs": [
    {
     "data": {
      "text/plain": [
       "2012-06-12         NaN\n",
       "2012-06-17         NaN\n",
       "2012-06-18    2.339487\n",
       "2012-06-21    1.137808\n",
       "2012-06-22    1.137808\n",
       "2012-06-29    1.137808\n",
       "dtype: float64"
      ]
     },
     "execution_count": 17,
     "metadata": {},
     "output_type": "execute_result"
    }
   ],
   "source": [
    "ts1.reindex(ts2.index).ffill()"
   ]
  },
  {
   "cell_type": "code",
   "execution_count": 18,
   "metadata": {},
   "outputs": [
    {
     "data": {
      "text/plain": [
       "2012-06-12         NaN\n",
       "2012-06-17         NaN\n",
       "2012-06-18    3.524002\n",
       "2012-06-21    1.469718\n",
       "2012-06-22    1.005348\n",
       "2012-06-29    1.028624\n",
       "dtype: float64"
      ]
     },
     "execution_count": 18,
     "metadata": {},
     "output_type": "execute_result"
    }
   ],
   "source": [
    "ts2 + ts1.reindex(ts2.index).ffill()"
   ]
  },
  {
   "cell_type": "markdown",
   "metadata": {},
   "source": [
    "### REINDEX D1 with D2.index\n",
    "#### Iregular index.\n",
    "D1.reindex(D2.index, method = 'ffill')"
   ]
  },
  {
   "cell_type": "code",
   "execution_count": 19,
   "metadata": {},
   "outputs": [
    {
     "data": {
      "text/plain": [
       "1984Q2    1.78\n",
       "1984Q3    1.94\n",
       "1984Q4    2.08\n",
       "1985Q1    2.01\n",
       "1985Q2    2.15\n",
       "1985Q3    2.31\n",
       "1985Q4    2.46\n",
       "Freq: Q-SEP, dtype: float64"
      ]
     },
     "execution_count": 19,
     "metadata": {},
     "output_type": "execute_result"
    }
   ],
   "source": [
    "gdp = Series([1.78, 1.94, 2.08, 2.01, 2.15, 2.31, 2.46],\n",
    "             index=pd.period_range('1984Q2', periods=7, freq='Q-SEP'))\n",
    "infl = Series([0.025, 0.045, 0.037, 0.04],\n",
    "              index=pd.period_range('1982', periods=4, freq='A-DEC'))\n",
    "gdp"
   ]
  },
  {
   "cell_type": "code",
   "execution_count": 20,
   "metadata": {},
   "outputs": [
    {
     "data": {
      "text/plain": [
       "1982    0.025\n",
       "1983    0.045\n",
       "1984    0.037\n",
       "1985    0.040\n",
       "Freq: A-DEC, dtype: float64"
      ]
     },
     "execution_count": 20,
     "metadata": {},
     "output_type": "execute_result"
    }
   ],
   "source": [
    "infl"
   ]
  },
  {
   "cell_type": "code",
   "execution_count": 21,
   "metadata": {
    "collapsed": true
   },
   "outputs": [],
   "source": [
    "infl_q = infl.asfreq('Q-SEP', how = 'end')"
   ]
  },
  {
   "cell_type": "code",
   "execution_count": 22,
   "metadata": {},
   "outputs": [
    {
     "data": {
      "text/plain": [
       "1983Q1    0.025\n",
       "1984Q1    0.045\n",
       "1985Q1    0.037\n",
       "1986Q1    0.040\n",
       "Freq: Q-SEP, dtype: float64"
      ]
     },
     "execution_count": 22,
     "metadata": {},
     "output_type": "execute_result"
    }
   ],
   "source": [
    "infl_q"
   ]
  },
  {
   "cell_type": "code",
   "execution_count": 23,
   "metadata": {},
   "outputs": [
    {
     "data": {
      "text/plain": [
       "1984Q2    0.045\n",
       "1984Q3    0.045\n",
       "1984Q4    0.045\n",
       "1985Q1    0.037\n",
       "1985Q2    0.037\n",
       "1985Q3    0.037\n",
       "1985Q4    0.037\n",
       "Freq: Q-SEP, dtype: float64"
      ]
     },
     "execution_count": 23,
     "metadata": {},
     "output_type": "execute_result"
    }
   ],
   "source": [
    "infl_q.reindex(gdp.index, method = 'ffill')"
   ]
  },
  {
   "cell_type": "code",
   "execution_count": 24,
   "metadata": {
    "collapsed": true
   },
   "outputs": [],
   "source": [
    "# Make an intraday date range and time series\n",
    "rng = pd.date_range('2012-06-01 09:30', '2012-06-01 15:59', freq='T')"
   ]
  },
  {
   "cell_type": "code",
   "execution_count": 25,
   "metadata": {},
   "outputs": [
    {
     "data": {
      "text/plain": [
       "DatetimeIndex(['2012-06-04 09:30:00', '2012-06-04 09:31:00',\n",
       "               '2012-06-04 09:32:00', '2012-06-04 09:33:00',\n",
       "               '2012-06-04 09:34:00', '2012-06-04 09:35:00',\n",
       "               '2012-06-04 09:36:00', '2012-06-04 09:37:00',\n",
       "               '2012-06-04 09:38:00', '2012-06-04 09:39:00',\n",
       "               ...\n",
       "               '2012-06-04 15:50:00', '2012-06-04 15:51:00',\n",
       "               '2012-06-04 15:52:00', '2012-06-04 15:53:00',\n",
       "               '2012-06-04 15:54:00', '2012-06-04 15:55:00',\n",
       "               '2012-06-04 15:56:00', '2012-06-04 15:57:00',\n",
       "               '2012-06-04 15:58:00', '2012-06-04 15:59:00'],\n",
       "              dtype='datetime64[ns]', length=390, freq='T')"
      ]
     },
     "execution_count": 25,
     "metadata": {},
     "output_type": "execute_result"
    }
   ],
   "source": [
    "rng + pd.offsets.BDay(1)"
   ]
  },
  {
   "cell_type": "code",
   "execution_count": 26,
   "metadata": {},
   "outputs": [
    {
     "data": {
      "text/plain": [
       "DatetimeIndex(['2012-06-04 09:30:00', '2012-06-04 09:31:00',\n",
       "               '2012-06-04 09:32:00', '2012-06-04 09:33:00',\n",
       "               '2012-06-04 09:34:00', '2012-06-04 09:35:00',\n",
       "               '2012-06-04 09:36:00', '2012-06-04 09:37:00',\n",
       "               '2012-06-04 09:38:00', '2012-06-04 09:39:00',\n",
       "               ...\n",
       "               '2012-06-04 15:50:00', '2012-06-04 15:51:00',\n",
       "               '2012-06-04 15:52:00', '2012-06-04 15:53:00',\n",
       "               '2012-06-04 15:54:00', '2012-06-04 15:55:00',\n",
       "               '2012-06-04 15:56:00', '2012-06-04 15:57:00',\n",
       "               '2012-06-04 15:58:00', '2012-06-04 15:59:00'],\n",
       "              dtype='datetime64[ns]', length=390, freq='T')"
      ]
     },
     "execution_count": 26,
     "metadata": {},
     "output_type": "execute_result"
    }
   ],
   "source": [
    "rng + pd.offsets.DateOffset(3)"
   ]
  },
  {
   "cell_type": "code",
   "execution_count": 27,
   "metadata": {},
   "outputs": [
    {
     "data": {
      "text/plain": [
       "DatetimeIndex(['2012-06-04 09:30:00', '2012-06-04 09:31:00',\n",
       "               '2012-06-04 09:32:00', '2012-06-04 09:33:00',\n",
       "               '2012-06-04 09:34:00', '2012-06-04 09:35:00',\n",
       "               '2012-06-04 09:36:00', '2012-06-04 09:37:00',\n",
       "               '2012-06-04 09:38:00', '2012-06-04 09:39:00',\n",
       "               ...\n",
       "               '2012-06-04 15:50:00', '2012-06-04 15:51:00',\n",
       "               '2012-06-04 15:52:00', '2012-06-04 15:53:00',\n",
       "               '2012-06-04 15:54:00', '2012-06-04 15:55:00',\n",
       "               '2012-06-04 15:56:00', '2012-06-04 15:57:00',\n",
       "               '2012-06-04 15:58:00', '2012-06-04 15:59:00'],\n",
       "              dtype='datetime64[ns]', length=390, freq='T')"
      ]
     },
     "execution_count": 27,
     "metadata": {},
     "output_type": "execute_result"
    }
   ],
   "source": [
    "rng + pd.offsets.Day(3)"
   ]
  },
  {
   "cell_type": "code",
   "execution_count": 28,
   "metadata": {},
   "outputs": [
    {
     "data": {
      "text/plain": [
       "2012-06-01 09:30:00       0.0\n",
       "2012-06-01 09:31:00       1.0\n",
       "2012-06-01 09:32:00       2.0\n",
       "2012-06-01 09:33:00       3.0\n",
       "2012-06-01 09:34:00       4.0\n",
       "2012-06-01 09:35:00       5.0\n",
       "                        ...  \n",
       "2012-06-06 15:54:00    1554.0\n",
       "2012-06-06 15:55:00    1555.0\n",
       "2012-06-06 15:56:00    1556.0\n",
       "2012-06-06 15:57:00    1557.0\n",
       "2012-06-06 15:58:00    1558.0\n",
       "2012-06-06 15:59:00    1559.0\n",
       "Length: 1560, dtype: float64"
      ]
     },
     "execution_count": 28,
     "metadata": {},
     "output_type": "execute_result"
    }
   ],
   "source": [
    "# Make a 5-day series of 9:30-15:59 values\n",
    "rng = rng.append([rng + pd.offsets.BDay(i) for i in range(1, 4)])\n",
    "ts = Series(np.arange(len(rng), dtype=float), index=rng)\n",
    "ts"
   ]
  },
  {
   "cell_type": "code",
   "execution_count": 29,
   "metadata": {},
   "outputs": [
    {
     "data": {
      "text/plain": [
       "2012-06-01 10:00:00      30.0\n",
       "2012-06-04 10:00:00     420.0\n",
       "2012-06-05 10:00:00     810.0\n",
       "2012-06-06 10:00:00    1200.0\n",
       "dtype: float64"
      ]
     },
     "execution_count": 29,
     "metadata": {},
     "output_type": "execute_result"
    }
   ],
   "source": [
    "from datetime import time\n",
    "ts[time(10,0)]\n"
   ]
  },
  {
   "cell_type": "code",
   "execution_count": 30,
   "metadata": {},
   "outputs": [
    {
     "data": {
      "text/plain": [
       "2012-06-01 10:00:00      30.0\n",
       "2012-06-04 10:00:00     420.0\n",
       "2012-06-05 10:00:00     810.0\n",
       "2012-06-06 10:00:00    1200.0\n",
       "dtype: float64"
      ]
     },
     "execution_count": 30,
     "metadata": {},
     "output_type": "execute_result"
    }
   ],
   "source": [
    "ts.at_time(time(10,0))"
   ]
  },
  {
   "cell_type": "code",
   "execution_count": 31,
   "metadata": {},
   "outputs": [
    {
     "data": {
      "text/plain": [
       "2012-06-01 10:00:00      30.0\n",
       "2012-06-01 10:01:00      31.0\n",
       "2012-06-04 10:00:00     420.0\n",
       "2012-06-04 10:01:00     421.0\n",
       "2012-06-05 10:00:00     810.0\n",
       "2012-06-05 10:01:00     811.0\n",
       "2012-06-06 10:00:00    1200.0\n",
       "2012-06-06 10:01:00    1201.0\n",
       "dtype: float64"
      ]
     },
     "execution_count": 31,
     "metadata": {},
     "output_type": "execute_result"
    }
   ],
   "source": [
    "ts.between_time(time(10,0), time(10,1))"
   ]
  },
  {
   "cell_type": "code",
   "execution_count": 32,
   "metadata": {
    "collapsed": true
   },
   "outputs": [],
   "source": [
    "np.random.seed(12346)"
   ]
  },
  {
   "cell_type": "code",
   "execution_count": 33,
   "metadata": {
    "collapsed": true
   },
   "outputs": [],
   "source": [
    "indexer = np.sort(np.random.permutation(len(ts))[700:])"
   ]
  },
  {
   "cell_type": "code",
   "execution_count": 34,
   "metadata": {
    "collapsed": true
   },
   "outputs": [],
   "source": [
    "irr_ts = ts.copy()\n"
   ]
  },
  {
   "cell_type": "code",
   "execution_count": 35,
   "metadata": {},
   "outputs": [
    {
     "data": {
      "text/plain": [
       "2012-06-01 09:30:00       0.0\n",
       "2012-06-01 09:31:00       1.0\n",
       "2012-06-01 09:32:00       2.0\n",
       "2012-06-01 09:33:00       3.0\n",
       "2012-06-01 09:34:00       4.0\n",
       "2012-06-01 09:35:00       5.0\n",
       "                        ...  \n",
       "2012-06-06 15:54:00    1554.0\n",
       "2012-06-06 15:55:00    1555.0\n",
       "2012-06-06 15:56:00    1556.0\n",
       "2012-06-06 15:57:00    1557.0\n",
       "2012-06-06 15:58:00    1558.0\n",
       "2012-06-06 15:59:00    1559.0\n",
       "Length: 1560, dtype: float64"
      ]
     },
     "execution_count": 35,
     "metadata": {},
     "output_type": "execute_result"
    }
   ],
   "source": [
    "irr_ts"
   ]
  },
  {
   "cell_type": "code",
   "execution_count": 36,
   "metadata": {},
   "outputs": [
    {
     "data": {
      "text/plain": [
       "2012-06-01 09:50:00    20.0\n",
       "2012-06-01 09:51:00     NaN\n",
       "2012-06-01 09:52:00    22.0\n",
       "2012-06-01 09:53:00    23.0\n",
       "2012-06-01 09:54:00     NaN\n",
       "2012-06-01 09:55:00    25.0\n",
       "2012-06-01 09:56:00     NaN\n",
       "2012-06-01 09:57:00     NaN\n",
       "2012-06-01 09:58:00     NaN\n",
       "2012-06-01 09:59:00     NaN\n",
       "2012-06-01 10:00:00     NaN\n",
       "dtype: float64"
      ]
     },
     "execution_count": 36,
     "metadata": {},
     "output_type": "execute_result"
    }
   ],
   "source": [
    "irr_ts[indexer] = np.nan\n",
    "irr_ts\n",
    "irr_ts['2012-06-01 09:50':'2012-06-01 10:00']"
   ]
  },
  {
   "cell_type": "code",
   "execution_count": 37,
   "metadata": {
    "collapsed": true
   },
   "outputs": [],
   "source": [
    "selection = pd.date_range('2012-06-01 10:00', periods=4, freq='B')"
   ]
  },
  {
   "cell_type": "markdown",
   "metadata": {},
   "source": [
    "### asof.\n",
    "#### At the time or Most recent available time.\n"
   ]
  },
  {
   "cell_type": "code",
   "execution_count": 38,
   "metadata": {},
   "outputs": [
    {
     "data": {
      "text/plain": [
       "2012-06-01 10:00:00      25.0\n",
       "2012-06-04 10:00:00     420.0\n",
       "2012-06-05 10:00:00     810.0\n",
       "2012-06-06 10:00:00    1197.0\n",
       "Freq: B, dtype: float64"
      ]
     },
     "execution_count": 38,
     "metadata": {},
     "output_type": "execute_result"
    }
   ],
   "source": [
    "irr_ts.asof(selection)"
   ]
  },
  {
   "cell_type": "code",
   "execution_count": 39,
   "metadata": {},
   "outputs": [
    {
     "data": {
      "text/plain": [
       "2012-06-01 09:55:00      25.0\n",
       "2012-06-04 10:00:00     420.0\n",
       "2012-06-05 10:00:00     810.0\n",
       "2012-06-06 09:57:00    1197.0\n",
       "dtype: float64"
      ]
     },
     "execution_count": 39,
     "metadata": {},
     "output_type": "execute_result"
    }
   ],
   "source": [
    "irr_ts[irr_ts.isin(irr_ts.asof(selection))]"
   ]
  },
  {
   "cell_type": "code",
   "execution_count": 40,
   "metadata": {},
   "outputs": [
    {
     "data": {
      "text/plain": [
       "2012-06-01 10:00:00      NaN\n",
       "2012-06-04 10:00:00    420.0\n",
       "2012-06-05 10:00:00    810.0\n",
       "2012-06-06 10:00:00      NaN\n",
       "dtype: float64"
      ]
     },
     "execution_count": 40,
     "metadata": {},
     "output_type": "execute_result"
    }
   ],
   "source": [
    "irr_ts.at_time(time(10,0))"
   ]
  },
  {
   "cell_type": "code",
   "execution_count": 41,
   "metadata": {},
   "outputs": [
    {
     "data": {
      "text/plain": [
       "2012-06-01 09:30:00     0.0\n",
       "2012-06-01 09:31:00     NaN\n",
       "2012-06-01 09:32:00     NaN\n",
       "2012-06-01 09:33:00     3.0\n",
       "2012-06-01 09:34:00     NaN\n",
       "2012-06-01 09:35:00     5.0\n",
       "                       ... \n",
       "2012-06-01 09:55:00    25.0\n",
       "2012-06-01 09:56:00     NaN\n",
       "2012-06-01 09:57:00     NaN\n",
       "2012-06-01 09:58:00     NaN\n",
       "2012-06-01 09:59:00     NaN\n",
       "2012-06-01 10:00:00     NaN\n",
       "Length: 31, dtype: float64"
      ]
     },
     "execution_count": 41,
     "metadata": {},
     "output_type": "execute_result"
    }
   ],
   "source": [
    "irr_ts[:'2012-06-01 10:00:00']"
   ]
  },
  {
   "cell_type": "code",
   "execution_count": 42,
   "metadata": {},
   "outputs": [
    {
     "data": {
      "text/plain": [
       "2012-06-01 09:55:00    25.0\n",
       "dtype: float64"
      ]
     },
     "execution_count": 42,
     "metadata": {},
     "output_type": "execute_result"
    }
   ],
   "source": [
    "irr_ts[irr_ts == 25.0]"
   ]
  },
  {
   "cell_type": "code",
   "execution_count": 43,
   "metadata": {},
   "outputs": [
    {
     "data": {
      "text/plain": [
       "(              a    b    c\n",
       " 2012-06-12  1.0  1.0  1.0\n",
       " 2012-06-13  1.0  1.0  1.0\n",
       " 2012-06-14  1.0  1.0  1.0\n",
       " 2012-06-15  1.0  1.0  1.0\n",
       " 2012-06-16  1.0  1.0  1.0\n",
       " 2012-06-17  1.0  1.0  1.0,               a    b    c\n",
       " 2012-06-13  2.0  2.0  2.0\n",
       " 2012-06-14  2.0  2.0  2.0\n",
       " 2012-06-15  2.0  2.0  2.0\n",
       " 2012-06-16  2.0  2.0  2.0\n",
       " 2012-06-17  2.0  2.0  2.0\n",
       " 2012-06-18  2.0  2.0  2.0)"
      ]
     },
     "execution_count": 43,
     "metadata": {},
     "output_type": "execute_result"
    }
   ],
   "source": [
    "data1 = DataFrame(np.ones((6, 3), dtype=float),\n",
    "                  columns=['a', 'b', 'c'],\n",
    "                  index=pd.date_range('6/12/2012', periods=6))\n",
    "data2 = DataFrame(np.ones((6, 3), dtype=float) * 2,\n",
    "                  columns=['a', 'b', 'c'],\n",
    "                  index=pd.date_range('6/13/2012', periods=6))\n",
    "data1, data2"
   ]
  },
  {
   "cell_type": "code",
   "execution_count": 44,
   "metadata": {},
   "outputs": [
    {
     "data": {
      "text/html": [
       "<div>\n",
       "<style>\n",
       "    .dataframe thead tr:only-child th {\n",
       "        text-align: right;\n",
       "    }\n",
       "\n",
       "    .dataframe thead th {\n",
       "        text-align: left;\n",
       "    }\n",
       "\n",
       "    .dataframe tbody tr th {\n",
       "        vertical-align: top;\n",
       "    }\n",
       "</style>\n",
       "<table border=\"1\" class=\"dataframe\">\n",
       "  <thead>\n",
       "    <tr style=\"text-align: right;\">\n",
       "      <th></th>\n",
       "      <th>a</th>\n",
       "      <th>b</th>\n",
       "      <th>c</th>\n",
       "    </tr>\n",
       "  </thead>\n",
       "  <tbody>\n",
       "    <tr>\n",
       "      <th>2012-06-12</th>\n",
       "      <td>1.0</td>\n",
       "      <td>1.0</td>\n",
       "      <td>1.0</td>\n",
       "    </tr>\n",
       "    <tr>\n",
       "      <th>2012-06-13</th>\n",
       "      <td>1.0</td>\n",
       "      <td>1.0</td>\n",
       "      <td>1.0</td>\n",
       "    </tr>\n",
       "    <tr>\n",
       "      <th>2012-06-14</th>\n",
       "      <td>1.0</td>\n",
       "      <td>1.0</td>\n",
       "      <td>1.0</td>\n",
       "    </tr>\n",
       "    <tr>\n",
       "      <th>2012-06-13</th>\n",
       "      <td>2.0</td>\n",
       "      <td>2.0</td>\n",
       "      <td>2.0</td>\n",
       "    </tr>\n",
       "    <tr>\n",
       "      <th>2012-06-14</th>\n",
       "      <td>2.0</td>\n",
       "      <td>2.0</td>\n",
       "      <td>2.0</td>\n",
       "    </tr>\n",
       "    <tr>\n",
       "      <th>2012-06-15</th>\n",
       "      <td>2.0</td>\n",
       "      <td>2.0</td>\n",
       "      <td>2.0</td>\n",
       "    </tr>\n",
       "  </tbody>\n",
       "</table>\n",
       "</div>"
      ],
      "text/plain": [
       "              a    b    c\n",
       "2012-06-12  1.0  1.0  1.0\n",
       "2012-06-13  1.0  1.0  1.0\n",
       "2012-06-14  1.0  1.0  1.0\n",
       "2012-06-13  2.0  2.0  2.0\n",
       "2012-06-14  2.0  2.0  2.0\n",
       "2012-06-15  2.0  2.0  2.0"
      ]
     },
     "execution_count": 44,
     "metadata": {},
     "output_type": "execute_result"
    }
   ],
   "source": [
    "spliced = pd.concat([data1.loc[:'2012-06-14'], data2.loc[:'2012-06-15']])\n",
    "\n",
    "spliced"
   ]
  },
  {
   "cell_type": "code",
   "execution_count": 45,
   "metadata": {},
   "outputs": [
    {
     "data": {
      "text/html": [
       "<div>\n",
       "<style>\n",
       "    .dataframe thead tr:only-child th {\n",
       "        text-align: right;\n",
       "    }\n",
       "\n",
       "    .dataframe thead th {\n",
       "        text-align: left;\n",
       "    }\n",
       "\n",
       "    .dataframe tbody tr th {\n",
       "        vertical-align: top;\n",
       "    }\n",
       "</style>\n",
       "<table border=\"1\" class=\"dataframe\">\n",
       "  <thead>\n",
       "    <tr style=\"text-align: right;\">\n",
       "      <th></th>\n",
       "      <th>a</th>\n",
       "      <th>b</th>\n",
       "      <th>c</th>\n",
       "      <th>d</th>\n",
       "    </tr>\n",
       "  </thead>\n",
       "  <tbody>\n",
       "    <tr>\n",
       "      <th>2012-06-12</th>\n",
       "      <td>1.0</td>\n",
       "      <td>1.0</td>\n",
       "      <td>1.0</td>\n",
       "      <td>NaN</td>\n",
       "    </tr>\n",
       "    <tr>\n",
       "      <th>2012-06-13</th>\n",
       "      <td>1.0</td>\n",
       "      <td>1.0</td>\n",
       "      <td>1.0</td>\n",
       "      <td>NaN</td>\n",
       "    </tr>\n",
       "    <tr>\n",
       "      <th>2012-06-14</th>\n",
       "      <td>1.0</td>\n",
       "      <td>1.0</td>\n",
       "      <td>1.0</td>\n",
       "      <td>NaN</td>\n",
       "    </tr>\n",
       "    <tr>\n",
       "      <th>2012-06-15</th>\n",
       "      <td>2.0</td>\n",
       "      <td>2.0</td>\n",
       "      <td>2.0</td>\n",
       "      <td>2.0</td>\n",
       "    </tr>\n",
       "    <tr>\n",
       "      <th>2012-06-16</th>\n",
       "      <td>2.0</td>\n",
       "      <td>2.0</td>\n",
       "      <td>2.0</td>\n",
       "      <td>2.0</td>\n",
       "    </tr>\n",
       "    <tr>\n",
       "      <th>2012-06-17</th>\n",
       "      <td>2.0</td>\n",
       "      <td>2.0</td>\n",
       "      <td>2.0</td>\n",
       "      <td>2.0</td>\n",
       "    </tr>\n",
       "    <tr>\n",
       "      <th>2012-06-18</th>\n",
       "      <td>2.0</td>\n",
       "      <td>2.0</td>\n",
       "      <td>2.0</td>\n",
       "      <td>2.0</td>\n",
       "    </tr>\n",
       "  </tbody>\n",
       "</table>\n",
       "</div>"
      ],
      "text/plain": [
       "              a    b    c    d\n",
       "2012-06-12  1.0  1.0  1.0  NaN\n",
       "2012-06-13  1.0  1.0  1.0  NaN\n",
       "2012-06-14  1.0  1.0  1.0  NaN\n",
       "2012-06-15  2.0  2.0  2.0  2.0\n",
       "2012-06-16  2.0  2.0  2.0  2.0\n",
       "2012-06-17  2.0  2.0  2.0  2.0\n",
       "2012-06-18  2.0  2.0  2.0  2.0"
      ]
     },
     "execution_count": 45,
     "metadata": {},
     "output_type": "execute_result"
    }
   ],
   "source": [
    "data2 = DataFrame(np.ones((6, 4), dtype=float) * 2,\n",
    "                  columns=['a', 'b', 'c', 'd'],\n",
    "                  index=pd.date_range('6/13/2012', periods=6))\n",
    "spliced = pd.concat([data1.loc[:'2012-06-14'], data2.loc['2012-06-15':]])\n",
    "spliced"
   ]
  },
  {
   "cell_type": "code",
   "execution_count": 46,
   "metadata": {
    "collapsed": true
   },
   "outputs": [],
   "source": [
    "spliced_filled = spliced.combine_first(data2)"
   ]
  },
  {
   "cell_type": "code",
   "execution_count": 47,
   "metadata": {},
   "outputs": [
    {
     "data": {
      "text/html": [
       "<div>\n",
       "<style>\n",
       "    .dataframe thead tr:only-child th {\n",
       "        text-align: right;\n",
       "    }\n",
       "\n",
       "    .dataframe thead th {\n",
       "        text-align: left;\n",
       "    }\n",
       "\n",
       "    .dataframe tbody tr th {\n",
       "        vertical-align: top;\n",
       "    }\n",
       "</style>\n",
       "<table border=\"1\" class=\"dataframe\">\n",
       "  <thead>\n",
       "    <tr style=\"text-align: right;\">\n",
       "      <th></th>\n",
       "      <th>a</th>\n",
       "      <th>b</th>\n",
       "      <th>c</th>\n",
       "      <th>d</th>\n",
       "    </tr>\n",
       "  </thead>\n",
       "  <tbody>\n",
       "    <tr>\n",
       "      <th>2012-06-12</th>\n",
       "      <td>1.0</td>\n",
       "      <td>1.0</td>\n",
       "      <td>1.0</td>\n",
       "      <td>NaN</td>\n",
       "    </tr>\n",
       "    <tr>\n",
       "      <th>2012-06-13</th>\n",
       "      <td>1.0</td>\n",
       "      <td>1.0</td>\n",
       "      <td>1.0</td>\n",
       "      <td>2.0</td>\n",
       "    </tr>\n",
       "    <tr>\n",
       "      <th>2012-06-14</th>\n",
       "      <td>1.0</td>\n",
       "      <td>1.0</td>\n",
       "      <td>1.0</td>\n",
       "      <td>2.0</td>\n",
       "    </tr>\n",
       "    <tr>\n",
       "      <th>2012-06-15</th>\n",
       "      <td>2.0</td>\n",
       "      <td>2.0</td>\n",
       "      <td>2.0</td>\n",
       "      <td>2.0</td>\n",
       "    </tr>\n",
       "    <tr>\n",
       "      <th>2012-06-16</th>\n",
       "      <td>2.0</td>\n",
       "      <td>2.0</td>\n",
       "      <td>2.0</td>\n",
       "      <td>2.0</td>\n",
       "    </tr>\n",
       "    <tr>\n",
       "      <th>2012-06-17</th>\n",
       "      <td>2.0</td>\n",
       "      <td>2.0</td>\n",
       "      <td>2.0</td>\n",
       "      <td>2.0</td>\n",
       "    </tr>\n",
       "    <tr>\n",
       "      <th>2012-06-18</th>\n",
       "      <td>2.0</td>\n",
       "      <td>2.0</td>\n",
       "      <td>2.0</td>\n",
       "      <td>2.0</td>\n",
       "    </tr>\n",
       "  </tbody>\n",
       "</table>\n",
       "</div>"
      ],
      "text/plain": [
       "              a    b    c    d\n",
       "2012-06-12  1.0  1.0  1.0  NaN\n",
       "2012-06-13  1.0  1.0  1.0  2.0\n",
       "2012-06-14  1.0  1.0  1.0  2.0\n",
       "2012-06-15  2.0  2.0  2.0  2.0\n",
       "2012-06-16  2.0  2.0  2.0  2.0\n",
       "2012-06-17  2.0  2.0  2.0  2.0\n",
       "2012-06-18  2.0  2.0  2.0  2.0"
      ]
     },
     "execution_count": 47,
     "metadata": {},
     "output_type": "execute_result"
    }
   ],
   "source": [
    "spliced_filled"
   ]
  },
  {
   "cell_type": "code",
   "execution_count": 48,
   "metadata": {},
   "outputs": [
    {
     "data": {
      "text/html": [
       "<div>\n",
       "<style>\n",
       "    .dataframe thead tr:only-child th {\n",
       "        text-align: right;\n",
       "    }\n",
       "\n",
       "    .dataframe thead th {\n",
       "        text-align: left;\n",
       "    }\n",
       "\n",
       "    .dataframe tbody tr th {\n",
       "        vertical-align: top;\n",
       "    }\n",
       "</style>\n",
       "<table border=\"1\" class=\"dataframe\">\n",
       "  <thead>\n",
       "    <tr style=\"text-align: right;\">\n",
       "      <th></th>\n",
       "      <th>a</th>\n",
       "      <th>b</th>\n",
       "      <th>c</th>\n",
       "      <th>d</th>\n",
       "    </tr>\n",
       "  </thead>\n",
       "  <tbody>\n",
       "    <tr>\n",
       "      <th>2012-06-12</th>\n",
       "      <td>1.0</td>\n",
       "      <td>1.0</td>\n",
       "      <td>1.0</td>\n",
       "      <td>NaN</td>\n",
       "    </tr>\n",
       "    <tr>\n",
       "      <th>2012-06-13</th>\n",
       "      <td>1.0</td>\n",
       "      <td>1.0</td>\n",
       "      <td>1.0</td>\n",
       "      <td>2.0</td>\n",
       "    </tr>\n",
       "    <tr>\n",
       "      <th>2012-06-14</th>\n",
       "      <td>1.0</td>\n",
       "      <td>1.0</td>\n",
       "      <td>1.0</td>\n",
       "      <td>2.0</td>\n",
       "    </tr>\n",
       "    <tr>\n",
       "      <th>2012-06-15</th>\n",
       "      <td>2.0</td>\n",
       "      <td>2.0</td>\n",
       "      <td>2.0</td>\n",
       "      <td>2.0</td>\n",
       "    </tr>\n",
       "    <tr>\n",
       "      <th>2012-06-16</th>\n",
       "      <td>2.0</td>\n",
       "      <td>2.0</td>\n",
       "      <td>2.0</td>\n",
       "      <td>2.0</td>\n",
       "    </tr>\n",
       "    <tr>\n",
       "      <th>2012-06-17</th>\n",
       "      <td>2.0</td>\n",
       "      <td>2.0</td>\n",
       "      <td>2.0</td>\n",
       "      <td>2.0</td>\n",
       "    </tr>\n",
       "    <tr>\n",
       "      <th>2012-06-18</th>\n",
       "      <td>2.0</td>\n",
       "      <td>2.0</td>\n",
       "      <td>2.0</td>\n",
       "      <td>2.0</td>\n",
       "    </tr>\n",
       "  </tbody>\n",
       "</table>\n",
       "</div>"
      ],
      "text/plain": [
       "              a    b    c    d\n",
       "2012-06-12  1.0  1.0  1.0  NaN\n",
       "2012-06-13  1.0  1.0  1.0  2.0\n",
       "2012-06-14  1.0  1.0  1.0  2.0\n",
       "2012-06-15  2.0  2.0  2.0  2.0\n",
       "2012-06-16  2.0  2.0  2.0  2.0\n",
       "2012-06-17  2.0  2.0  2.0  2.0\n",
       "2012-06-18  2.0  2.0  2.0  2.0"
      ]
     },
     "execution_count": 48,
     "metadata": {},
     "output_type": "execute_result"
    }
   ],
   "source": [
    "spliced.update(data2, overwrite=False)\n",
    "spliced"
   ]
  },
  {
   "cell_type": "code",
   "execution_count": 49,
   "metadata": {},
   "outputs": [
    {
     "data": {
      "text/html": [
       "<div>\n",
       "<style>\n",
       "    .dataframe thead tr:only-child th {\n",
       "        text-align: right;\n",
       "    }\n",
       "\n",
       "    .dataframe thead th {\n",
       "        text-align: left;\n",
       "    }\n",
       "\n",
       "    .dataframe tbody tr th {\n",
       "        vertical-align: top;\n",
       "    }\n",
       "</style>\n",
       "<table border=\"1\" class=\"dataframe\">\n",
       "  <thead>\n",
       "    <tr style=\"text-align: right;\">\n",
       "      <th></th>\n",
       "      <th>a</th>\n",
       "      <th>b</th>\n",
       "      <th>c</th>\n",
       "      <th>d</th>\n",
       "    </tr>\n",
       "  </thead>\n",
       "  <tbody>\n",
       "    <tr>\n",
       "      <th>2012-06-12</th>\n",
       "      <td>1.0</td>\n",
       "      <td>1.0</td>\n",
       "      <td>1.0</td>\n",
       "      <td>NaN</td>\n",
       "    </tr>\n",
       "    <tr>\n",
       "      <th>2012-06-13</th>\n",
       "      <td>1.0</td>\n",
       "      <td>1.0</td>\n",
       "      <td>1.0</td>\n",
       "      <td>2.0</td>\n",
       "    </tr>\n",
       "    <tr>\n",
       "      <th>2012-06-14</th>\n",
       "      <td>1.0</td>\n",
       "      <td>1.0</td>\n",
       "      <td>1.0</td>\n",
       "      <td>2.0</td>\n",
       "    </tr>\n",
       "    <tr>\n",
       "      <th>2012-06-15</th>\n",
       "      <td>1.0</td>\n",
       "      <td>2.0</td>\n",
       "      <td>1.0</td>\n",
       "      <td>2.0</td>\n",
       "    </tr>\n",
       "    <tr>\n",
       "      <th>2012-06-16</th>\n",
       "      <td>1.0</td>\n",
       "      <td>2.0</td>\n",
       "      <td>1.0</td>\n",
       "      <td>2.0</td>\n",
       "    </tr>\n",
       "    <tr>\n",
       "      <th>2012-06-17</th>\n",
       "      <td>1.0</td>\n",
       "      <td>2.0</td>\n",
       "      <td>1.0</td>\n",
       "      <td>2.0</td>\n",
       "    </tr>\n",
       "    <tr>\n",
       "      <th>2012-06-18</th>\n",
       "      <td>NaN</td>\n",
       "      <td>2.0</td>\n",
       "      <td>NaN</td>\n",
       "      <td>2.0</td>\n",
       "    </tr>\n",
       "  </tbody>\n",
       "</table>\n",
       "</div>"
      ],
      "text/plain": [
       "              a    b    c    d\n",
       "2012-06-12  1.0  1.0  1.0  NaN\n",
       "2012-06-13  1.0  1.0  1.0  2.0\n",
       "2012-06-14  1.0  1.0  1.0  2.0\n",
       "2012-06-15  1.0  2.0  1.0  2.0\n",
       "2012-06-16  1.0  2.0  1.0  2.0\n",
       "2012-06-17  1.0  2.0  1.0  2.0\n",
       "2012-06-18  NaN  2.0  NaN  2.0"
      ]
     },
     "execution_count": 49,
     "metadata": {},
     "output_type": "execute_result"
    }
   ],
   "source": [
    "cp_spliced = spliced.copy()\n",
    "cp_spliced[['a','c']] = data1[['a','c']]\n",
    "cp_spliced"
   ]
  },
  {
   "cell_type": "code",
   "execution_count": 51,
   "metadata": {},
   "outputs": [
    {
     "name": "stdout",
     "output_type": "stream",
     "text": [
      "Collecting pandas_datareader\n",
      "  Downloading pandas_datareader-0.4.0-py2.py3-none-any.whl (69kB)\n",
      "Requirement already satisfied: pandas>=0.17.0 in c:\\programdata\\anaconda3\\lib\\site-packages (from pandas_datareader)\n",
      "Requirement already satisfied: requests>=2.3.0 in c:\\programdata\\anaconda3\\lib\\site-packages (from pandas_datareader)\n",
      "Collecting requests-file (from pandas_datareader)\n",
      "  Downloading requests-file-1.4.2.tar.gz\n",
      "Collecting requests-ftp (from pandas_datareader)\n",
      "  Downloading requests-ftp-0.3.1.tar.gz\n",
      "Requirement already satisfied: python-dateutil>=2 in c:\\programdata\\anaconda3\\lib\\site-packages (from pandas>=0.17.0->pandas_datareader)\n",
      "Requirement already satisfied: pytz>=2011k in c:\\programdata\\anaconda3\\lib\\site-packages (from pandas>=0.17.0->pandas_datareader)\n",
      "Requirement already satisfied: numpy>=1.7.0 in c:\\programdata\\anaconda3\\lib\\site-packages (from pandas>=0.17.0->pandas_datareader)\n",
      "Requirement already satisfied: six in c:\\programdata\\anaconda3\\lib\\site-packages (from requests-file->pandas_datareader)\n",
      "Building wheels for collected packages: requests-file, requests-ftp\n",
      "  Running setup.py bdist_wheel for requests-file: started\n",
      "  Running setup.py bdist_wheel for requests-file: finished with status 'done'\n",
      "  Stored in directory: C:\\Users\\JunyoungSon\\AppData\\Local\\pip\\Cache\\wheels\\3e\\34\\3a\\c2e634ca7b545510c1b3b7d94dea084e5fdb5f33558f3c3a81\n",
      "  Running setup.py bdist_wheel for requests-ftp: started\n",
      "  Running setup.py bdist_wheel for requests-ftp: finished with status 'done'\n",
      "  Stored in directory: C:\\Users\\JunyoungSon\\AppData\\Local\\pip\\Cache\\wheels\\76\\fb\\0d\\1026eb562c34a4982dc9d39c9c582a734eefe7f0455f711deb\n",
      "Successfully built requests-file requests-ftp\n",
      "Installing collected packages: requests-file, requests-ftp, pandas-datareader\n",
      "Successfully installed pandas-datareader-0.4.0 requests-file-1.4.2 requests-ftp-0.3.1\n"
     ]
    }
   ],
   "source": [
    "!pip install pandas_datareader"
   ]
  },
  {
   "cell_type": "code",
   "execution_count": 52,
   "metadata": {
    "collapsed": true
   },
   "outputs": [],
   "source": [
    "#from pandas_datareader import web\n",
    "import pandas_datareader as web\n",
    "\n",
    "price = web.get_data_google('AAPL','2011-01-01')['Close']"
   ]
  },
  {
   "cell_type": "code",
   "execution_count": 53,
   "metadata": {},
   "outputs": [
    {
     "data": {
      "text/plain": [
       "Date\n",
       "2017-07-17    149.56\n",
       "2017-07-18    150.08\n",
       "2017-07-19    151.02\n",
       "2017-07-20    150.34\n",
       "2017-07-21    150.27\n",
       "Name: Close, dtype: float64"
      ]
     },
     "execution_count": 53,
     "metadata": {},
     "output_type": "execute_result"
    }
   ],
   "source": [
    "price[-5:]"
   ]
  },
  {
   "cell_type": "code",
   "execution_count": 54,
   "metadata": {},
   "outputs": [
    {
     "data": {
      "text/plain": [
       "0.072344689378757598"
      ]
     },
     "execution_count": 54,
     "metadata": {},
     "output_type": "execute_result"
    }
   ],
   "source": [
    "price['2011-10-03'] / price['2011-3-01'] -1\n"
   ]
  },
  {
   "cell_type": "code",
   "execution_count": 55,
   "metadata": {},
   "outputs": [
    {
     "data": {
      "text/plain": [
       "Date\n",
       "2011-01-03         NaN\n",
       "2011-01-04    0.005310\n",
       "2011-01-05    0.008029\n",
       "2011-01-06   -0.000629\n",
       "2011-01-07    0.007131\n",
       "2011-01-10    0.018742\n",
       "                ...   \n",
       "2017-07-14    0.008594\n",
       "2017-07-17    0.003489\n",
       "2017-07-18    0.003477\n",
       "2017-07-19    0.006263\n",
       "2017-07-20   -0.004503\n",
       "2017-07-21   -0.000466\n",
       "Name: Close, Length: 1649, dtype: float64"
      ]
     },
     "execution_count": 55,
     "metadata": {},
     "output_type": "execute_result"
    }
   ],
   "source": [
    "returns = price.pct_change()\n",
    "returns"
   ]
  },
  {
   "cell_type": "code",
   "execution_count": 56,
   "metadata": {},
   "outputs": [
    {
     "data": {
      "text/plain": [
       "Date\n",
       "2011-01-03         NaN\n",
       "2011-01-04    1.005310\n",
       "2011-01-05    1.013381\n",
       "2011-01-06    1.012744\n",
       "2011-01-07    1.019966\n",
       "2011-01-10    1.039082\n",
       "                ...   \n",
       "2017-07-14    3.165675\n",
       "2017-07-17    3.176720\n",
       "2017-07-18    3.187766\n",
       "2017-07-19    3.207732\n",
       "2017-07-20    3.193288\n",
       "2017-07-21    3.191801\n",
       "Name: Close, Length: 1649, dtype: float64"
      ]
     },
     "execution_count": 56,
     "metadata": {},
     "output_type": "execute_result"
    }
   ],
   "source": [
    "ret_index = (1 + returns).cumprod()\n",
    "\n",
    "ret_index"
   ]
  },
  {
   "cell_type": "markdown",
   "metadata": {},
   "source": [
    "## Resample returns into Bussiness Monthly\n",
    "### revert into return rate\n",
    "### resample('BM').last().pct_change()"
   ]
  },
  {
   "cell_type": "code",
   "execution_count": 57,
   "metadata": {
    "collapsed": true
   },
   "outputs": [],
   "source": [
    "ret_index[0] = 1\n",
    "\n",
    "m_returns = ret_index.resample('BM').last().pct_change()"
   ]
  },
  {
   "cell_type": "code",
   "execution_count": 58,
   "metadata": {},
   "outputs": [
    {
     "data": {
      "text/plain": [
       "Date\n",
       "2011-01-31         NaN\n",
       "2011-02-28    0.041056\n",
       "2011-03-31   -0.013278\n",
       "2011-04-29    0.004619\n",
       "2011-05-31   -0.006597\n",
       "2011-06-30   -0.035017\n",
       "                ...   \n",
       "2017-02-28    0.128883\n",
       "2017-03-31    0.048690\n",
       "2017-04-28   -0.000070\n",
       "2017-05-31    0.063418\n",
       "2017-06-30   -0.057214\n",
       "2017-07-31    0.043397\n",
       "Freq: BM, Name: Close, Length: 79, dtype: float64"
      ]
     },
     "execution_count": 58,
     "metadata": {},
     "output_type": "execute_result"
    }
   ],
   "source": [
    "m_returns"
   ]
  },
  {
   "cell_type": "code",
   "execution_count": 59,
   "metadata": {},
   "outputs": [
    {
     "data": {
      "text/plain": [
       "Date\n",
       "2012-01-31    0.127031\n",
       "2012-02-29    0.188315\n",
       "2012-03-30    0.105304\n",
       "2012-04-30   -0.025919\n",
       "2012-05-31   -0.010787\n",
       "2012-06-29    0.010905\n",
       "2012-07-31    0.045787\n",
       "2012-08-31    0.089169\n",
       "2012-09-28    0.002841\n",
       "2012-10-31   -0.107555\n",
       "2012-11-30   -0.016931\n",
       "2012-12-31   -0.090779\n",
       "Freq: BM, Name: Close, dtype: float64"
      ]
     },
     "execution_count": 59,
     "metadata": {},
     "output_type": "execute_result"
    }
   ],
   "source": [
    "m_returns['2012']"
   ]
  },
  {
   "cell_type": "code",
   "execution_count": 60,
   "metadata": {},
   "outputs": [
    {
     "data": {
      "text/plain": [
       "Date\n",
       "2012-01    0.127031\n",
       "2012-02    0.188315\n",
       "2012-03    0.105304\n",
       "2012-04   -0.025919\n",
       "2012-05   -0.010787\n",
       "2012-06    0.010905\n",
       "2012-07    0.045787\n",
       "2012-08    0.089169\n",
       "2012-09    0.002841\n",
       "2012-10   -0.107555\n",
       "2012-11   -0.016931\n",
       "2012-12   -0.090779\n",
       "Freq: M, Name: Close, dtype: float64"
      ]
     },
     "execution_count": 60,
     "metadata": {},
     "output_type": "execute_result"
    }
   ],
   "source": [
    "m_rets = (1 + returns).resample('M', kind = 'period').prod() - 1\n",
    "m_rets['2012']"
   ]
  },
  {
   "cell_type": "code",
   "execution_count": 61,
   "metadata": {
    "scrolled": true
   },
   "outputs": [
    {
     "ename": "NameError",
     "evalue": "name 'dividend_dates' is not defined",
     "output_type": "error",
     "traceback": [
      "\u001b[1;31m---------------------------------------------------------------------------\u001b[0m",
      "\u001b[1;31mNameError\u001b[0m                                 Traceback (most recent call last)",
      "\u001b[1;32m<ipython-input-61-2136d75d50a0>\u001b[0m in \u001b[0;36m<module>\u001b[1;34m()\u001b[0m\n\u001b[1;32m----> 1\u001b[1;33m \u001b[0mreturns\u001b[0m\u001b[1;33m[\u001b[0m\u001b[0mdividend_dates\u001b[0m\u001b[1;33m]\u001b[0m \u001b[1;33m+=\u001b[0m \u001b[0mdividend_pcts\u001b[0m\u001b[1;33m\u001b[0m\u001b[0m\n\u001b[0m",
      "\u001b[1;31mNameError\u001b[0m: name 'dividend_dates' is not defined"
     ]
    }
   ],
   "source": [
    "returns[dividend_dates] += dividend_pcts"
   ]
  },
  {
   "cell_type": "code",
   "execution_count": 62,
   "metadata": {
    "collapsed": true
   },
   "outputs": [],
   "source": [
    "import random; random.seed(0)\n",
    "import string"
   ]
  },
  {
   "cell_type": "code",
   "execution_count": 63,
   "metadata": {},
   "outputs": [
    {
     "data": {
      "text/plain": [
       "array(['MYNBI', 'QPMZJ', 'PLSGQ', 'EJEYD', 'TZIRW', 'ZTEJD', 'XCVKP',\n",
       "       'RDLNK', 'TUGRP', 'OQIBZ', 'RACXM', 'WZVUA', 'TPKHX', 'KWCGS',\n",
       "       'HHZEZ', 'ROCCK', 'QPDJR', 'JWDRK', 'RGZTR', 'SJOCT', 'ZMKSH',\n",
       "       'JFGFB', 'TVIPC', 'CVYEE', 'BCWRV', 'MWQIQ', 'ZHGVS', 'NSIOP',\n",
       "       'VUWZL', 'CKTDP', 'SUKGH', 'AXIDW', 'HLZFK', 'NBDZE', 'WHBSU',\n",
       "       'RTVCA', 'DUGTS', 'DMCLD', 'BTAGF', 'WDPGX', 'ZBVAR', 'NTDIC',\n",
       "       'HCUJL', 'NFBQO', 'BTDWM', 'GILXP', 'SFWVG', 'YBZVF', 'FKQID',\n",
       "       'TOVFA', 'PVNSQ', 'JULMV', 'IERWA', 'OXCKX', 'BRIEH', 'YPLTJ',\n",
       "       'VLSUT', 'EWJMX', 'NUCAT', 'GWKFH', 'HUOMW', 'VSNBM', 'WSNYV',\n",
       "       'WBFOC', 'IWFOQ', 'PRTYA', 'BPKJO', 'BZZNG', 'RUCXE', 'AMVNK',\n",
       "       'AGAWY', 'AVQTD', 'GDTUG', 'JIWFD', 'PMUCA', 'IOZZD', 'IEUQU',\n",
       "       'ULDEI', 'ABBGV', 'IRKLS', 'BXWTU', 'PWUOU', 'NLRFG', 'MSJAE',\n",
       "       'EIKKZ', 'LWCKY', 'TBBIF', 'ESJLM', 'REJDP', 'XHBJF', 'QXCJM',\n",
       "       'KJNDD', 'RPPKZ', 'ZKDPD', 'WPNBJ', 'KXVEF', 'USMZU', 'CCZCG',\n",
       "       'XHBMA', 'DMRQJ', 'OPZSW', 'VGNCL', 'HISYF', 'NGLDC', 'WAQOY',\n",
       "       'VGDPM', 'IGUBZ', 'GTEDG', 'OMLRE', 'DTPES', 'MUVNQ', 'PVKPP',\n",
       "       'UVGRT', 'HAKWX', 'KKBQE', 'ITZEM', 'SJWWZ', 'PCZCQ', 'BCHEB',\n",
       "       'JAYOK', 'FZEUO', 'LQMQQ', 'BSCVZ', 'ZQYTC', 'XNYGJ', 'RTNPZ',\n",
       "       'MTSHZ', 'AVAXF', 'JQSIK', 'CPIJY', 'NMZMB', 'FUEHJ', 'XKBBP',\n",
       "       'NEPTW', 'CVWEZ', 'LNBTO', 'MOBDP', 'YEABT', 'TEUKD', 'WRULG',\n",
       "       'MZYYP', 'DBTWO', 'TUKUD', 'VWTJZ', 'EMZJX', 'VZDQZ', 'GBZMO',\n",
       "       'LYGOL', 'ZUCBB', 'PIAQV', 'SSGHC', 'YUYQW', 'QNQJD', 'ENSNC',\n",
       "       'DNCDN', 'YEXAZ', 'ONVNA', 'PKXIC', 'LCDLW', 'ALLFA', 'HLCTE',\n",
       "       'GAGVV', 'XDXAJ', 'LWATH', 'EFODP', 'LWIEA', 'GLKPJ', 'JRUKF',\n",
       "       'SCDRS', 'JFMEE', 'ZHKQH', 'HYFJL', 'NVBET', 'AMCWC', 'ENJRN',\n",
       "       'XESNJ', 'ULCHO', 'ULUQB', 'MNANX', 'KOGLJ', 'PCFZD', 'IDRTW',\n",
       "       'EZWOM', 'FYNNF', 'HOKQE', 'LOUUC', 'PYGJA', 'WOTOA', 'GJDYU',\n",
       "       'JRTEN', 'WYPCV', 'PYHRY', 'MIUAD', 'IVBAI', 'MQSWM', 'ODXIL',\n",
       "       'JYVGT', 'CBCZI', 'JRKDQ', 'HYFCN', 'JJQES', 'QUGRD', 'NURMX',\n",
       "       'YZIJO', 'LSUEF', 'DWDMM', 'SOERV', 'JLUPX', 'NGPPW', 'QKPUB',\n",
       "       'OJEXP', 'BTGAL', 'PMAQC', 'VCVXV', 'MALBD', 'TAIUW', 'JXHEY',\n",
       "       'SJGDN', 'OWKMF', 'KNUVN', 'EOWEQ', 'KEGFO', 'LZMNZ', 'PMXHZ',\n",
       "       'GOGSW', 'BMBHU', 'CFLBX', 'UVFHT', 'JTCWQ', 'YJYLN', 'OBUWQ',\n",
       "       'VURXN', 'SOPIW', 'PGKIB', 'BBFLA', 'JUAEC', 'ZNVHT', 'MRHOG',\n",
       "       'KTDTC', 'ZKKRO', 'KIAQB', 'GLCGQ', 'LGGIV', 'XXJJQ', 'MIPLW',\n",
       "       'HBJRC', 'AOPXO', 'BZNPO', 'ODCCH', 'DYENG', 'OTCNR', 'YMBFH',\n",
       "       'PHEIL', 'KNDRJ', 'TRZGW', 'JYOQT', 'ORUII', 'HADTZ', 'WDFXN',\n",
       "       'HGJXV', 'AXRQN', 'BDMUI', 'DXSLH', 'VWWRV', 'JHXHC', 'QJVKH',\n",
       "       'LUPJS', 'FEZAR', 'QKLSU', 'AZEME', 'FQCEY', 'GZYPS', 'YWGHX',\n",
       "       'EHYML', 'TSEUP', 'DTAQT', 'LPOJA', 'HRUFV', 'PZXPR', 'KWCIE',\n",
       "       'TMWGK', 'ZJMBG', 'BKXXH', 'KOVXV', 'VHILV', 'FJALS', 'RBXUE',\n",
       "       'LAPUB', 'AHBAH', 'UKCBL', 'VNEGO', 'NELJF', 'UKXZX', 'NMANI',\n",
       "       'RRZXV', 'WOYBS', 'DNMFA', 'QETVQ', 'XWECK', 'HFHAZ', 'FXZVR',\n",
       "       'FWCNT', 'DTUOW', 'ETTBI', 'KZXXM', 'AUBPC', 'LJVEO', 'HQLFX',\n",
       "       'YMKIZ', 'PMAJQ', 'JRPBY', 'RSRIV', 'BOMXD', 'MLPBA', 'IXBIV',\n",
       "       'VSWYJ', 'VYGYQ', 'QKMIG', 'DSKZH', 'SVXRV', 'LFEKX', 'ASBSE',\n",
       "       'LLJUJ', 'KPZMT', 'NFAZE', 'SBOEK', 'AXPVV', 'YIXTG', 'CRNIF',\n",
       "       'QFCVU', 'FSDQU', 'ZRTMY', 'NIJJA', 'NYWII', 'RQRKK', 'GWZNZ',\n",
       "       'EAYQE', 'ZVWZS', 'MLOBR', 'NUTZZ', 'YHALQ', 'FVGUL', 'UWPAX',\n",
       "       'XHSHI', 'FYNCS', 'OHXWO', 'QZZWD', 'GFOCN', 'UMIIN', 'YYLTK',\n",
       "       'CJAPA', 'YIGYM', 'MNYUU', 'VMWBS', 'OLSES', 'WIKAM', 'PQEBC',\n",
       "       'SLLAC', 'GWDVR', 'PBKAK', 'MEYUI', 'NVETE', 'MJQBF', 'EEPWU',\n",
       "       'WYXBX', 'QBRWX', 'WUMFL', 'ZSCCR', 'FIGZI', 'KWWIZ', 'IQOEY',\n",
       "       'OREBU', 'SFUQB', 'YKCGU', 'ZOTHZ', 'OQFWK', 'UEPYR', 'BRCQK',\n",
       "       'AYCDN', 'TLSOK', 'MQLUD', 'EKAFX', 'EAKTG', 'BNUBW', 'JZMBT',\n",
       "       'YZWFL', 'CNBOL', 'TTYIV', 'JSZON', 'FAOZI', 'GMCLD', 'DALAF',\n",
       "       'MTWUA', 'KOZRX', 'WPPCB', 'RMZZI', 'AUQDC', 'KLDPB', 'EQUZJ',\n",
       "       'BAMKF', 'RWEFF', 'YFUVH', 'TKAPU', 'VMBHH', 'UJKFH', 'LHFNO',\n",
       "       'LSEMS', 'YAFSA', 'VMWZF', 'EAAKQ', 'ABBYD', 'STEYE', 'VZMZA',\n",
       "       'NNSVK', 'WHELQ', 'GRMCE', 'NSVLD', 'NNHPM', 'HMHUP', 'MSCII',\n",
       "       'QLRAT', 'TYPHI', 'BTKZM', 'UDRBE', 'WMAYN', 'XMNDW', 'OTOFF',\n",
       "       'KPNFS', 'JYQDL', 'LEULY', 'PUQYB', 'GIFXS', 'KJMUB', 'JRNBV',\n",
       "       'NIMXG', 'LEEDT', 'LFANS', 'MOCUW', 'WVCYN', 'RXREF', 'EGFHA',\n",
       "       'QEPLT', 'XJWZK', 'VDZNY', 'IFKUQ', 'KRWEM', 'XXRJH', 'MLMPQ',\n",
       "       'JNNDV', 'EEAST', 'UWQDW', 'YUWGT', 'UTQDI', 'WXTFM', 'CZBAD',\n",
       "       'LXPKD', 'VOLSW', 'IVPZY', 'HFRRC', 'YQFAU', 'FQNTV', 'GOWVM',\n",
       "       'IASEM', 'FOSBM', 'ZCUSM', 'KHQOB', 'PTDIQ', 'PRUMP', 'IFHRL',\n",
       "       'FJTEO', 'CCPMS', 'NRCIP', 'HDJEL', 'ZDEVB', 'VESRG', 'ABMRW',\n",
       "       'YTPWW', 'DPRLY', 'KDVAH', 'HPJIH', 'APLQK', 'CCJSN', 'HXLMY',\n",
       "       'EHJGX', 'YPVZL', 'JMTEY', 'DMLQP', 'HUWLU', 'LNILM', 'YYWJD',\n",
       "       'PJDOE', 'LHXFK', 'PHDVM', 'MOQOS', 'THVMQ', 'JPHKQ', 'VACPK',\n",
       "       'MHNBS', 'YBNCI', 'GXKFD', 'FZWLA', 'HBAMR', 'AEDTT', 'GCXOG',\n",
       "       'AQTNC', 'RFHHN', 'MPZAN', 'GMYBT', 'IASLW', 'LKVOU', 'ETQCI',\n",
       "       'DWDIA', 'WETYV', 'EMGSV', 'KGNQQ', 'DRDWP', 'DQOPF', 'ORKEN',\n",
       "       'IMCSQ', 'KHOHL', 'PYNAO', 'XARMY', 'YOHNH', 'IPPEH', 'OJLUP',\n",
       "       'TEQVC', 'GJQUV', 'DBEKB', 'KTZFY', 'OMVGN', 'PGFMB', 'ZZYKY',\n",
       "       'VQGXK', 'FQRWT', 'SNEUW', 'TPVSG', 'TOBHP', 'TKRXG', 'ABBEH',\n",
       "       'OVTHV', 'VDYQN', 'UUJVK', 'PVGFL', 'RLWOM', 'OVKOC', 'EHYDY',\n",
       "       'EMOWR', 'GLWBA', 'MGCNS', 'SZNRG', 'UAVEQ', 'UPJMR', 'RCCTX',\n",
       "       'PYAGN', 'TYLJC', 'XAYZH', 'TASQL', 'EOIDS', 'OIHMM', 'XQKHS',\n",
       "       'ICBEK', 'USSPC', 'QPNKM', 'XADNT', 'VEYEA', 'DWNHB', 'UIIMD',\n",
       "       'LJLTZ', 'UGXRR', 'BKQRA', 'FPAUI', 'KELDT', 'RNZYC', 'ISDQC',\n",
       "       'SEPBQ', 'ZHLDR', 'WGFWV', 'HMGTW', 'XOLFI', 'XLRGG', 'OKEIR',\n",
       "       'VYYAC', 'VKJWZ', 'KBCTA', 'JZDFW', 'IGQRL', 'OCNQR', 'NDCSO',\n",
       "       'KFJHU', 'NVWJB', 'AAUIC', 'VKKRU', 'JBZWH', 'WQEIT', 'BZMNI',\n",
       "       'SHIKZ', 'RPOWD', 'NLFQB', 'HWZPM', 'AHCJD', 'FEOAY', 'LQNDQ',\n",
       "       'HPJIM', 'NPWBF', 'WQLGH', 'EHZJZ', 'EFRIR', 'AFHXN', 'WFHYR',\n",
       "       'ESVFX', 'HQYJZ', 'ZWXAX', 'OZGBN', 'FMQMG', 'MRQPD', 'ECRAC',\n",
       "       'AXHXM', 'OVINL', 'VMIXC', 'YFSHX', 'GBYBQ', 'ZCWOH', 'OWYYV',\n",
       "       'ETUQJ', 'ATELV', 'LLJQU', 'WIEAP', 'ZXGTM', 'KPJOE', 'PJZWK',\n",
       "       'LUTMM', 'SMWQJ', 'VYSHG', 'NGIQF', 'QEZTQ', 'YRYQU', 'PKINJ',\n",
       "       'OUQBZ', 'XGIOW', 'CAGTD', 'IZAGF', 'TFVLT', 'ZIAVV', 'AATFJ',\n",
       "       'HMPXL', 'LCSNZ', 'DWAYF', 'ATRIL', 'XGMGK', 'FZFPV', 'ETSQN',\n",
       "       'SUHAB', 'NTBUU', 'UEQCN', 'JKUUT', 'GWBKE', 'KVXIP', 'PTKIU',\n",
       "       'COZYF', 'DQIRW', 'MTONV', 'FTNYE', 'VVYZD', 'SYDFX', 'PJVXD',\n",
       "       'VYNII', 'ZDULQ', 'RZCAB', 'TAYED', 'NMZPA', 'KUECW', 'MUSXH',\n",
       "       'BGNAB', 'TZMER', 'XWJNM', 'RBXOR', 'EREUG', 'SFCSP', 'JIIGM',\n",
       "       'VAUBQ', 'YYCAU', 'JEYEY', 'QEDKA', 'XKEKS', 'YCCLG', 'IOKVP',\n",
       "       'PRQCC', 'KOMYM', 'RPRNQ', 'CHEUM', 'QKECE', 'EBMUS', 'DVCQI',\n",
       "       'SJLVX', 'PMSKX', 'VTOQL', 'HYQBX', 'MZLKZ', 'QAHSC', 'PDLNY',\n",
       "       'THRAQ', 'QDBSL', 'BLFKI', 'PPYNA', 'ZUYHU', 'UPXXL', 'VZZXF',\n",
       "       'BYXPQ', 'VFMWJ', 'VSPGA', 'WOTTV', 'FTOKS', 'KNSYU', 'EQNMH',\n",
       "       'LMJHG', 'IHRSL', 'OHTKT', 'UEKHE', 'YIRFR', 'WWTDO', 'PGWFT',\n",
       "       'LTHWZ', 'CRPGJ', 'MIQGL', 'NKXAB', 'GGTFR', 'OCIQJ', 'WPNKV',\n",
       "       'XWWMB', 'DBKFY', 'ITXRO', 'JRNPL', 'HVCXC', 'ZUCQA', 'VSQKX',\n",
       "       'TDSHA', 'BZDXJ', 'CSMWE', 'YSTQG', 'IJFFS', 'HEEHI', 'PZJEX',\n",
       "       'TIGCE', 'VNFGS', 'ALRVP', 'VEYXI', 'CXWTW', 'IZTXH', 'AEGXS',\n",
       "       'VANEE', 'PRBQK', 'HVFOK', 'VOHUU', 'XIVWG', 'DLPIL', 'RSJGJ',\n",
       "       'RMCFM', 'DSUDQ', 'EWOEN', 'IXRGY', 'ZFXCI', 'OKMQB', 'LMXXM',\n",
       "       'REYWW', 'RSEUB', 'JTOQY', 'SNGOG', 'MCDRM', 'DQVOX', 'UFBGH',\n",
       "       'HDTMN', 'CRGQG', 'GPCGD', 'QETGR', 'SQUTN', 'TMUIV', 'ZPUUT',\n",
       "       'ZALLY', 'ZGWUB', 'GOGQV', 'GAEHO', 'PCTIU', 'JMKXX', 'VWJVC',\n",
       "       'TDPLT', 'TUCHE', 'NHAPJ', 'EQULX', 'VEDQK', 'KVXCL', 'ZGGJQ',\n",
       "       'WNUXX', 'MMBEO', 'CJUVE', 'QGTPL', 'ESESN', 'IXGDF', 'EORNF',\n",
       "       'BJYPS', 'CVLUD', 'DPHQB', 'AWVZS', 'COIXS', 'IWRZM', 'FHUDV',\n",
       "       'SXYQF', 'PUUHA', 'HEWTV', 'YEUEY', 'ZSTFC', 'DIDIT', 'OSYIS',\n",
       "       'NBWCE', 'OBLKI', 'UNMAJ', 'UHGYC', 'SXEHQ', 'GOKAY', 'INSQR',\n",
       "       'EWKWS', 'URMGJ', 'DOUUI', 'HZUIY', 'JCLEO', 'AMUOB', 'UYYJQ',\n",
       "       'TYNOT', 'SXQGF', 'AIDMW', 'IGPPI', 'QMETP', 'IFWAG', 'KIWWD',\n",
       "       'VANJK', 'TXGKN', 'YEUDH', 'LYXPO', 'FVLNN', 'NLSDC', 'RZOED',\n",
       "       'AZQWM', 'UPHMU', 'XDNBV', 'JTFJI', 'QDRVV', 'KAEAC', 'KYKOG',\n",
       "       'HLVSO', 'IRFOM', 'ADADK', 'XGJRD', 'QYJCD', 'RTJXB', 'HDVFO',\n",
       "       'FFOIW', 'FOWSA', 'RMADD', 'JCUYM', 'GIXMH', 'OUTQR', 'LFNUZ',\n",
       "       'ASNTH', 'JLQKP', 'UYXOX', 'WILIY', 'FFHOK', 'UALPT', 'ZWJVH',\n",
       "       'ADOXQ', 'FGMWT', 'KREBP', 'NOZOL', 'AGSGC', 'PEVCX', 'QWVRM',\n",
       "       'TIGCN', 'ARPWX', 'KXAGT', 'JYYZN', 'OWQWJ', 'CBCLM', 'UNMZU',\n",
       "       'WYUYH', 'JPMRA', 'UNUJV', 'PEMVN', 'MWYSX', 'TJPRL', 'JNSUY',\n",
       "       'FLBNO', 'OJCVH', 'KHMAT', 'KEFPC', 'YDFTB', 'HUFAU', 'QVNVN',\n",
       "       'FJMOJ', 'RBFPF', 'DVDPX', 'JXZJJ', 'MBSIK', 'YOCBY', 'UWJHO',\n",
       "       'UJRGM', 'CNBBZ', 'CLAJJ', 'BABTB', 'ETFPU', 'CSEAX', 'REZDC',\n",
       "       'WCTYV', 'DGDPN', 'CDPWO', 'QXFRD', 'ELXNQ', 'ECUQB', 'XRHDX',\n",
       "       'ZMLQK', 'RWSRM', 'JHSWC', 'ETMYL', 'XJLQL', 'AAAEI', 'XVWGU',\n",
       "       'EFDPX', 'PVEII', 'EBFVL', 'XKGUD', 'QZPEU', 'IKGUD', 'TVWHL',\n",
       "       'ZMYDI', 'YMRLB', 'UKHMB', 'YNRIY', 'ZFIBX', 'IXCKU', 'NAYVI',\n",
       "       'HUYWF', 'ILQUD', 'FPGST', 'SCNJW', 'VBIAA', 'ZTFKF', 'MHSRG',\n",
       "       'BURYG', 'ORVOS', 'TKLLD', 'YZANL', 'FPHXV', 'XUZXX', 'UMYTA',\n",
       "       'VGTXP', 'NYMFE', 'VNMOX', 'XUXGI', 'CWFSA', 'JXFDE', 'IFMIQ',\n",
       "       'UNKRX', 'NPODI', 'TKIIX', 'JMTQA', 'PUQQG', 'NIXUY', 'NXBAN',\n",
       "       'RCZIW', 'ZAAPV', 'ZMRLR', 'PQORX', 'XWPSF', 'ZSYAT', 'LGJNC',\n",
       "       'HDFZT', 'OUEPK', 'OWEPZ', 'IPKWQ', 'XZHYB', 'LQIMR', 'UTDJE',\n",
       "       'QEECK', 'GBAPP', 'CSQBE', 'UOSES', 'ICJLE', 'OLBKD', 'DTVDJ',\n",
       "       'VJSLF', 'YAVYP', 'MMUGC', 'NIPNV', 'PMENZ', 'GYNUY', 'GICZE',\n",
       "       'OKLJZ', 'ZOKHF', 'OEWKZ', 'HPEDR', 'STOXK', 'FCVKF'], \n",
       "      dtype='<U5')"
      ]
     },
     "execution_count": 63,
     "metadata": {},
     "output_type": "execute_result"
    }
   ],
   "source": [
    "N = 1000\n",
    "def rands(n):\n",
    "    choices = string.ascii_uppercase\n",
    "    return ''.join([random.choice(choices) for _ in range(n)])\n",
    "\n",
    "tickers = np.array([rands(5) for _ in range(N)])\n",
    "tickers"
   ]
  },
  {
   "cell_type": "code",
   "execution_count": 64,
   "metadata": {},
   "outputs": [
    {
     "data": {
      "text/plain": [
       "'I'"
      ]
     },
     "execution_count": 64,
     "metadata": {},
     "output_type": "execute_result"
    }
   ],
   "source": [
    "random.choice(string.ascii_uppercase)"
   ]
  },
  {
   "cell_type": "code",
   "execution_count": 65,
   "metadata": {
    "collapsed": true
   },
   "outputs": [],
   "source": [
    "lst = random.sample(string.ascii_uppercase, len(string.ascii_uppercase))\n",
    "lst.sort()"
   ]
  },
  {
   "cell_type": "code",
   "execution_count": 66,
   "metadata": {
    "collapsed": true
   },
   "outputs": [],
   "source": [
    "M = 500\n",
    "df = DataFrame({'Momentum' : np.random.randn(M) / 200 + 0.03,\n",
    "               'Value' : np.random.randn(M) / 200 + 0.08,\n",
    "               'ShortInterest' : np.random.randn(M) / 200 -0.02},\n",
    "              index = tickers[:M])"
   ]
  },
  {
   "cell_type": "code",
   "execution_count": 67,
   "metadata": {},
   "outputs": [
    {
     "data": {
      "text/html": [
       "<div>\n",
       "<style>\n",
       "    .dataframe thead tr:only-child th {\n",
       "        text-align: right;\n",
       "    }\n",
       "\n",
       "    .dataframe thead th {\n",
       "        text-align: left;\n",
       "    }\n",
       "\n",
       "    .dataframe tbody tr th {\n",
       "        vertical-align: top;\n",
       "    }\n",
       "</style>\n",
       "<table border=\"1\" class=\"dataframe\">\n",
       "  <thead>\n",
       "    <tr style=\"text-align: right;\">\n",
       "      <th></th>\n",
       "      <th>Momentum</th>\n",
       "      <th>ShortInterest</th>\n",
       "      <th>Value</th>\n",
       "    </tr>\n",
       "  </thead>\n",
       "  <tbody>\n",
       "    <tr>\n",
       "      <th>MYNBI</th>\n",
       "      <td>0.030646</td>\n",
       "      <td>-0.017735</td>\n",
       "      <td>0.084969</td>\n",
       "    </tr>\n",
       "    <tr>\n",
       "      <th>QPMZJ</th>\n",
       "      <td>0.025799</td>\n",
       "      <td>-0.023496</td>\n",
       "      <td>0.084911</td>\n",
       "    </tr>\n",
       "    <tr>\n",
       "      <th>PLSGQ</th>\n",
       "      <td>0.033237</td>\n",
       "      <td>-0.024086</td>\n",
       "      <td>0.083127</td>\n",
       "    </tr>\n",
       "    <tr>\n",
       "      <th>EJEYD</th>\n",
       "      <td>0.030016</td>\n",
       "      <td>-0.011994</td>\n",
       "      <td>0.087141</td>\n",
       "    </tr>\n",
       "    <tr>\n",
       "      <th>TZIRW</th>\n",
       "      <td>0.034165</td>\n",
       "      <td>-0.016337</td>\n",
       "      <td>0.087667</td>\n",
       "    </tr>\n",
       "    <tr>\n",
       "      <th>ZTEJD</th>\n",
       "      <td>0.031969</td>\n",
       "      <td>-0.025415</td>\n",
       "      <td>0.083988</td>\n",
       "    </tr>\n",
       "    <tr>\n",
       "      <th>...</th>\n",
       "      <td>...</td>\n",
       "      <td>...</td>\n",
       "      <td>...</td>\n",
       "    </tr>\n",
       "    <tr>\n",
       "      <th>THVMQ</th>\n",
       "      <td>0.032722</td>\n",
       "      <td>-0.021015</td>\n",
       "      <td>0.088127</td>\n",
       "    </tr>\n",
       "    <tr>\n",
       "      <th>JPHKQ</th>\n",
       "      <td>0.036593</td>\n",
       "      <td>-0.017022</td>\n",
       "      <td>0.083631</td>\n",
       "    </tr>\n",
       "    <tr>\n",
       "      <th>VACPK</th>\n",
       "      <td>0.040059</td>\n",
       "      <td>-0.023956</td>\n",
       "      <td>0.078904</td>\n",
       "    </tr>\n",
       "    <tr>\n",
       "      <th>MHNBS</th>\n",
       "      <td>0.015524</td>\n",
       "      <td>-0.016827</td>\n",
       "      <td>0.086984</td>\n",
       "    </tr>\n",
       "    <tr>\n",
       "      <th>YBNCI</th>\n",
       "      <td>0.032472</td>\n",
       "      <td>-0.023637</td>\n",
       "      <td>0.075880</td>\n",
       "    </tr>\n",
       "    <tr>\n",
       "      <th>GXKFD</th>\n",
       "      <td>0.031550</td>\n",
       "      <td>-0.012948</td>\n",
       "      <td>0.084701</td>\n",
       "    </tr>\n",
       "  </tbody>\n",
       "</table>\n",
       "<p>500 rows × 3 columns</p>\n",
       "</div>"
      ],
      "text/plain": [
       "       Momentum  ShortInterest     Value\n",
       "MYNBI  0.030646      -0.017735  0.084969\n",
       "QPMZJ  0.025799      -0.023496  0.084911\n",
       "PLSGQ  0.033237      -0.024086  0.083127\n",
       "EJEYD  0.030016      -0.011994  0.087141\n",
       "TZIRW  0.034165      -0.016337  0.087667\n",
       "ZTEJD  0.031969      -0.025415  0.083988\n",
       "...         ...            ...       ...\n",
       "THVMQ  0.032722      -0.021015  0.088127\n",
       "JPHKQ  0.036593      -0.017022  0.083631\n",
       "VACPK  0.040059      -0.023956  0.078904\n",
       "MHNBS  0.015524      -0.016827  0.086984\n",
       "YBNCI  0.032472      -0.023637  0.075880\n",
       "GXKFD  0.031550      -0.012948  0.084701\n",
       "\n",
       "[500 rows x 3 columns]"
      ]
     },
     "execution_count": 67,
     "metadata": {},
     "output_type": "execute_result"
    }
   ],
   "source": [
    "df"
   ]
  },
  {
   "cell_type": "markdown",
   "metadata": {},
   "source": [
    "### Assign randomly generated 500 tickers into one of ind_names(Financial, Tech)"
   ]
  },
  {
   "cell_type": "code",
   "execution_count": 68,
   "metadata": {
    "collapsed": true
   },
   "outputs": [],
   "source": [
    "ind_names = np.array(['FINANCIAL', 'TECH'])\n",
    "sampler = np.random.randint(0, len(ind_names), N)\n",
    "industries = Series(ind_names[sampler], index = tickers, name = 'industry')"
   ]
  },
  {
   "cell_type": "code",
   "execution_count": 69,
   "metadata": {},
   "outputs": [
    {
     "data": {
      "text/plain": [
       "MYNBI         TECH\n",
       "QPMZJ         TECH\n",
       "PLSGQ         TECH\n",
       "EJEYD    FINANCIAL\n",
       "TZIRW    FINANCIAL\n",
       "ZTEJD         TECH\n",
       "           ...    \n",
       "OKLJZ    FINANCIAL\n",
       "ZOKHF         TECH\n",
       "OEWKZ    FINANCIAL\n",
       "HPEDR         TECH\n",
       "STOXK    FINANCIAL\n",
       "FCVKF         TECH\n",
       "Name: industry, Length: 1000, dtype: object"
      ]
     },
     "execution_count": 69,
     "metadata": {},
     "output_type": "execute_result"
    }
   ],
   "source": [
    "industries"
   ]
  },
  {
   "cell_type": "code",
   "execution_count": 70,
   "metadata": {
    "collapsed": true
   },
   "outputs": [],
   "source": [
    "by_industry = df.groupby(industries)"
   ]
  },
  {
   "cell_type": "code",
   "execution_count": 71,
   "metadata": {},
   "outputs": [
    {
     "data": {
      "text/html": [
       "<div>\n",
       "<style>\n",
       "    .dataframe thead tr:only-child th {\n",
       "        text-align: right;\n",
       "    }\n",
       "\n",
       "    .dataframe thead th {\n",
       "        text-align: left;\n",
       "    }\n",
       "\n",
       "    .dataframe tbody tr th {\n",
       "        vertical-align: top;\n",
       "    }\n",
       "</style>\n",
       "<table border=\"1\" class=\"dataframe\">\n",
       "  <thead>\n",
       "    <tr style=\"text-align: right;\">\n",
       "      <th></th>\n",
       "      <th>Momentum</th>\n",
       "      <th>ShortInterest</th>\n",
       "      <th>Value</th>\n",
       "    </tr>\n",
       "    <tr>\n",
       "      <th>industry</th>\n",
       "      <th></th>\n",
       "      <th></th>\n",
       "      <th></th>\n",
       "    </tr>\n",
       "  </thead>\n",
       "  <tbody>\n",
       "    <tr>\n",
       "      <th>FINANCIAL</th>\n",
       "      <td>0.029994</td>\n",
       "      <td>-0.019729</td>\n",
       "      <td>0.080241</td>\n",
       "    </tr>\n",
       "    <tr>\n",
       "      <th>TECH</th>\n",
       "      <td>0.030227</td>\n",
       "      <td>-0.020296</td>\n",
       "      <td>0.080365</td>\n",
       "    </tr>\n",
       "  </tbody>\n",
       "</table>\n",
       "</div>"
      ],
      "text/plain": [
       "           Momentum  ShortInterest     Value\n",
       "industry                                    \n",
       "FINANCIAL  0.029994      -0.019729  0.080241\n",
       "TECH       0.030227      -0.020296  0.080365"
      ]
     },
     "execution_count": 71,
     "metadata": {},
     "output_type": "execute_result"
    }
   ],
   "source": [
    "by_industry.mean()"
   ]
  },
  {
   "cell_type": "code",
   "execution_count": 72,
   "metadata": {},
   "outputs": [
    {
     "data": {
      "text/html": [
       "<div>\n",
       "<style>\n",
       "    .dataframe thead tr:only-child th {\n",
       "        text-align: right;\n",
       "    }\n",
       "\n",
       "    .dataframe thead th {\n",
       "        text-align: left;\n",
       "    }\n",
       "\n",
       "    .dataframe tbody tr th {\n",
       "        vertical-align: top;\n",
       "    }\n",
       "</style>\n",
       "<table border=\"1\" class=\"dataframe\">\n",
       "  <thead>\n",
       "    <tr style=\"text-align: right;\">\n",
       "      <th></th>\n",
       "      <th></th>\n",
       "      <th>Momentum</th>\n",
       "      <th>ShortInterest</th>\n",
       "      <th>Value</th>\n",
       "    </tr>\n",
       "    <tr>\n",
       "      <th>industry</th>\n",
       "      <th></th>\n",
       "      <th></th>\n",
       "      <th></th>\n",
       "      <th></th>\n",
       "    </tr>\n",
       "  </thead>\n",
       "  <tbody>\n",
       "    <tr>\n",
       "      <th rowspan=\"6\" valign=\"top\">FINANCIAL</th>\n",
       "      <th>count</th>\n",
       "      <td>235.000000</td>\n",
       "      <td>235.000000</td>\n",
       "      <td>235.000000</td>\n",
       "    </tr>\n",
       "    <tr>\n",
       "      <th>mean</th>\n",
       "      <td>0.029994</td>\n",
       "      <td>-0.019729</td>\n",
       "      <td>0.080241</td>\n",
       "    </tr>\n",
       "    <tr>\n",
       "      <th>std</th>\n",
       "      <td>0.005116</td>\n",
       "      <td>0.005204</td>\n",
       "      <td>0.004779</td>\n",
       "    </tr>\n",
       "    <tr>\n",
       "      <th>min</th>\n",
       "      <td>0.015524</td>\n",
       "      <td>-0.035881</td>\n",
       "      <td>0.065172</td>\n",
       "    </tr>\n",
       "    <tr>\n",
       "      <th>25%</th>\n",
       "      <td>0.026558</td>\n",
       "      <td>-0.023544</td>\n",
       "      <td>0.077404</td>\n",
       "    </tr>\n",
       "    <tr>\n",
       "      <th>50%</th>\n",
       "      <td>0.029831</td>\n",
       "      <td>-0.019601</td>\n",
       "      <td>0.080184</td>\n",
       "    </tr>\n",
       "    <tr>\n",
       "      <th>...</th>\n",
       "      <th>...</th>\n",
       "      <td>...</td>\n",
       "      <td>...</td>\n",
       "      <td>...</td>\n",
       "    </tr>\n",
       "    <tr>\n",
       "      <th rowspan=\"6\" valign=\"top\">TECH</th>\n",
       "      <th>std</th>\n",
       "      <td>0.004751</td>\n",
       "      <td>0.004843</td>\n",
       "      <td>0.005064</td>\n",
       "    </tr>\n",
       "    <tr>\n",
       "      <th>min</th>\n",
       "      <td>0.017822</td>\n",
       "      <td>-0.035051</td>\n",
       "      <td>0.064883</td>\n",
       "    </tr>\n",
       "    <tr>\n",
       "      <th>25%</th>\n",
       "      <td>0.027127</td>\n",
       "      <td>-0.023637</td>\n",
       "      <td>0.077294</td>\n",
       "    </tr>\n",
       "    <tr>\n",
       "      <th>50%</th>\n",
       "      <td>0.030050</td>\n",
       "      <td>-0.020266</td>\n",
       "      <td>0.080601</td>\n",
       "    </tr>\n",
       "    <tr>\n",
       "      <th>75%</th>\n",
       "      <td>0.033275</td>\n",
       "      <td>-0.016634</td>\n",
       "      <td>0.083768</td>\n",
       "    </tr>\n",
       "    <tr>\n",
       "      <th>max</th>\n",
       "      <td>0.043905</td>\n",
       "      <td>-0.006910</td>\n",
       "      <td>0.096478</td>\n",
       "    </tr>\n",
       "  </tbody>\n",
       "</table>\n",
       "<p>16 rows × 3 columns</p>\n",
       "</div>"
      ],
      "text/plain": [
       "                   Momentum  ShortInterest       Value\n",
       "industry                                              \n",
       "FINANCIAL count  235.000000     235.000000  235.000000\n",
       "          mean     0.029994      -0.019729    0.080241\n",
       "          std      0.005116       0.005204    0.004779\n",
       "          min      0.015524      -0.035881    0.065172\n",
       "          25%      0.026558      -0.023544    0.077404\n",
       "          50%      0.029831      -0.019601    0.080184\n",
       "...                     ...            ...         ...\n",
       "TECH      std      0.004751       0.004843    0.005064\n",
       "          min      0.017822      -0.035051    0.064883\n",
       "          25%      0.027127      -0.023637    0.077294\n",
       "          50%      0.030050      -0.020266    0.080601\n",
       "          75%      0.033275      -0.016634    0.083768\n",
       "          max      0.043905      -0.006910    0.096478\n",
       "\n",
       "[16 rows x 3 columns]"
      ]
     },
     "execution_count": 72,
     "metadata": {},
     "output_type": "execute_result"
    }
   ],
   "source": [
    "by_industry.describe().stack()"
   ]
  },
  {
   "cell_type": "code",
   "execution_count": 73,
   "metadata": {},
   "outputs": [
    {
     "data": {
      "text/plain": [
       "FrozenList([None, None])"
      ]
     },
     "execution_count": 73,
     "metadata": {},
     "output_type": "execute_result"
    }
   ],
   "source": [
    "by_industry.describe().columns.names"
   ]
  },
  {
   "cell_type": "code",
   "execution_count": 74,
   "metadata": {},
   "outputs": [
    {
     "data": {
      "text/html": [
       "<div>\n",
       "<style>\n",
       "    .dataframe thead tr:only-child th {\n",
       "        text-align: right;\n",
       "    }\n",
       "\n",
       "    .dataframe thead th {\n",
       "        text-align: left;\n",
       "    }\n",
       "\n",
       "    .dataframe tbody tr th {\n",
       "        vertical-align: top;\n",
       "    }\n",
       "</style>\n",
       "<table border=\"1\" class=\"dataframe\">\n",
       "  <thead>\n",
       "    <tr style=\"text-align: right;\">\n",
       "      <th></th>\n",
       "      <th></th>\n",
       "      <th>25%</th>\n",
       "      <th>50%</th>\n",
       "      <th>75%</th>\n",
       "      <th>count</th>\n",
       "      <th>max</th>\n",
       "      <th>mean</th>\n",
       "      <th>min</th>\n",
       "      <th>std</th>\n",
       "    </tr>\n",
       "    <tr>\n",
       "      <th>industry</th>\n",
       "      <th></th>\n",
       "      <th></th>\n",
       "      <th></th>\n",
       "      <th></th>\n",
       "      <th></th>\n",
       "      <th></th>\n",
       "      <th></th>\n",
       "      <th></th>\n",
       "      <th></th>\n",
       "    </tr>\n",
       "  </thead>\n",
       "  <tbody>\n",
       "    <tr>\n",
       "      <th rowspan=\"3\" valign=\"top\">FINANCIAL</th>\n",
       "      <th>Momentum</th>\n",
       "      <td>0.026558</td>\n",
       "      <td>0.029831</td>\n",
       "      <td>0.033643</td>\n",
       "      <td>235.0</td>\n",
       "      <td>0.043392</td>\n",
       "      <td>0.029994</td>\n",
       "      <td>0.015524</td>\n",
       "      <td>0.005116</td>\n",
       "    </tr>\n",
       "    <tr>\n",
       "      <th>ShortInterest</th>\n",
       "      <td>-0.023544</td>\n",
       "      <td>-0.019601</td>\n",
       "      <td>-0.016476</td>\n",
       "      <td>235.0</td>\n",
       "      <td>-0.003795</td>\n",
       "      <td>-0.019729</td>\n",
       "      <td>-0.035881</td>\n",
       "      <td>0.005204</td>\n",
       "    </tr>\n",
       "    <tr>\n",
       "      <th>Value</th>\n",
       "      <td>0.077404</td>\n",
       "      <td>0.080184</td>\n",
       "      <td>0.083100</td>\n",
       "      <td>235.0</td>\n",
       "      <td>0.095502</td>\n",
       "      <td>0.080241</td>\n",
       "      <td>0.065172</td>\n",
       "      <td>0.004779</td>\n",
       "    </tr>\n",
       "    <tr>\n",
       "      <th rowspan=\"3\" valign=\"top\">TECH</th>\n",
       "      <th>Momentum</th>\n",
       "      <td>0.027127</td>\n",
       "      <td>0.030050</td>\n",
       "      <td>0.033275</td>\n",
       "      <td>265.0</td>\n",
       "      <td>0.043905</td>\n",
       "      <td>0.030227</td>\n",
       "      <td>0.017822</td>\n",
       "      <td>0.004751</td>\n",
       "    </tr>\n",
       "    <tr>\n",
       "      <th>ShortInterest</th>\n",
       "      <td>-0.023637</td>\n",
       "      <td>-0.020266</td>\n",
       "      <td>-0.016634</td>\n",
       "      <td>265.0</td>\n",
       "      <td>-0.006910</td>\n",
       "      <td>-0.020296</td>\n",
       "      <td>-0.035051</td>\n",
       "      <td>0.004843</td>\n",
       "    </tr>\n",
       "    <tr>\n",
       "      <th>Value</th>\n",
       "      <td>0.077294</td>\n",
       "      <td>0.080601</td>\n",
       "      <td>0.083768</td>\n",
       "      <td>265.0</td>\n",
       "      <td>0.096478</td>\n",
       "      <td>0.080365</td>\n",
       "      <td>0.064883</td>\n",
       "      <td>0.005064</td>\n",
       "    </tr>\n",
       "  </tbody>\n",
       "</table>\n",
       "</div>"
      ],
      "text/plain": [
       "                              25%       50%       75%  count       max  \\\n",
       "industry                                                                 \n",
       "FINANCIAL Momentum       0.026558  0.029831  0.033643  235.0  0.043392   \n",
       "          ShortInterest -0.023544 -0.019601 -0.016476  235.0 -0.003795   \n",
       "          Value          0.077404  0.080184  0.083100  235.0  0.095502   \n",
       "TECH      Momentum       0.027127  0.030050  0.033275  265.0  0.043905   \n",
       "          ShortInterest -0.023637 -0.020266 -0.016634  265.0 -0.006910   \n",
       "          Value          0.077294  0.080601  0.083768  265.0  0.096478   \n",
       "\n",
       "                             mean       min       std  \n",
       "industry                                               \n",
       "FINANCIAL Momentum       0.029994  0.015524  0.005116  \n",
       "          ShortInterest -0.019729 -0.035881  0.005204  \n",
       "          Value          0.080241  0.065172  0.004779  \n",
       "TECH      Momentum       0.030227  0.017822  0.004751  \n",
       "          ShortInterest -0.020296 -0.035051  0.004843  \n",
       "          Value          0.080365  0.064883  0.005064  "
      ]
     },
     "execution_count": 74,
     "metadata": {},
     "output_type": "execute_result"
    }
   ],
   "source": [
    "by_industry.describe().stack(0)"
   ]
  },
  {
   "cell_type": "code",
   "execution_count": 75,
   "metadata": {
    "scrolled": true
   },
   "outputs": [
    {
     "data": {
      "text/html": [
       "<div>\n",
       "<style>\n",
       "    .dataframe thead tr:only-child th {\n",
       "        text-align: right;\n",
       "    }\n",
       "\n",
       "    .dataframe thead th {\n",
       "        text-align: left;\n",
       "    }\n",
       "\n",
       "    .dataframe tbody tr th {\n",
       "        vertical-align: top;\n",
       "    }\n",
       "</style>\n",
       "<table border=\"1\" class=\"dataframe\">\n",
       "  <thead>\n",
       "    <tr style=\"text-align: right;\">\n",
       "      <th></th>\n",
       "      <th></th>\n",
       "      <th>Momentum</th>\n",
       "      <th>ShortInterest</th>\n",
       "      <th>Value</th>\n",
       "    </tr>\n",
       "    <tr>\n",
       "      <th>industry</th>\n",
       "      <th></th>\n",
       "      <th></th>\n",
       "      <th></th>\n",
       "      <th></th>\n",
       "    </tr>\n",
       "  </thead>\n",
       "  <tbody>\n",
       "    <tr>\n",
       "      <th rowspan=\"6\" valign=\"top\">FINANCIAL</th>\n",
       "      <th>count</th>\n",
       "      <td>235.000000</td>\n",
       "      <td>235.000000</td>\n",
       "      <td>235.000000</td>\n",
       "    </tr>\n",
       "    <tr>\n",
       "      <th>mean</th>\n",
       "      <td>0.029994</td>\n",
       "      <td>-0.019729</td>\n",
       "      <td>0.080241</td>\n",
       "    </tr>\n",
       "    <tr>\n",
       "      <th>std</th>\n",
       "      <td>0.005116</td>\n",
       "      <td>0.005204</td>\n",
       "      <td>0.004779</td>\n",
       "    </tr>\n",
       "    <tr>\n",
       "      <th>min</th>\n",
       "      <td>0.015524</td>\n",
       "      <td>-0.035881</td>\n",
       "      <td>0.065172</td>\n",
       "    </tr>\n",
       "    <tr>\n",
       "      <th>25%</th>\n",
       "      <td>0.026558</td>\n",
       "      <td>-0.023544</td>\n",
       "      <td>0.077404</td>\n",
       "    </tr>\n",
       "    <tr>\n",
       "      <th>50%</th>\n",
       "      <td>0.029831</td>\n",
       "      <td>-0.019601</td>\n",
       "      <td>0.080184</td>\n",
       "    </tr>\n",
       "    <tr>\n",
       "      <th>...</th>\n",
       "      <th>...</th>\n",
       "      <td>...</td>\n",
       "      <td>...</td>\n",
       "      <td>...</td>\n",
       "    </tr>\n",
       "    <tr>\n",
       "      <th rowspan=\"6\" valign=\"top\">TECH</th>\n",
       "      <th>std</th>\n",
       "      <td>0.004751</td>\n",
       "      <td>0.004843</td>\n",
       "      <td>0.005064</td>\n",
       "    </tr>\n",
       "    <tr>\n",
       "      <th>min</th>\n",
       "      <td>0.017822</td>\n",
       "      <td>-0.035051</td>\n",
       "      <td>0.064883</td>\n",
       "    </tr>\n",
       "    <tr>\n",
       "      <th>25%</th>\n",
       "      <td>0.027127</td>\n",
       "      <td>-0.023637</td>\n",
       "      <td>0.077294</td>\n",
       "    </tr>\n",
       "    <tr>\n",
       "      <th>50%</th>\n",
       "      <td>0.030050</td>\n",
       "      <td>-0.020266</td>\n",
       "      <td>0.080601</td>\n",
       "    </tr>\n",
       "    <tr>\n",
       "      <th>75%</th>\n",
       "      <td>0.033275</td>\n",
       "      <td>-0.016634</td>\n",
       "      <td>0.083768</td>\n",
       "    </tr>\n",
       "    <tr>\n",
       "      <th>max</th>\n",
       "      <td>0.043905</td>\n",
       "      <td>-0.006910</td>\n",
       "      <td>0.096478</td>\n",
       "    </tr>\n",
       "  </tbody>\n",
       "</table>\n",
       "<p>16 rows × 3 columns</p>\n",
       "</div>"
      ],
      "text/plain": [
       "                   Momentum  ShortInterest       Value\n",
       "industry                                              \n",
       "FINANCIAL count  235.000000     235.000000  235.000000\n",
       "          mean     0.029994      -0.019729    0.080241\n",
       "          std      0.005116       0.005204    0.004779\n",
       "          min      0.015524      -0.035881    0.065172\n",
       "          25%      0.026558      -0.023544    0.077404\n",
       "          50%      0.029831      -0.019601    0.080184\n",
       "...                     ...            ...         ...\n",
       "TECH      std      0.004751       0.004843    0.005064\n",
       "          min      0.017822      -0.035051    0.064883\n",
       "          25%      0.027127      -0.023637    0.077294\n",
       "          50%      0.030050      -0.020266    0.080601\n",
       "          75%      0.033275      -0.016634    0.083768\n",
       "          max      0.043905      -0.006910    0.096478\n",
       "\n",
       "[16 rows x 3 columns]"
      ]
     },
     "execution_count": 75,
     "metadata": {},
     "output_type": "execute_result"
    }
   ],
   "source": [
    "by_industry.describe().stack(1)"
   ]
  },
  {
   "cell_type": "code",
   "execution_count": 76,
   "metadata": {},
   "outputs": [
    {
     "data": {
      "text/plain": [
       "                 industry \n",
       "Momentum  count  FINANCIAL    235.000000\n",
       "                 TECH         265.000000\n",
       "          mean   FINANCIAL      0.029994\n",
       "                 TECH           0.030227\n",
       "          std    FINANCIAL      0.005116\n",
       "                 TECH           0.004751\n",
       "                                 ...    \n",
       "Value     50%    FINANCIAL      0.080184\n",
       "                 TECH           0.080601\n",
       "          75%    FINANCIAL      0.083100\n",
       "                 TECH           0.083768\n",
       "          max    FINANCIAL      0.095502\n",
       "                 TECH           0.096478\n",
       "Length: 48, dtype: float64"
      ]
     },
     "execution_count": 76,
     "metadata": {},
     "output_type": "execute_result"
    }
   ],
   "source": [
    "by_industry.describe().unstack('industry')"
   ]
  },
  {
   "cell_type": "code",
   "execution_count": 77,
   "metadata": {
    "scrolled": true
   },
   "outputs": [
    {
     "data": {
      "text/plain": [
       "industry                       \n",
       "FINANCIAL  count  Momentum         235.000000\n",
       "                  ShortInterest    235.000000\n",
       "                  Value            235.000000\n",
       "           mean   Momentum           0.029994\n",
       "                  ShortInterest     -0.019729\n",
       "                  Value              0.080241\n",
       "                                      ...    \n",
       "TECH       75%    Momentum           0.033275\n",
       "                  ShortInterest     -0.016634\n",
       "                  Value              0.083768\n",
       "           max    Momentum           0.043905\n",
       "                  ShortInterest     -0.006910\n",
       "                  Value              0.096478\n",
       "Length: 48, dtype: float64"
      ]
     },
     "execution_count": 77,
     "metadata": {},
     "output_type": "execute_result"
    }
   ],
   "source": [
    "by_industry.describe().stack(1).stack(0)"
   ]
  },
  {
   "cell_type": "code",
   "execution_count": 81,
   "metadata": {},
   "outputs": [
    {
     "name": "stderr",
     "output_type": "stream",
     "text": [
      "C:\\ProgramData\\Anaconda3\\lib\\site-packages\\ipykernel_launcher.py:1: FutureWarning: how in .resample() is deprecated\n",
      "the new syntax is .resample(...).prod()\n",
      "  \"\"\"Entry point for launching an IPython kernel.\n"
     ]
    },
    {
     "data": {
      "text/plain": [
       "0.1270307639128927"
      ]
     },
     "execution_count": 81,
     "metadata": {},
     "output_type": "execute_result"
    }
   ],
   "source": [
    "m_rets = (1 + returns).resample('M', how = 'prod', kind = 'period') - 1\n",
    "\n",
    "m_rets.loc['2012']"
   ]
  },
  {
   "cell_type": "markdown",
   "metadata": {},
   "source": [
    "### Regularizations\n",
    "\n",
    "Regularize each group\n",
    "\n",
    "## $$ y = {{x - \\mu} \\over \\sigma}$$\n",
    "\n",
    "where,<br>\n",
    "\n",
    "$\\mu$ : group.mean()\n",
    "\n",
    "$\\sigma$ : group.std()"
   ]
  },
  {
   "cell_type": "code",
   "execution_count": 87,
   "metadata": {
    "collapsed": true
   },
   "outputs": [],
   "source": [
    "def zscore(group):\n",
    "    return (group - group.mean()) / group.std()\n",
    "\n",
    "df_stand = by_industry.apply(zscore)\n"
   ]
  },
  {
   "cell_type": "code",
   "execution_count": 88,
   "metadata": {},
   "outputs": [
    {
     "data": {
      "text/html": [
       "<div>\n",
       "<style>\n",
       "    .dataframe thead tr:only-child th {\n",
       "        text-align: right;\n",
       "    }\n",
       "\n",
       "    .dataframe thead th {\n",
       "        text-align: left;\n",
       "    }\n",
       "\n",
       "    .dataframe tbody tr th {\n",
       "        vertical-align: top;\n",
       "    }\n",
       "</style>\n",
       "<table border=\"1\" class=\"dataframe\">\n",
       "  <thead>\n",
       "    <tr style=\"text-align: right;\">\n",
       "      <th></th>\n",
       "      <th>Momentum</th>\n",
       "      <th>ShortInterest</th>\n",
       "      <th>Value</th>\n",
       "    </tr>\n",
       "  </thead>\n",
       "  <tbody>\n",
       "    <tr>\n",
       "      <th>MYNBI</th>\n",
       "      <td>0.088190</td>\n",
       "      <td>0.528815</td>\n",
       "      <td>0.909130</td>\n",
       "    </tr>\n",
       "    <tr>\n",
       "      <th>QPMZJ</th>\n",
       "      <td>-0.931959</td>\n",
       "      <td>-0.660829</td>\n",
       "      <td>0.897522</td>\n",
       "    </tr>\n",
       "    <tr>\n",
       "      <th>PLSGQ</th>\n",
       "      <td>0.633645</td>\n",
       "      <td>-0.782612</td>\n",
       "      <td>0.545385</td>\n",
       "    </tr>\n",
       "    <tr>\n",
       "      <th>EJEYD</th>\n",
       "      <td>0.004184</td>\n",
       "      <td>1.486159</td>\n",
       "      <td>1.443773</td>\n",
       "    </tr>\n",
       "    <tr>\n",
       "      <th>TZIRW</th>\n",
       "      <td>0.815221</td>\n",
       "      <td>0.651684</td>\n",
       "      <td>1.553913</td>\n",
       "    </tr>\n",
       "    <tr>\n",
       "      <th>ZTEJD</th>\n",
       "      <td>0.366743</td>\n",
       "      <td>-1.057046</td>\n",
       "      <td>0.715261</td>\n",
       "    </tr>\n",
       "    <tr>\n",
       "      <th>...</th>\n",
       "      <td>...</td>\n",
       "      <td>...</td>\n",
       "      <td>...</td>\n",
       "    </tr>\n",
       "    <tr>\n",
       "      <th>THVMQ</th>\n",
       "      <td>0.525147</td>\n",
       "      <td>-0.148495</td>\n",
       "      <td>1.532667</td>\n",
       "    </tr>\n",
       "    <tr>\n",
       "      <th>JPHKQ</th>\n",
       "      <td>1.340008</td>\n",
       "      <td>0.675976</td>\n",
       "      <td>0.644937</td>\n",
       "    </tr>\n",
       "    <tr>\n",
       "      <th>VACPK</th>\n",
       "      <td>1.967471</td>\n",
       "      <td>-0.812312</td>\n",
       "      <td>-0.279931</td>\n",
       "    </tr>\n",
       "    <tr>\n",
       "      <th>MHNBS</th>\n",
       "      <td>-2.828687</td>\n",
       "      <td>0.557642</td>\n",
       "      <td>1.410988</td>\n",
       "    </tr>\n",
       "    <tr>\n",
       "      <th>YBNCI</th>\n",
       "      <td>0.472688</td>\n",
       "      <td>-0.689770</td>\n",
       "      <td>-0.885676</td>\n",
       "    </tr>\n",
       "    <tr>\n",
       "      <th>GXKFD</th>\n",
       "      <td>0.304137</td>\n",
       "      <td>1.302978</td>\n",
       "      <td>0.933192</td>\n",
       "    </tr>\n",
       "  </tbody>\n",
       "</table>\n",
       "<p>500 rows × 3 columns</p>\n",
       "</div>"
      ],
      "text/plain": [
       "       Momentum  ShortInterest     Value\n",
       "MYNBI  0.088190       0.528815  0.909130\n",
       "QPMZJ -0.931959      -0.660829  0.897522\n",
       "PLSGQ  0.633645      -0.782612  0.545385\n",
       "EJEYD  0.004184       1.486159  1.443773\n",
       "TZIRW  0.815221       0.651684  1.553913\n",
       "ZTEJD  0.366743      -1.057046  0.715261\n",
       "...         ...            ...       ...\n",
       "THVMQ  0.525147      -0.148495  1.532667\n",
       "JPHKQ  1.340008       0.675976  0.644937\n",
       "VACPK  1.967471      -0.812312 -0.279931\n",
       "MHNBS -2.828687       0.557642  1.410988\n",
       "YBNCI  0.472688      -0.689770 -0.885676\n",
       "GXKFD  0.304137       1.302978  0.933192\n",
       "\n",
       "[500 rows x 3 columns]"
      ]
     },
     "execution_count": 88,
     "metadata": {},
     "output_type": "execute_result"
    }
   ],
   "source": [
    "df_stand"
   ]
  },
  {
   "cell_type": "markdown",
   "metadata": {},
   "source": [
    "### Use `.agg` for list of aggregate operations"
   ]
  },
  {
   "cell_type": "code",
   "execution_count": 100,
   "metadata": {},
   "outputs": [
    {
     "data": {
      "text/html": [
       "<div>\n",
       "<style>\n",
       "    .dataframe thead tr:only-child th {\n",
       "        text-align: right;\n",
       "    }\n",
       "\n",
       "    .dataframe thead th {\n",
       "        text-align: left;\n",
       "    }\n",
       "\n",
       "    .dataframe tbody tr th {\n",
       "        vertical-align: top;\n",
       "    }\n",
       "</style>\n",
       "<table border=\"1\" class=\"dataframe\">\n",
       "  <thead>\n",
       "    <tr style=\"text-align: right;\">\n",
       "      <th></th>\n",
       "      <th></th>\n",
       "      <th>mean</th>\n",
       "      <th>std</th>\n",
       "    </tr>\n",
       "    <tr>\n",
       "      <th>industry</th>\n",
       "      <th></th>\n",
       "      <th></th>\n",
       "      <th></th>\n",
       "    </tr>\n",
       "  </thead>\n",
       "  <tbody>\n",
       "    <tr>\n",
       "      <th rowspan=\"3\" valign=\"top\">FINANCIAL</th>\n",
       "      <th>Momentum</th>\n",
       "      <td>6.611732e-16</td>\n",
       "      <td>1.0</td>\n",
       "    </tr>\n",
       "    <tr>\n",
       "      <th>ShortInterest</th>\n",
       "      <td>1.704547e-15</td>\n",
       "      <td>1.0</td>\n",
       "    </tr>\n",
       "    <tr>\n",
       "      <th>Value</th>\n",
       "      <td>7.638334e-15</td>\n",
       "      <td>1.0</td>\n",
       "    </tr>\n",
       "    <tr>\n",
       "      <th rowspan=\"3\" valign=\"top\">TECH</th>\n",
       "      <th>Momentum</th>\n",
       "      <td>-1.511160e-15</td>\n",
       "      <td>1.0</td>\n",
       "    </tr>\n",
       "    <tr>\n",
       "      <th>ShortInterest</th>\n",
       "      <td>-4.285461e-15</td>\n",
       "      <td>1.0</td>\n",
       "    </tr>\n",
       "    <tr>\n",
       "      <th>Value</th>\n",
       "      <td>-2.207877e-16</td>\n",
       "      <td>1.0</td>\n",
       "    </tr>\n",
       "  </tbody>\n",
       "</table>\n",
       "</div>"
      ],
      "text/plain": [
       "                                 mean  std\n",
       "industry                                  \n",
       "FINANCIAL Momentum       6.611732e-16  1.0\n",
       "          ShortInterest  1.704547e-15  1.0\n",
       "          Value          7.638334e-15  1.0\n",
       "TECH      Momentum      -1.511160e-15  1.0\n",
       "          ShortInterest -4.285461e-15  1.0\n",
       "          Value         -2.207877e-16  1.0"
      ]
     },
     "execution_count": 100,
     "metadata": {},
     "output_type": "execute_result"
    }
   ],
   "source": [
    "df_stand.groupby(industries).agg(['mean','std']).stack(0)"
   ]
  },
  {
   "cell_type": "code",
   "execution_count": 94,
   "metadata": {
    "collapsed": true
   },
   "outputs": [],
   "source": [
    "ind_rank = by_industry.rank(ascending = False)"
   ]
  },
  {
   "cell_type": "code",
   "execution_count": 102,
   "metadata": {},
   "outputs": [
    {
     "name": "stdout",
     "output_type": "stream",
     "text": [
      "<class 'pandas.core.frame.DataFrame'>\n",
      "Index: 500 entries, MYNBI to GXKFD\n",
      "Data columns (total 3 columns):\n",
      "Momentum         500 non-null float64\n",
      "ShortInterest    500 non-null float64\n",
      "Value            500 non-null float64\n",
      "dtypes: float64(3)\n",
      "memory usage: 35.6+ KB\n"
     ]
    }
   ],
   "source": [
    "by_industry.apply(lambda x: zscore(x.rank())).info()"
   ]
  },
  {
   "cell_type": "code",
   "execution_count": 106,
   "metadata": {},
   "outputs": [],
   "source": [
    "from numpy.random import rand\n",
    "fac1, fac2, fac3 = np.random.rand(3, 1000)\n",
    "\n",
    "ticker_subset = tickers.take(np.random.permutation(N)[:1000])"
   ]
  },
  {
   "cell_type": "code",
   "execution_count": 107,
   "metadata": {},
   "outputs": [],
   "source": [
    "port = Series(0.7 * fac1 - 1.2 * fac2 + 0.3 * fac3 + rand(1000),\n",
    "             index = ticker_subset)\n",
    "\n",
    "factors = DataFrame({'f1': fac1, 'f2' : fac2, 'f3': fac3},\n",
    "                   index = ticker_subset)\n"
   ]
  },
  {
   "cell_type": "code",
   "execution_count": 109,
   "metadata": {},
   "outputs": [
    {
     "data": {
      "text/plain": [
       "HFRRC    0.093888\n",
       "CVLUD    0.688761\n",
       "YEUDH    1.092192\n",
       "VGTXP    0.836729\n",
       "DGDPN    0.673984\n",
       "dtype: float64"
      ]
     },
     "execution_count": 109,
     "metadata": {},
     "output_type": "execute_result"
    }
   ],
   "source": [
    "port.head()\n"
   ]
  },
  {
   "cell_type": "code",
   "execution_count": 110,
   "metadata": {},
   "outputs": [
    {
     "data": {
      "text/html": [
       "<div>\n",
       "<style>\n",
       "    .dataframe thead tr:only-child th {\n",
       "        text-align: right;\n",
       "    }\n",
       "\n",
       "    .dataframe thead th {\n",
       "        text-align: left;\n",
       "    }\n",
       "\n",
       "    .dataframe tbody tr th {\n",
       "        vertical-align: top;\n",
       "    }\n",
       "</style>\n",
       "<table border=\"1\" class=\"dataframe\">\n",
       "  <thead>\n",
       "    <tr style=\"text-align: right;\">\n",
       "      <th></th>\n",
       "      <th>f1</th>\n",
       "      <th>f2</th>\n",
       "      <th>f3</th>\n",
       "    </tr>\n",
       "  </thead>\n",
       "  <tbody>\n",
       "    <tr>\n",
       "      <th>HFRRC</th>\n",
       "      <td>0.069083</td>\n",
       "      <td>0.582238</td>\n",
       "      <td>0.959679</td>\n",
       "    </tr>\n",
       "    <tr>\n",
       "      <th>CVLUD</th>\n",
       "      <td>0.537541</td>\n",
       "      <td>0.350002</td>\n",
       "      <td>0.729801</td>\n",
       "    </tr>\n",
       "    <tr>\n",
       "      <th>YEUDH</th>\n",
       "      <td>0.533271</td>\n",
       "      <td>0.193613</td>\n",
       "      <td>0.709919</td>\n",
       "    </tr>\n",
       "    <tr>\n",
       "      <th>VGTXP</th>\n",
       "      <td>0.871619</td>\n",
       "      <td>0.063394</td>\n",
       "      <td>0.538121</td>\n",
       "    </tr>\n",
       "    <tr>\n",
       "      <th>DGDPN</th>\n",
       "      <td>0.726668</td>\n",
       "      <td>0.132815</td>\n",
       "      <td>0.597739</td>\n",
       "    </tr>\n",
       "  </tbody>\n",
       "</table>\n",
       "</div>"
      ],
      "text/plain": [
       "             f1        f2        f3\n",
       "HFRRC  0.069083  0.582238  0.959679\n",
       "CVLUD  0.537541  0.350002  0.729801\n",
       "YEUDH  0.533271  0.193613  0.709919\n",
       "VGTXP  0.871619  0.063394  0.538121\n",
       "DGDPN  0.726668  0.132815  0.597739"
      ]
     },
     "execution_count": 110,
     "metadata": {},
     "output_type": "execute_result"
    }
   ],
   "source": [
    "factors.head()"
   ]
  },
  {
   "cell_type": "code",
   "execution_count": 111,
   "metadata": {},
   "outputs": [
    {
     "data": {
      "text/plain": [
       "f1    0.381266\n",
       "f2   -0.678841\n",
       "f3    0.226546\n",
       "dtype: float64"
      ]
     },
     "execution_count": 111,
     "metadata": {},
     "output_type": "execute_result"
    }
   ],
   "source": [
    "factors.corrwith(port)"
   ]
  },
  {
   "cell_type": "markdown",
   "metadata": {},
   "source": [
    "### Least Squares Regression\n",
    "\n",
    "### Portfolio Holdings and Factors\n",
    "\n",
    "$$y = \\sum_{i = 0}^{N}{x_{i}* \\beta_{i}}$$\n",
    "\n",
    "### Extract $\\beta$"
   ]
  },
  {
   "cell_type": "code",
   "execution_count": 112,
   "metadata": {},
   "outputs": [
    {
     "ename": "AttributeError",
     "evalue": "module 'pandas' has no attribute 'ols'",
     "output_type": "error",
     "traceback": [
      "\u001b[1;31m---------------------------------------------------------------------------\u001b[0m",
      "\u001b[1;31mAttributeError\u001b[0m                            Traceback (most recent call last)",
      "\u001b[1;32m<ipython-input-112-f7e6f4083569>\u001b[0m in \u001b[0;36m<module>\u001b[1;34m()\u001b[0m\n\u001b[1;32m----> 1\u001b[1;33m \u001b[0mpd\u001b[0m\u001b[1;33m.\u001b[0m\u001b[0mols\u001b[0m\u001b[1;33m(\u001b[0m\u001b[0my\u001b[0m \u001b[1;33m=\u001b[0m \u001b[0mport\u001b[0m\u001b[1;33m,\u001b[0m \u001b[0mx\u001b[0m \u001b[1;33m=\u001b[0m \u001b[0mfactors\u001b[0m\u001b[1;33m)\u001b[0m\u001b[1;33m.\u001b[0m\u001b[0mbeta\u001b[0m\u001b[1;33m\u001b[0m\u001b[0m\n\u001b[0m",
      "\u001b[1;31mAttributeError\u001b[0m: module 'pandas' has no attribute 'ols'"
     ]
    }
   ],
   "source": [
    "pd.ols(y = port, x = factors).beta"
   ]
  },
  {
   "cell_type": "code",
   "execution_count": 113,
   "metadata": {},
   "outputs": [
    {
     "data": {
      "text/plain": [
       "f1    0.381266\n",
       "f2   -0.678841\n",
       "f3    0.226546\n",
       "dtype: float64"
      ]
     },
     "execution_count": 113,
     "metadata": {},
     "output_type": "execute_result"
    }
   ],
   "source": [
    "factors.corrwith(port)"
   ]
  },
  {
   "cell_type": "code",
   "execution_count": 114,
   "metadata": {
    "collapsed": true
   },
   "outputs": [],
   "source": [
    "def beta_exposure(chunk, factors = None):\n",
    "    return pd.ols(y = chunk, x = factors).beta"
   ]
  },
  {
   "cell_type": "code",
   "execution_count": null,
   "metadata": {
    "collapsed": true
   },
   "outputs": [],
   "source": []
  }
 ],
 "metadata": {
  "kernelspec": {
   "display_name": "Python 3",
   "language": "python",
   "name": "python3"
  },
  "language_info": {
   "codemirror_mode": {
    "name": "ipython",
    "version": 3
   },
   "file_extension": ".py",
   "mimetype": "text/x-python",
   "name": "python",
   "nbconvert_exporter": "python",
   "pygments_lexer": "ipython3",
   "version": "3.6.1"
  }
 },
 "nbformat": 4,
 "nbformat_minor": 2
}
