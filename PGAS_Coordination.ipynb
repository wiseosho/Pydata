{
 "cells": [
  {
   "cell_type": "code",
   "execution_count": 1,
   "metadata": {
    "collapsed": true
   },
   "outputs": [],
   "source": [
    "import numpy as np\n",
    "import pandas as pd\n",
    "import matplotlib as plt\n",
    "import math"
   ]
  },
  {
   "cell_type": "code",
   "execution_count": null,
   "metadata": {
    "collapsed": true
   },
   "outputs": [],
   "source": [
    "#Connect to the IMU port\n",
    "#Read Raw Data\n",
    "raw = np.array([3,3])\n",
    "# Store into the normal np.array list.\n",
    "Rawdata = pd.DataFrame(raw)\n",
    "Rawdata.to_csv('./test.csv')\n",
    "# Save as a file (csv)\n",
    "#np.savetxt('./test.csv', Rawdata)\n",
    "#pd.write_csv(Rawdata, './test.csv')\n",
    "#Load a saved csv file\n",
    "Raw = pd.read_csv('./test.csv')\n",
    "\n",
    "#관절각\n",
    "#14. 토아웃각도. toe out angle 진행선/ 발의 중앙선과의 각도.\n",
    "#15. 엉덩관절(고관절, Hipjoint)/ 굴곡(flexion,extension)\n",
    "#16. 회선(circumduction)\n",
    "#17. 무릎관절(knee joint)\n",
    "#18.발목관절(ankle joint) 의 굴곡(flexion/신전 extension)"
   ]
  },
  {
   "cell_type": "code",
   "execution_count": null,
   "metadata": {
    "collapsed": true
   },
   "outputs": [],
   "source": [
    "#for Test purpose. Generate Psudo Data\n",
    "#imudata example\n",
    "#create the list with 8 vacant location\n",
    "\n",
    "packets = [1]\n",
    "\n",
    "\n",
    "\n",
    "for packet in packets:\n",
    "\n",
    "    packet = ['*1', '0.1','0.2','0.3']\n",
    "    #allocate correct IMUs into the array\n",
    "    imus[int(imu[0][-1])-1] = imu[1:]\n",
    "    \n",
    "#IMU_raw = np.append(imus[0], imus[1:]) \n",
    "#Expand received pakcets into the np array\n",
    "#merge as a row at the same timeline.\n",
    "IMU_raw = np.vstack((IMU_raw, np.append(imus[0], imus[1:])))\n",
    "\n",
    "IMU_raw\n",
    "\n",
    "#This operation occurs once Save/ Analysis is called.\n",
    "#Convert np.array into the pandas DataFrame and save into the CSV file.\n",
    "arrays = [['imu1','imu2', 'imu3', 'imu4', 'imu5', 'imu6', 'imu7', 'imu8' ],['roll','pitch','yaw'] ]\n",
    "columns = pd.MultiIndex.from_product(arrays, names=['IMUs','Coord'])\n",
    "\n",
    "IMUdf = pd.DataFrame(IMU_raw, columns=columns)\n",
    "IMUdf.to_csv('./imu_raw.csv')IMUdf.to_csv('./imu_raw.csv')\n",
    "\n",
    "\n",
    "\n",
    "#IMUdf = pd.read_csv('./imu_raw.csv', header=[0,1], skipinitialspace=False, tupleize_cols= True)\n",
    "IMUdf = pd.read_csv('./imu_raw.csv', index_col=False, names=columns, skiprows=[0,1])\n",
    "\n",
    "#IMUdf.columns = pd.MultiIndex.from_tuples(IMUdf.columns)\n",
    "#IMUdf = pd.read_csv('./imu_raw.csv', header=[0,1], skipinitialspace=False, tupleize_cols= True)\n",
    "IMUdf = pd.read_csv('./imu_raw.csv', index_col=False, names=columns, skiprows=[0,1])\n",
    "#IMUdf.columns = pd.MultiIndex.from_tuples(IMUdf.columns)"
   ]
  },
  {
   "cell_type": "code",
   "execution_count": 227,
   "metadata": {
    "collapsed": true
   },
   "outputs": [],
   "source": [
    "def conv2space(imuang, x = np.array([0,0,-1]), L = 1.0):\n",
    "    X = x*L\n",
    "    C = []\n",
    "    S = []\n",
    "    \n",
    "    for theta in imuang:\n",
    "        C.append(math.cos(theta))\n",
    "        S.append(math.sin(theta))\n",
    "\n",
    "    R_yrp = np.array([ [C[1]*C[0] - S[1]*C[2]*C[0] , -C[1]*S[0] - S[1]*C[2]*C[0] , S[1]*S[2] ],\n",
    "                          [ C[1]*C[2]*C[0] -S[1]*C[0], C[1]*C[2]*C[0] - S[1]*S[0], -C[1]*S[2] ],\n",
    "                         [ S[2]*S[0], S[2]*C[0], C[2] ] ])\n",
    "\n",
    "    #Thigh / Calf/ Ankle Length\n",
    "\n",
    "    return np.matmul(R_yrp, X)"
   ]
  },
  {
   "cell_type": "code",
   "execution_count": null,
   "metadata": {
    "collapsed": true
   },
   "outputs": [],
   "source": [
    "# Theta should be loaded from the measured port values\n",
    "yrp = [0, 1, 2, 1] # Rotation Offset, 1, 2, 3 : Pitch Roll Yaw/Intrincsic X' Z'' Z/ => Extrincsic X, Z(1), Z(3)\n",
    "#yrp = dataframe.imu[N]\n",
    "IMUdf\n",
    "IMUspace = IMUdf.copy(deep=True)\n",
    "for imu in columns.levels[0]:\n",
    "    print (IMUdf[imu] )\n",
    "    IMUspace[imu] = IMUdf[imu].apply(conv2space, axis = 1)\n"
   ]
  },
  {
   "cell_type": "code",
   "execution_count": 238,
   "metadata": {
    "collapsed": false
   },
   "outputs": [
    {
     "data": {
      "text/html": [
       "<div>\n",
       "<table border=\"1\" class=\"dataframe\">\n",
       "  <thead>\n",
       "    <tr>\n",
       "      <th></th>\n",
       "      <th colspan=\"3\" halign=\"left\">imu1</th>\n",
       "      <th colspan=\"3\" halign=\"left\">imu2</th>\n",
       "      <th colspan=\"3\" halign=\"left\">imu3</th>\n",
       "      <th>imu4</th>\n",
       "      <th>...</th>\n",
       "      <th>imu5</th>\n",
       "      <th colspan=\"3\" halign=\"left\">imu6</th>\n",
       "      <th colspan=\"3\" halign=\"left\">imu7</th>\n",
       "      <th colspan=\"3\" halign=\"left\">imu8</th>\n",
       "    </tr>\n",
       "    <tr>\n",
       "      <th></th>\n",
       "      <th>roll</th>\n",
       "      <th>pitch</th>\n",
       "      <th>yaw</th>\n",
       "      <th>roll</th>\n",
       "      <th>pitch</th>\n",
       "      <th>yaw</th>\n",
       "      <th>roll</th>\n",
       "      <th>pitch</th>\n",
       "      <th>yaw</th>\n",
       "      <th>roll</th>\n",
       "      <th>...</th>\n",
       "      <th>yaw</th>\n",
       "      <th>roll</th>\n",
       "      <th>pitch</th>\n",
       "      <th>yaw</th>\n",
       "      <th>roll</th>\n",
       "      <th>pitch</th>\n",
       "      <th>yaw</th>\n",
       "      <th>roll</th>\n",
       "      <th>pitch</th>\n",
       "      <th>yaw</th>\n",
       "    </tr>\n",
       "  </thead>\n",
       "  <tbody>\n",
       "    <tr>\n",
       "      <th>0</th>\n",
       "      <td>0.000000</td>\n",
       "      <td>6.949860e-310</td>\n",
       "      <td>-1.000000</td>\n",
       "      <td>0.0</td>\n",
       "      <td>6.949860e-310</td>\n",
       "      <td>-1.0</td>\n",
       "      <td>0.0</td>\n",
       "      <td>6.949860e-310</td>\n",
       "      <td>-1.0</td>\n",
       "      <td>0.0</td>\n",
       "      <td>...</td>\n",
       "      <td>-1.0</td>\n",
       "      <td>0.0</td>\n",
       "      <td>6.949860e-310</td>\n",
       "      <td>-1.0</td>\n",
       "      <td>0.0</td>\n",
       "      <td>6.949860e-310</td>\n",
       "      <td>-1.0</td>\n",
       "      <td>0.0</td>\n",
       "      <td>6.949860e-310</td>\n",
       "      <td>-1.0</td>\n",
       "    </tr>\n",
       "    <tr>\n",
       "      <th>1</th>\n",
       "      <td>-0.019834</td>\n",
       "      <td>1.976768e-01</td>\n",
       "      <td>-0.980067</td>\n",
       "      <td>0.0</td>\n",
       "      <td>6.949882e-310</td>\n",
       "      <td>-1.0</td>\n",
       "      <td>0.0</td>\n",
       "      <td>6.949882e-310</td>\n",
       "      <td>-1.0</td>\n",
       "      <td>0.0</td>\n",
       "      <td>...</td>\n",
       "      <td>-1.0</td>\n",
       "      <td>0.0</td>\n",
       "      <td>6.949882e-310</td>\n",
       "      <td>-1.0</td>\n",
       "      <td>0.0</td>\n",
       "      <td>6.949882e-310</td>\n",
       "      <td>-1.0</td>\n",
       "      <td>0.0</td>\n",
       "      <td>6.949882e-310</td>\n",
       "      <td>-1.0</td>\n",
       "    </tr>\n",
       "  </tbody>\n",
       "</table>\n",
       "<p>2 rows × 24 columns</p>\n",
       "</div>"
      ],
      "text/plain": [
       "       imu1                          imu2                     imu3  \\\n",
       "       roll          pitch       yaw roll          pitch  yaw roll   \n",
       "0  0.000000  6.949860e-310 -1.000000  0.0  6.949860e-310 -1.0  0.0   \n",
       "1 -0.019834   1.976768e-01 -0.980067  0.0  6.949882e-310 -1.0  0.0   \n",
       "\n",
       "                      imu4 ...  imu5 imu6                     imu7  \\\n",
       "           pitch  yaw roll ...   yaw roll          pitch  yaw roll   \n",
       "0  6.949860e-310 -1.0  0.0 ...  -1.0  0.0  6.949860e-310 -1.0  0.0   \n",
       "1  6.949882e-310 -1.0  0.0 ...  -1.0  0.0  6.949882e-310 -1.0  0.0   \n",
       "\n",
       "                      imu8                      \n",
       "           pitch  yaw roll          pitch  yaw  \n",
       "0  6.949860e-310 -1.0  0.0  6.949860e-310 -1.0  \n",
       "1  6.949882e-310 -1.0  0.0  6.949882e-310 -1.0  \n",
       "\n",
       "[2 rows x 24 columns]"
      ]
     },
     "execution_count": 238,
     "metadata": {},
     "output_type": "execute_result"
    }
   ],
   "source": [
    "IMUspace"
   ]
  },
  {
   "cell_type": "code",
   "execution_count": 215,
   "metadata": {
    "collapsed": false
   },
   "outputs": [
    {
     "ename": "IndexError",
     "evalue": "list index out of range",
     "output_type": "error",
     "traceback": [
      "\u001b[0;31m---------------------------------------------------------------------------\u001b[0m",
      "\u001b[0;31mIndexError\u001b[0m                                Traceback (most recent call last)",
      "\u001b[0;32m<ipython-input-215-d1daa2868138>\u001b[0m in \u001b[0;36m<module>\u001b[0;34m()\u001b[0m\n\u001b[1;32m      1\u001b[0m \u001b[0;34m\u001b[0m\u001b[0m\n\u001b[0;32m----> 2\u001b[0;31m \u001b[0mprint\u001b[0m \u001b[0;34m(\u001b[0m\u001b[0mconv2space\u001b[0m\u001b[0;34m(\u001b[0m\u001b[0mnp\u001b[0m\u001b[0;34m.\u001b[0m\u001b[0marray\u001b[0m\u001b[0;34m(\u001b[0m\u001b[0;34m[\u001b[0m\u001b[0;36m0\u001b[0m\u001b[0;34m,\u001b[0m\u001b[0;36m0\u001b[0m\u001b[0;34m,\u001b[0m\u001b[0;36m0\u001b[0m\u001b[0;34m]\u001b[0m\u001b[0;34m)\u001b[0m\u001b[0;34m)\u001b[0m\u001b[0;34m)\u001b[0m\u001b[0;34m\u001b[0m\u001b[0m\n\u001b[0m\u001b[1;32m      3\u001b[0m \u001b[0mTheta\u001b[0m \u001b[0;34m=\u001b[0m \u001b[0;34m[\u001b[0m\u001b[0mimu\u001b[0m\u001b[0;34m[\u001b[0m\u001b[0;36m0\u001b[0m\u001b[0;34m]\u001b[0m\u001b[0;34m,\u001b[0m \u001b[0mimu\u001b[0m\u001b[0;34m[\u001b[0m\u001b[0;36m3\u001b[0m\u001b[0;34m]\u001b[0m\u001b[0;34m,\u001b[0m \u001b[0mimu\u001b[0m\u001b[0;34m[\u001b[0m\u001b[0;36m1\u001b[0m\u001b[0;34m]\u001b[0m\u001b[0;34m,\u001b[0m \u001b[0mimu\u001b[0m\u001b[0;34m[\u001b[0m\u001b[0;36m2\u001b[0m\u001b[0;34m]\u001b[0m\u001b[0;34m]\u001b[0m\u001b[0;34m\u001b[0m\u001b[0m\n\u001b[1;32m      4\u001b[0m \u001b[0;34m\u001b[0m\u001b[0m\n",
      "\u001b[0;32m<ipython-input-210-f21bbc352bdc>\u001b[0m in \u001b[0;36mconv2space\u001b[0;34m(imuang, x, L)\u001b[0m\n\u001b[1;32m      7\u001b[0m         \u001b[0mS\u001b[0m\u001b[0;34m.\u001b[0m\u001b[0mappend\u001b[0m\u001b[0;34m(\u001b[0m\u001b[0mmath\u001b[0m\u001b[0;34m.\u001b[0m\u001b[0msin\u001b[0m\u001b[0;34m(\u001b[0m\u001b[0mtheta\u001b[0m\u001b[0;34m)\u001b[0m\u001b[0;34m)\u001b[0m\u001b[0;34m\u001b[0m\u001b[0m\n\u001b[1;32m      8\u001b[0m \u001b[0;34m\u001b[0m\u001b[0m\n\u001b[0;32m----> 9\u001b[0;31m         R_yrp = np.array([ [C[1]*C[0] - S[1]*C[2]*C[0] , -C[1]*S[0] - S[1]*C[2]*C[0] , S[1]*S[2] ],\n\u001b[0m\u001b[1;32m     10\u001b[0m                               \u001b[0;34m[\u001b[0m \u001b[0mC\u001b[0m\u001b[0;34m[\u001b[0m\u001b[0;36m1\u001b[0m\u001b[0;34m]\u001b[0m\u001b[0;34m*\u001b[0m\u001b[0mC\u001b[0m\u001b[0;34m[\u001b[0m\u001b[0;36m2\u001b[0m\u001b[0;34m]\u001b[0m\u001b[0;34m*\u001b[0m\u001b[0mC\u001b[0m\u001b[0;34m[\u001b[0m\u001b[0;36m0\u001b[0m\u001b[0;34m]\u001b[0m \u001b[0;34m-\u001b[0m\u001b[0mS\u001b[0m\u001b[0;34m[\u001b[0m\u001b[0;36m1\u001b[0m\u001b[0;34m]\u001b[0m\u001b[0;34m*\u001b[0m\u001b[0mC\u001b[0m\u001b[0;34m[\u001b[0m\u001b[0;36m0\u001b[0m\u001b[0;34m]\u001b[0m\u001b[0;34m,\u001b[0m \u001b[0mC\u001b[0m\u001b[0;34m[\u001b[0m\u001b[0;36m1\u001b[0m\u001b[0;34m]\u001b[0m\u001b[0;34m*\u001b[0m\u001b[0mC\u001b[0m\u001b[0;34m[\u001b[0m\u001b[0;36m2\u001b[0m\u001b[0;34m]\u001b[0m\u001b[0;34m*\u001b[0m\u001b[0mC\u001b[0m\u001b[0;34m[\u001b[0m\u001b[0;36m0\u001b[0m\u001b[0;34m]\u001b[0m \u001b[0;34m-\u001b[0m \u001b[0mS\u001b[0m\u001b[0;34m[\u001b[0m\u001b[0;36m1\u001b[0m\u001b[0;34m]\u001b[0m\u001b[0;34m*\u001b[0m\u001b[0mS\u001b[0m\u001b[0;34m[\u001b[0m\u001b[0;36m0\u001b[0m\u001b[0;34m]\u001b[0m\u001b[0;34m,\u001b[0m \u001b[0;34m-\u001b[0m\u001b[0mC\u001b[0m\u001b[0;34m[\u001b[0m\u001b[0;36m1\u001b[0m\u001b[0;34m]\u001b[0m\u001b[0;34m*\u001b[0m\u001b[0mS\u001b[0m\u001b[0;34m[\u001b[0m\u001b[0;36m2\u001b[0m\u001b[0;34m]\u001b[0m \u001b[0;34m]\u001b[0m\u001b[0;34m,\u001b[0m\u001b[0;34m\u001b[0m\u001b[0m\n\u001b[1;32m     11\u001b[0m                               [ S[2]*S[0], S[2]*C[0], C[2] ] ])\n",
      "\u001b[0;31mIndexError\u001b[0m: list index out of range"
     ]
    }
   ],
   "source": [
    "print (conv2space(np.array([0,0,0])))\n",
    "Theta = [imu[0], imu[3], imu[1], imu[2]]"
   ]
  },
  {
   "cell_type": "code",
   "execution_count": null,
   "metadata": {
    "collapsed": true
   },
   "outputs": [],
   "source": []
  }
 ],
 "metadata": {
  "kernelspec": {
   "display_name": "Python 3",
   "language": "python",
   "name": "python3"
  },
  "language_info": {
   "codemirror_mode": {
    "name": "ipython",
    "version": 3
   },
   "file_extension": ".py",
   "mimetype": "text/x-python",
   "name": "python",
   "nbconvert_exporter": "python",
   "pygments_lexer": "ipython3",
   "version": "3.6.0"
  }
 },
 "nbformat": 4,
 "nbformat_minor": 2
}
