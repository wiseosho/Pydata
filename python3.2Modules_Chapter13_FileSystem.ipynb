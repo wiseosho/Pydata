{
 "cells": [
  {
   "cell_type": "code",
   "execution_count": 4,
   "metadata": {},
   "outputs": [
    {
     "data": {
      "text/plain": [
       "'/home/june/Pydata/tmp'"
      ]
     },
     "execution_count": 4,
     "metadata": {},
     "output_type": "execute_result"
    }
   ],
   "source": [
    "import os\n",
    "#os.path\n",
    "#Abspath\n",
    "os.path.abspath('tmp')"
   ]
  },
  {
   "cell_type": "code",
   "execution_count": 5,
   "metadata": {},
   "outputs": [
    {
     "data": {
      "text/plain": [
       "'tmp'"
      ]
     },
     "execution_count": 5,
     "metadata": {},
     "output_type": "execute_result"
    }
   ],
   "source": [
    "#Rel.path\n",
    "os.path.basename('/home/june/Pydata/tmp')"
   ]
  },
  {
   "cell_type": "code",
   "execution_count": 6,
   "metadata": {},
   "outputs": [
    {
     "data": {
      "text/plain": [
       "'/home/june/'"
      ]
     },
     "execution_count": 6,
     "metadata": {},
     "output_type": "execute_result"
    }
   ],
   "source": [
    "#extract common prefix\n",
    "os.path.commonprefix(['/home/june/Pydata/', '/home/june/Rdata/'])"
   ]
  },
  {
   "cell_type": "code",
   "execution_count": 7,
   "metadata": {},
   "outputs": [
    {
     "data": {
      "text/plain": [
       "'/home/june/Pydata'"
      ]
     },
     "execution_count": 7,
     "metadata": {},
     "output_type": "execute_result"
    }
   ],
   "source": [
    "#파일의 디렉터리 경로\n",
    "os.path.dirname('/home/june/Pydata/array.npy')"
   ]
  },
  {
   "cell_type": "code",
   "execution_count": 8,
   "metadata": {},
   "outputs": [
    {
     "data": {
      "text/plain": [
       "True"
      ]
     },
     "execution_count": 8,
     "metadata": {},
     "output_type": "execute_result"
    }
   ],
   "source": [
    "#파일 디렉터리 경로 존재유무\n",
    "os.path.exists('/home/june/Pydata/array.npy')"
   ]
  },
  {
   "cell_type": "code",
   "execution_count": 9,
   "metadata": {},
   "outputs": [
    {
     "data": {
      "text/plain": [
       "True"
      ]
     },
     "execution_count": 9,
     "metadata": {},
     "output_type": "execute_result"
    }
   ],
   "source": [
    "os.path.exists('/home/june/anaconda3/')"
   ]
  },
  {
   "cell_type": "code",
   "execution_count": 10,
   "metadata": {},
   "outputs": [
    {
     "data": {
      "text/plain": [
       "False"
      ]
     },
     "execution_count": 10,
     "metadata": {},
     "output_type": "execute_result"
    }
   ],
   "source": [
    "os.path.exists('/home/june/anaconda3/a')"
   ]
  },
  {
   "cell_type": "code",
   "execution_count": 11,
   "metadata": {},
   "outputs": [
    {
     "data": {
      "text/plain": [
       "False"
      ]
     },
     "execution_count": 11,
     "metadata": {},
     "output_type": "execute_result"
    }
   ],
   "source": [
    "os.path.exists('/home/june/ana/')"
   ]
  },
  {
   "cell_type": "code",
   "execution_count": 12,
   "metadata": {},
   "outputs": [
    {
     "data": {
      "text/plain": [
       "'/home/june/Pydata'"
      ]
     },
     "execution_count": 12,
     "metadata": {},
     "output_type": "execute_result"
    }
   ],
   "source": [
    "#Get full path by $HOME env\n",
    "os.path.expanduser('~/Pydata')"
   ]
  },
  {
   "cell_type": "code",
   "execution_count": 13,
   "metadata": {},
   "outputs": [
    {
     "data": {
      "text/plain": [
       "'/home/june/Pydata'"
      ]
     },
     "execution_count": 13,
     "metadata": {},
     "output_type": "execute_result"
    }
   ],
   "source": [
    "os.path.expanduser('~june/Pydata')"
   ]
  },
  {
   "cell_type": "code",
   "execution_count": 14,
   "metadata": {},
   "outputs": [
    {
     "data": {
      "text/plain": [
       "'/root/Pydata'"
      ]
     },
     "execution_count": 14,
     "metadata": {},
     "output_type": "execute_result"
    }
   ],
   "source": [
    "os.path.expanduser('~root/Pydata')"
   ]
  },
  {
   "cell_type": "code",
   "execution_count": 15,
   "metadata": {},
   "outputs": [
    {
     "data": {
      "text/plain": [
       "'/home/june/'"
      ]
     },
     "execution_count": 15,
     "metadata": {},
     "output_type": "execute_result"
    }
   ],
   "source": [
    "#Expand System Env variable\n",
    "os.path.expandvars('$HOME/')"
   ]
  },
  {
   "cell_type": "code",
   "execution_count": 18,
   "metadata": {},
   "outputs": [
    {
     "data": {
      "text/plain": [
       "time.struct_time(tm_year=2017, tm_mon=6, tm_mday=28, tm_hour=4, tm_min=4, tm_sec=34, tm_wday=2, tm_yday=179, tm_isdst=0)"
      ]
     },
     "execution_count": 18,
     "metadata": {},
     "output_type": "execute_result"
    }
   ],
   "source": [
    "#Get AccessTime. 접근시간.\n",
    "atime = os.path.getatime('/home/june/Pydata/')\n",
    "import time\n",
    "time.gmtime(atime)"
   ]
  },
  {
   "cell_type": "code",
   "execution_count": 19,
   "metadata": {},
   "outputs": [
    {
     "data": {
      "text/plain": [
       "time.struct_time(tm_year=2017, tm_mon=6, tm_mday=28, tm_hour=4, tm_min=7, tm_sec=54, tm_wday=2, tm_yday=179, tm_isdst=0)"
      ]
     },
     "execution_count": 19,
     "metadata": {},
     "output_type": "execute_result"
    }
   ],
   "source": [
    "#Get Modification Time 변경시간\n",
    "mtime = os.path.getmtime('/home/june/Pydata/')\n",
    "time.gmtime(mtime)"
   ]
  },
  {
   "cell_type": "code",
   "execution_count": 20,
   "metadata": {},
   "outputs": [
    {
     "data": {
      "text/plain": [
       "time.struct_time(tm_year=2017, tm_mon=6, tm_mday=28, tm_hour=4, tm_min=7, tm_sec=54, tm_wday=2, tm_yday=179, tm_isdst=0)"
      ]
     },
     "execution_count": 20,
     "metadata": {},
     "output_type": "execute_result"
    }
   ],
   "source": [
    "#Get Creation Time 생성시간\n",
    "ctime = os.path.getctime('/home/june/Pydata/')\n",
    "time.gmtime(ctime)"
   ]
  },
  {
   "cell_type": "code",
   "execution_count": 23,
   "metadata": {},
   "outputs": [
    {
     "data": {
      "text/plain": [
       "4096"
      ]
     },
     "execution_count": 23,
     "metadata": {},
     "output_type": "execute_result"
    }
   ],
   "source": [
    "os.path.getsize('/home/june/Pydata/')"
   ]
  },
  {
   "cell_type": "code",
   "execution_count": 22,
   "metadata": {},
   "outputs": [
    {
     "data": {
      "text/plain": [
       "160"
      ]
     },
     "execution_count": 22,
     "metadata": {},
     "output_type": "execute_result"
    }
   ],
   "source": [
    "os.path.getsize('/home/june/Pydata/array.npy')"
   ]
  },
  {
   "cell_type": "code",
   "execution_count": 24,
   "metadata": {},
   "outputs": [
    {
     "data": {
      "text/plain": [
       "True"
      ]
     },
     "execution_count": 24,
     "metadata": {},
     "output_type": "execute_result"
    }
   ],
   "source": [
    "#절대경로여부AbsolutePath\n",
    "os.path.isabs('/home/june/Pydata/array.npy')"
   ]
  },
  {
   "cell_type": "code",
   "execution_count": 25,
   "metadata": {},
   "outputs": [
    {
     "data": {
      "text/plain": [
       "True"
      ]
     },
     "execution_count": 25,
     "metadata": {},
     "output_type": "execute_result"
    }
   ],
   "source": [
    "os.path.isabs('/home/june/Pydata/')"
   ]
  },
  {
   "cell_type": "code",
   "execution_count": 26,
   "metadata": {},
   "outputs": [
    {
     "data": {
      "text/plain": [
       "False"
      ]
     },
     "execution_count": 26,
     "metadata": {},
     "output_type": "execute_result"
    }
   ],
   "source": [
    "os.path.isabs('~')"
   ]
  },
  {
   "cell_type": "code",
   "execution_count": 27,
   "metadata": {},
   "outputs": [
    {
     "data": {
      "text/plain": [
       "False"
      ]
     },
     "execution_count": 27,
     "metadata": {},
     "output_type": "execute_result"
    }
   ],
   "source": [
    "os.path.isabs('./../')"
   ]
  },
  {
   "cell_type": "code",
   "execution_count": 28,
   "metadata": {},
   "outputs": [
    {
     "data": {
      "text/plain": [
       "False"
      ]
     },
     "execution_count": 28,
     "metadata": {},
     "output_type": "execute_result"
    }
   ],
   "source": [
    "#파일여부\n",
    "os.path.isfile('/home/june/anaconda3')"
   ]
  },
  {
   "cell_type": "code",
   "execution_count": 30,
   "metadata": {},
   "outputs": [
    {
     "data": {
      "text/plain": [
       "True"
      ]
     },
     "execution_count": 30,
     "metadata": {},
     "output_type": "execute_result"
    }
   ],
   "source": [
    "os.path.isfile('/home/june/Pydata/array.npy')"
   ]
  },
  {
   "cell_type": "code",
   "execution_count": 31,
   "metadata": {},
   "outputs": [
    {
     "data": {
      "text/plain": [
       "True"
      ]
     },
     "execution_count": 31,
     "metadata": {},
     "output_type": "execute_result"
    }
   ],
   "source": [
    "#directory 여부 (형식의 판별, 실제존재는 .exist\n",
    "os.path.isdir('/home/june/')"
   ]
  },
  {
   "cell_type": "code",
   "execution_count": 37,
   "metadata": {},
   "outputs": [
    {
     "data": {
      "text/plain": [
       "'/home/june'"
      ]
     },
     "execution_count": 37,
     "metadata": {},
     "output_type": "execute_result"
    }
   ],
   "source": [
    "#join list of paths into one path\n",
    "paths = ('/', 'home','june')\n",
    "os.path.join('/', 'home/','june') # / 여부 무관"
   ]
  },
  {
   "cell_type": "code",
   "execution_count": 40,
   "metadata": {},
   "outputs": [
    {
     "data": {
      "text/plain": [
       "'\\\\home\\\\june\\\\Pydata\\\\'"
      ]
     },
     "execution_count": 40,
     "metadata": {},
     "output_type": "execute_result"
    }
   ],
   "source": [
    "os.path.normcase('\\\\home\\\\june\\\\Pydata\\\\')"
   ]
  },
  {
   "cell_type": "code",
   "execution_count": 39,
   "metadata": {},
   "outputs": [
    {
     "data": {
      "text/plain": [
       "'c:\\\\home\\\\june\\\\Pydata\\\\'"
      ]
     },
     "execution_count": 39,
     "metadata": {},
     "output_type": "execute_result"
    }
   ],
   "source": [
    "os.path.normpath('c:\\\\home\\\\june\\\\Pydata\\\\')"
   ]
  },
  {
   "cell_type": "code",
   "execution_count": 42,
   "metadata": {},
   "outputs": [
    {
     "data": {
      "text/plain": [
       "\"\\\\home\\\\june\\\\Pydata'\""
      ]
     },
     "execution_count": 42,
     "metadata": {},
     "output_type": "execute_result"
    }
   ],
   "source": [
    "os.path.normcase('\\home\\june\\Pydata\\'' ) #windows path로 변경"
   ]
  },
  {
   "cell_type": "code",
   "execution_count": 52,
   "metadata": {},
   "outputs": [
    {
     "data": {
      "text/plain": [
       "('/home/june', 'Pydata')"
      ]
     },
     "execution_count": 52,
     "metadata": {},
     "output_type": "execute_result"
    }
   ],
   "source": [
    "#by final slash\n",
    "os.path.split('/home/june/Pydata')"
   ]
  },
  {
   "cell_type": "code",
   "execution_count": 53,
   "metadata": {},
   "outputs": [
    {
     "data": {
      "text/plain": [
       "('/home/june/Pydata', '')"
      ]
     },
     "execution_count": 53,
     "metadata": {},
     "output_type": "execute_result"
    }
   ],
   "source": [
    "os.path.split('/home/june/Pydata/')"
   ]
  },
  {
   "cell_type": "code",
   "execution_count": 54,
   "metadata": {},
   "outputs": [
    {
     "data": {
      "text/plain": [
       "('', '/home/june/Pydata')"
      ]
     },
     "execution_count": 54,
     "metadata": {},
     "output_type": "execute_result"
    }
   ],
   "source": [
    "# split drive in windows OS system\n",
    "os.path.splitdrive('/home/june/Pydata')"
   ]
  },
  {
   "cell_type": "code",
   "execution_count": 56,
   "metadata": {},
   "outputs": [
    {
     "data": {
      "text/plain": [
       "('/home/june/Pydata/array', '.npy')"
      ]
     },
     "execution_count": 56,
     "metadata": {},
     "output_type": "execute_result"
    }
   ],
   "source": [
    "#Split input strin by OS scheme, with '.' \n",
    "os.path.splitext('/home/june/Pydata/array.npy')"
   ]
  },
  {
   "cell_type": "code",
   "execution_count": 60,
   "metadata": {},
   "outputs": [
    {
     "data": {
      "text/plain": [
       "['./array.npy', './array_ex.txt', './array_arch.npz']"
      ]
     },
     "execution_count": 60,
     "metadata": {},
     "output_type": "execute_result"
    }
   ],
   "source": [
    "#Glob Module \n",
    "import glob\n",
    "# list files by regular expression\n",
    "glob.glob('./ar*') #return a list of elements"
   ]
  },
  {
   "cell_type": "code",
   "execution_count": 61,
   "metadata": {},
   "outputs": [
    {
     "data": {
      "text/plain": [
       "['./array.npy']"
      ]
     },
     "execution_count": 61,
     "metadata": {},
     "output_type": "execute_result"
    }
   ],
   "source": [
    "glob.glob('./arra?.*')"
   ]
  },
  {
   "cell_type": "code",
   "execution_count": 62,
   "metadata": {},
   "outputs": [
    {
     "data": {
      "text/plain": [
       "['./array.npy']"
      ]
     },
     "execution_count": 62,
     "metadata": {},
     "output_type": "execute_result"
    }
   ],
   "source": [
    "glob.glob('./arra[a-z].*')"
   ]
  },
  {
   "cell_type": "code",
   "execution_count": 63,
   "metadata": {},
   "outputs": [
    {
     "data": {
      "text/plain": [
       "['./array_ex.txt', './test.txt']"
      ]
     },
     "execution_count": 63,
     "metadata": {},
     "output_type": "execute_result"
    }
   ],
   "source": [
    "glob.glob('./*.txt')"
   ]
  },
  {
   "cell_type": "code",
   "execution_count": 64,
   "metadata": {},
   "outputs": [
    {
     "data": {
      "text/plain": [
       "[]"
      ]
     },
     "execution_count": 64,
     "metadata": {},
     "output_type": "execute_result"
    }
   ],
   "source": [
    "glob.glob(os.path.abspath('./') + 'array*')"
   ]
  },
  {
   "cell_type": "code",
   "execution_count": 70,
   "metadata": {},
   "outputs": [
    {
     "data": {
      "text/plain": [
       "['/home/june/Pydata/array.npy',\n",
       " '/home/june/Pydata/array_ex.txt',\n",
       " '/home/june/Pydata/array_arch.npz']"
      ]
     },
     "execution_count": 70,
     "metadata": {},
     "output_type": "execute_result"
    }
   ],
   "source": [
    "glob.glob(os.path.join(os.path.abspath('./') , 'array*'))"
   ]
  },
  {
   "cell_type": "code",
   "execution_count": 67,
   "metadata": {},
   "outputs": [
    {
     "data": {
      "text/plain": [
       "'/home/june/Pydata/array*'"
      ]
     },
     "execution_count": 67,
     "metadata": {},
     "output_type": "execute_result"
    }
   ],
   "source": [
    "os.path.join(os.path.abspath('./'), 'array*')"
   ]
  },
  {
   "cell_type": "code",
   "execution_count": 71,
   "metadata": {},
   "outputs": [
    {
     "data": {
      "text/plain": [
       "['./array.npy', './array_ex.txt', './array_arch.npz']"
      ]
     },
     "execution_count": 71,
     "metadata": {},
     "output_type": "execute_result"
    }
   ],
   "source": [
    "glob.glob(os.path.join('.', 'array*'))"
   ]
  },
  {
   "cell_type": "code",
   "execution_count": 73,
   "metadata": {},
   "outputs": [
    {
     "data": {
      "text/plain": [
       "['./array.npy', './array_ex.txt', './array_arch.npz']"
      ]
     },
     "execution_count": 73,
     "metadata": {},
     "output_type": "execute_result"
    }
   ],
   "source": [
    "glob.glob(os.path.join(os.path.curdir, 'array*'))"
   ]
  },
  {
   "cell_type": "code",
   "execution_count": 74,
   "metadata": {},
   "outputs": [
    {
     "data": {
      "text/plain": [
       "['../Public',\n",
       " '../Pydata',\n",
       " '../Downloads',\n",
       " '../R',\n",
       " '../Templates',\n",
       " '../examples.desktop',\n",
       " '../anaconda3',\n",
       " '../Dropbox',\n",
       " '../Pictures',\n",
       " '../Music',\n",
       " '../Documents',\n",
       " '../pspp.jnl',\n",
       " '../Videos',\n",
       " '../Desktop',\n",
       " '../Rdata',\n",
       " '../DL4ALL']"
      ]
     },
     "execution_count": 74,
     "metadata": {},
     "output_type": "execute_result"
    }
   ],
   "source": [
    "glob.glob(os.path.join(os.path.pardir, '*'))"
   ]
  },
  {
   "cell_type": "code",
   "execution_count": 81,
   "metadata": {
    "collapsed": true
   },
   "outputs": [],
   "source": [
    "gl = glob.iglob('./arra*') #Iteratives"
   ]
  },
  {
   "cell_type": "code",
   "execution_count": 77,
   "metadata": {},
   "outputs": [
    {
     "data": {
      "text/plain": [
       "'./array.npy'"
      ]
     },
     "execution_count": 77,
     "metadata": {},
     "output_type": "execute_result"
    }
   ],
   "source": [
    "iter(gl)\n",
    "next(gl)"
   ]
  },
  {
   "cell_type": "code",
   "execution_count": 78,
   "metadata": {},
   "outputs": [
    {
     "data": {
      "text/plain": [
       "'./array_ex.txt'"
      ]
     },
     "execution_count": 78,
     "metadata": {},
     "output_type": "execute_result"
    }
   ],
   "source": [
    "next(gl)"
   ]
  },
  {
   "cell_type": "code",
   "execution_count": 79,
   "metadata": {},
   "outputs": [
    {
     "data": {
      "text/plain": [
       "['./array_arch.npz']"
      ]
     },
     "execution_count": 79,
     "metadata": {},
     "output_type": "execute_result"
    }
   ],
   "source": [
    "list(gl)"
   ]
  },
  {
   "cell_type": "code",
   "execution_count": 82,
   "metadata": {},
   "outputs": [
    {
     "data": {
      "text/plain": [
       "('./array.npy', './array_ex.txt', './array_arch.npz')"
      ]
     },
     "execution_count": 82,
     "metadata": {},
     "output_type": "execute_result"
    }
   ],
   "source": [
    "tuple(gl)"
   ]
  },
  {
   "cell_type": "code",
   "execution_count": 83,
   "metadata": {},
   "outputs": [
    {
     "name": "stdout",
     "output_type": "stream",
     "text": [
      "./python3.2Modules_Chapter13_FileSystem.ipynb\n",
      "./Chapter4.Getting Started with pandas.ipynb\n",
      "./python3.2basic_Chapter8_Standard_IO.ipynb\n",
      "./Canon_cp.mp3\n",
      "./__pycache__\n",
      "./PGAS.EBIMU.ipynb\n",
      "./ch6module.py\n",
      "./Chapter5.Getting-Started-With-Pandas2.ipynb\n",
      "./Chapter4.Numpy-array.ipynb\n",
      "./Canon.mp3\n",
      "./python3.2basic_Chapter3_Functions.ipynb\n",
      "./python3.2basic_Chapter5_Class.ipynb\n",
      "./python3.2basic_Chapter6,7_Module_Exception.ipynb\n",
      "./PGAS_Coordination.ipynb\n",
      "./array.npy\n",
      "./array_ex.txt\n",
      "./python3.2basic_Chapter2_type_and_operator.ipynb\n",
      "./test\n",
      "./test.txt\n",
      "./colors\n",
      "./PGAS-EBIMU-Analysis.ipynb\n",
      "./python3.2basic_Chapter4_Control.ipynb\n",
      "./array_arch.npz\n",
      "./python3.2Modules_Chapter10_String.ipynb\n"
     ]
    }
   ],
   "source": [
    "for el in glob.iglob('./*'):\n",
    "    print (el)"
   ]
  },
  {
   "cell_type": "code",
   "execution_count": 85,
   "metadata": {},
   "outputs": [
    {
     "name": "stdout",
     "output_type": "stream",
     "text": [
      "./python3.2Modules_Chapter13_FileSystem.ipynb\n",
      "./Chapter4.Getting Started with pandas.ipynb\n",
      "./python3.2basic_Chapter8_Standard_IO.ipynb\n",
      "./Canon_cp.mp3\n",
      "./__pycache__\n",
      "./PGAS.EBIMU.ipynb\n",
      "./ch6module.py\n",
      "./Chapter5.Getting-Started-With-Pandas2.ipynb\n",
      "./Chapter4.Numpy-array.ipynb\n",
      "./Canon.mp3\n",
      "./python3.2basic_Chapter3_Functions.ipynb\n",
      "./python3.2basic_Chapter5_Class.ipynb\n",
      "./python3.2basic_Chapter6,7_Module_Exception.ipynb\n",
      "./PGAS_Coordination.ipynb\n",
      "./array.npy\n",
      "./array_ex.txt\n",
      "./python3.2basic_Chapter2_type_and_operator.ipynb\n",
      "./test\n",
      "./test.txt\n",
      "./colors\n",
      "./PGAS-EBIMU-Analysis.ipynb\n",
      "./python3.2basic_Chapter4_Control.ipynb\n",
      "./array_arch.npz\n",
      "./python3.2Modules_Chapter10_String.ipynb\n"
     ]
    }
   ],
   "source": [
    "for el in glob.glob('./*'):\n",
    "    print (el)"
   ]
  },
  {
   "cell_type": "code",
   "execution_count": 103,
   "metadata": {},
   "outputs": [
    {
     "name": "stdout",
     "output_type": "stream",
     "text": [
      "|--python3.2Modules_Chapter13_FileSystem.ipynb\n",
      "|--Chapter4.Getting Started with pandas.ipynb\n",
      "|--python3.2basic_Chapter8_Standard_IO.ipynb\n",
      "|--Canon_cp.mp3\n",
      "|--__pycache__\n",
      "|\t|--ch6module.cpython-36.pyc\n",
      "|--PGAS.EBIMU.ipynb\n",
      "|--ch6module.py\n",
      "|--Chapter5.Getting-Started-With-Pandas2.ipynb\n",
      "|--Chapter4.Numpy-array.ipynb\n",
      "|--Canon.mp3\n",
      "|--python3.2basic_Chapter3_Functions.ipynb\n",
      "|--python3.2basic_Chapter5_Class.ipynb\n",
      "|--python3.2basic_Chapter6,7_Module_Exception.ipynb\n",
      "|--PGAS_Coordination.ipynb\n",
      "|--array.npy\n",
      "|--array_ex.txt\n",
      "|--python3.2basic_Chapter2_type_and_operator.ipynb\n",
      "|--test\n",
      "|--test.txt\n",
      "|--colors\n",
      "|--PGAS-EBIMU-Analysis.ipynb\n",
      "|--python3.2basic_Chapter4_Control.ipynb\n",
      "|--array_arch.npz\n",
      "|--python3.2Modules_Chapter10_String.ipynb\n",
      "\n",
      " 1 directories 24 files\n"
     ]
    }
   ],
   "source": [
    "#EXAMPLE. Tree\n",
    "import glob, os.path\n",
    "ndir = nfile = 0\n",
    "\n",
    "def traverse(dir, depth):\n",
    "    global ndir, nfile\n",
    "    for obj in glob.glob(os.path.join(dir ,'./*')):\n",
    "        prefix = '|'*bool(depth) + '\\t'*depth+'|--'\n",
    "        if os.path.isdir(obj):\n",
    "            ndir += 1\n",
    "            print (prefix + os.path.basename(obj))\n",
    "            traverse(obj, depth +1)\n",
    "        elif os.path.isfile(obj):\n",
    "            nfile += 1\n",
    "            print (prefix + os.path.basename(obj))\n",
    "        else:\n",
    "            print (prefix + 'unkown object :', obj)\n",
    "            \n",
    "if __name__ == \"__main__\":\n",
    "    traverse('./', 0)\n",
    "    print ('\\n', ndir, 'directories', nfile, 'files')\n",
    "    "
   ]
  },
  {
   "cell_type": "code",
   "execution_count": 87,
   "metadata": {},
   "outputs": [
    {
     "data": {
      "text/plain": [
       "'/home/june/Pydata'"
      ]
     },
     "execution_count": 87,
     "metadata": {},
     "output_type": "execute_result"
    }
   ],
   "source": [
    "os.path.abspath('./')"
   ]
  },
  {
   "cell_type": "code",
   "execution_count": 99,
   "metadata": {},
   "outputs": [
    {
     "data": {
      "text/plain": [
       "''"
      ]
     },
     "execution_count": 99,
     "metadata": {},
     "output_type": "execute_result"
    }
   ],
   "source": [
    "'\\t'*0"
   ]
  },
  {
   "cell_type": "code",
   "execution_count": 101,
   "metadata": {},
   "outputs": [
    {
     "data": {
      "text/plain": [
       "True"
      ]
     },
     "execution_count": 101,
     "metadata": {},
     "output_type": "execute_result"
    }
   ],
   "source": [
    "bool(8)"
   ]
  },
  {
   "cell_type": "code",
   "execution_count": null,
   "metadata": {
    "collapsed": true
   },
   "outputs": [],
   "source": []
  }
 ],
 "metadata": {
  "kernelspec": {
   "display_name": "Python 3",
   "language": "python",
   "name": "python3"
  },
  "language_info": {
   "codemirror_mode": {
    "name": "ipython",
    "version": 3
   },
   "file_extension": ".py",
   "mimetype": "text/x-python",
   "name": "python",
   "nbconvert_exporter": "python",
   "pygments_lexer": "ipython3",
   "version": "3.6.1"
  }
 },
 "nbformat": 4,
 "nbformat_minor": 2
}
